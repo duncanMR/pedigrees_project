{
 "cells": [
  {
   "cell_type": "markdown",
   "id": "81ce35a5",
   "metadata": {},
   "source": [
    "# 1000 Genomes data analysis\n",
    "\n",
    "## Finding trios\n",
    "\n",
    "First we need to download the 1000 genomes data; we will use the q-arm of chromosome 20. Trees have already been inferred for this data and are available from [Zenodo](https://zenodo.org/record/5495535):\n"
   ]
  },
  {
   "cell_type": "code",
   "execution_count": 6,
   "id": "3eed83ba",
   "metadata": {},
   "outputs": [],
   "source": [
    "import urllib.request\n",
    "#urllib.request.urlretrieve(\"https://zenodo.org/record/5495535/files/hgdp_tgp_sgdp_chr20_q.dated.trees.tsz?download=1\",\n",
    "#                           \"data/hgdp_tgp_sgdp_chr20_q.dated.trees.tsz\")"
   ]
  },
  {
   "cell_type": "markdown",
   "id": "9913922c",
   "metadata": {},
   "source": [
    "I ran `tsunzip data/hgdp_tgp_sgdp_chr20_q.dated.trees.tsz` to unzip, such that we can load the data\n"
   ]
  },
  {
   "cell_type": "code",
   "execution_count": 7,
   "id": "8a06c742",
   "metadata": {},
   "outputs": [
    {
     "data": {
      "text/html": [
       "\n",
       "            <div>\n",
       "              <style>\n",
       "                .tskit-table thead tr th {text-align: left;padding: 0.5em 0.5em;}\n",
       "                .tskit-table tbody tr td {padding: 0.5em 0.5em;}\n",
       "                .tskit-table tbody tr td:first-of-type {text-align: left;}\n",
       "                .tskit-details-label {vertical-align: top; padding-right:5px;}\n",
       "                .tskit-table-set {display: inline-flex;flex-wrap: wrap;margin: -12px 0 0 -12px;width: calc(100% + 12px);}\n",
       "                .tskit-table-set-table {margin: 12px 0 0 12px;}\n",
       "                details {display: inline-block;}\n",
       "                summary {cursor: pointer; outline: 0; display: list-item;}\n",
       "              </style>\n",
       "              <div class=\"tskit-table-set\">\n",
       "                <div class=\"tskit-table-set-table\">\n",
       "                  <table class=\"tskit-table\">\n",
       "                    <thead>\n",
       "                      <tr>\n",
       "                        <th style=\"padding:0;line-height:21px;\">\n",
       "                          <img style=\"height: 32px;display: inline-block;padding: 3px 5px 3px 0;\" src=\"https://raw.githubusercontent.com/tskit-dev/administrative/main/tskit_logo.svg\"/>\n",
       "                          <a target=\"_blank\" href=\"https://tskit.dev/tskit/docs/latest/python-api.html#the-treesequence-class\"> Tree Sequence </a>\n",
       "                        </th>\n",
       "                      </tr>\n",
       "                    </thead>\n",
       "                    <tbody>\n",
       "                      <tr><td>Trees</td><td>74301</td></tr>\n",
       "                      <tr><td>Sequence Length</td><td>64444169.0</td></tr>\n",
       "                      <tr><td>Time Units</td><td>unknown</td></tr>\n",
       "                      <tr><td>Sample Nodes</td><td>7508</td></tr>\n",
       "                      <tr><td>Total Size</td><td>365.9 MiB</td></tr>\n",
       "                      <tr>\n",
       "                        <td>Metadata</td><td style=\"text-align: left;\">No Metadata</td></tr>\n",
       "                    </tbody>\n",
       "                  </table>\n",
       "                </div>\n",
       "                <div class=\"tskit-table-set-table\">\n",
       "                  <table class=\"tskit-table\">\n",
       "                    <thead>\n",
       "                      <tr>\n",
       "                        <th style=\"line-height:21px;\">Table</th>\n",
       "                        <th>Rows</th>\n",
       "                        <th>Size</th>\n",
       "                        <th>Has Metadata</th>\n",
       "                      </tr>\n",
       "                    </thead>\n",
       "                    <tbody>\n",
       "                    \n",
       "                  <tr>\n",
       "                    <td>Edges</td>\n",
       "                      <td>3434905</td>\n",
       "                      <td>104.8 MiB</td>\n",
       "                      <td style=\"text-align: center;\">\n",
       "                        \n",
       "                      </td>\n",
       "                    </tr>\n",
       "                \n",
       "                  <tr>\n",
       "                    <td>Individuals</td>\n",
       "                      <td>3754</td>\n",
       "                      <td>1.1 MiB</td>\n",
       "                      <td style=\"text-align: center;\">\n",
       "                        ✅\n",
       "                      </td>\n",
       "                    </tr>\n",
       "                \n",
       "                  <tr>\n",
       "                    <td>Migrations</td>\n",
       "                      <td>0</td>\n",
       "                      <td>8 Bytes</td>\n",
       "                      <td style=\"text-align: center;\">\n",
       "                        \n",
       "                      </td>\n",
       "                    </tr>\n",
       "                \n",
       "                  <tr>\n",
       "                    <td>Mutations</td>\n",
       "                      <td>3163735</td>\n",
       "                      <td>111.6 MiB</td>\n",
       "                      <td style=\"text-align: center;\">\n",
       "                        \n",
       "                      </td>\n",
       "                    </tr>\n",
       "                \n",
       "                  <tr>\n",
       "                    <td>Nodes</td>\n",
       "                      <td>407321</td>\n",
       "                      <td>30.2 MiB</td>\n",
       "                      <td style=\"text-align: center;\">\n",
       "                        ✅\n",
       "                      </td>\n",
       "                    </tr>\n",
       "                \n",
       "                  <tr>\n",
       "                    <td>Populations</td>\n",
       "                      <td>210</td>\n",
       "                      <td>11.6 KiB</td>\n",
       "                      <td style=\"text-align: center;\">\n",
       "                        ✅\n",
       "                      </td>\n",
       "                    </tr>\n",
       "                \n",
       "                  <tr>\n",
       "                    <td>Provenances</td>\n",
       "                      <td>15</td>\n",
       "                      <td>10.4 KiB</td>\n",
       "                      <td style=\"text-align: center;\">\n",
       "                        \n",
       "                      </td>\n",
       "                    </tr>\n",
       "                \n",
       "                  <tr>\n",
       "                    <td>Sites</td>\n",
       "                      <td>1178349</td>\n",
       "                      <td>91.9 MiB</td>\n",
       "                      <td style=\"text-align: center;\">\n",
       "                        ✅\n",
       "                      </td>\n",
       "                    </tr>\n",
       "                \n",
       "                    </tbody>\n",
       "                  </table>\n",
       "                </div>\n",
       "              </div>\n",
       "            </div>\n",
       "            "
      ],
      "text/plain": [
       "<tskit.trees.TreeSequence at 0x7fc8f37cf490>"
      ]
     },
     "execution_count": 7,
     "metadata": {},
     "output_type": "execute_result"
    }
   ],
   "source": [
    "import tskit\n",
    "import numpy as np\n",
    "import pandas as pd\n",
    "\n",
    "ts = tskit.load(\"data/hgdp_tgp_sgdp_chr20_q.dated.trees\")\n",
    "ts\n"
   ]
  },
  {
   "cell_type": "markdown",
   "id": "abc29944",
   "metadata": {},
   "source": [
    "We need to find a trio and randomly sample three individuals. I have the acession numbers for the trio, so we just need a table with nodes and accession ids"
   ]
  },
  {
   "cell_type": "code",
   "execution_count": 8,
   "id": "fc2f8b42",
   "metadata": {
    "scrolled": true
   },
   "outputs": [
    {
     "name": "stdout",
     "output_type": "stream",
     "text": [
      "{'array_non_reference_discordance': '0.111741', 'capmq': '29', 'coverage': '29.71', 'freemix': '0.00137', 'insert_size_average': '500.1', 'library': 'HGDP01201.11144852', 'library_type': 'PCR', 'region': 'AFRICA', 'sample': 'HGDP01201', 'sample_accession': 'ERS474141', 'sex': 'F', 'source': 'sanger'}\n",
      "HGDP01201\n"
     ]
    },
    {
     "data": {
      "text/plain": [
       "'b\\'{\"array_non_reference_discordance\": \"0.111741\", \"capmq\": \"29\", \"coverage\": \"29.71\", \"freemix\": \"0.00137\", \"insert_size_average\": \"500.1\", \"library\": \"HGDP01201.11144852\", \"library_type\": \"PCR\", \"region\": \"AFRICA\", \"sample\": \"HGDP01201\", \"sample_accession\": \"ERS474141\", \"sex\": \"F\", \"source\": \"sanger\"}\\''"
      ]
     },
     "execution_count": 8,
     "metadata": {},
     "output_type": "execute_result"
    }
   ],
   "source": [
    "import json\n",
    "\n",
    "meta = ts.individual(0).metadata\n",
    "print(json.loads(meta))\n",
    "print(json.loads(meta)['sample'])\n",
    "str(meta)"
   ]
  },
  {
   "cell_type": "markdown",
   "id": "7b97ec2e",
   "metadata": {},
   "source": [
    "That works fine, but some of the samples don't have accession ids:"
   ]
  },
  {
   "cell_type": "code",
   "execution_count": 9,
   "id": "62f21837",
   "metadata": {},
   "outputs": [
    {
     "name": "stdout",
     "output_type": "stream",
     "text": [
      "{'aliases': 'zapo0098', 'contributor': 'William Klitz / Cheryl Winkler', 'country': 'Mexico', 'dna_source': 'Genomic_from_cell_lines', 'embargo': 'FullyPublic', 'gender': 'M', 'illumina_id': 'LP6005443-DNA_A12', 'region': 'America', 'sample_id': 'zapo0098', 'sequencing_panel': 'C', 'sgdp_id': 'S_Zapotec-1', 'town': 'San Juan Guelavia'}\n",
      "HGDP01201\n"
     ]
    }
   ],
   "source": [
    "meta2 = ts.individual(3752).metadata\n",
    "print(json.loads(meta2))\n",
    "print(json.loads(meta)['sample'])"
   ]
  },
  {
   "cell_type": "markdown",
   "id": "2852c691",
   "metadata": {},
   "source": [
    "So we need to figure out the metadata structure for this data"
   ]
  },
  {
   "cell_type": "code",
   "execution_count": 10,
   "id": "b5a6801a",
   "metadata": {
    "scrolled": true
   },
   "outputs": [
    {
     "data": {
      "text/plain": [
       "TableMetadataSchemas(node=, edge=, site=, mutation=, migration=, individual=, population=)"
      ]
     },
     "execution_count": 10,
     "metadata": {},
     "output_type": "execute_result"
    }
   ],
   "source": [
    "ts.table_metadata_schemas"
   ]
  },
  {
   "cell_type": "markdown",
   "id": "7e8f3033",
   "metadata": {},
   "source": [
    "That's not helpful. Maybe it would be easier to just do regexp on the raw JSON data. Let's figure it out for one sample"
   ]
  },
  {
   "cell_type": "code",
   "execution_count": 11,
   "id": "532f8d9a",
   "metadata": {},
   "outputs": [
    {
     "data": {
      "text/plain": [
       "True"
      ]
     },
     "execution_count": 11,
     "metadata": {},
     "output_type": "execute_result"
    }
   ],
   "source": [
    "import re\n",
    "bool(re.search(\"ERS474141\", str(meta)))"
   ]
  },
  {
   "cell_type": "code",
   "execution_count": 12,
   "id": "ecfd39fd",
   "metadata": {},
   "outputs": [
    {
     "data": {
      "text/plain": [
       "b'{\"array_non_reference_discordance\": \"0.111741\", \"capmq\": \"29\", \"coverage\": \"29.71\", \"freemix\": \"0.00137\", \"insert_size_average\": \"500.1\", \"library\": \"HGDP01201.11144852\", \"library_type\": \"PCR\", \"region\": \"AFRICA\", \"sample\": \"HGDP01201\", \"sample_accession\": \"ERS474141\", \"sex\": \"F\", \"source\": \"sanger\"}'"
      ]
     },
     "execution_count": 12,
     "metadata": {},
     "output_type": "execute_result"
    }
   ],
   "source": [
    "meta"
   ]
  },
  {
   "cell_type": "code",
   "execution_count": 13,
   "id": "94dd0bc4",
   "metadata": {
    "scrolled": true
   },
   "outputs": [
    {
     "name": "stdout",
     "output_type": "stream",
     "text": [
      "True\n",
      "False\n"
     ]
    }
   ],
   "source": [
    "print(bool(re.search(\"HGDP01201|dfsdf\", str(meta))))\n",
    "print(bool(re.search(\"HGDP01202\", str(meta))))"
   ]
  },
  {
   "cell_type": "markdown",
   "id": "3d890dd5",
   "metadata": {},
   "source": [
    " We can get the Accession IDs for one trio from [this article](https://wikis.utexas.edu/display/bioiteam/Human+Trios+--+GVA2020). Now let's search"
   ]
  },
  {
   "cell_type": "code",
   "execution_count": 14,
   "id": "9b028e95",
   "metadata": {
    "scrolled": true
   },
   "outputs": [
    {
     "data": {
      "text/plain": [
       "[2711]"
      ]
     },
     "execution_count": 14,
     "metadata": {},
     "output_type": "execute_result"
    }
   ],
   "source": [
    "trio_ceu = \"NA12892|NA12891|NA12878\"\n",
    "\n",
    "d = []\n",
    "for i in ts.individuals():\n",
    "    if bool(re.search(trio_ceu, str(i.metadata))):\n",
    "        d.append(i.id)\n",
    "d"
   ]
  },
  {
   "cell_type": "code",
   "execution_count": 15,
   "id": "0a58fc26",
   "metadata": {},
   "outputs": [
    {
     "data": {
      "text/plain": [
       "Individual(id=2711, flags=0, location=array([], dtype=float64), parents=array([], dtype=int32), nodes=array([5422, 5423], dtype=int32), metadata=b'{\"family_id\": \"1463\", \"gender\": \"2\", \"individual_id\": \"NA12878\", \"maternal_id\": \"NA12892\", \"other_comments\": null, \"paternal_id\": \"NA12891\", \"phenotype\": null, \"relationship\": \"mother; child\", \"second_order\": null, \"siblings\": null, \"third_order\": null}')"
      ]
     },
     "execution_count": 15,
     "metadata": {},
     "output_type": "execute_result"
    }
   ],
   "source": [
    "ts.individual(2711)"
   ]
  },
  {
   "cell_type": "markdown",
   "id": "b4a482a1",
   "metadata": {},
   "source": [
    "Well this is peculiar. We only seem to have the proband, not the parents! I found [this list](https://genome.ucsc.edu/cgi-bin/hgTrackUi?db=hg38&g=tgpTrios) of all the trios in 1000 Genomes, so let's check them."
   ]
  },
  {
   "cell_type": "code",
   "execution_count": 16,
   "id": "858b6f8e",
   "metadata": {
    "scrolled": true
   },
   "outputs": [
    {
     "data": {
      "text/html": [
       "<div>\n",
       "<style scoped>\n",
       "    .dataframe tbody tr th:only-of-type {\n",
       "        vertical-align: middle;\n",
       "    }\n",
       "\n",
       "    .dataframe tbody tr th {\n",
       "        vertical-align: top;\n",
       "    }\n",
       "\n",
       "    .dataframe thead th {\n",
       "        text-align: right;\n",
       "    }\n",
       "</style>\n",
       "<table border=\"1\" class=\"dataframe\">\n",
       "  <thead>\n",
       "    <tr style=\"text-align: right;\">\n",
       "      <th></th>\n",
       "      <th>mother</th>\n",
       "      <th>child</th>\n",
       "      <th>father</th>\n",
       "      <th>search_str</th>\n",
       "      <th>search_results</th>\n",
       "    </tr>\n",
       "  </thead>\n",
       "  <tbody>\n",
       "    <tr>\n",
       "      <th>0</th>\n",
       "      <td>NA12892</td>\n",
       "      <td>NA12891</td>\n",
       "      <td>NA12878</td>\n",
       "      <td>NA12892|NA12891|NA12878</td>\n",
       "      <td>2711</td>\n",
       "    </tr>\n",
       "    <tr>\n",
       "      <th>1</th>\n",
       "      <td>NA19678</td>\n",
       "      <td>NA19675</td>\n",
       "      <td>NA19679</td>\n",
       "      <td>NA19678|NA19675|NA19679</td>\n",
       "      <td>3150, 3151</td>\n",
       "    </tr>\n",
       "    <tr>\n",
       "      <th>2</th>\n",
       "      <td>NA19660</td>\n",
       "      <td>NA19685</td>\n",
       "      <td>NA19661</td>\n",
       "      <td>NA19660|NA19685|NA19661</td>\n",
       "      <td>3144, 3146</td>\n",
       "    </tr>\n",
       "    <tr>\n",
       "      <th>3</th>\n",
       "      <td>HG00732</td>\n",
       "      <td>HG00733</td>\n",
       "      <td>HG00731</td>\n",
       "      <td>HG00732|HG00733|HG00731</td>\n",
       "      <td>1238, 1239</td>\n",
       "    </tr>\n",
       "    <tr>\n",
       "      <th>4</th>\n",
       "      <td>HG00657</td>\n",
       "      <td>HG00702</td>\n",
       "      <td>HG00656</td>\n",
       "      <td>HG00657|HG00702|HG00656</td>\n",
       "      <td>1214, 1215</td>\n",
       "    </tr>\n",
       "    <tr>\n",
       "      <th>5</th>\n",
       "      <td>HG02025</td>\n",
       "      <td>HG02024</td>\n",
       "      <td>HG02026</td>\n",
       "      <td>HG02025|HG02024|HG02026</td>\n",
       "      <td>1691, 1692</td>\n",
       "    </tr>\n",
       "    <tr>\n",
       "      <th>6</th>\n",
       "      <td>NA19238</td>\n",
       "      <td>NA19240</td>\n",
       "      <td>NA19239</td>\n",
       "      <td>NA19238|NA19240|NA19239</td>\n",
       "      <td>3045, 3046</td>\n",
       "    </tr>\n",
       "  </tbody>\n",
       "</table>\n",
       "</div>"
      ],
      "text/plain": [
       "    mother    child   father               search_str search_results\n",
       "0  NA12892  NA12891  NA12878  NA12892|NA12891|NA12878           2711\n",
       "1  NA19678  NA19675  NA19679  NA19678|NA19675|NA19679     3150, 3151\n",
       "2  NA19660  NA19685  NA19661  NA19660|NA19685|NA19661     3144, 3146\n",
       "3  HG00732  HG00733  HG00731  HG00732|HG00733|HG00731     1238, 1239\n",
       "4  HG00657  HG00702  HG00656  HG00657|HG00702|HG00656     1214, 1215\n",
       "5  HG02025  HG02024  HG02026  HG02025|HG02024|HG02026     1691, 1692\n",
       "6  NA19238  NA19240  NA19239  NA19238|NA19240|NA19239     3045, 3046"
      ]
     },
     "execution_count": 16,
     "metadata": {},
     "output_type": "execute_result"
    }
   ],
   "source": [
    "trios_ls = [\n",
    "    [\"NA12892\", \"NA12891\", \"NA12878\"],\n",
    "    [\"NA19678\", \"NA19675\", \"NA19679\"],\n",
    "    [\"NA19660\", \"NA19685\", \"NA19661\"],\n",
    "    [\"HG00732\", \"HG00733\", \"HG00731\"],\n",
    "    [\"HG00657\", \"HG00702\", \"HG00656\"],\n",
    "    [\"HG02025\", \"HG02024\", \"HG02026\"],\n",
    "    [\"NA19238\", \"NA19240\", \"NA19239\"]\n",
    "] \n",
    "\n",
    "def find_nodes(search_str):\n",
    "    d = []\n",
    "    for i in ts.individuals():\n",
    "        if bool(re.search(search_str, str(i.metadata))):\n",
    "            d.append(str(i.id))\n",
    "    return \", \".join(d)\n",
    "\n",
    "\n",
    "trios_df = pd.DataFrame(trios_ls, columns=[\"mother\",\"child\",\"father\"])\n",
    "trios_df[\"search_str\"]= trios_df.apply(lambda x: '|'.join(x.values.tolist()), axis=1)\n",
    "trios_df[\"search_results\"] = trios_df[\"search_str\"].apply(lambda x: find_nodes(x))\n",
    "trios_df\n"
   ]
  },
  {
   "cell_type": "code",
   "execution_count": 17,
   "id": "c3f478f2",
   "metadata": {},
   "outputs": [
    {
     "name": "stdout",
     "output_type": "stream",
     "text": [
      "{'family_id': 'm009', 'gender': '2', 'individual_id': 'NA19678', 'maternal_id': None, 'other_comments': None, 'paternal_id': None, 'phenotype': None, 'relationship': 'mother', 'second_order': 'NA19677', 'siblings': None, 'third_order': None}\n",
      "{'family_id': 'm009', 'gender': '1', 'individual_id': 'NA19679', 'maternal_id': None, 'other_comments': None, 'paternal_id': None, 'phenotype': None, 'relationship': 'father', 'second_order': 'NA19677', 'siblings': None, 'third_order': None}\n"
     ]
    }
   ],
   "source": [
    "print(json.loads(ts.individual(3150).metadata))\n",
    "print(json.loads(ts.individual(3151).metadata))"
   ]
  },
  {
   "cell_type": "markdown",
   "id": "329e75ad",
   "metadata": {},
   "source": [
    "So for all the other trios besides the first (which is the CEU trio), only the parents are in the TS, not the child. I'm guessing this we usually exclude related individuals when calculating allele frequencies or conducting a GWAS. It seems like this dataset isn't helpful for our purposes.\n",
    "\n",
    "## Visualisation experiments\n",
    "\n",
    "Let's try visualising these trees. To start with, we will work with a simplified tree with 20 nodes from 10 random individuals "
   ]
  },
  {
   "cell_type": "code",
   "execution_count": 18,
   "id": "a5e1d898",
   "metadata": {},
   "outputs": [
    {
     "data": {
      "text/plain": [
       "array([3136, 3137, 5746, 5747, 3658, 3659, 6912, 6913, 3188, 3189, 2622,\n",
       "       2623], dtype=int32)"
      ]
     },
     "execution_count": 18,
     "metadata": {},
     "output_type": "execute_result"
    }
   ],
   "source": [
    "import random\n",
    "random.seed(2023)\n",
    "n_individuals = 6\n",
    "\n",
    "individuals_sample = random.sample(range(ts.num_individuals-1),n_individuals)\n",
    "ls = []\n",
    "for m in individuals_sample:\n",
    "    ls.append(ts.individual(m).nodes)\n",
    "nodes_sample = np.concatenate(ls)\n",
    "nodes_sample"
   ]
  },
  {
   "cell_type": "code",
   "execution_count": 19,
   "id": "262e44d4",
   "metadata": {
    "scrolled": true
   },
   "outputs": [
    {
     "data": {
      "text/html": [
       "\n",
       "            <div>\n",
       "              <style>\n",
       "                .tskit-table thead tr th {text-align: left;padding: 0.5em 0.5em;}\n",
       "                .tskit-table tbody tr td {padding: 0.5em 0.5em;}\n",
       "                .tskit-table tbody tr td:first-of-type {text-align: left;}\n",
       "                .tskit-details-label {vertical-align: top; padding-right:5px;}\n",
       "                .tskit-table-set {display: inline-flex;flex-wrap: wrap;margin: -12px 0 0 -12px;width: calc(100% + 12px);}\n",
       "                .tskit-table-set-table {margin: 12px 0 0 12px;}\n",
       "                details {display: inline-block;}\n",
       "                summary {cursor: pointer; outline: 0; display: list-item;}\n",
       "              </style>\n",
       "              <div class=\"tskit-table-set\">\n",
       "                <div class=\"tskit-table-set-table\">\n",
       "                  <table class=\"tskit-table\">\n",
       "                    <thead>\n",
       "                      <tr>\n",
       "                        <th style=\"padding:0;line-height:21px;\">\n",
       "                          <img style=\"height: 32px;display: inline-block;padding: 3px 5px 3px 0;\" src=\"https://raw.githubusercontent.com/tskit-dev/administrative/main/tskit_logo.svg\"/>\n",
       "                          <a target=\"_blank\" href=\"https://tskit.dev/tskit/docs/latest/python-api.html#the-treesequence-class\"> Tree Sequence </a>\n",
       "                        </th>\n",
       "                      </tr>\n",
       "                    </thead>\n",
       "                    <tbody>\n",
       "                      <tr><td>Trees</td><td>7092</td></tr>\n",
       "                      <tr><td>Sequence Length</td><td>64444169.0</td></tr>\n",
       "                      <tr><td>Time Units</td><td>unknown</td></tr>\n",
       "                      <tr><td>Sample Nodes</td><td>12</td></tr>\n",
       "                      <tr><td>Total Size</td><td>12.8 MiB</td></tr>\n",
       "                      <tr>\n",
       "                        <td>Metadata</td><td style=\"text-align: left;\">No Metadata</td></tr>\n",
       "                    </tbody>\n",
       "                  </table>\n",
       "                </div>\n",
       "                <div class=\"tskit-table-set-table\">\n",
       "                  <table class=\"tskit-table\">\n",
       "                    <thead>\n",
       "                      <tr>\n",
       "                        <th style=\"line-height:21px;\">Table</th>\n",
       "                        <th>Rows</th>\n",
       "                        <th>Size</th>\n",
       "                        <th>Has Metadata</th>\n",
       "                      </tr>\n",
       "                    </thead>\n",
       "                    <tbody>\n",
       "                    \n",
       "                  <tr>\n",
       "                    <td>Edges</td>\n",
       "                      <td>38849</td>\n",
       "                      <td>1.2 MiB</td>\n",
       "                      <td style=\"text-align: center;\">\n",
       "                        \n",
       "                      </td>\n",
       "                    </tr>\n",
       "                \n",
       "                  <tr>\n",
       "                    <td>Individuals</td>\n",
       "                      <td>6</td>\n",
       "                      <td>1.6 KiB</td>\n",
       "                      <td style=\"text-align: center;\">\n",
       "                        ✅\n",
       "                      </td>\n",
       "                    </tr>\n",
       "                \n",
       "                  <tr>\n",
       "                    <td>Migrations</td>\n",
       "                      <td>0</td>\n",
       "                      <td>8 Bytes</td>\n",
       "                      <td style=\"text-align: center;\">\n",
       "                        \n",
       "                      </td>\n",
       "                    </tr>\n",
       "                \n",
       "                  <tr>\n",
       "                    <td>Mutations</td>\n",
       "                      <td>102235</td>\n",
       "                      <td>3.6 MiB</td>\n",
       "                      <td style=\"text-align: center;\">\n",
       "                        \n",
       "                      </td>\n",
       "                    </tr>\n",
       "                \n",
       "                  <tr>\n",
       "                    <td>Nodes</td>\n",
       "                      <td>10583</td>\n",
       "                      <td>813.2 KiB</td>\n",
       "                      <td style=\"text-align: center;\">\n",
       "                        ✅\n",
       "                      </td>\n",
       "                    </tr>\n",
       "                \n",
       "                  <tr>\n",
       "                    <td>Populations</td>\n",
       "                      <td>6</td>\n",
       "                      <td>608 Bytes</td>\n",
       "                      <td style=\"text-align: center;\">\n",
       "                        ✅\n",
       "                      </td>\n",
       "                    </tr>\n",
       "                \n",
       "                  <tr>\n",
       "                    <td>Provenances</td>\n",
       "                      <td>16</td>\n",
       "                      <td>10.9 KiB</td>\n",
       "                      <td style=\"text-align: center;\">\n",
       "                        \n",
       "                      </td>\n",
       "                    </tr>\n",
       "                \n",
       "                  <tr>\n",
       "                    <td>Sites</td>\n",
       "                      <td>88213</td>\n",
       "                      <td>6.9 MiB</td>\n",
       "                      <td style=\"text-align: center;\">\n",
       "                        ✅\n",
       "                      </td>\n",
       "                    </tr>\n",
       "                \n",
       "                    </tbody>\n",
       "                  </table>\n",
       "                </div>\n",
       "              </div>\n",
       "            </div>\n",
       "            "
      ],
      "text/plain": [
       "<tskit.trees.TreeSequence at 0x7fc9345c3790>"
      ]
     },
     "execution_count": 19,
     "metadata": {},
     "output_type": "execute_result"
    }
   ],
   "source": [
    "ts_small = ts.simplify(nodes_sample)\n",
    "ts_small"
   ]
  },
  {
   "cell_type": "markdown",
   "id": "3d0298ed",
   "metadata": {},
   "source": [
    "Let's start by plotting a random subtree"
   ]
  },
  {
   "cell_type": "code",
   "execution_count": 20,
   "id": "fb1064be",
   "metadata": {
    "scrolled": true
   },
   "outputs": [
    {
     "data": {
      "image/svg+xml": [
       "<svg baseProfile=\"full\" height=\"250\" version=\"1.1\" width=\"950\" xmlns=\"http://www.w3.org/2000/svg\" xmlns:ev=\"http://www.w3.org/2001/xml-events\" xmlns:xlink=\"http://www.w3.org/1999/xlink\"><defs><style type=\"text/css\"><![CDATA[.background path {fill: #808080; fill-opacity: 0}.background path:nth-child(odd) {fill-opacity: .1}.axes {font-size: 14px}.x-axis .tick .lab {font-weight: bold; dominant-baseline: hanging}.axes, .tree {font-size: 14px; text-anchor: middle}.axes line, .edge {stroke: black; fill: none}.axes .ax-skip {stroke-dasharray: 4}.y-axis .grid {stroke: #FAFAFA}.node > .sym {fill: black; stroke: none}.site > .sym {stroke: black}.mut text {fill: red; font-style: italic}.mut.extra text {fill: hotpink}.mut line {fill: none; stroke: none}.mut .sym {fill: none; stroke: red}.mut.extra .sym {stroke: hotpink}.node .mut .sym {stroke-width: 1.5px}.tree text, .tree-sequence text {dominant-baseline: central}.plotbox .lab.lft {text-anchor: end}.plotbox .lab.rgt {text-anchor: start}]]></style></defs><g class=\"tree t200\"><g class=\"axes\"><g class=\"y-axis\"><g class=\"title\" transform=\"translate(0 114.1)\"><text class=\"lab\" text-anchor=\"middle\" transform=\"translate(11) rotate(-90)\">Time</text></g><line class=\"ax-line\" x1=\"56.8\" x2=\"56.8\" y1=\"218.2\" y2=\"10\" /><g class=\"ticks\"><g class=\"tick\" transform=\"translate(56.8 218.196)\"><line class=\"grid\" x1=\"0\" x2=\"873.2\" y1=\"0\" y2=\"0\" /><line x1=\"0\" x2=\"-5\" y1=\"0\" y2=\"0\" /><g transform=\"translate(-6 0)\"><text class=\"lab\" text-anchor=\"end\">1</text></g></g><g class=\"tick\" transform=\"translate(56.8 178.136)\"><line class=\"grid\" x1=\"0\" x2=\"873.2\" y1=\"0\" y2=\"0\" /><line x1=\"0\" x2=\"-5\" y1=\"0\" y2=\"0\" /><g transform=\"translate(-6 0)\"><text class=\"lab\" text-anchor=\"end\">10000</text></g></g><g class=\"tick\" transform=\"translate(56.8 198.168)\"><line class=\"grid\" x1=\"0\" x2=\"873.2\" y1=\"0\" y2=\"0\" /><line x1=\"0\" x2=\"-5\" y1=\"0\" y2=\"0\" /><g transform=\"translate(-6 0)\"><text class=\"lab\" text-anchor=\"end\">5000</text></g></g><g class=\"tick\" transform=\"translate(56.8 98.0081)\"><line class=\"grid\" x1=\"0\" x2=\"873.2\" y1=\"0\" y2=\"0\" /><line x1=\"0\" x2=\"-5\" y1=\"0\" y2=\"0\" /><g transform=\"translate(-6 0)\"><text class=\"lab\" text-anchor=\"end\">30000</text></g></g><g class=\"tick\" transform=\"translate(56.8 -22.1837)\"><line class=\"grid\" x1=\"0\" x2=\"873.2\" y1=\"0\" y2=\"0\" /><line x1=\"0\" x2=\"-5\" y1=\"0\" y2=\"0\" /><g transform=\"translate(-6 0)\"><text class=\"lab\" text-anchor=\"end\">60000</text></g></g></g></g></g><g class=\"plotbox\"><g class=\"c2 m3924 m3928 m3931 m3932 m3940 m3944 node n9672 root s3379 s3382 s3384 s3385 s3393 s3396\" transform=\"translate(536.605 33.1333)\"><g class=\"a9672 c2 m3921 m3922 m3923 m3925 m3933 m3934 m3936 m3937 m3938 m3939 m3949 node n3473 s3376 s3377 s3378 s3380 s3386 s3387 s3389 s3390 s3391 s3392 s3401\" transform=\"translate(279.697 140.954)\"><g class=\"a3473 i4 leaf m3927 node n3 p0 s3381 sample\" transform=\"translate(77.3146 44.1131)\"><path class=\"edge\" d=\"M 0 0 V -44.1131 H -77.3146\" /><g class=\"mut m3927 s3381 unknown_time\" transform=\"translate(0 -22.0565)\"><line x1=\"0\" x2=\"0\" y1=\"0\" y2=\"22.0565\" /><path class=\"sym\" d=\"M -3,-3 l 6,6 M -3,3 l 6,-6\" /><text class=\"lab rgt\" transform=\"translate(5 0)\">3927</text></g><rect class=\"sym\" height=\"6\" width=\"6\" x=\"-3\" y=\"-3\" /><text class=\"lab\" transform=\"translate(0 11)\">5747</text></g><g class=\"a3473 c2 node n3469\" transform=\"translate(-77.3146 4.00641e-09)\"><g class=\"a3469 i2 leaf node n9 p2 sample\" transform=\"translate(81.8625 44.1131)\"><path class=\"edge\" d=\"M 0 0 V -44.1131 H -81.8625\" /><rect class=\"sym\" height=\"6\" width=\"6\" x=\"-3\" y=\"-3\" /><text class=\"lab\" transform=\"translate(0 11)\">3189</text></g><g class=\"a3469 c2 node n3463\" transform=\"translate(-81.8625 4.00638e-09)\"><g class=\"a3463 c2 node n3403\" transform=\"translate(-90.9583 2.0032e-08)\"><g class=\"a3403 c2 m3942 node n864 s3395\" transform=\"translate(72.7667 24.2885)\"><g class=\"a864 i3 leaf node n4 p4 sample\" transform=\"translate(-36.3833 19.8246)\"><path class=\"edge\" d=\"M 0 0 V -19.8246 H 36.3833\" /><rect class=\"sym\" height=\"6\" width=\"6\" x=\"-3\" y=\"-3\" /><text class=\"lab\" transform=\"translate(0 11)\">3658</text></g><g class=\"a864 i0 leaf m3943 node n11 p3 s3395 sample\" transform=\"translate(36.3833 19.8246)\"><path class=\"edge\" d=\"M 0 0 V -19.8246 H -36.3833\" /><g class=\"mut m3943 s3395 unknown_time\" transform=\"translate(0 -9.91229)\"><line x1=\"0\" x2=\"0\" y1=\"0\" y2=\"9.91229\" /><path class=\"sym\" d=\"M -3,-3 l 6,6 M -3,3 l 6,-6\" /><text class=\"lab rgt\" transform=\"translate(5 0)\">3943</text></g><rect class=\"sym\" height=\"6\" width=\"6\" x=\"-3\" y=\"-3\" /><text class=\"lab\" transform=\"translate(0 11)\">2623</text></g><path class=\"edge\" d=\"M 0 0 V -24.2885 H -72.7667\" /><g class=\"mut m3942 s3395 unknown_time\" transform=\"translate(0 -12.1442)\"><line x1=\"0\" x2=\"0\" y1=\"0\" y2=\"12.1442\" /><path class=\"sym\" d=\"M -3,-3 l 6,6 M -3,3 l 6,-6\" /><text class=\"lab rgt\" transform=\"translate(5 0)\">3942</text></g><circle class=\"sym\" cx=\"0\" cy=\"0\" r=\"3\" /><text class=\"lab rgt\" transform=\"translate(3 -7.0)\" /></g><g class=\"a3403 c2 node n124\" transform=\"translate(-72.7667 39.4388)\"><g class=\"a124 i1 leaf node n1 p1 sample\" transform=\"translate(-36.3833 4.67433)\"><path class=\"edge\" d=\"M 0 0 V -4.67433 H 36.3833\" /><rect class=\"sym\" height=\"6\" width=\"6\" x=\"-3\" y=\"-3\" /><text class=\"lab\" transform=\"translate(0 11)\">3137</text></g><g class=\"a124 i4 leaf node n2 p0 sample\" transform=\"translate(36.3833 4.67433)\"><path class=\"edge\" d=\"M 0 0 V -4.67433 H -36.3833\" /><rect class=\"sym\" height=\"6\" width=\"6\" x=\"-3\" y=\"-3\" /><text class=\"lab\" transform=\"translate(0 11)\">5746</text></g><path class=\"edge\" d=\"M 0 0 V -39.4388 H 72.7667\" /><circle class=\"sym\" cx=\"0\" cy=\"0\" r=\"3\" /><text class=\"lab lft\" transform=\"translate(-3 -7.0)\" /></g><path class=\"edge\" d=\"M 0 0 V -2.0032e-08 H 90.9583\" /><circle class=\"sym\" cx=\"0\" cy=\"0\" r=\"3\" /><text class=\"lab lft\" transform=\"translate(-3 -7.0)\" /></g><g class=\"a3463 i3 leaf m3929 m3930 node n5 p4 s3383 sample\" transform=\"translate(90.9583 44.1131)\"><path class=\"edge\" d=\"M 0 0 V -44.1131 H -90.9583\" /><g class=\"mut m3929 s3383 unknown_time\" transform=\"translate(0 -29.4087)\"><line x1=\"0\" x2=\"0\" y1=\"0\" y2=\"29.4087\" /><path class=\"sym\" d=\"M -3,-3 l 6,6 M -3,3 l 6,-6\" /><text class=\"lab rgt\" transform=\"translate(5 0)\">3929</text></g><g class=\"mut m3930 s3383 unknown_time\" transform=\"translate(0 -14.7044)\"><line x1=\"0\" x2=\"0\" y1=\"0\" y2=\"14.7044\" /><path class=\"sym\" d=\"M -3,-3 l 6,6 M -3,3 l 6,-6\" /><text class=\"lab rgt\" transform=\"translate(5 0)\">3930</text></g><rect class=\"sym\" height=\"6\" width=\"6\" x=\"-3\" y=\"-3\" /><text class=\"lab\" transform=\"translate(0 11)\">3659</text></g><path class=\"edge\" d=\"M 0 0 V -4.00638e-09 H 81.8625\" /><circle class=\"sym\" cx=\"0\" cy=\"0\" r=\"3\" /><text class=\"lab lft\" transform=\"translate(-3 -7.0)\" /></g><path class=\"edge\" d=\"M 0 0 V -4.00641e-09 H 77.3146\" /><circle class=\"sym\" cx=\"0\" cy=\"0\" r=\"3\" /><text class=\"lab lft\" transform=\"translate(-3 -7.0)\" /></g><path class=\"edge\" d=\"M 0 0 V -140.954 H -279.697\" /><g class=\"mut m3921 s3376 unknown_time\" transform=\"translate(0 -129.207)\"><line x1=\"0\" x2=\"0\" y1=\"0\" y2=\"129.207\" /><path class=\"sym\" d=\"M -3,-3 l 6,6 M -3,3 l 6,-6\" /><text class=\"lab rgt\" transform=\"translate(5 0)\">3921</text></g><g class=\"mut m3922 s3377 unknown_time\" transform=\"translate(0 -117.461)\"><line x1=\"0\" x2=\"0\" y1=\"0\" y2=\"117.461\" /><path class=\"sym\" d=\"M -3,-3 l 6,6 M -3,3 l 6,-6\" /><text class=\"lab rgt\" transform=\"translate(5 0)\">3922</text></g><g class=\"mut m3923 s3378 unknown_time\" transform=\"translate(0 -105.715)\"><line x1=\"0\" x2=\"0\" y1=\"0\" y2=\"105.715\" /><path class=\"sym\" d=\"M -3,-3 l 6,6 M -3,3 l 6,-6\" /><text class=\"lab rgt\" transform=\"translate(5 0)\">3923</text></g><g class=\"mut m3925 s3380 unknown_time\" transform=\"translate(0 -93.9691)\"><line x1=\"0\" x2=\"0\" y1=\"0\" y2=\"93.9691\" /><path class=\"sym\" d=\"M -3,-3 l 6,6 M -3,3 l 6,-6\" /><text class=\"lab rgt\" transform=\"translate(5 0)\">3925</text></g><g class=\"mut m3933 s3386 unknown_time\" transform=\"translate(0 -82.2229)\"><line x1=\"0\" x2=\"0\" y1=\"0\" y2=\"82.2229\" /><path class=\"sym\" d=\"M -3,-3 l 6,6 M -3,3 l 6,-6\" /><text class=\"lab rgt\" transform=\"translate(5 0)\">3933</text></g><g class=\"mut m3934 s3387 unknown_time\" transform=\"translate(0 -70.4768)\"><line x1=\"0\" x2=\"0\" y1=\"0\" y2=\"70.4768\" /><path class=\"sym\" d=\"M -3,-3 l 6,6 M -3,3 l 6,-6\" /><text class=\"lab rgt\" transform=\"translate(5 0)\">3934</text></g><g class=\"mut m3936 s3389 unknown_time\" transform=\"translate(0 -58.7307)\"><line x1=\"0\" x2=\"0\" y1=\"0\" y2=\"58.7307\" /><path class=\"sym\" d=\"M -3,-3 l 6,6 M -3,3 l 6,-6\" /><text class=\"lab rgt\" transform=\"translate(5 0)\">3936</text></g><g class=\"mut m3937 s3390 unknown_time\" transform=\"translate(0 -46.9845)\"><line x1=\"0\" x2=\"0\" y1=\"0\" y2=\"46.9845\" /><path class=\"sym\" d=\"M -3,-3 l 6,6 M -3,3 l 6,-6\" /><text class=\"lab rgt\" transform=\"translate(5 0)\">3937</text></g><g class=\"mut m3938 s3391 unknown_time\" transform=\"translate(0 -35.2384)\"><line x1=\"0\" x2=\"0\" y1=\"0\" y2=\"35.2384\" /><path class=\"sym\" d=\"M -3,-3 l 6,6 M -3,3 l 6,-6\" /><text class=\"lab rgt\" transform=\"translate(5 0)\">3938</text></g><g class=\"mut m3939 s3392 unknown_time\" transform=\"translate(0 -23.4923)\"><line x1=\"0\" x2=\"0\" y1=\"0\" y2=\"23.4923\" /><path class=\"sym\" d=\"M -3,-3 l 6,6 M -3,3 l 6,-6\" /><text class=\"lab rgt\" transform=\"translate(5 0)\">3939</text></g><g class=\"mut m3949 s3401 unknown_time\" transform=\"translate(0 -11.7461)\"><line x1=\"0\" x2=\"0\" y1=\"0\" y2=\"11.7461\" /><path class=\"sym\" d=\"M -3,-3 l 6,6 M -3,3 l 6,-6\" /><text class=\"lab rgt\" transform=\"translate(5 0)\">3949</text></g><circle class=\"sym\" cx=\"0\" cy=\"0\" r=\"3\" /><text class=\"lab rgt\" transform=\"translate(3 -7.0)\" /></g><g class=\"a9672 c2 m3926 m3935 m3941 m3945 m3946 m3947 m3948 node n3685 s3381 s3388 s3394 s3397 s3398 s3399 s3400\" transform=\"translate(-279.697 139.424)\"><g class=\"a3685 c2 node n416\" transform=\"translate(90.9583 35.631)\"><g class=\"a416 i5 leaf node n7 p5 sample\" transform=\"translate(-36.3833 10.0119)\"><path class=\"edge\" d=\"M 0 0 V -10.0119 H 36.3833\" /><rect class=\"sym\" height=\"6\" width=\"6\" x=\"-3\" y=\"-3\" /><text class=\"lab\" transform=\"translate(0 11)\">6913</text></g><g class=\"a416 i2 leaf node n8 p2 sample\" transform=\"translate(36.3833 10.0119)\"><path class=\"edge\" d=\"M 0 0 V -10.0119 H -36.3833\" /><rect class=\"sym\" height=\"6\" width=\"6\" x=\"-3\" y=\"-3\" /><text class=\"lab\" transform=\"translate(0 11)\">3188</text></g><path class=\"edge\" d=\"M 0 0 V -35.631 H -90.9583\" /><circle class=\"sym\" cx=\"0\" cy=\"0\" r=\"3\" /><text class=\"lab rgt\" transform=\"translate(3 -7.0)\" /></g><g class=\"a3685 c3 node n2623\" transform=\"translate(-90.9583 10.0036)\"><g class=\"a2623 i1 leaf node n0 p1 sample\" transform=\"translate(-72.7667 35.6393)\"><path class=\"edge\" d=\"M 0 0 V -35.6393 H 72.7667\" /><rect class=\"sym\" height=\"6\" width=\"6\" x=\"-3\" y=\"-3\" /><text class=\"lab\" transform=\"translate(0 11)\">3136</text></g><g class=\"a2623 i5 leaf node n6 p5 sample\" transform=\"translate(0.0 35.6393)\"><path class=\"edge\" d=\"M 0 0 V -35.6393 H 0.0\" /><rect class=\"sym\" height=\"6\" width=\"6\" x=\"-3\" y=\"-3\" /><text class=\"lab\" transform=\"translate(0 11)\">6912</text></g><g class=\"a2623 i0 leaf node n10 p3 sample\" transform=\"translate(72.7667 35.6393)\"><path class=\"edge\" d=\"M 0 0 V -35.6393 H -72.7667\" /><rect class=\"sym\" height=\"6\" width=\"6\" x=\"-3\" y=\"-3\" /><text class=\"lab\" transform=\"translate(0 11)\">2622</text></g><path class=\"edge\" d=\"M 0 0 V -10.0036 H 90.9583\" /><circle class=\"sym\" cx=\"0\" cy=\"0\" r=\"3\" /><text class=\"lab lft\" transform=\"translate(-3 -7.0)\" /></g><path class=\"edge\" d=\"M 0 0 V -139.424 H 279.697\" /><g class=\"mut m3926 s3381 unknown_time\" transform=\"translate(0 -121.996)\"><line x1=\"0\" x2=\"0\" y1=\"0\" y2=\"121.996\" /><path class=\"sym\" d=\"M -3,-3 l 6,6 M -3,3 l 6,-6\" /><text class=\"lab lft\" transform=\"translate(-5 0)\">3926</text></g><g class=\"mut m3935 s3388 unknown_time\" transform=\"translate(0 -104.568)\"><line x1=\"0\" x2=\"0\" y1=\"0\" y2=\"104.568\" /><path class=\"sym\" d=\"M -3,-3 l 6,6 M -3,3 l 6,-6\" /><text class=\"lab lft\" transform=\"translate(-5 0)\">3935</text></g><g class=\"mut m3941 s3394 unknown_time\" transform=\"translate(0 -87.1399)\"><line x1=\"0\" x2=\"0\" y1=\"0\" y2=\"87.1399\" /><path class=\"sym\" d=\"M -3,-3 l 6,6 M -3,3 l 6,-6\" /><text class=\"lab lft\" transform=\"translate(-5 0)\">3941</text></g><g class=\"mut m3945 s3397 unknown_time\" transform=\"translate(0 -69.7119)\"><line x1=\"0\" x2=\"0\" y1=\"0\" y2=\"69.7119\" /><path class=\"sym\" d=\"M -3,-3 l 6,6 M -3,3 l 6,-6\" /><text class=\"lab lft\" transform=\"translate(-5 0)\">3945</text></g><g class=\"mut m3946 s3398 unknown_time\" transform=\"translate(0 -52.2839)\"><line x1=\"0\" x2=\"0\" y1=\"0\" y2=\"52.2839\" /><path class=\"sym\" d=\"M -3,-3 l 6,6 M -3,3 l 6,-6\" /><text class=\"lab lft\" transform=\"translate(-5 0)\">3946</text></g><g class=\"mut m3947 s3399 unknown_time\" transform=\"translate(0 -34.856)\"><line x1=\"0\" x2=\"0\" y1=\"0\" y2=\"34.856\" /><path class=\"sym\" d=\"M -3,-3 l 6,6 M -3,3 l 6,-6\" /><text class=\"lab lft\" transform=\"translate(-5 0)\">3947</text></g><g class=\"mut m3948 s3400 unknown_time\" transform=\"translate(0 -17.428)\"><line x1=\"0\" x2=\"0\" y1=\"0\" y2=\"17.428\" /><path class=\"sym\" d=\"M -3,-3 l 6,6 M -3,3 l 6,-6\" /><text class=\"lab lft\" transform=\"translate(-5 0)\">3948</text></g><circle class=\"sym\" cx=\"0\" cy=\"0\" r=\"3\" /><text class=\"lab lft\" transform=\"translate(-3 -7.0)\" /></g><path class=\"edge\" d=\"M 0 0 V -23.1333 H 0\" /><g class=\"mut m3924 s3379 unknown_time\" transform=\"translate(0 -19.8286)\"><line x1=\"0\" x2=\"0\" y1=\"0\" y2=\"19.8286\" /><path class=\"sym\" d=\"M -3,-3 l 6,6 M -3,3 l 6,-6\" /><text class=\"lab rgt\" transform=\"translate(5 0)\">3924</text></g><g class=\"mut m3928 s3382 unknown_time\" transform=\"translate(0 -16.5238)\"><line x1=\"0\" x2=\"0\" y1=\"0\" y2=\"16.5238\" /><path class=\"sym\" d=\"M -3,-3 l 6,6 M -3,3 l 6,-6\" /><text class=\"lab rgt\" transform=\"translate(5 0)\">3928</text></g><g class=\"mut m3931 s3384 unknown_time\" transform=\"translate(0 -13.219)\"><line x1=\"0\" x2=\"0\" y1=\"0\" y2=\"13.219\" /><path class=\"sym\" d=\"M -3,-3 l 6,6 M -3,3 l 6,-6\" /><text class=\"lab rgt\" transform=\"translate(5 0)\">3931</text></g><g class=\"mut m3932 s3385 unknown_time\" transform=\"translate(0 -9.91429)\"><line x1=\"0\" x2=\"0\" y1=\"0\" y2=\"9.91429\" /><path class=\"sym\" d=\"M -3,-3 l 6,6 M -3,3 l 6,-6\" /><text class=\"lab rgt\" transform=\"translate(5 0)\">3932</text></g><g class=\"mut m3940 s3393 unknown_time\" transform=\"translate(0 -6.60952)\"><line x1=\"0\" x2=\"0\" y1=\"0\" y2=\"6.60952\" /><path class=\"sym\" d=\"M -3,-3 l 6,6 M -3,3 l 6,-6\" /><text class=\"lab rgt\" transform=\"translate(5 0)\">3940</text></g><g class=\"mut m3944 s3396 unknown_time\" transform=\"translate(0 -3.30476)\"><line x1=\"0\" x2=\"0\" y1=\"0\" y2=\"3.30476\" /><path class=\"sym\" d=\"M -3,-3 l 6,6 M -3,3 l 6,-6\" /><text class=\"lab rgt\" transform=\"translate(5 0)\">3944</text></g><circle class=\"sym\" cx=\"0\" cy=\"0\" r=\"3\" /><text class=\"lab rgt\" transform=\"translate(3 -7.0)\" /></g></g></g></svg>"
      ],
      "text/plain": [
       "'<svg baseProfile=\"full\" height=\"250\" version=\"1.1\" width=\"950\" xmlns=\"http://www.w3.org/2000/svg\" xmlns:ev=\"http://www.w3.org/2001/xml-events\" xmlns:xlink=\"http://www.w3.org/1999/xlink\"><defs><style type=\"text/css\"><![CDATA[.background path {fill: #808080; fill-opacity: 0}.background path:nth-child(odd) {fill-opacity: .1}.axes {font-size: 14px}.x-axis .tick .lab {font-weight: bold; dominant-baseline: hanging}.axes, .tree {font-size: 14px; text-anchor: middle}.axes line, .edge {stroke: black; fill: none}.axes .ax-skip {stroke-dasharray: 4}.y-axis .grid {stroke: #FAFAFA}.node > .sym {fill: black; stroke: none}.site > .sym {stroke: black}.mut text {fill: red; font-style: italic}.mut.extra text {fill: hotpink}.mut line {fill: none; stroke: none}.mut .sym {fill: none; stroke: red}.mut.extra .sym {stroke: hotpink}.node .mut .sym {stroke-width: 1.5px}.tree text, .tree-sequence text {dominant-baseline: central}.plotbox .lab.lft {text-anchor: end}.plotbox .lab.rgt {text-anchor: start}]]></style></defs><g class=\"tree t200\"><g class=\"axes\"><g class=\"y-axis\"><g class=\"title\" transform=\"translate(0 114.1)\"><text class=\"lab\" text-anchor=\"middle\" transform=\"translate(11) rotate(-90)\">Time</text></g><line class=\"ax-line\" x1=\"56.8\" x2=\"56.8\" y1=\"218.2\" y2=\"10\" /><g class=\"ticks\"><g class=\"tick\" transform=\"translate(56.8 218.196)\"><line class=\"grid\" x1=\"0\" x2=\"873.2\" y1=\"0\" y2=\"0\" /><line x1=\"0\" x2=\"-5\" y1=\"0\" y2=\"0\" /><g transform=\"translate(-6 0)\"><text class=\"lab\" text-anchor=\"end\">1</text></g></g><g class=\"tick\" transform=\"translate(56.8 178.136)\"><line class=\"grid\" x1=\"0\" x2=\"873.2\" y1=\"0\" y2=\"0\" /><line x1=\"0\" x2=\"-5\" y1=\"0\" y2=\"0\" /><g transform=\"translate(-6 0)\"><text class=\"lab\" text-anchor=\"end\">10000</text></g></g><g class=\"tick\" transform=\"translate(56.8 198.168)\"><line class=\"grid\" x1=\"0\" x2=\"873.2\" y1=\"0\" y2=\"0\" /><line x1=\"0\" x2=\"-5\" y1=\"0\" y2=\"0\" /><g transform=\"translate(-6 0)\"><text class=\"lab\" text-anchor=\"end\">5000</text></g></g><g class=\"tick\" transform=\"translate(56.8 98.0081)\"><line class=\"grid\" x1=\"0\" x2=\"873.2\" y1=\"0\" y2=\"0\" /><line x1=\"0\" x2=\"-5\" y1=\"0\" y2=\"0\" /><g transform=\"translate(-6 0)\"><text class=\"lab\" text-anchor=\"end\">30000</text></g></g><g class=\"tick\" transform=\"translate(56.8 -22.1837)\"><line class=\"grid\" x1=\"0\" x2=\"873.2\" y1=\"0\" y2=\"0\" /><line x1=\"0\" x2=\"-5\" y1=\"0\" y2=\"0\" /><g transform=\"translate(-6 0)\"><text class=\"lab\" text-anchor=\"end\">60000</text></g></g></g></g></g><g class=\"plotbox\"><g class=\"c2 m3924 m3928 m3931 m3932 m3940 m3944 node n9672 root s3379 s3382 s3384 s3385 s3393 s3396\" transform=\"translate(536.605 33.1333)\"><g class=\"a9672 c2 m3921 m3922 m3923 m3925 m3933 m3934 m3936 m3937 m3938 m3939 m3949 node n3473 s3376 s3377 s3378 s3380 s3386 s3387 s3389 s3390 s3391 s3392 s3401\" transform=\"translate(279.697 140.954)\"><g class=\"a3473 i4 leaf m3927 node n3 p0 s3381 sample\" transform=\"translate(77.3146 44.1131)\"><path class=\"edge\" d=\"M 0 0 V -44.1131 H -77.3146\" /><g class=\"mut m3927 s3381 unknown_time\" transform=\"translate(0 -22.0565)\"><line x1=\"0\" x2=\"0\" y1=\"0\" y2=\"22.0565\" /><path class=\"sym\" d=\"M -3,-3 l 6,6 M -3,3 l 6,-6\" /><text class=\"lab rgt\" transform=\"translate(5 0)\">3927</text></g><rect class=\"sym\" height=\"6\" width=\"6\" x=\"-3\" y=\"-3\" /><text class=\"lab\" transform=\"translate(0 11)\">5747</text></g><g class=\"a3473 c2 node n3469\" transform=\"translate(-77.3146 4.00641e-09)\"><g class=\"a3469 i2 leaf node n9 p2 sample\" transform=\"translate(81.8625 44.1131)\"><path class=\"edge\" d=\"M 0 0 V -44.1131 H -81.8625\" /><rect class=\"sym\" height=\"6\" width=\"6\" x=\"-3\" y=\"-3\" /><text class=\"lab\" transform=\"translate(0 11)\">3189</text></g><g class=\"a3469 c2 node n3463\" transform=\"translate(-81.8625 4.00638e-09)\"><g class=\"a3463 c2 node n3403\" transform=\"translate(-90.9583 2.0032e-08)\"><g class=\"a3403 c2 m3942 node n864 s3395\" transform=\"translate(72.7667 24.2885)\"><g class=\"a864 i3 leaf node n4 p4 sample\" transform=\"translate(-36.3833 19.8246)\"><path class=\"edge\" d=\"M 0 0 V -19.8246 H 36.3833\" /><rect class=\"sym\" height=\"6\" width=\"6\" x=\"-3\" y=\"-3\" /><text class=\"lab\" transform=\"translate(0 11)\">3658</text></g><g class=\"a864 i0 leaf m3943 node n11 p3 s3395 sample\" transform=\"translate(36.3833 19.8246)\"><path class=\"edge\" d=\"M 0 0 V -19.8246 H -36.3833\" /><g class=\"mut m3943 s3395 unknown_time\" transform=\"translate(0 -9.91229)\"><line x1=\"0\" x2=\"0\" y1=\"0\" y2=\"9.91229\" /><path class=\"sym\" d=\"M -3,-3 l 6,6 M -3,3 l 6,-6\" /><text class=\"lab rgt\" transform=\"translate(5 0)\">3943</text></g><rect class=\"sym\" height=\"6\" width=\"6\" x=\"-3\" y=\"-3\" /><text class=\"lab\" transform=\"translate(0 11)\">2623</text></g><path class=\"edge\" d=\"M 0 0 V -24.2885 H -72.7667\" /><g class=\"mut m3942 s3395 unknown_time\" transform=\"translate(0 -12.1442)\"><line x1=\"0\" x2=\"0\" y1=\"0\" y2=\"12.1442\" /><path class=\"sym\" d=\"M -3,-3 l 6,6 M -3,3 l 6,-6\" /><text class=\"lab rgt\" transform=\"translate(5 0)\">3942</text></g><circle class=\"sym\" cx=\"0\" cy=\"0\" r=\"3\" /><text class=\"lab rgt\" transform=\"translate(3 -7.0)\" /></g><g class=\"a3403 c2 node n124\" transform=\"translate(-72.7667 39.4388)\"><g class=\"a124 i1 leaf node n1 p1 sample\" transform=\"translate(-36.3833 4.67433)\"><path class=\"edge\" d=\"M 0 0 V -4.67433 H 36.3833\" /><rect class=\"sym\" height=\"6\" width=\"6\" x=\"-3\" y=\"-3\" /><text class=\"lab\" transform=\"translate(0 11)\">3137</text></g><g class=\"a124 i4 leaf node n2 p0 sample\" transform=\"translate(36.3833 4.67433)\"><path class=\"edge\" d=\"M 0 0 V -4.67433 H -36.3833\" /><rect class=\"sym\" height=\"6\" width=\"6\" x=\"-3\" y=\"-3\" /><text class=\"lab\" transform=\"translate(0 11)\">5746</text></g><path class=\"edge\" d=\"M 0 0 V -39.4388 H 72.7667\" /><circle class=\"sym\" cx=\"0\" cy=\"0\" r=\"3\" /><text class=\"lab lft\" transform=\"translate(-3 -7.0)\" /></g><path class=\"edge\" d=\"M 0 0 V -2.0032e-08 H 90.9583\" /><circle class=\"sym\" cx=\"0\" cy=\"0\" r=\"3\" /><text class=\"lab lft\" transform=\"translate(-3 -7.0)\" /></g><g class=\"a3463 i3 leaf m3929 m3930 node n5 p4 s3383 sample\" transform=\"translate(90.9583 44.1131)\"><path class=\"edge\" d=\"M 0 0 V -44.1131 H -90.9583\" /><g class=\"mut m3929 s3383 unknown_time\" transform=\"translate(0 -29.4087)\"><line x1=\"0\" x2=\"0\" y1=\"0\" y2=\"29.4087\" /><path class=\"sym\" d=\"M -3,-3 l 6,6 M -3,3 l 6,-6\" /><text class=\"lab rgt\" transform=\"translate(5 0)\">3929</text></g><g class=\"mut m3930 s3383 unknown_time\" transform=\"translate(0 -14.7044)\"><line x1=\"0\" x2=\"0\" y1=\"0\" y2=\"14.7044\" /><path class=\"sym\" d=\"M -3,-3 l 6,6 M -3,3 l 6,-6\" /><text class=\"lab rgt\" transform=\"translate(5 0)\">3930</text></g><rect class=\"sym\" height=\"6\" width=\"6\" x=\"-3\" y=\"-3\" /><text class=\"lab\" transform=\"translate(0 11)\">3659</text></g><path class=\"edge\" d=\"M 0 0 V -4.00638e-09 H 81.8625\" /><circle class=\"sym\" cx=\"0\" cy=\"0\" r=\"3\" /><text class=\"lab lft\" transform=\"translate(-3 -7.0)\" /></g><path class=\"edge\" d=\"M 0 0 V -4.00641e-09 H 77.3146\" /><circle class=\"sym\" cx=\"0\" cy=\"0\" r=\"3\" /><text class=\"lab lft\" transform=\"translate(-3 -7.0)\" /></g><path class=\"edge\" d=\"M 0 0 V -140.954 H -279.697\" /><g class=\"mut m3921 s3376 unknown_time\" transform=\"translate(0 -129.207)\"><line x1=\"0\" x2=\"0\" y1=\"0\" y2=\"129.207\" /><path class=\"sym\" d=\"M -3,-3 l 6,6 M -3,3 l 6,-6\" /><text class=\"lab rgt\" transform=\"translate(5 0)\">3921</text></g><g class=\"mut m3922 s3377 unknown_time\" transform=\"translate(0 -117.461)\"><line x1=\"0\" x2=\"0\" y1=\"0\" y2=\"117.461\" /><path class=\"sym\" d=\"M -3,-3 l 6,6 M -3,3 l 6,-6\" /><text class=\"lab rgt\" transform=\"translate(5 0)\">3922</text></g><g class=\"mut m3923 s3378 unknown_time\" transform=\"translate(0 -105.715)\"><line x1=\"0\" x2=\"0\" y1=\"0\" y2=\"105.715\" /><path class=\"sym\" d=\"M -3,-3 l 6,6 M -3,3 l 6,-6\" /><text class=\"lab rgt\" transform=\"translate(5 0)\">3923</text></g><g class=\"mut m3925 s3380 unknown_time\" transform=\"translate(0 -93.9691)\"><line x1=\"0\" x2=\"0\" y1=\"0\" y2=\"93.9691\" /><path class=\"sym\" d=\"M -3,-3 l 6,6 M -3,3 l 6,-6\" /><text class=\"lab rgt\" transform=\"translate(5 0)\">3925</text></g><g class=\"mut m3933 s3386 unknown_time\" transform=\"translate(0 -82.2229)\"><line x1=\"0\" x2=\"0\" y1=\"0\" y2=\"82.2229\" /><path class=\"sym\" d=\"M -3,-3 l 6,6 M -3,3 l 6,-6\" /><text class=\"lab rgt\" transform=\"translate(5 0)\">3933</text></g><g class=\"mut m3934 s3387 unknown_time\" transform=\"translate(0 -70.4768)\"><line x1=\"0\" x2=\"0\" y1=\"0\" y2=\"70.4768\" /><path class=\"sym\" d=\"M -3,-3 l 6,6 M -3,3 l 6,-6\" /><text class=\"lab rgt\" transform=\"translate(5 0)\">3934</text></g><g class=\"mut m3936 s3389 unknown_time\" transform=\"translate(0 -58.7307)\"><line x1=\"0\" x2=\"0\" y1=\"0\" y2=\"58.7307\" /><path class=\"sym\" d=\"M -3,-3 l 6,6 M -3,3 l 6,-6\" /><text class=\"lab rgt\" transform=\"translate(5 0)\">3936</text></g><g class=\"mut m3937 s3390 unknown_time\" transform=\"translate(0 -46.9845)\"><line x1=\"0\" x2=\"0\" y1=\"0\" y2=\"46.9845\" /><path class=\"sym\" d=\"M -3,-3 l 6,6 M -3,3 l 6,-6\" /><text class=\"lab rgt\" transform=\"translate(5 0)\">3937</text></g><g class=\"mut m3938 s3391 unknown_time\" transform=\"translate(0 -35.2384)\"><line x1=\"0\" x2=\"0\" y1=\"0\" y2=\"35.2384\" /><path class=\"sym\" d=\"M -3,-3 l 6,6 M -3,3 l 6,-6\" /><text class=\"lab rgt\" transform=\"translate(5 0)\">3938</text></g><g class=\"mut m3939 s3392 unknown_time\" transform=\"translate(0 -23.4923)\"><line x1=\"0\" x2=\"0\" y1=\"0\" y2=\"23.4923\" /><path class=\"sym\" d=\"M -3,-3 l 6,6 M -3,3 l 6,-6\" /><text class=\"lab rgt\" transform=\"translate(5 0)\">3939</text></g><g class=\"mut m3949 s3401 unknown_time\" transform=\"translate(0 -11.7461)\"><line x1=\"0\" x2=\"0\" y1=\"0\" y2=\"11.7461\" /><path class=\"sym\" d=\"M -3,-3 l 6,6 M -3,3 l 6,-6\" /><text class=\"lab rgt\" transform=\"translate(5 0)\">3949</text></g><circle class=\"sym\" cx=\"0\" cy=\"0\" r=\"3\" /><text class=\"lab rgt\" transform=\"translate(3 -7.0)\" /></g><g class=\"a9672 c2 m3926 m3935 m3941 m3945 m3946 m3947 m3948 node n3685 s3381 s3388 s3394 s3397 s3398 s3399 s3400\" transform=\"translate(-279.697 139.424)\"><g class=\"a3685 c2 node n416\" transform=\"translate(90.9583 35.631)\"><g class=\"a416 i5 leaf node n7 p5 sample\" transform=\"translate(-36.3833 10.0119)\"><path class=\"edge\" d=\"M 0 0 V -10.0119 H 36.3833\" /><rect class=\"sym\" height=\"6\" width=\"6\" x=\"-3\" y=\"-3\" /><text class=\"lab\" transform=\"translate(0 11)\">6913</text></g><g class=\"a416 i2 leaf node n8 p2 sample\" transform=\"translate(36.3833 10.0119)\"><path class=\"edge\" d=\"M 0 0 V -10.0119 H -36.3833\" /><rect class=\"sym\" height=\"6\" width=\"6\" x=\"-3\" y=\"-3\" /><text class=\"lab\" transform=\"translate(0 11)\">3188</text></g><path class=\"edge\" d=\"M 0 0 V -35.631 H -90.9583\" /><circle class=\"sym\" cx=\"0\" cy=\"0\" r=\"3\" /><text class=\"lab rgt\" transform=\"translate(3 -7.0)\" /></g><g class=\"a3685 c3 node n2623\" transform=\"translate(-90.9583 10.0036)\"><g class=\"a2623 i1 leaf node n0 p1 sample\" transform=\"translate(-72.7667 35.6393)\"><path class=\"edge\" d=\"M 0 0 V -35.6393 H 72.7667\" /><rect class=\"sym\" height=\"6\" width=\"6\" x=\"-3\" y=\"-3\" /><text class=\"lab\" transform=\"translate(0 11)\">3136</text></g><g class=\"a2623 i5 leaf node n6 p5 sample\" transform=\"translate(0.0 35.6393)\"><path class=\"edge\" d=\"M 0 0 V -35.6393 H 0.0\" /><rect class=\"sym\" height=\"6\" width=\"6\" x=\"-3\" y=\"-3\" /><text class=\"lab\" transform=\"translate(0 11)\">6912</text></g><g class=\"a2623 i0 leaf node n10 p3 sample\" transform=\"translate(72.7667 35.6393)\"><path class=\"edge\" d=\"M 0 0 V -35.6393 H -72.7667\" /><rect class=\"sym\" height=\"6\" width=\"6\" x=\"-3\" y=\"-3\" /><text class=\"lab\" transform=\"translate(0 11)\">2622</text></g><path class=\"edge\" d=\"M 0 0 V -10.0036 H 90.9583\" /><circle class=\"sym\" cx=\"0\" cy=\"0\" r=\"3\" /><text class=\"lab lft\" transform=\"translate(-3 -7.0)\" /></g><path class=\"edge\" d=\"M 0 0 V -139.424 H 279.697\" /><g class=\"mut m3926 s3381 unknown_time\" transform=\"translate(0 -121.996)\"><line x1=\"0\" x2=\"0\" y1=\"0\" y2=\"121.996\" /><path class=\"sym\" d=\"M -3,-3 l 6,6 M -3,3 l 6,-6\" /><text class=\"lab lft\" transform=\"translate(-5 0)\">3926</text></g><g class=\"mut m3935 s3388 unknown_time\" transform=\"translate(0 -104.568)\"><line x1=\"0\" x2=\"0\" y1=\"0\" y2=\"104.568\" /><path class=\"sym\" d=\"M -3,-3 l 6,6 M -3,3 l 6,-6\" /><text class=\"lab lft\" transform=\"translate(-5 0)\">3935</text></g><g class=\"mut m3941 s3394 unknown_time\" transform=\"translate(0 -87.1399)\"><line x1=\"0\" x2=\"0\" y1=\"0\" y2=\"87.1399\" /><path class=\"sym\" d=\"M -3,-3 l 6,6 M -3,3 l 6,-6\" /><text class=\"lab lft\" transform=\"translate(-5 0)\">3941</text></g><g class=\"mut m3945 s3397 unknown_time\" transform=\"translate(0 -69.7119)\"><line x1=\"0\" x2=\"0\" y1=\"0\" y2=\"69.7119\" /><path class=\"sym\" d=\"M -3,-3 l 6,6 M -3,3 l 6,-6\" /><text class=\"lab lft\" transform=\"translate(-5 0)\">3945</text></g><g class=\"mut m3946 s3398 unknown_time\" transform=\"translate(0 -52.2839)\"><line x1=\"0\" x2=\"0\" y1=\"0\" y2=\"52.2839\" /><path class=\"sym\" d=\"M -3,-3 l 6,6 M -3,3 l 6,-6\" /><text class=\"lab lft\" transform=\"translate(-5 0)\">3946</text></g><g class=\"mut m3947 s3399 unknown_time\" transform=\"translate(0 -34.856)\"><line x1=\"0\" x2=\"0\" y1=\"0\" y2=\"34.856\" /><path class=\"sym\" d=\"M -3,-3 l 6,6 M -3,3 l 6,-6\" /><text class=\"lab lft\" transform=\"translate(-5 0)\">3947</text></g><g class=\"mut m3948 s3400 unknown_time\" transform=\"translate(0 -17.428)\"><line x1=\"0\" x2=\"0\" y1=\"0\" y2=\"17.428\" /><path class=\"sym\" d=\"M -3,-3 l 6,6 M -3,3 l 6,-6\" /><text class=\"lab lft\" transform=\"translate(-5 0)\">3948</text></g><circle class=\"sym\" cx=\"0\" cy=\"0\" r=\"3\" /><text class=\"lab lft\" transform=\"translate(-3 -7.0)\" /></g><path class=\"edge\" d=\"M 0 0 V -23.1333 H 0\" /><g class=\"mut m3924 s3379 unknown_time\" transform=\"translate(0 -19.8286)\"><line x1=\"0\" x2=\"0\" y1=\"0\" y2=\"19.8286\" /><path class=\"sym\" d=\"M -3,-3 l 6,6 M -3,3 l 6,-6\" /><text class=\"lab rgt\" transform=\"translate(5 0)\">3924</text></g><g class=\"mut m3928 s3382 unknown_time\" transform=\"translate(0 -16.5238)\"><line x1=\"0\" x2=\"0\" y1=\"0\" y2=\"16.5238\" /><path class=\"sym\" d=\"M -3,-3 l 6,6 M -3,3 l 6,-6\" /><text class=\"lab rgt\" transform=\"translate(5 0)\">3928</text></g><g class=\"mut m3931 s3384 unknown_time\" transform=\"translate(0 -13.219)\"><line x1=\"0\" x2=\"0\" y1=\"0\" y2=\"13.219\" /><path class=\"sym\" d=\"M -3,-3 l 6,6 M -3,3 l 6,-6\" /><text class=\"lab rgt\" transform=\"translate(5 0)\">3931</text></g><g class=\"mut m3932 s3385 unknown_time\" transform=\"translate(0 -9.91429)\"><line x1=\"0\" x2=\"0\" y1=\"0\" y2=\"9.91429\" /><path class=\"sym\" d=\"M -3,-3 l 6,6 M -3,3 l 6,-6\" /><text class=\"lab rgt\" transform=\"translate(5 0)\">3932</text></g><g class=\"mut m3940 s3393 unknown_time\" transform=\"translate(0 -6.60952)\"><line x1=\"0\" x2=\"0\" y1=\"0\" y2=\"6.60952\" /><path class=\"sym\" d=\"M -3,-3 l 6,6 M -3,3 l 6,-6\" /><text class=\"lab rgt\" transform=\"translate(5 0)\">3940</text></g><g class=\"mut m3944 s3396 unknown_time\" transform=\"translate(0 -3.30476)\"><line x1=\"0\" x2=\"0\" y1=\"0\" y2=\"3.30476\" /><path class=\"sym\" d=\"M -3,-3 l 6,6 M -3,3 l 6,-6\" /><text class=\"lab rgt\" transform=\"translate(5 0)\">3944</text></g><circle class=\"sym\" cx=\"0\" cy=\"0\" r=\"3\" /><text class=\"lab rgt\" transform=\"translate(3 -7.0)\" /></g></g></g></svg>'"
      ]
     },
     "metadata": {},
     "output_type": "display_data"
    }
   ],
   "source": [
    "test_ts = ts_small.at_index(200)\n",
    "wide_fmt = (950, 250)\n",
    "\n",
    "labels = {}\n",
    "for n in test_ts.nodes():\n",
    "    if n in range(20):\n",
    "        labels[n] = nodes_sample[n]\n",
    "\n",
    "display(test_ts.draw_svg(\n",
    "    size=wide_fmt,\n",
    "    y_gridlines=True,\n",
    "    y_axis=True,\n",
    "    y_ticks=[1, 10000, 5000, 30000, 60000],\n",
    "    node_labels=labels\n",
    "))"
   ]
  },
  {
   "cell_type": "markdown",
   "id": "6cd8446f",
   "metadata": {},
   "source": [
    "Now let's plot a short sequence of trees in a certain region"
   ]
  },
  {
   "cell_type": "code",
   "execution_count": 21,
   "id": "d17ff69c",
   "metadata": {},
   "outputs": [
    {
     "data": {
      "text/html": [
       "\n",
       "            <div>\n",
       "              <style>\n",
       "                .tskit-table thead tr th {text-align: left;padding: 0.5em 0.5em;}\n",
       "                .tskit-table tbody tr td {padding: 0.5em 0.5em;}\n",
       "                .tskit-table tbody tr td:first-of-type {text-align: left;}\n",
       "                .tskit-details-label {vertical-align: top; padding-right:5px;}\n",
       "                .tskit-table-set {display: inline-flex;flex-wrap: wrap;margin: -12px 0 0 -12px;width: calc(100% + 12px);}\n",
       "                .tskit-table-set-table {margin: 12px 0 0 12px;}\n",
       "                details {display: inline-block;}\n",
       "                summary {cursor: pointer; outline: 0; display: list-item;}\n",
       "              </style>\n",
       "              <div class=\"tskit-table-set\">\n",
       "                <div class=\"tskit-table-set-table\">\n",
       "                  <table class=\"tskit-table\">\n",
       "                    <thead>\n",
       "                      <tr>\n",
       "                        <th style=\"padding:0;line-height:21px;\">\n",
       "                          <img style=\"height: 32px;display: inline-block;padding: 3px 5px 3px 0;\" src=\"https://raw.githubusercontent.com/tskit-dev/administrative/main/tskit_logo.svg\"/>\n",
       "                          <a target=\"_blank\" href=\"https://tskit.dev/tskit/docs/latest/python-api.html#the-tree-class\"> Tree </a>\n",
       "                        </th>\n",
       "                      </tr>\n",
       "                    </thead>\n",
       "                    <tbody>\n",
       "                      <tr><td>Index</td><td>202</td></tr>\n",
       "                      <tr><td>Interval</td><td>33052587-33059320 (6733)</td></tr>\n",
       "                      <tr><td>Roots</td><td>1</td></tr>\n",
       "                      <tr><td>Nodes</td><td>21</td></tr>\n",
       "                      <tr><td>Sites</td><td>10</td></tr>\n",
       "                      <tr><td>Mutations</td><td>12</td></tr>\n",
       "                      <tr><td>Total Branch Length</td><td>175880.99</td></tr>\n",
       "                    </tbody>\n",
       "                  </table>\n",
       "                </div>\n",
       "              </div>\n",
       "            </div>\n",
       "            "
      ],
      "text/plain": [
       "<tskit.trees.Tree at 0x7fc8f29172d0>"
      ]
     },
     "execution_count": 21,
     "metadata": {},
     "output_type": "execute_result"
    }
   ],
   "source": [
    "ts_small.at_index(202)"
   ]
  },
  {
   "cell_type": "code",
   "execution_count": 22,
   "id": "6127c360",
   "metadata": {},
   "outputs": [
    {
     "data": {
      "image/svg+xml": [
       "<svg baseProfile=\"full\" height=\"250\" version=\"1.1\" width=\"950\" xmlns=\"http://www.w3.org/2000/svg\" xmlns:ev=\"http://www.w3.org/2001/xml-events\" xmlns:xlink=\"http://www.w3.org/1999/xlink\"><defs><style type=\"text/css\"><![CDATA[.background path {fill: #808080; fill-opacity: 0}.background path:nth-child(odd) {fill-opacity: .1}.axes {font-size: 14px}.x-axis .tick .lab {font-weight: bold; dominant-baseline: hanging}.axes, .tree {font-size: 14px; text-anchor: middle}.axes line, .edge {stroke: black; fill: none}.axes .ax-skip {stroke-dasharray: 4}.y-axis .grid {stroke: #FAFAFA}.node > .sym {fill: black; stroke: none}.site > .sym {stroke: black}.mut text {fill: red; font-style: italic}.mut.extra text {fill: hotpink}.mut line {fill: none; stroke: none}.mut .sym {fill: none; stroke: red}.mut.extra .sym {stroke: hotpink}.node .mut .sym {stroke-width: 1.5px}.tree text, .tree-sequence text {dominant-baseline: central}.plotbox .lab.lft {text-anchor: end}.plotbox .lab.rgt {text-anchor: start}.node > .lab {font-size: 80%}.leaf > .lab {text-anchor: start; transform: rotate(90deg) translate(6px)}]]></style></defs><g class=\"tree-sequence\"><g class=\"background\"><path d=\"M56.8,0 l436.6,0 l0,188.2 l273.794,25 l0,5 l-710.394,0 l0,-5 l0,-25 l0,-188.2z\" /><path d=\"M493.4,0 l436.6,0 l0,188.2 l0,25 l0,5 l-162.806,0 l0,-5 l-273.794,-25 l0,-188.2z\" /></g><g class=\"axes\"><g class=\"x-axis\"><g class=\"title\" transform=\"translate(493.4 250)\"><text class=\"lab\" text-anchor=\"middle\" transform=\"translate(0 -11)\">Genome position</text></g><line class=\"ax-line\" x1=\"56.8\" x2=\"930\" y1=\"213.2\" y2=\"213.2\" /><g class=\"ticks\"><g class=\"tick\" transform=\"translate(56.8 213.2)\"><line x1=\"0\" x2=\"0\" y1=\"0\" y2=\"5\" /><g transform=\"translate(0 6)\"><text class=\"lab\">32741596</text></g></g><g class=\"tick\" transform=\"translate(767.194 213.2)\"><line x1=\"0\" x2=\"0\" y1=\"0\" y2=\"5\" /><g transform=\"translate(0 6)\"><text class=\"lab\">32747875</text></g></g><g class=\"tick\" transform=\"translate(930 213.2)\"><line x1=\"0\" x2=\"0\" y1=\"0\" y2=\"5\" /><g transform=\"translate(0 6)\"><text class=\"lab\">32749314</text></g></g></g><g class=\"site s2605\" transform=\"translate(70.8291 213.2)\"><line class=\"sym\" x1=\"0\" x2=\"0\" y1=\"0\" y2=\"-10\" /><g class=\"mut m3026\"><polyline class=\"sym\" points=\"2.5,-6.5 0,-1.5 -2.5,-6.5\" /></g></g><g class=\"site s2606\" transform=\"translate(90.9677 213.2)\"><line class=\"sym\" x1=\"0\" x2=\"0\" y1=\"0\" y2=\"-10\" /><g class=\"mut m3027\"><polyline class=\"sym\" points=\"2.5,-6.5 0,-1.5 -2.5,-6.5\" /></g></g><g class=\"site s2607\" transform=\"translate(98.4348 213.2)\"><line class=\"sym\" x1=\"0\" x2=\"0\" y1=\"0\" y2=\"-10\" /><g class=\"mut m3028\"><polyline class=\"sym\" points=\"2.5,-6.5 0,-1.5 -2.5,-6.5\" /></g></g><g class=\"site s2608\" transform=\"translate(102.055 213.2)\"><line class=\"sym\" x1=\"0\" x2=\"0\" y1=\"0\" y2=\"-10\" /><g class=\"mut m3029\"><polyline class=\"sym\" points=\"2.5,-6.5 0,-1.5 -2.5,-6.5\" /></g></g><g class=\"site s2609\" transform=\"translate(118.687 213.2)\"><line class=\"sym\" x1=\"0\" x2=\"0\" y1=\"0\" y2=\"-10\" /><g class=\"mut m3030\"><polyline class=\"sym\" points=\"2.5,-6.5 0,-1.5 -2.5,-6.5\" /></g></g><g class=\"site s2610\" transform=\"translate(137.467 213.2)\"><line class=\"sym\" x1=\"0\" x2=\"0\" y1=\"0\" y2=\"-10\" /><g class=\"mut m3031\"><polyline class=\"sym\" points=\"2.5,-6.5 0,-1.5 -2.5,-6.5\" /></g></g><g class=\"site s2611\" transform=\"translate(171.183 213.2)\"><line class=\"sym\" x1=\"0\" x2=\"0\" y1=\"0\" y2=\"-10\" /><g class=\"mut m3032\"><polyline class=\"sym\" points=\"2.5,-6.5 0,-1.5 -2.5,-6.5\" /></g></g><g class=\"site s2612\" transform=\"translate(193.697 213.2)\"><line class=\"sym\" x1=\"0\" x2=\"0\" y1=\"0\" y2=\"-10\" /><g class=\"mut m3033\"><polyline class=\"sym\" points=\"2.5,-6.5 0,-1.5 -2.5,-6.5\" /></g></g><g class=\"site s2613\" transform=\"translate(244.836 213.2)\"><line class=\"sym\" x1=\"0\" x2=\"0\" y1=\"0\" y2=\"-10\" /><g class=\"mut m3034\"><polyline class=\"sym\" points=\"2.5,-6.5 0,-1.5 -2.5,-6.5\" /></g></g><g class=\"site s2614\" transform=\"translate(274.93 213.2)\"><line class=\"sym\" x1=\"0\" x2=\"0\" y1=\"0\" y2=\"-10\" /><g class=\"mut m3035\"><polyline class=\"sym\" points=\"2.5,-6.5 0,-1.5 -2.5,-6.5\" /></g></g><g class=\"site s2615\" transform=\"translate(386.937 213.2)\"><line class=\"sym\" x1=\"0\" x2=\"0\" y1=\"0\" y2=\"-10\" /><g class=\"mut m3036\"><polyline class=\"sym\" points=\"2.5,-6.5 0,-1.5 -2.5,-6.5\" /></g></g><g class=\"site s2616\" transform=\"translate(407.981 213.2)\"><line class=\"sym\" x1=\"0\" x2=\"0\" y1=\"0\" y2=\"-10\" /><g class=\"mut m3037\"><polyline class=\"sym\" points=\"2.5,-6.5 0,-1.5 -2.5,-6.5\" /></g></g><g class=\"site s2617\" transform=\"translate(440.225 213.2)\"><line class=\"sym\" x1=\"0\" x2=\"0\" y1=\"0\" y2=\"-10\" /><g class=\"mut m3038\"><polyline class=\"sym\" points=\"2.5,-6.5 0,-1.5 -2.5,-6.5\" /></g></g><g class=\"site s2618\" transform=\"translate(552.911 213.2)\"><line class=\"sym\" x1=\"0\" x2=\"0\" y1=\"0\" y2=\"-10\" /><g class=\"mut m3039\"><polyline class=\"sym\" points=\"2.5,-6.5 0,-1.5 -2.5,-6.5\" /></g></g><g class=\"site s2619\" transform=\"translate(553.137 213.2)\"><line class=\"sym\" x1=\"0\" x2=\"0\" y1=\"0\" y2=\"-10\" /><g class=\"mut m3040\"><polyline class=\"sym\" points=\"2.5,-6.5 0,-1.5 -2.5,-6.5\" /></g></g><g class=\"site s2620\" transform=\"translate(605.972 213.2)\"><line class=\"sym\" x1=\"0\" x2=\"0\" y1=\"0\" y2=\"-10\" /><g class=\"mut m3041\"><polyline class=\"sym\" points=\"2.5,-6.5 0,-1.5 -2.5,-6.5\" /></g></g><g class=\"site s2621\" transform=\"translate(641.837 213.2)\"><line class=\"sym\" x1=\"0\" x2=\"0\" y1=\"0\" y2=\"-10\" /><g class=\"mut m3042\"><polyline class=\"sym\" points=\"2.5,-6.5 0,-1.5 -2.5,-6.5\" /></g></g><g class=\"site s2622\" transform=\"translate(651.907 213.2)\"><line class=\"sym\" x1=\"0\" x2=\"0\" y1=\"0\" y2=\"-10\" /><g class=\"mut m3043\"><polyline class=\"sym\" points=\"2.5,-6.5 0,-1.5 -2.5,-6.5\" /></g></g><g class=\"site s2623\" transform=\"translate(692.41 213.2)\"><line class=\"sym\" x1=\"0\" x2=\"0\" y1=\"0\" y2=\"-10\" /><g class=\"mut m3044\"><polyline class=\"sym\" points=\"2.5,-6.5 0,-1.5 -2.5,-6.5\" /></g></g><g class=\"site s2624\" transform=\"translate(702.932 213.2)\"><line class=\"sym\" x1=\"0\" x2=\"0\" y1=\"0\" y2=\"-10\" /><g class=\"mut m3045\"><polyline class=\"sym\" points=\"2.5,-6.5 0,-1.5 -2.5,-6.5\" /></g></g><g class=\"site s2625\" transform=\"translate(707.91 213.2)\"><line class=\"sym\" x1=\"0\" x2=\"0\" y1=\"0\" y2=\"-10\" /><g class=\"mut m3047\"><polyline class=\"sym\" points=\"2.5,-6.5 0,-1.5 -2.5,-6.5\" /></g><g class=\"mut m3046\"><polyline class=\"sym\" points=\"2.5,-10.5 0,-5.5 -2.5,-10.5\" /></g></g><g class=\"site s2626\" transform=\"translate(717.979 213.2)\"><line class=\"sym\" x1=\"0\" x2=\"0\" y1=\"0\" y2=\"-10\" /><g class=\"mut m3048\"><polyline class=\"sym\" points=\"2.5,-6.5 0,-1.5 -2.5,-6.5\" /></g></g><g class=\"site s2627\" transform=\"translate(721.26 213.2)\"><line class=\"sym\" x1=\"0\" x2=\"0\" y1=\"0\" y2=\"-10\" /><g class=\"mut m3049\"><polyline class=\"sym\" points=\"2.5,-6.5 0,-1.5 -2.5,-6.5\" /></g></g><g class=\"site s2628\" transform=\"translate(800.796 213.2)\"><line class=\"sym\" x1=\"0\" x2=\"0\" y1=\"0\" y2=\"-10\" /><g class=\"mut m3050\"><polyline class=\"sym\" points=\"2.5,-6.5 0,-1.5 -2.5,-6.5\" /></g></g><g class=\"site s2629\" transform=\"translate(857.818 213.2)\"><line class=\"sym\" x1=\"0\" x2=\"0\" y1=\"0\" y2=\"-10\" /><g class=\"mut m3053\"><polyline class=\"sym\" points=\"2.5,-6.5 0,-1.5 -2.5,-6.5\" /></g><g class=\"mut m3052\"><polyline class=\"sym\" points=\"2.5,-10.5 0,-5.5 -2.5,-10.5\" /></g><g class=\"mut m3051\"><polyline class=\"sym\" points=\"2.5,-14.5 0,-9.5 -2.5,-14.5\" /></g></g><g class=\"site s2630\" transform=\"translate(857.931 213.2)\"><line class=\"sym\" x1=\"0\" x2=\"0\" y1=\"0\" y2=\"-10\" /><g class=\"mut m3054\"><polyline class=\"sym\" points=\"2.5,-6.5 0,-1.5 -2.5,-6.5\" /></g></g><g class=\"site s2631\" transform=\"translate(858.497 213.2)\"><line class=\"sym\" x1=\"0\" x2=\"0\" y1=\"0\" y2=\"-10\" /><g class=\"mut m3055\"><polyline class=\"sym\" points=\"2.5,-6.5 0,-1.5 -2.5,-6.5\" /></g></g><g class=\"site s2632\" transform=\"translate(860.081 213.2)\"><line class=\"sym\" x1=\"0\" x2=\"0\" y1=\"0\" y2=\"-10\" /><g class=\"mut m3056\"><polyline class=\"sym\" points=\"2.5,-6.5 0,-1.5 -2.5,-6.5\" /></g></g><g class=\"site s2633\" transform=\"translate(879.767 213.2)\"><line class=\"sym\" x1=\"0\" x2=\"0\" y1=\"0\" y2=\"-10\" /><g class=\"mut m3057\"><polyline class=\"sym\" points=\"2.5,-6.5 0,-1.5 -2.5,-6.5\" /></g></g><g class=\"site s2634\" transform=\"translate(888.478 213.2)\"><line class=\"sym\" x1=\"0\" x2=\"0\" y1=\"0\" y2=\"-10\" /><g class=\"mut m3058\"><polyline class=\"sym\" points=\"2.5,-6.5 0,-1.5 -2.5,-6.5\" /></g></g><g class=\"site s2635\" transform=\"translate(911.898 213.2)\"><line class=\"sym\" x1=\"0\" x2=\"0\" y1=\"0\" y2=\"-10\" /><g class=\"mut m3059\"><polyline class=\"sym\" points=\"2.5,-6.5 0,-1.5 -2.5,-6.5\" /></g></g></g><g class=\"y-axis\"><g class=\"title\" transform=\"translate(0 90.7)\"><text class=\"lab\" text-anchor=\"middle\" transform=\"translate(11) rotate(-90)\">Time</text></g><line class=\"ax-line\" x1=\"56.8\" x2=\"56.8\" y1=\"171.4\" y2=\"10\" /><g class=\"ticks\"><g class=\"tick\" transform=\"translate(56.8 171.397)\"><line class=\"grid\" x1=\"0\" x2=\"873.2\" y1=\"0\" y2=\"0\" /><line x1=\"0\" x2=\"-5\" y1=\"0\" y2=\"0\" /><g transform=\"translate(-6 0)\"><text class=\"lab\" text-anchor=\"end\">1</text></g></g><g class=\"tick\" transform=\"translate(56.8 146.222)\"><line class=\"grid\" x1=\"0\" x2=\"873.2\" y1=\"0\" y2=\"0\" /><line x1=\"0\" x2=\"-5\" y1=\"0\" y2=\"0\" /><g transform=\"translate(-6 0)\"><text class=\"lab\" text-anchor=\"end\">10000</text></g></g><g class=\"tick\" transform=\"translate(56.8 158.811)\"><line class=\"grid\" x1=\"0\" x2=\"873.2\" y1=\"0\" y2=\"0\" /><line x1=\"0\" x2=\"-5\" y1=\"0\" y2=\"0\" /><g transform=\"translate(-6 0)\"><text class=\"lab\" text-anchor=\"end\">5000</text></g></g><g class=\"tick\" transform=\"translate(56.8 95.8647)\"><line class=\"grid\" x1=\"0\" x2=\"873.2\" y1=\"0\" y2=\"0\" /><line x1=\"0\" x2=\"-5\" y1=\"0\" y2=\"0\" /><g transform=\"translate(-6 0)\"><text class=\"lab\" text-anchor=\"end\">30000</text></g></g><g class=\"tick\" transform=\"translate(56.8 20.3293)\"><line class=\"grid\" x1=\"0\" x2=\"873.2\" y1=\"0\" y2=\"0\" /><line x1=\"0\" x2=\"-5\" y1=\"0\" y2=\"0\" /><g transform=\"translate(-6 0)\"><text class=\"lab\" text-anchor=\"end\">60000</text></g></g></g></g></g><g class=\"plotbox trees\"><g class=\"tree t149\" transform=\"translate(56.8 0)\"><g class=\"plotbox\"><g class=\"c2 m3034 m3037 m3042 m3043 m3044 m3045 node n10142 root s2613 s2616 s2621 s2622 s2623 s2624\" transform=\"translate(180.086 27.9333)\"><g class=\"a10142 c2 m3032 m3033 m3035 node n7534 s2611 s2612 s2614\" transform=\"translate(-73.3297 70.0278)\"><g class=\"a7534 i0 leaf m3047 node n10 p3 s2625 sample\" transform=\"translate(28.9188 73.4389)\"><path class=\"edge\" d=\"M 0 0 V -73.4389 H -28.9188\" /><g class=\"mut m3047 s2625 unknown_time\" transform=\"translate(0 -36.7194)\"><line x1=\"0\" x2=\"0\" y1=\"0\" y2=\"36.7194\" /><path class=\"sym\" d=\"M -3,-3 l 6,6 M -3,3 l 6,-6\" /><text class=\"lab rgt\" transform=\"translate(5 0)\">3047</text></g><rect class=\"sym\" height=\"6\" width=\"6\" x=\"-3\" y=\"-3\" /><text class=\"lab\" transform=\"translate(0 11)\">2622</text></g><g class=\"a7534 c2 m3046 node n2267 s2625\" transform=\"translate(-28.9188 54.0991)\"><g class=\"a2267 i5 leaf m3028 node n6 p5 s2607 sample\" transform=\"translate(24.7875 19.3398)\"><path class=\"edge\" d=\"M 0 0 V -19.3398 H -24.7875\" /><g class=\"mut m3028 s2607 unknown_time\" transform=\"translate(0 -9.66989)\"><line x1=\"0\" x2=\"0\" y1=\"0\" y2=\"9.66989\" /><path class=\"sym\" d=\"M -3,-3 l 6,6 M -3,3 l 6,-6\" /><text class=\"lab rgt\" transform=\"translate(5 0)\">3028</text></g><rect class=\"sym\" height=\"6\" width=\"6\" x=\"-3\" y=\"-3\" /><text class=\"lab\" transform=\"translate(0 11)\">6912</text></g><g class=\"a2267 c2 m3036 node n227 s2615\" transform=\"translate(-24.7875 15.2472)\"><g class=\"a227 i1 leaf m3029 node n0 p1 s2608 sample\" transform=\"translate(-16.525 4.09259)\"><path class=\"edge\" d=\"M 0 0 V -4.09259 H 16.525\" /><g class=\"mut m3029 s2608 unknown_time\" transform=\"translate(0 -2.04629)\"><line x1=\"0\" x2=\"0\" y1=\"0\" y2=\"2.04629\" /><path class=\"sym\" d=\"M -3,-3 l 6,6 M -3,3 l 6,-6\" /><text class=\"lab lft\" transform=\"translate(-5 0)\">3029</text></g><rect class=\"sym\" height=\"6\" width=\"6\" x=\"-3\" y=\"-3\" /><text class=\"lab\" transform=\"translate(0 11)\">3136</text></g><g class=\"a227 i4 leaf node n2 p0 sample\" transform=\"translate(16.525 4.09259)\"><path class=\"edge\" d=\"M 0 0 V -4.09259 H -16.525\" /><rect class=\"sym\" height=\"6\" width=\"6\" x=\"-3\" y=\"-3\" /><text class=\"lab\" transform=\"translate(0 11)\">5746</text></g><path class=\"edge\" d=\"M 0 0 V -15.2472 H 24.7875\" /><g class=\"mut m3036 s2615 unknown_time\" transform=\"translate(0 -7.62359)\"><line x1=\"0\" x2=\"0\" y1=\"0\" y2=\"7.62359\" /><path class=\"sym\" d=\"M -3,-3 l 6,6 M -3,3 l 6,-6\" /><text class=\"lab lft\" transform=\"translate(-5 0)\">3036</text></g><circle class=\"sym\" cx=\"0\" cy=\"0\" r=\"3\" /><text class=\"lab lft\" transform=\"translate(-3 -7.0)\" /></g><path class=\"edge\" d=\"M 0 0 V -54.0991 H 28.9188\" /><g class=\"mut m3046 s2625 unknown_time\" transform=\"translate(0 -27.0496)\"><line x1=\"0\" x2=\"0\" y1=\"0\" y2=\"27.0496\" /><path class=\"sym\" d=\"M -3,-3 l 6,6 M -3,3 l 6,-6\" /><text class=\"lab lft\" transform=\"translate(-5 0)\">3046</text></g><circle class=\"sym\" cx=\"0\" cy=\"0\" r=\"3\" /><text class=\"lab lft\" transform=\"translate(-3 -7.0)\" /></g><path class=\"edge\" d=\"M 0 0 V -70.0278 H 73.3297\" /><g class=\"mut m3032 s2611 unknown_time\" transform=\"translate(0 -52.5208)\"><line x1=\"0\" x2=\"0\" y1=\"0\" y2=\"52.5208\" /><path class=\"sym\" d=\"M -3,-3 l 6,6 M -3,3 l 6,-6\" /><text class=\"lab lft\" transform=\"translate(-5 0)\">3032</text></g><g class=\"mut m3033 s2612 unknown_time\" transform=\"translate(0 -35.0139)\"><line x1=\"0\" x2=\"0\" y1=\"0\" y2=\"35.0139\" /><path class=\"sym\" d=\"M -3,-3 l 6,6 M -3,3 l 6,-6\" /><text class=\"lab lft\" transform=\"translate(-5 0)\">3033</text></g><g class=\"mut m3035 s2614 unknown_time\" transform=\"translate(0 -17.5069)\"><line x1=\"0\" x2=\"0\" y1=\"0\" y2=\"17.5069\" /><path class=\"sym\" d=\"M -3,-3 l 6,6 M -3,3 l 6,-6\" /><text class=\"lab lft\" transform=\"translate(-5 0)\">3035</text></g><circle class=\"sym\" cx=\"0\" cy=\"0\" r=\"3\" /><text class=\"lab lft\" transform=\"translate(-3 -7.0)\" /></g><g class=\"a10142 c2 m3027 m3031 node n8559 s2606 s2610\" transform=\"translate(73.3297 55.7102)\"><g class=\"a8559 c2 m3030 m3038 node n2341 s2609 s2617\" transform=\"translate(-59.9031 67.3704)\"><g class=\"a2341 i1 leaf node n1 p1 sample\" transform=\"translate(-24.7875 20.386)\"><path class=\"edge\" d=\"M 0 0 V -20.386 H 24.7875\" /><rect class=\"sym\" height=\"6\" width=\"6\" x=\"-3\" y=\"-3\" /><text class=\"lab\" transform=\"translate(0 11)\">3137</text></g><g class=\"a2341 c2 node n786\" transform=\"translate(24.7875 9.46242)\"><g class=\"a786 i3 leaf node n5 p4 sample\" transform=\"translate(-16.525 10.9236)\"><path class=\"edge\" d=\"M 0 0 V -10.9236 H 16.525\" /><rect class=\"sym\" height=\"6\" width=\"6\" x=\"-3\" y=\"-3\" /><text class=\"lab\" transform=\"translate(0 11)\">3659</text></g><g class=\"a786 i2 leaf m3040 node n9 p2 s2619 sample\" transform=\"translate(16.525 10.9236)\"><path class=\"edge\" d=\"M 0 0 V -10.9236 H -16.525\" /><g class=\"mut m3040 s2619 unknown_time\" transform=\"translate(0 -5.4618)\"><line x1=\"0\" x2=\"0\" y1=\"0\" y2=\"5.4618\" /><path class=\"sym\" d=\"M -3,-3 l 6,6 M -3,3 l 6,-6\" /><text class=\"lab rgt\" transform=\"translate(5 0)\">3040</text></g><rect class=\"sym\" height=\"6\" width=\"6\" x=\"-3\" y=\"-3\" /><text class=\"lab\" transform=\"translate(0 11)\">3189</text></g><path class=\"edge\" d=\"M 0 0 V -9.46242 H -24.7875\" /><circle class=\"sym\" cx=\"0\" cy=\"0\" r=\"3\" /><text class=\"lab rgt\" transform=\"translate(3 -7.0)\" /></g><path class=\"edge\" d=\"M 0 0 V -67.3704 H 59.9031\" /><g class=\"mut m3030 s2609 unknown_time\" transform=\"translate(0 -44.9136)\"><line x1=\"0\" x2=\"0\" y1=\"0\" y2=\"44.9136\" /><path class=\"sym\" d=\"M -3,-3 l 6,6 M -3,3 l 6,-6\" /><text class=\"lab lft\" transform=\"translate(-5 0)\">3030</text></g><g class=\"mut m3038 s2617 unknown_time\" transform=\"translate(0 -22.4568)\"><line x1=\"0\" x2=\"0\" y1=\"0\" y2=\"22.4568\" /><path class=\"sym\" d=\"M -3,-3 l 6,6 M -3,3 l 6,-6\" /><text class=\"lab lft\" transform=\"translate(-5 0)\">3038</text></g><circle class=\"sym\" cx=\"0\" cy=\"0\" r=\"3\" /><text class=\"lab lft\" transform=\"translate(-3 -7.0)\" /></g><g class=\"a8559 c2 m3039 m3048 m3049 node n4878 s2618 s2626 s2627\" transform=\"translate(59.9031 48.7103)\"><g class=\"a4878 i4 leaf node n3 p0 sample\" transform=\"translate(-45.4437 39.0462)\"><path class=\"edge\" d=\"M 0 0 V -39.0462 H 45.4437\" /><rect class=\"sym\" height=\"6\" width=\"6\" x=\"-3\" y=\"-3\" /><text class=\"lab\" transform=\"translate(0 11)\">5747</text></g><g class=\"a4878 c3 m3041 node n3458 s2620\" transform=\"translate(45.4438 11.323)\"><g class=\"a3458 i5 leaf node n7 p5 sample\" transform=\"translate(8.2625 27.7232)\"><path class=\"edge\" d=\"M 0 0 V -27.7232 H -8.2625\" /><rect class=\"sym\" height=\"6\" width=\"6\" x=\"-3\" y=\"-3\" /><text class=\"lab\" transform=\"translate(0 11)\">6913</text></g><g class=\"a3458 i2 leaf m3026 node n8 p2 s2605 sample\" transform=\"translate(41.3125 27.7232)\"><path class=\"edge\" d=\"M 0 0 V -27.7232 H -41.3125\" /><g class=\"mut m3026 s2605 unknown_time\" transform=\"translate(0 -13.8616)\"><line x1=\"0\" x2=\"0\" y1=\"0\" y2=\"13.8616\" /><path class=\"sym\" d=\"M -3,-3 l 6,6 M -3,3 l 6,-6\" /><text class=\"lab rgt\" transform=\"translate(5 0)\">3026</text></g><rect class=\"sym\" height=\"6\" width=\"6\" x=\"-3\" y=\"-3\" /><text class=\"lab\" transform=\"translate(0 11)\">3188</text></g><g class=\"a3458 c2 node n3402\" transform=\"translate(-41.3125 1.00714e-08)\"><g class=\"a3402 i3 leaf node n4 p4 sample\" transform=\"translate(-16.525 27.7232)\"><path class=\"edge\" d=\"M 0 0 V -27.7232 H 16.525\" /><rect class=\"sym\" height=\"6\" width=\"6\" x=\"-3\" y=\"-3\" /><text class=\"lab\" transform=\"translate(0 11)\">3658</text></g><g class=\"a3402 i0 leaf node n11 p3 sample\" transform=\"translate(16.525 27.7232)\"><path class=\"edge\" d=\"M 0 0 V -27.7232 H -16.525\" /><rect class=\"sym\" height=\"6\" width=\"6\" x=\"-3\" y=\"-3\" /><text class=\"lab\" transform=\"translate(0 11)\">2623</text></g><path class=\"edge\" d=\"M 0 0 V -1.00714e-08 H 41.3125\" /><circle class=\"sym\" cx=\"0\" cy=\"0\" r=\"3\" /><text class=\"lab lft\" transform=\"translate(-3 -7.0)\" /></g><path class=\"edge\" d=\"M 0 0 V -11.323 H -45.4438\" /><g class=\"mut m3041 s2620 unknown_time\" transform=\"translate(0 -5.66151)\"><line x1=\"0\" x2=\"0\" y1=\"0\" y2=\"5.66151\" /><path class=\"sym\" d=\"M -3,-3 l 6,6 M -3,3 l 6,-6\" /><text class=\"lab rgt\" transform=\"translate(5 0)\">3041</text></g><circle class=\"sym\" cx=\"0\" cy=\"0\" r=\"3\" /><text class=\"lab rgt\" transform=\"translate(3 -7.0)\" /></g><path class=\"edge\" d=\"M 0 0 V -48.7103 H -59.9031\" /><g class=\"mut m3039 s2618 unknown_time\" transform=\"translate(0 -36.5327)\"><line x1=\"0\" x2=\"0\" y1=\"0\" y2=\"36.5327\" /><path class=\"sym\" d=\"M -3,-3 l 6,6 M -3,3 l 6,-6\" /><text class=\"lab rgt\" transform=\"translate(5 0)\">3039</text></g><g class=\"mut m3048 s2626 unknown_time\" transform=\"translate(0 -24.3551)\"><line x1=\"0\" x2=\"0\" y1=\"0\" y2=\"24.3551\" /><path class=\"sym\" d=\"M -3,-3 l 6,6 M -3,3 l 6,-6\" /><text class=\"lab rgt\" transform=\"translate(5 0)\">3048</text></g><g class=\"mut m3049 s2627 unknown_time\" transform=\"translate(0 -12.1776)\"><line x1=\"0\" x2=\"0\" y1=\"0\" y2=\"12.1776\" /><path class=\"sym\" d=\"M -3,-3 l 6,6 M -3,3 l 6,-6\" /><text class=\"lab rgt\" transform=\"translate(5 0)\">3049</text></g><circle class=\"sym\" cx=\"0\" cy=\"0\" r=\"3\" /><text class=\"lab rgt\" transform=\"translate(3 -7.0)\" /></g><path class=\"edge\" d=\"M 0 0 V -55.7102 H -73.3297\" /><g class=\"mut m3027 s2606 unknown_time\" transform=\"translate(0 -37.1402)\"><line x1=\"0\" x2=\"0\" y1=\"0\" y2=\"37.1402\" /><path class=\"sym\" d=\"M -3,-3 l 6,6 M -3,3 l 6,-6\" /><text class=\"lab rgt\" transform=\"translate(5 0)\">3027</text></g><g class=\"mut m3031 s2610 unknown_time\" transform=\"translate(0 -18.5701)\"><line x1=\"0\" x2=\"0\" y1=\"0\" y2=\"18.5701\" /><path class=\"sym\" d=\"M -3,-3 l 6,6 M -3,3 l 6,-6\" /><text class=\"lab rgt\" transform=\"translate(5 0)\">3031</text></g><circle class=\"sym\" cx=\"0\" cy=\"0\" r=\"3\" /><text class=\"lab rgt\" transform=\"translate(3 -7.0)\" /></g><path class=\"edge\" d=\"M 0 0 V -17.9333 H 0\" /><g class=\"mut m3034 s2613 unknown_time\" transform=\"translate(0 -15.3714)\"><line x1=\"0\" x2=\"0\" y1=\"0\" y2=\"15.3714\" /><path class=\"sym\" d=\"M -3,-3 l 6,6 M -3,3 l 6,-6\" /><text class=\"lab rgt\" transform=\"translate(5 0)\">3034</text></g><g class=\"mut m3037 s2616 unknown_time\" transform=\"translate(0 -12.8095)\"><line x1=\"0\" x2=\"0\" y1=\"0\" y2=\"12.8095\" /><path class=\"sym\" d=\"M -3,-3 l 6,6 M -3,3 l 6,-6\" /><text class=\"lab rgt\" transform=\"translate(5 0)\">3037</text></g><g class=\"mut m3042 s2621 unknown_time\" transform=\"translate(0 -10.2476)\"><line x1=\"0\" x2=\"0\" y1=\"0\" y2=\"10.2476\" /><path class=\"sym\" d=\"M -3,-3 l 6,6 M -3,3 l 6,-6\" /><text class=\"lab rgt\" transform=\"translate(5 0)\">3042</text></g><g class=\"mut m3043 s2622 unknown_time\" transform=\"translate(0 -7.68571)\"><line x1=\"0\" x2=\"0\" y1=\"0\" y2=\"7.68571\" /><path class=\"sym\" d=\"M -3,-3 l 6,6 M -3,3 l 6,-6\" /><text class=\"lab rgt\" transform=\"translate(5 0)\">3043</text></g><g class=\"mut m3044 s2623 unknown_time\" transform=\"translate(0 -5.12381)\"><line x1=\"0\" x2=\"0\" y1=\"0\" y2=\"5.12381\" /><path class=\"sym\" d=\"M -3,-3 l 6,6 M -3,3 l 6,-6\" /><text class=\"lab rgt\" transform=\"translate(5 0)\">3044</text></g><g class=\"mut m3045 s2624 unknown_time\" transform=\"translate(0 -2.5619)\"><line x1=\"0\" x2=\"0\" y1=\"0\" y2=\"2.5619\" /><path class=\"sym\" d=\"M -3,-3 l 6,6 M -3,3 l 6,-6\" /><text class=\"lab rgt\" transform=\"translate(5 0)\">3045</text></g><circle class=\"sym\" cx=\"0\" cy=\"0\" r=\"3\" /><text class=\"lab rgt\" transform=\"translate(3 -7.0)\" /></g></g></g><g class=\"tree t150\" transform=\"translate(493.4 0)\"><g class=\"plotbox\"><g class=\"c2 m3058 node n10142 root s2634\" transform=\"translate(184.734 27.9333)\"><g class=\"a10142 c2 m3057 m3059 node n7534 s2633 s2635\" transform=\"translate(-77.9773 70.0278)\"><g class=\"a7534 i0 leaf m3050 node n10 p3 s2628 sample\" transform=\"translate(28.9188 73.4389)\"><path class=\"edge\" d=\"M 0 0 V -73.4389 H -28.9188\" /><g class=\"mut m3050 s2628 unknown_time\" transform=\"translate(0 -36.7194)\"><line x1=\"0\" x2=\"0\" y1=\"0\" y2=\"36.7194\" /><path class=\"sym\" d=\"M -3,-3 l 6,6 M -3,3 l 6,-6\" /><text class=\"lab rgt\" transform=\"translate(5 0)\">3050</text></g><rect class=\"sym\" height=\"6\" width=\"6\" x=\"-3\" y=\"-3\" /><text class=\"lab\" transform=\"translate(0 11)\">2622</text></g><g class=\"a7534 c2 node n2267\" transform=\"translate(-28.9188 54.0991)\"><g class=\"a2267 i5 leaf node n6 p5 sample\" transform=\"translate(24.7875 19.3398)\"><path class=\"edge\" d=\"M 0 0 V -19.3398 H -24.7875\" /><rect class=\"sym\" height=\"6\" width=\"6\" x=\"-3\" y=\"-3\" /><text class=\"lab\" transform=\"translate(0 11)\">6912</text></g><g class=\"a2267 c2 node n227\" transform=\"translate(-24.7875 15.2472)\"><g class=\"a227 i1 leaf node n0 p1 sample\" transform=\"translate(-16.525 4.09259)\"><path class=\"edge\" d=\"M 0 0 V -4.09259 H 16.525\" /><rect class=\"sym\" height=\"6\" width=\"6\" x=\"-3\" y=\"-3\" /><text class=\"lab\" transform=\"translate(0 11)\">3136</text></g><g class=\"a227 i4 leaf node n2 p0 sample\" transform=\"translate(16.525 4.09259)\"><path class=\"edge\" d=\"M 0 0 V -4.09259 H -16.525\" /><rect class=\"sym\" height=\"6\" width=\"6\" x=\"-3\" y=\"-3\" /><text class=\"lab\" transform=\"translate(0 11)\">5746</text></g><path class=\"edge\" d=\"M 0 0 V -15.2472 H 24.7875\" /><circle class=\"sym\" cx=\"0\" cy=\"0\" r=\"3\" /><text class=\"lab lft\" transform=\"translate(-3 -7.0)\" /></g><path class=\"edge\" d=\"M 0 0 V -54.0991 H 28.9188\" /><circle class=\"sym\" cx=\"0\" cy=\"0\" r=\"3\" /><text class=\"lab lft\" transform=\"translate(-3 -7.0)\" /></g><path class=\"edge\" d=\"M 0 0 V -70.0278 H 77.9773\" /><g class=\"mut m3057 s2633 unknown_time\" transform=\"translate(0 -46.6852)\"><line x1=\"0\" x2=\"0\" y1=\"0\" y2=\"46.6852\" /><path class=\"sym\" d=\"M -3,-3 l 6,6 M -3,3 l 6,-6\" /><text class=\"lab lft\" transform=\"translate(-5 0)\">3057</text></g><g class=\"mut m3059 s2635 unknown_time\" transform=\"translate(0 -23.3426)\"><line x1=\"0\" x2=\"0\" y1=\"0\" y2=\"23.3426\" /><path class=\"sym\" d=\"M -3,-3 l 6,6 M -3,3 l 6,-6\" /><text class=\"lab lft\" transform=\"translate(-5 0)\">3059</text></g><circle class=\"sym\" cx=\"0\" cy=\"0\" r=\"3\" /><text class=\"lab lft\" transform=\"translate(-3 -7.0)\" /></g><g class=\"a10142 c2 node n8559\" transform=\"translate(77.9773 55.7102)\"><g class=\"a8559 c2 node n2341\" transform=\"translate(-77.4609 67.3704)\"><g class=\"a2341 i1 leaf node n1 p1 sample\" transform=\"translate(-16.525 20.386)\"><path class=\"edge\" d=\"M 0 0 V -20.386 H 16.525\" /><rect class=\"sym\" height=\"6\" width=\"6\" x=\"-3\" y=\"-3\" /><text class=\"lab\" transform=\"translate(0 11)\">3137</text></g><g class=\"a2341 i3 leaf node n5 p4 sample\" transform=\"translate(16.525 20.386)\"><path class=\"edge\" d=\"M 0 0 V -20.386 H -16.525\" /><rect class=\"sym\" height=\"6\" width=\"6\" x=\"-3\" y=\"-3\" /><text class=\"lab\" transform=\"translate(0 11)\">3659</text></g><path class=\"edge\" d=\"M 0 0 V -67.3704 H 77.4609\" /><circle class=\"sym\" cx=\"0\" cy=\"0\" r=\"3\" /><text class=\"lab lft\" transform=\"translate(-3 -7.0)\" /></g><g class=\"a8559 c2 node n5156\" transform=\"translate(77.4609 45.8592)\"><g class=\"a5156 i2 leaf m3051 m3052 m3053 m3054 m3055 m3056 node n9 p2 s2629 s2630 s2631 s2632 sample\" transform=\"translate(59.9031 41.8972)\"><path class=\"edge\" d=\"M 0 0 V -41.8972 H -59.9031\" /><g class=\"mut m3051 s2629 unknown_time\" transform=\"translate(0 -35.9119)\"><line x1=\"0\" x2=\"0\" y1=\"0\" y2=\"35.9119\" /><path class=\"sym\" d=\"M -3,-3 l 6,6 M -3,3 l 6,-6\" /><text class=\"lab rgt\" transform=\"translate(5 0)\">3051</text></g><g class=\"mut m3052 s2629 unknown_time\" transform=\"translate(0 -29.9266)\"><line x1=\"0\" x2=\"0\" y1=\"0\" y2=\"29.9266\" /><path class=\"sym\" d=\"M -3,-3 l 6,6 M -3,3 l 6,-6\" /><text class=\"lab rgt\" transform=\"translate(5 0)\">3052</text></g><g class=\"mut m3053 s2629 unknown_time\" transform=\"translate(0 -23.9413)\"><line x1=\"0\" x2=\"0\" y1=\"0\" y2=\"23.9413\" /><path class=\"sym\" d=\"M -3,-3 l 6,6 M -3,3 l 6,-6\" /><text class=\"lab rgt\" transform=\"translate(5 0)\">3053</text></g><g class=\"mut m3054 s2630 unknown_time\" transform=\"translate(0 -17.956)\"><line x1=\"0\" x2=\"0\" y1=\"0\" y2=\"17.956\" /><path class=\"sym\" d=\"M -3,-3 l 6,6 M -3,3 l 6,-6\" /><text class=\"lab rgt\" transform=\"translate(5 0)\">3054</text></g><g class=\"mut m3055 s2631 unknown_time\" transform=\"translate(0 -11.9706)\"><line x1=\"0\" x2=\"0\" y1=\"0\" y2=\"11.9706\" /><path class=\"sym\" d=\"M -3,-3 l 6,6 M -3,3 l 6,-6\" /><text class=\"lab rgt\" transform=\"translate(5 0)\">3055</text></g><g class=\"mut m3056 s2632 unknown_time\" transform=\"translate(0 -5.98532)\"><line x1=\"0\" x2=\"0\" y1=\"0\" y2=\"5.98532\" /><path class=\"sym\" d=\"M -3,-3 l 6,6 M -3,3 l 6,-6\" /><text class=\"lab rgt\" transform=\"translate(5 0)\">3056</text></g><rect class=\"sym\" height=\"6\" width=\"6\" x=\"-3\" y=\"-3\" /><text class=\"lab\" transform=\"translate(0 11)\">3189</text></g><g class=\"a5156 c2 node n4878\" transform=\"translate(-59.9031 2.85105)\"><g class=\"a4878 i4 leaf node n3 p0 sample\" transform=\"translate(-45.4437 39.0462)\"><path class=\"edge\" d=\"M 0 0 V -39.0462 H 45.4437\" /><rect class=\"sym\" height=\"6\" width=\"6\" x=\"-3\" y=\"-3\" /><text class=\"lab\" transform=\"translate(0 11)\">5747</text></g><g class=\"a4878 c3 node n3458\" transform=\"translate(45.4438 11.323)\"><g class=\"a3458 i5 leaf node n7 p5 sample\" transform=\"translate(8.2625 27.7232)\"><path class=\"edge\" d=\"M 0 0 V -27.7232 H -8.2625\" /><rect class=\"sym\" height=\"6\" width=\"6\" x=\"-3\" y=\"-3\" /><text class=\"lab\" transform=\"translate(0 11)\">6913</text></g><g class=\"a3458 i2 leaf node n8 p2 sample\" transform=\"translate(41.3125 27.7232)\"><path class=\"edge\" d=\"M 0 0 V -27.7232 H -41.3125\" /><rect class=\"sym\" height=\"6\" width=\"6\" x=\"-3\" y=\"-3\" /><text class=\"lab\" transform=\"translate(0 11)\">3188</text></g><g class=\"a3458 c2 node n3402\" transform=\"translate(-41.3125 1.00714e-08)\"><g class=\"a3402 i3 leaf node n4 p4 sample\" transform=\"translate(-16.525 27.7232)\"><path class=\"edge\" d=\"M 0 0 V -27.7232 H 16.525\" /><rect class=\"sym\" height=\"6\" width=\"6\" x=\"-3\" y=\"-3\" /><text class=\"lab\" transform=\"translate(0 11)\">3658</text></g><g class=\"a3402 i0 leaf node n11 p3 sample\" transform=\"translate(16.525 27.7232)\"><path class=\"edge\" d=\"M 0 0 V -27.7232 H -16.525\" /><rect class=\"sym\" height=\"6\" width=\"6\" x=\"-3\" y=\"-3\" /><text class=\"lab\" transform=\"translate(0 11)\">2623</text></g><path class=\"edge\" d=\"M 0 0 V -1.00714e-08 H 41.3125\" /><circle class=\"sym\" cx=\"0\" cy=\"0\" r=\"3\" /><text class=\"lab lft\" transform=\"translate(-3 -7.0)\" /></g><path class=\"edge\" d=\"M 0 0 V -11.323 H -45.4438\" /><circle class=\"sym\" cx=\"0\" cy=\"0\" r=\"3\" /><text class=\"lab rgt\" transform=\"translate(3 -7.0)\" /></g><path class=\"edge\" d=\"M 0 0 V -2.85105 H 59.9031\" /><circle class=\"sym\" cx=\"0\" cy=\"0\" r=\"3\" /><text class=\"lab lft\" transform=\"translate(-3 -7.0)\" /></g><path class=\"edge\" d=\"M 0 0 V -45.8592 H -77.4609\" /><circle class=\"sym\" cx=\"0\" cy=\"0\" r=\"3\" /><text class=\"lab rgt\" transform=\"translate(3 -7.0)\" /></g><path class=\"edge\" d=\"M 0 0 V -55.7102 H -77.9773\" /><circle class=\"sym\" cx=\"0\" cy=\"0\" r=\"3\" /><text class=\"lab rgt\" transform=\"translate(3 -7.0)\" /></g><path class=\"edge\" d=\"M 0 0 V -17.9333 H 0\" /><g class=\"mut m3058 s2634 unknown_time\" transform=\"translate(0 -8.96667)\"><line x1=\"0\" x2=\"0\" y1=\"0\" y2=\"8.96667\" /><path class=\"sym\" d=\"M -3,-3 l 6,6 M -3,3 l 6,-6\" /><text class=\"lab rgt\" transform=\"translate(5 0)\">3058</text></g><circle class=\"sym\" cx=\"0\" cy=\"0\" r=\"3\" /><text class=\"lab rgt\" transform=\"translate(3 -7.0)\" /></g></g></g></g></g></svg>"
      ],
      "text/plain": [
       "'<svg baseProfile=\"full\" height=\"250\" version=\"1.1\" width=\"950\" xmlns=\"http://www.w3.org/2000/svg\" xmlns:ev=\"http://www.w3.org/2001/xml-events\" xmlns:xlink=\"http://www.w3.org/1999/xlink\"><defs><style type=\"text/css\"><![CDATA[.background path {fill: #808080; fill-opacity: 0}.background path:nth-child(odd) {fill-opacity: .1}.axes {font-size: 14px}.x-axis .tick .lab {font-weight: bold; dominant-baseline: hanging}.axes, .tree {font-size: 14px; text-anchor: middle}.axes line, .edge {stroke: black; fill: none}.axes .ax-skip {stroke-dasharray: 4}.y-axis .grid {stroke: #FAFAFA}.node > .sym {fill: black; stroke: none}.site > .sym {stroke: black}.mut text {fill: red; font-style: italic}.mut.extra text {fill: hotpink}.mut line {fill: none; stroke: none}.mut .sym {fill: none; stroke: red}.mut.extra .sym {stroke: hotpink}.node .mut .sym {stroke-width: 1.5px}.tree text, .tree-sequence text {dominant-baseline: central}.plotbox .lab.lft {text-anchor: end}.plotbox .lab.rgt {text-anchor: start}.node > .lab {font-size: 80%}.leaf > .lab {text-anchor: start; transform: rotate(90deg) translate(6px)}]]></style></defs><g class=\"tree-sequence\"><g class=\"background\"><path d=\"M56.8,0 l436.6,0 l0,188.2 l273.794,25 l0,5 l-710.394,0 l0,-5 l0,-25 l0,-188.2z\" /><path d=\"M493.4,0 l436.6,0 l0,188.2 l0,25 l0,5 l-162.806,0 l0,-5 l-273.794,-25 l0,-188.2z\" /></g><g class=\"axes\"><g class=\"x-axis\"><g class=\"title\" transform=\"translate(493.4 250)\"><text class=\"lab\" text-anchor=\"middle\" transform=\"translate(0 -11)\">Genome position</text></g><line class=\"ax-line\" x1=\"56.8\" x2=\"930\" y1=\"213.2\" y2=\"213.2\" /><g class=\"ticks\"><g class=\"tick\" transform=\"translate(56.8 213.2)\"><line x1=\"0\" x2=\"0\" y1=\"0\" y2=\"5\" /><g transform=\"translate(0 6)\"><text class=\"lab\">32741596</text></g></g><g class=\"tick\" transform=\"translate(767.194 213.2)\"><line x1=\"0\" x2=\"0\" y1=\"0\" y2=\"5\" /><g transform=\"translate(0 6)\"><text class=\"lab\">32747875</text></g></g><g class=\"tick\" transform=\"translate(930 213.2)\"><line x1=\"0\" x2=\"0\" y1=\"0\" y2=\"5\" /><g transform=\"translate(0 6)\"><text class=\"lab\">32749314</text></g></g></g><g class=\"site s2605\" transform=\"translate(70.8291 213.2)\"><line class=\"sym\" x1=\"0\" x2=\"0\" y1=\"0\" y2=\"-10\" /><g class=\"mut m3026\"><polyline class=\"sym\" points=\"2.5,-6.5 0,-1.5 -2.5,-6.5\" /></g></g><g class=\"site s2606\" transform=\"translate(90.9677 213.2)\"><line class=\"sym\" x1=\"0\" x2=\"0\" y1=\"0\" y2=\"-10\" /><g class=\"mut m3027\"><polyline class=\"sym\" points=\"2.5,-6.5 0,-1.5 -2.5,-6.5\" /></g></g><g class=\"site s2607\" transform=\"translate(98.4348 213.2)\"><line class=\"sym\" x1=\"0\" x2=\"0\" y1=\"0\" y2=\"-10\" /><g class=\"mut m3028\"><polyline class=\"sym\" points=\"2.5,-6.5 0,-1.5 -2.5,-6.5\" /></g></g><g class=\"site s2608\" transform=\"translate(102.055 213.2)\"><line class=\"sym\" x1=\"0\" x2=\"0\" y1=\"0\" y2=\"-10\" /><g class=\"mut m3029\"><polyline class=\"sym\" points=\"2.5,-6.5 0,-1.5 -2.5,-6.5\" /></g></g><g class=\"site s2609\" transform=\"translate(118.687 213.2)\"><line class=\"sym\" x1=\"0\" x2=\"0\" y1=\"0\" y2=\"-10\" /><g class=\"mut m3030\"><polyline class=\"sym\" points=\"2.5,-6.5 0,-1.5 -2.5,-6.5\" /></g></g><g class=\"site s2610\" transform=\"translate(137.467 213.2)\"><line class=\"sym\" x1=\"0\" x2=\"0\" y1=\"0\" y2=\"-10\" /><g class=\"mut m3031\"><polyline class=\"sym\" points=\"2.5,-6.5 0,-1.5 -2.5,-6.5\" /></g></g><g class=\"site s2611\" transform=\"translate(171.183 213.2)\"><line class=\"sym\" x1=\"0\" x2=\"0\" y1=\"0\" y2=\"-10\" /><g class=\"mut m3032\"><polyline class=\"sym\" points=\"2.5,-6.5 0,-1.5 -2.5,-6.5\" /></g></g><g class=\"site s2612\" transform=\"translate(193.697 213.2)\"><line class=\"sym\" x1=\"0\" x2=\"0\" y1=\"0\" y2=\"-10\" /><g class=\"mut m3033\"><polyline class=\"sym\" points=\"2.5,-6.5 0,-1.5 -2.5,-6.5\" /></g></g><g class=\"site s2613\" transform=\"translate(244.836 213.2)\"><line class=\"sym\" x1=\"0\" x2=\"0\" y1=\"0\" y2=\"-10\" /><g class=\"mut m3034\"><polyline class=\"sym\" points=\"2.5,-6.5 0,-1.5 -2.5,-6.5\" /></g></g><g class=\"site s2614\" transform=\"translate(274.93 213.2)\"><line class=\"sym\" x1=\"0\" x2=\"0\" y1=\"0\" y2=\"-10\" /><g class=\"mut m3035\"><polyline class=\"sym\" points=\"2.5,-6.5 0,-1.5 -2.5,-6.5\" /></g></g><g class=\"site s2615\" transform=\"translate(386.937 213.2)\"><line class=\"sym\" x1=\"0\" x2=\"0\" y1=\"0\" y2=\"-10\" /><g class=\"mut m3036\"><polyline class=\"sym\" points=\"2.5,-6.5 0,-1.5 -2.5,-6.5\" /></g></g><g class=\"site s2616\" transform=\"translate(407.981 213.2)\"><line class=\"sym\" x1=\"0\" x2=\"0\" y1=\"0\" y2=\"-10\" /><g class=\"mut m3037\"><polyline class=\"sym\" points=\"2.5,-6.5 0,-1.5 -2.5,-6.5\" /></g></g><g class=\"site s2617\" transform=\"translate(440.225 213.2)\"><line class=\"sym\" x1=\"0\" x2=\"0\" y1=\"0\" y2=\"-10\" /><g class=\"mut m3038\"><polyline class=\"sym\" points=\"2.5,-6.5 0,-1.5 -2.5,-6.5\" /></g></g><g class=\"site s2618\" transform=\"translate(552.911 213.2)\"><line class=\"sym\" x1=\"0\" x2=\"0\" y1=\"0\" y2=\"-10\" /><g class=\"mut m3039\"><polyline class=\"sym\" points=\"2.5,-6.5 0,-1.5 -2.5,-6.5\" /></g></g><g class=\"site s2619\" transform=\"translate(553.137 213.2)\"><line class=\"sym\" x1=\"0\" x2=\"0\" y1=\"0\" y2=\"-10\" /><g class=\"mut m3040\"><polyline class=\"sym\" points=\"2.5,-6.5 0,-1.5 -2.5,-6.5\" /></g></g><g class=\"site s2620\" transform=\"translate(605.972 213.2)\"><line class=\"sym\" x1=\"0\" x2=\"0\" y1=\"0\" y2=\"-10\" /><g class=\"mut m3041\"><polyline class=\"sym\" points=\"2.5,-6.5 0,-1.5 -2.5,-6.5\" /></g></g><g class=\"site s2621\" transform=\"translate(641.837 213.2)\"><line class=\"sym\" x1=\"0\" x2=\"0\" y1=\"0\" y2=\"-10\" /><g class=\"mut m3042\"><polyline class=\"sym\" points=\"2.5,-6.5 0,-1.5 -2.5,-6.5\" /></g></g><g class=\"site s2622\" transform=\"translate(651.907 213.2)\"><line class=\"sym\" x1=\"0\" x2=\"0\" y1=\"0\" y2=\"-10\" /><g class=\"mut m3043\"><polyline class=\"sym\" points=\"2.5,-6.5 0,-1.5 -2.5,-6.5\" /></g></g><g class=\"site s2623\" transform=\"translate(692.41 213.2)\"><line class=\"sym\" x1=\"0\" x2=\"0\" y1=\"0\" y2=\"-10\" /><g class=\"mut m3044\"><polyline class=\"sym\" points=\"2.5,-6.5 0,-1.5 -2.5,-6.5\" /></g></g><g class=\"site s2624\" transform=\"translate(702.932 213.2)\"><line class=\"sym\" x1=\"0\" x2=\"0\" y1=\"0\" y2=\"-10\" /><g class=\"mut m3045\"><polyline class=\"sym\" points=\"2.5,-6.5 0,-1.5 -2.5,-6.5\" /></g></g><g class=\"site s2625\" transform=\"translate(707.91 213.2)\"><line class=\"sym\" x1=\"0\" x2=\"0\" y1=\"0\" y2=\"-10\" /><g class=\"mut m3047\"><polyline class=\"sym\" points=\"2.5,-6.5 0,-1.5 -2.5,-6.5\" /></g><g class=\"mut m3046\"><polyline class=\"sym\" points=\"2.5,-10.5 0,-5.5 -2.5,-10.5\" /></g></g><g class=\"site s2626\" transform=\"translate(717.979 213.2)\"><line class=\"sym\" x1=\"0\" x2=\"0\" y1=\"0\" y2=\"-10\" /><g class=\"mut m3048\"><polyline class=\"sym\" points=\"2.5,-6.5 0,-1.5 -2.5,-6.5\" /></g></g><g class=\"site s2627\" transform=\"translate(721.26 213.2)\"><line class=\"sym\" x1=\"0\" x2=\"0\" y1=\"0\" y2=\"-10\" /><g class=\"mut m3049\"><polyline class=\"sym\" points=\"2.5,-6.5 0,-1.5 -2.5,-6.5\" /></g></g><g class=\"site s2628\" transform=\"translate(800.796 213.2)\"><line class=\"sym\" x1=\"0\" x2=\"0\" y1=\"0\" y2=\"-10\" /><g class=\"mut m3050\"><polyline class=\"sym\" points=\"2.5,-6.5 0,-1.5 -2.5,-6.5\" /></g></g><g class=\"site s2629\" transform=\"translate(857.818 213.2)\"><line class=\"sym\" x1=\"0\" x2=\"0\" y1=\"0\" y2=\"-10\" /><g class=\"mut m3053\"><polyline class=\"sym\" points=\"2.5,-6.5 0,-1.5 -2.5,-6.5\" /></g><g class=\"mut m3052\"><polyline class=\"sym\" points=\"2.5,-10.5 0,-5.5 -2.5,-10.5\" /></g><g class=\"mut m3051\"><polyline class=\"sym\" points=\"2.5,-14.5 0,-9.5 -2.5,-14.5\" /></g></g><g class=\"site s2630\" transform=\"translate(857.931 213.2)\"><line class=\"sym\" x1=\"0\" x2=\"0\" y1=\"0\" y2=\"-10\" /><g class=\"mut m3054\"><polyline class=\"sym\" points=\"2.5,-6.5 0,-1.5 -2.5,-6.5\" /></g></g><g class=\"site s2631\" transform=\"translate(858.497 213.2)\"><line class=\"sym\" x1=\"0\" x2=\"0\" y1=\"0\" y2=\"-10\" /><g class=\"mut m3055\"><polyline class=\"sym\" points=\"2.5,-6.5 0,-1.5 -2.5,-6.5\" /></g></g><g class=\"site s2632\" transform=\"translate(860.081 213.2)\"><line class=\"sym\" x1=\"0\" x2=\"0\" y1=\"0\" y2=\"-10\" /><g class=\"mut m3056\"><polyline class=\"sym\" points=\"2.5,-6.5 0,-1.5 -2.5,-6.5\" /></g></g><g class=\"site s2633\" transform=\"translate(879.767 213.2)\"><line class=\"sym\" x1=\"0\" x2=\"0\" y1=\"0\" y2=\"-10\" /><g class=\"mut m3057\"><polyline class=\"sym\" points=\"2.5,-6.5 0,-1.5 -2.5,-6.5\" /></g></g><g class=\"site s2634\" transform=\"translate(888.478 213.2)\"><line class=\"sym\" x1=\"0\" x2=\"0\" y1=\"0\" y2=\"-10\" /><g class=\"mut m3058\"><polyline class=\"sym\" points=\"2.5,-6.5 0,-1.5 -2.5,-6.5\" /></g></g><g class=\"site s2635\" transform=\"translate(911.898 213.2)\"><line class=\"sym\" x1=\"0\" x2=\"0\" y1=\"0\" y2=\"-10\" /><g class=\"mut m3059\"><polyline class=\"sym\" points=\"2.5,-6.5 0,-1.5 -2.5,-6.5\" /></g></g></g><g class=\"y-axis\"><g class=\"title\" transform=\"translate(0 90.7)\"><text class=\"lab\" text-anchor=\"middle\" transform=\"translate(11) rotate(-90)\">Time</text></g><line class=\"ax-line\" x1=\"56.8\" x2=\"56.8\" y1=\"171.4\" y2=\"10\" /><g class=\"ticks\"><g class=\"tick\" transform=\"translate(56.8 171.397)\"><line class=\"grid\" x1=\"0\" x2=\"873.2\" y1=\"0\" y2=\"0\" /><line x1=\"0\" x2=\"-5\" y1=\"0\" y2=\"0\" /><g transform=\"translate(-6 0)\"><text class=\"lab\" text-anchor=\"end\">1</text></g></g><g class=\"tick\" transform=\"translate(56.8 146.222)\"><line class=\"grid\" x1=\"0\" x2=\"873.2\" y1=\"0\" y2=\"0\" /><line x1=\"0\" x2=\"-5\" y1=\"0\" y2=\"0\" /><g transform=\"translate(-6 0)\"><text class=\"lab\" text-anchor=\"end\">10000</text></g></g><g class=\"tick\" transform=\"translate(56.8 158.811)\"><line class=\"grid\" x1=\"0\" x2=\"873.2\" y1=\"0\" y2=\"0\" /><line x1=\"0\" x2=\"-5\" y1=\"0\" y2=\"0\" /><g transform=\"translate(-6 0)\"><text class=\"lab\" text-anchor=\"end\">5000</text></g></g><g class=\"tick\" transform=\"translate(56.8 95.8647)\"><line class=\"grid\" x1=\"0\" x2=\"873.2\" y1=\"0\" y2=\"0\" /><line x1=\"0\" x2=\"-5\" y1=\"0\" y2=\"0\" /><g transform=\"translate(-6 0)\"><text class=\"lab\" text-anchor=\"end\">30000</text></g></g><g class=\"tick\" transform=\"translate(56.8 20.3293)\"><line class=\"grid\" x1=\"0\" x2=\"873.2\" y1=\"0\" y2=\"0\" /><line x1=\"0\" x2=\"-5\" y1=\"0\" y2=\"0\" /><g transform=\"translate(-6 0)\"><text class=\"lab\" text-anchor=\"end\">60000</text></g></g></g></g></g><g class=\"plotbox trees\"><g class=\"tree t149\" transform=\"translate(56.8 0)\"><g class=\"plotbox\"><g class=\"c2 m3034 m3037 m3042 m3043 m3044 m3045 node n10142 root s2613 s2616 s2621 s2622 s2623 s2624\" transform=\"translate(180.086 27.9333)\"><g class=\"a10142 c2 m3032 m3033 m3035 node n7534 s2611 s2612 s2614\" transform=\"translate(-73.3297 70.0278)\"><g class=\"a7534 i0 leaf m3047 node n10 p3 s2625 sample\" transform=\"translate(28.9188 73.4389)\"><path class=\"edge\" d=\"M 0 0 V -73.4389 H -28.9188\" /><g class=\"mut m3047 s2625 unknown_time\" transform=\"translate(0 -36.7194)\"><line x1=\"0\" x2=\"0\" y1=\"0\" y2=\"36.7194\" /><path class=\"sym\" d=\"M -3,-3 l 6,6 M -3,3 l 6,-6\" /><text class=\"lab rgt\" transform=\"translate(5 0)\">3047</text></g><rect class=\"sym\" height=\"6\" width=\"6\" x=\"-3\" y=\"-3\" /><text class=\"lab\" transform=\"translate(0 11)\">2622</text></g><g class=\"a7534 c2 m3046 node n2267 s2625\" transform=\"translate(-28.9188 54.0991)\"><g class=\"a2267 i5 leaf m3028 node n6 p5 s2607 sample\" transform=\"translate(24.7875 19.3398)\"><path class=\"edge\" d=\"M 0 0 V -19.3398 H -24.7875\" /><g class=\"mut m3028 s2607 unknown_time\" transform=\"translate(0 -9.66989)\"><line x1=\"0\" x2=\"0\" y1=\"0\" y2=\"9.66989\" /><path class=\"sym\" d=\"M -3,-3 l 6,6 M -3,3 l 6,-6\" /><text class=\"lab rgt\" transform=\"translate(5 0)\">3028</text></g><rect class=\"sym\" height=\"6\" width=\"6\" x=\"-3\" y=\"-3\" /><text class=\"lab\" transform=\"translate(0 11)\">6912</text></g><g class=\"a2267 c2 m3036 node n227 s2615\" transform=\"translate(-24.7875 15.2472)\"><g class=\"a227 i1 leaf m3029 node n0 p1 s2608 sample\" transform=\"translate(-16.525 4.09259)\"><path class=\"edge\" d=\"M 0 0 V -4.09259 H 16.525\" /><g class=\"mut m3029 s2608 unknown_time\" transform=\"translate(0 -2.04629)\"><line x1=\"0\" x2=\"0\" y1=\"0\" y2=\"2.04629\" /><path class=\"sym\" d=\"M -3,-3 l 6,6 M -3,3 l 6,-6\" /><text class=\"lab lft\" transform=\"translate(-5 0)\">3029</text></g><rect class=\"sym\" height=\"6\" width=\"6\" x=\"-3\" y=\"-3\" /><text class=\"lab\" transform=\"translate(0 11)\">3136</text></g><g class=\"a227 i4 leaf node n2 p0 sample\" transform=\"translate(16.525 4.09259)\"><path class=\"edge\" d=\"M 0 0 V -4.09259 H -16.525\" /><rect class=\"sym\" height=\"6\" width=\"6\" x=\"-3\" y=\"-3\" /><text class=\"lab\" transform=\"translate(0 11)\">5746</text></g><path class=\"edge\" d=\"M 0 0 V -15.2472 H 24.7875\" /><g class=\"mut m3036 s2615 unknown_time\" transform=\"translate(0 -7.62359)\"><line x1=\"0\" x2=\"0\" y1=\"0\" y2=\"7.62359\" /><path class=\"sym\" d=\"M -3,-3 l 6,6 M -3,3 l 6,-6\" /><text class=\"lab lft\" transform=\"translate(-5 0)\">3036</text></g><circle class=\"sym\" cx=\"0\" cy=\"0\" r=\"3\" /><text class=\"lab lft\" transform=\"translate(-3 -7.0)\" /></g><path class=\"edge\" d=\"M 0 0 V -54.0991 H 28.9188\" /><g class=\"mut m3046 s2625 unknown_time\" transform=\"translate(0 -27.0496)\"><line x1=\"0\" x2=\"0\" y1=\"0\" y2=\"27.0496\" /><path class=\"sym\" d=\"M -3,-3 l 6,6 M -3,3 l 6,-6\" /><text class=\"lab lft\" transform=\"translate(-5 0)\">3046</text></g><circle class=\"sym\" cx=\"0\" cy=\"0\" r=\"3\" /><text class=\"lab lft\" transform=\"translate(-3 -7.0)\" /></g><path class=\"edge\" d=\"M 0 0 V -70.0278 H 73.3297\" /><g class=\"mut m3032 s2611 unknown_time\" transform=\"translate(0 -52.5208)\"><line x1=\"0\" x2=\"0\" y1=\"0\" y2=\"52.5208\" /><path class=\"sym\" d=\"M -3,-3 l 6,6 M -3,3 l 6,-6\" /><text class=\"lab lft\" transform=\"translate(-5 0)\">3032</text></g><g class=\"mut m3033 s2612 unknown_time\" transform=\"translate(0 -35.0139)\"><line x1=\"0\" x2=\"0\" y1=\"0\" y2=\"35.0139\" /><path class=\"sym\" d=\"M -3,-3 l 6,6 M -3,3 l 6,-6\" /><text class=\"lab lft\" transform=\"translate(-5 0)\">3033</text></g><g class=\"mut m3035 s2614 unknown_time\" transform=\"translate(0 -17.5069)\"><line x1=\"0\" x2=\"0\" y1=\"0\" y2=\"17.5069\" /><path class=\"sym\" d=\"M -3,-3 l 6,6 M -3,3 l 6,-6\" /><text class=\"lab lft\" transform=\"translate(-5 0)\">3035</text></g><circle class=\"sym\" cx=\"0\" cy=\"0\" r=\"3\" /><text class=\"lab lft\" transform=\"translate(-3 -7.0)\" /></g><g class=\"a10142 c2 m3027 m3031 node n8559 s2606 s2610\" transform=\"translate(73.3297 55.7102)\"><g class=\"a8559 c2 m3030 m3038 node n2341 s2609 s2617\" transform=\"translate(-59.9031 67.3704)\"><g class=\"a2341 i1 leaf node n1 p1 sample\" transform=\"translate(-24.7875 20.386)\"><path class=\"edge\" d=\"M 0 0 V -20.386 H 24.7875\" /><rect class=\"sym\" height=\"6\" width=\"6\" x=\"-3\" y=\"-3\" /><text class=\"lab\" transform=\"translate(0 11)\">3137</text></g><g class=\"a2341 c2 node n786\" transform=\"translate(24.7875 9.46242)\"><g class=\"a786 i3 leaf node n5 p4 sample\" transform=\"translate(-16.525 10.9236)\"><path class=\"edge\" d=\"M 0 0 V -10.9236 H 16.525\" /><rect class=\"sym\" height=\"6\" width=\"6\" x=\"-3\" y=\"-3\" /><text class=\"lab\" transform=\"translate(0 11)\">3659</text></g><g class=\"a786 i2 leaf m3040 node n9 p2 s2619 sample\" transform=\"translate(16.525 10.9236)\"><path class=\"edge\" d=\"M 0 0 V -10.9236 H -16.525\" /><g class=\"mut m3040 s2619 unknown_time\" transform=\"translate(0 -5.4618)\"><line x1=\"0\" x2=\"0\" y1=\"0\" y2=\"5.4618\" /><path class=\"sym\" d=\"M -3,-3 l 6,6 M -3,3 l 6,-6\" /><text class=\"lab rgt\" transform=\"translate(5 0)\">3040</text></g><rect class=\"sym\" height=\"6\" width=\"6\" x=\"-3\" y=\"-3\" /><text class=\"lab\" transform=\"translate(0 11)\">3189</text></g><path class=\"edge\" d=\"M 0 0 V -9.46242 H -24.7875\" /><circle class=\"sym\" cx=\"0\" cy=\"0\" r=\"3\" /><text class=\"lab rgt\" transform=\"translate(3 -7.0)\" /></g><path class=\"edge\" d=\"M 0 0 V -67.3704 H 59.9031\" /><g class=\"mut m3030 s2609 unknown_time\" transform=\"translate(0 -44.9136)\"><line x1=\"0\" x2=\"0\" y1=\"0\" y2=\"44.9136\" /><path class=\"sym\" d=\"M -3,-3 l 6,6 M -3,3 l 6,-6\" /><text class=\"lab lft\" transform=\"translate(-5 0)\">3030</text></g><g class=\"mut m3038 s2617 unknown_time\" transform=\"translate(0 -22.4568)\"><line x1=\"0\" x2=\"0\" y1=\"0\" y2=\"22.4568\" /><path class=\"sym\" d=\"M -3,-3 l 6,6 M -3,3 l 6,-6\" /><text class=\"lab lft\" transform=\"translate(-5 0)\">3038</text></g><circle class=\"sym\" cx=\"0\" cy=\"0\" r=\"3\" /><text class=\"lab lft\" transform=\"translate(-3 -7.0)\" /></g><g class=\"a8559 c2 m3039 m3048 m3049 node n4878 s2618 s2626 s2627\" transform=\"translate(59.9031 48.7103)\"><g class=\"a4878 i4 leaf node n3 p0 sample\" transform=\"translate(-45.4437 39.0462)\"><path class=\"edge\" d=\"M 0 0 V -39.0462 H 45.4437\" /><rect class=\"sym\" height=\"6\" width=\"6\" x=\"-3\" y=\"-3\" /><text class=\"lab\" transform=\"translate(0 11)\">5747</text></g><g class=\"a4878 c3 m3041 node n3458 s2620\" transform=\"translate(45.4438 11.323)\"><g class=\"a3458 i5 leaf node n7 p5 sample\" transform=\"translate(8.2625 27.7232)\"><path class=\"edge\" d=\"M 0 0 V -27.7232 H -8.2625\" /><rect class=\"sym\" height=\"6\" width=\"6\" x=\"-3\" y=\"-3\" /><text class=\"lab\" transform=\"translate(0 11)\">6913</text></g><g class=\"a3458 i2 leaf m3026 node n8 p2 s2605 sample\" transform=\"translate(41.3125 27.7232)\"><path class=\"edge\" d=\"M 0 0 V -27.7232 H -41.3125\" /><g class=\"mut m3026 s2605 unknown_time\" transform=\"translate(0 -13.8616)\"><line x1=\"0\" x2=\"0\" y1=\"0\" y2=\"13.8616\" /><path class=\"sym\" d=\"M -3,-3 l 6,6 M -3,3 l 6,-6\" /><text class=\"lab rgt\" transform=\"translate(5 0)\">3026</text></g><rect class=\"sym\" height=\"6\" width=\"6\" x=\"-3\" y=\"-3\" /><text class=\"lab\" transform=\"translate(0 11)\">3188</text></g><g class=\"a3458 c2 node n3402\" transform=\"translate(-41.3125 1.00714e-08)\"><g class=\"a3402 i3 leaf node n4 p4 sample\" transform=\"translate(-16.525 27.7232)\"><path class=\"edge\" d=\"M 0 0 V -27.7232 H 16.525\" /><rect class=\"sym\" height=\"6\" width=\"6\" x=\"-3\" y=\"-3\" /><text class=\"lab\" transform=\"translate(0 11)\">3658</text></g><g class=\"a3402 i0 leaf node n11 p3 sample\" transform=\"translate(16.525 27.7232)\"><path class=\"edge\" d=\"M 0 0 V -27.7232 H -16.525\" /><rect class=\"sym\" height=\"6\" width=\"6\" x=\"-3\" y=\"-3\" /><text class=\"lab\" transform=\"translate(0 11)\">2623</text></g><path class=\"edge\" d=\"M 0 0 V -1.00714e-08 H 41.3125\" /><circle class=\"sym\" cx=\"0\" cy=\"0\" r=\"3\" /><text class=\"lab lft\" transform=\"translate(-3 -7.0)\" /></g><path class=\"edge\" d=\"M 0 0 V -11.323 H -45.4438\" /><g class=\"mut m3041 s2620 unknown_time\" transform=\"translate(0 -5.66151)\"><line x1=\"0\" x2=\"0\" y1=\"0\" y2=\"5.66151\" /><path class=\"sym\" d=\"M -3,-3 l 6,6 M -3,3 l 6,-6\" /><text class=\"lab rgt\" transform=\"translate(5 0)\">3041</text></g><circle class=\"sym\" cx=\"0\" cy=\"0\" r=\"3\" /><text class=\"lab rgt\" transform=\"translate(3 -7.0)\" /></g><path class=\"edge\" d=\"M 0 0 V -48.7103 H -59.9031\" /><g class=\"mut m3039 s2618 unknown_time\" transform=\"translate(0 -36.5327)\"><line x1=\"0\" x2=\"0\" y1=\"0\" y2=\"36.5327\" /><path class=\"sym\" d=\"M -3,-3 l 6,6 M -3,3 l 6,-6\" /><text class=\"lab rgt\" transform=\"translate(5 0)\">3039</text></g><g class=\"mut m3048 s2626 unknown_time\" transform=\"translate(0 -24.3551)\"><line x1=\"0\" x2=\"0\" y1=\"0\" y2=\"24.3551\" /><path class=\"sym\" d=\"M -3,-3 l 6,6 M -3,3 l 6,-6\" /><text class=\"lab rgt\" transform=\"translate(5 0)\">3048</text></g><g class=\"mut m3049 s2627 unknown_time\" transform=\"translate(0 -12.1776)\"><line x1=\"0\" x2=\"0\" y1=\"0\" y2=\"12.1776\" /><path class=\"sym\" d=\"M -3,-3 l 6,6 M -3,3 l 6,-6\" /><text class=\"lab rgt\" transform=\"translate(5 0)\">3049</text></g><circle class=\"sym\" cx=\"0\" cy=\"0\" r=\"3\" /><text class=\"lab rgt\" transform=\"translate(3 -7.0)\" /></g><path class=\"edge\" d=\"M 0 0 V -55.7102 H -73.3297\" /><g class=\"mut m3027 s2606 unknown_time\" transform=\"translate(0 -37.1402)\"><line x1=\"0\" x2=\"0\" y1=\"0\" y2=\"37.1402\" /><path class=\"sym\" d=\"M -3,-3 l 6,6 M -3,3 l 6,-6\" /><text class=\"lab rgt\" transform=\"translate(5 0)\">3027</text></g><g class=\"mut m3031 s2610 unknown_time\" transform=\"translate(0 -18.5701)\"><line x1=\"0\" x2=\"0\" y1=\"0\" y2=\"18.5701\" /><path class=\"sym\" d=\"M -3,-3 l 6,6 M -3,3 l 6,-6\" /><text class=\"lab rgt\" transform=\"translate(5 0)\">3031</text></g><circle class=\"sym\" cx=\"0\" cy=\"0\" r=\"3\" /><text class=\"lab rgt\" transform=\"translate(3 -7.0)\" /></g><path class=\"edge\" d=\"M 0 0 V -17.9333 H 0\" /><g class=\"mut m3034 s2613 unknown_time\" transform=\"translate(0 -15.3714)\"><line x1=\"0\" x2=\"0\" y1=\"0\" y2=\"15.3714\" /><path class=\"sym\" d=\"M -3,-3 l 6,6 M -3,3 l 6,-6\" /><text class=\"lab rgt\" transform=\"translate(5 0)\">3034</text></g><g class=\"mut m3037 s2616 unknown_time\" transform=\"translate(0 -12.8095)\"><line x1=\"0\" x2=\"0\" y1=\"0\" y2=\"12.8095\" /><path class=\"sym\" d=\"M -3,-3 l 6,6 M -3,3 l 6,-6\" /><text class=\"lab rgt\" transform=\"translate(5 0)\">3037</text></g><g class=\"mut m3042 s2621 unknown_time\" transform=\"translate(0 -10.2476)\"><line x1=\"0\" x2=\"0\" y1=\"0\" y2=\"10.2476\" /><path class=\"sym\" d=\"M -3,-3 l 6,6 M -3,3 l 6,-6\" /><text class=\"lab rgt\" transform=\"translate(5 0)\">3042</text></g><g class=\"mut m3043 s2622 unknown_time\" transform=\"translate(0 -7.68571)\"><line x1=\"0\" x2=\"0\" y1=\"0\" y2=\"7.68571\" /><path class=\"sym\" d=\"M -3,-3 l 6,6 M -3,3 l 6,-6\" /><text class=\"lab rgt\" transform=\"translate(5 0)\">3043</text></g><g class=\"mut m3044 s2623 unknown_time\" transform=\"translate(0 -5.12381)\"><line x1=\"0\" x2=\"0\" y1=\"0\" y2=\"5.12381\" /><path class=\"sym\" d=\"M -3,-3 l 6,6 M -3,3 l 6,-6\" /><text class=\"lab rgt\" transform=\"translate(5 0)\">3044</text></g><g class=\"mut m3045 s2624 unknown_time\" transform=\"translate(0 -2.5619)\"><line x1=\"0\" x2=\"0\" y1=\"0\" y2=\"2.5619\" /><path class=\"sym\" d=\"M -3,-3 l 6,6 M -3,3 l 6,-6\" /><text class=\"lab rgt\" transform=\"translate(5 0)\">3045</text></g><circle class=\"sym\" cx=\"0\" cy=\"0\" r=\"3\" /><text class=\"lab rgt\" transform=\"translate(3 -7.0)\" /></g></g></g><g class=\"tree t150\" transform=\"translate(493.4 0)\"><g class=\"plotbox\"><g class=\"c2 m3058 node n10142 root s2634\" transform=\"translate(184.734 27.9333)\"><g class=\"a10142 c2 m3057 m3059 node n7534 s2633 s2635\" transform=\"translate(-77.9773 70.0278)\"><g class=\"a7534 i0 leaf m3050 node n10 p3 s2628 sample\" transform=\"translate(28.9188 73.4389)\"><path class=\"edge\" d=\"M 0 0 V -73.4389 H -28.9188\" /><g class=\"mut m3050 s2628 unknown_time\" transform=\"translate(0 -36.7194)\"><line x1=\"0\" x2=\"0\" y1=\"0\" y2=\"36.7194\" /><path class=\"sym\" d=\"M -3,-3 l 6,6 M -3,3 l 6,-6\" /><text class=\"lab rgt\" transform=\"translate(5 0)\">3050</text></g><rect class=\"sym\" height=\"6\" width=\"6\" x=\"-3\" y=\"-3\" /><text class=\"lab\" transform=\"translate(0 11)\">2622</text></g><g class=\"a7534 c2 node n2267\" transform=\"translate(-28.9188 54.0991)\"><g class=\"a2267 i5 leaf node n6 p5 sample\" transform=\"translate(24.7875 19.3398)\"><path class=\"edge\" d=\"M 0 0 V -19.3398 H -24.7875\" /><rect class=\"sym\" height=\"6\" width=\"6\" x=\"-3\" y=\"-3\" /><text class=\"lab\" transform=\"translate(0 11)\">6912</text></g><g class=\"a2267 c2 node n227\" transform=\"translate(-24.7875 15.2472)\"><g class=\"a227 i1 leaf node n0 p1 sample\" transform=\"translate(-16.525 4.09259)\"><path class=\"edge\" d=\"M 0 0 V -4.09259 H 16.525\" /><rect class=\"sym\" height=\"6\" width=\"6\" x=\"-3\" y=\"-3\" /><text class=\"lab\" transform=\"translate(0 11)\">3136</text></g><g class=\"a227 i4 leaf node n2 p0 sample\" transform=\"translate(16.525 4.09259)\"><path class=\"edge\" d=\"M 0 0 V -4.09259 H -16.525\" /><rect class=\"sym\" height=\"6\" width=\"6\" x=\"-3\" y=\"-3\" /><text class=\"lab\" transform=\"translate(0 11)\">5746</text></g><path class=\"edge\" d=\"M 0 0 V -15.2472 H 24.7875\" /><circle class=\"sym\" cx=\"0\" cy=\"0\" r=\"3\" /><text class=\"lab lft\" transform=\"translate(-3 -7.0)\" /></g><path class=\"edge\" d=\"M 0 0 V -54.0991 H 28.9188\" /><circle class=\"sym\" cx=\"0\" cy=\"0\" r=\"3\" /><text class=\"lab lft\" transform=\"translate(-3 -7.0)\" /></g><path class=\"edge\" d=\"M 0 0 V -70.0278 H 77.9773\" /><g class=\"mut m3057 s2633 unknown_time\" transform=\"translate(0 -46.6852)\"><line x1=\"0\" x2=\"0\" y1=\"0\" y2=\"46.6852\" /><path class=\"sym\" d=\"M -3,-3 l 6,6 M -3,3 l 6,-6\" /><text class=\"lab lft\" transform=\"translate(-5 0)\">3057</text></g><g class=\"mut m3059 s2635 unknown_time\" transform=\"translate(0 -23.3426)\"><line x1=\"0\" x2=\"0\" y1=\"0\" y2=\"23.3426\" /><path class=\"sym\" d=\"M -3,-3 l 6,6 M -3,3 l 6,-6\" /><text class=\"lab lft\" transform=\"translate(-5 0)\">3059</text></g><circle class=\"sym\" cx=\"0\" cy=\"0\" r=\"3\" /><text class=\"lab lft\" transform=\"translate(-3 -7.0)\" /></g><g class=\"a10142 c2 node n8559\" transform=\"translate(77.9773 55.7102)\"><g class=\"a8559 c2 node n2341\" transform=\"translate(-77.4609 67.3704)\"><g class=\"a2341 i1 leaf node n1 p1 sample\" transform=\"translate(-16.525 20.386)\"><path class=\"edge\" d=\"M 0 0 V -20.386 H 16.525\" /><rect class=\"sym\" height=\"6\" width=\"6\" x=\"-3\" y=\"-3\" /><text class=\"lab\" transform=\"translate(0 11)\">3137</text></g><g class=\"a2341 i3 leaf node n5 p4 sample\" transform=\"translate(16.525 20.386)\"><path class=\"edge\" d=\"M 0 0 V -20.386 H -16.525\" /><rect class=\"sym\" height=\"6\" width=\"6\" x=\"-3\" y=\"-3\" /><text class=\"lab\" transform=\"translate(0 11)\">3659</text></g><path class=\"edge\" d=\"M 0 0 V -67.3704 H 77.4609\" /><circle class=\"sym\" cx=\"0\" cy=\"0\" r=\"3\" /><text class=\"lab lft\" transform=\"translate(-3 -7.0)\" /></g><g class=\"a8559 c2 node n5156\" transform=\"translate(77.4609 45.8592)\"><g class=\"a5156 i2 leaf m3051 m3052 m3053 m3054 m3055 m3056 node n9 p2 s2629 s2630 s2631 s2632 sample\" transform=\"translate(59.9031 41.8972)\"><path class=\"edge\" d=\"M 0 0 V -41.8972 H -59.9031\" /><g class=\"mut m3051 s2629 unknown_time\" transform=\"translate(0 -35.9119)\"><line x1=\"0\" x2=\"0\" y1=\"0\" y2=\"35.9119\" /><path class=\"sym\" d=\"M -3,-3 l 6,6 M -3,3 l 6,-6\" /><text class=\"lab rgt\" transform=\"translate(5 0)\">3051</text></g><g class=\"mut m3052 s2629 unknown_time\" transform=\"translate(0 -29.9266)\"><line x1=\"0\" x2=\"0\" y1=\"0\" y2=\"29.9266\" /><path class=\"sym\" d=\"M -3,-3 l 6,6 M -3,3 l 6,-6\" /><text class=\"lab rgt\" transform=\"translate(5 0)\">3052</text></g><g class=\"mut m3053 s2629 unknown_time\" transform=\"translate(0 -23.9413)\"><line x1=\"0\" x2=\"0\" y1=\"0\" y2=\"23.9413\" /><path class=\"sym\" d=\"M -3,-3 l 6,6 M -3,3 l 6,-6\" /><text class=\"lab rgt\" transform=\"translate(5 0)\">3053</text></g><g class=\"mut m3054 s2630 unknown_time\" transform=\"translate(0 -17.956)\"><line x1=\"0\" x2=\"0\" y1=\"0\" y2=\"17.956\" /><path class=\"sym\" d=\"M -3,-3 l 6,6 M -3,3 l 6,-6\" /><text class=\"lab rgt\" transform=\"translate(5 0)\">3054</text></g><g class=\"mut m3055 s2631 unknown_time\" transform=\"translate(0 -11.9706)\"><line x1=\"0\" x2=\"0\" y1=\"0\" y2=\"11.9706\" /><path class=\"sym\" d=\"M -3,-3 l 6,6 M -3,3 l 6,-6\" /><text class=\"lab rgt\" transform=\"translate(5 0)\">3055</text></g><g class=\"mut m3056 s2632 unknown_time\" transform=\"translate(0 -5.98532)\"><line x1=\"0\" x2=\"0\" y1=\"0\" y2=\"5.98532\" /><path class=\"sym\" d=\"M -3,-3 l 6,6 M -3,3 l 6,-6\" /><text class=\"lab rgt\" transform=\"translate(5 0)\">3056</text></g><rect class=\"sym\" height=\"6\" width=\"6\" x=\"-3\" y=\"-3\" /><text class=\"lab\" transform=\"translate(0 11)\">3189</text></g><g class=\"a5156 c2 node n4878\" transform=\"translate(-59.9031 2.85105)\"><g class=\"a4878 i4 leaf node n3 p0 sample\" transform=\"translate(-45.4437 39.0462)\"><path class=\"edge\" d=\"M 0 0 V -39.0462 H 45.4437\" /><rect class=\"sym\" height=\"6\" width=\"6\" x=\"-3\" y=\"-3\" /><text class=\"lab\" transform=\"translate(0 11)\">5747</text></g><g class=\"a4878 c3 node n3458\" transform=\"translate(45.4438 11.323)\"><g class=\"a3458 i5 leaf node n7 p5 sample\" transform=\"translate(8.2625 27.7232)\"><path class=\"edge\" d=\"M 0 0 V -27.7232 H -8.2625\" /><rect class=\"sym\" height=\"6\" width=\"6\" x=\"-3\" y=\"-3\" /><text class=\"lab\" transform=\"translate(0 11)\">6913</text></g><g class=\"a3458 i2 leaf node n8 p2 sample\" transform=\"translate(41.3125 27.7232)\"><path class=\"edge\" d=\"M 0 0 V -27.7232 H -41.3125\" /><rect class=\"sym\" height=\"6\" width=\"6\" x=\"-3\" y=\"-3\" /><text class=\"lab\" transform=\"translate(0 11)\">3188</text></g><g class=\"a3458 c2 node n3402\" transform=\"translate(-41.3125 1.00714e-08)\"><g class=\"a3402 i3 leaf node n4 p4 sample\" transform=\"translate(-16.525 27.7232)\"><path class=\"edge\" d=\"M 0 0 V -27.7232 H 16.525\" /><rect class=\"sym\" height=\"6\" width=\"6\" x=\"-3\" y=\"-3\" /><text class=\"lab\" transform=\"translate(0 11)\">3658</text></g><g class=\"a3402 i0 leaf node n11 p3 sample\" transform=\"translate(16.525 27.7232)\"><path class=\"edge\" d=\"M 0 0 V -27.7232 H -16.525\" /><rect class=\"sym\" height=\"6\" width=\"6\" x=\"-3\" y=\"-3\" /><text class=\"lab\" transform=\"translate(0 11)\">2623</text></g><path class=\"edge\" d=\"M 0 0 V -1.00714e-08 H 41.3125\" /><circle class=\"sym\" cx=\"0\" cy=\"0\" r=\"3\" /><text class=\"lab lft\" transform=\"translate(-3 -7.0)\" /></g><path class=\"edge\" d=\"M 0 0 V -11.323 H -45.4438\" /><circle class=\"sym\" cx=\"0\" cy=\"0\" r=\"3\" /><text class=\"lab rgt\" transform=\"translate(3 -7.0)\" /></g><path class=\"edge\" d=\"M 0 0 V -2.85105 H 59.9031\" /><circle class=\"sym\" cx=\"0\" cy=\"0\" r=\"3\" /><text class=\"lab lft\" transform=\"translate(-3 -7.0)\" /></g><path class=\"edge\" d=\"M 0 0 V -45.8592 H -77.4609\" /><circle class=\"sym\" cx=\"0\" cy=\"0\" r=\"3\" /><text class=\"lab rgt\" transform=\"translate(3 -7.0)\" /></g><path class=\"edge\" d=\"M 0 0 V -55.7102 H -77.9773\" /><circle class=\"sym\" cx=\"0\" cy=\"0\" r=\"3\" /><text class=\"lab rgt\" transform=\"translate(3 -7.0)\" /></g><path class=\"edge\" d=\"M 0 0 V -17.9333 H 0\" /><g class=\"mut m3058 s2634 unknown_time\" transform=\"translate(0 -8.96667)\"><line x1=\"0\" x2=\"0\" y1=\"0\" y2=\"8.96667\" /><path class=\"sym\" d=\"M -3,-3 l 6,6 M -3,3 l 6,-6\" /><text class=\"lab rgt\" transform=\"translate(5 0)\">3058</text></g><circle class=\"sym\" cx=\"0\" cy=\"0\" r=\"3\" /><text class=\"lab rgt\" transform=\"translate(3 -7.0)\" /></g></g></g></g></g></svg>'"
      ]
     },
     "execution_count": 22,
     "metadata": {},
     "output_type": "execute_result"
    }
   ],
   "source": [
    "x_limits = [32741596,32749314]\n",
    "\n",
    "node_label_style = (\n",
    "    \".node > .lab {font-size: 80%}\"\n",
    "    \".leaf > .lab {text-anchor: start; transform: rotate(90deg) translate(6px)}\"\n",
    ")\n",
    "\n",
    "ts_small.draw_svg(\n",
    "    y_gridlines=True,\n",
    "    size=wide_fmt,\n",
    "    x_lim=x_limits,\n",
    "    y_axis=True,\n",
    "    y_ticks=[1, 10000, 5000, 30000, 60000],\n",
    "    node_labels=labels,\n",
    "    style=node_label_style\n",
    ")"
   ]
  },
  {
   "cell_type": "markdown",
   "id": "5d2301dc",
   "metadata": {},
   "source": [
    "### Closest relative span-wise\n",
    "\n",
    "#### Testing the code\n",
    "\n",
    "Using Yan Wong's code [from this issue on GitHub](https://github.com/duncanMR/pedigrees_project/issues/1) we can visualise the average span of the genome in which two samples are in the same subtree. Let's use a trivial example first to understand exactly what it's doing"
   ]
  },
  {
   "cell_type": "code",
   "execution_count": 23,
   "id": "15c1bb08",
   "metadata": {
    "scrolled": true
   },
   "outputs": [
    {
     "data": {
      "image/svg+xml": [
       "<svg baseProfile=\"full\" height=\"200\" version=\"1.1\" width=\"1800\" xmlns=\"http://www.w3.org/2000/svg\" xmlns:ev=\"http://www.w3.org/2001/xml-events\" xmlns:xlink=\"http://www.w3.org/1999/xlink\"><defs><style type=\"text/css\"><![CDATA[.background path {fill: #808080; fill-opacity: 0}.background path:nth-child(odd) {fill-opacity: .1}.axes {font-size: 14px}.x-axis .tick .lab {font-weight: bold; dominant-baseline: hanging}.axes, .tree {font-size: 14px; text-anchor: middle}.axes line, .edge {stroke: black; fill: none}.axes .ax-skip {stroke-dasharray: 4}.y-axis .grid {stroke: #FAFAFA}.node > .sym {fill: black; stroke: none}.site > .sym {stroke: black}.mut text {fill: red; font-style: italic}.mut.extra text {fill: hotpink}.mut line {fill: none; stroke: none}.mut .sym {fill: none; stroke: red}.mut.extra .sym {stroke: hotpink}.node .mut .sym {stroke-width: 1.5px}.tree text, .tree-sequence text {dominant-baseline: central}.plotbox .lab.lft {text-anchor: end}.plotbox .lab.rgt {text-anchor: start}]]></style></defs><g class=\"tree-sequence\"><g class=\"background\"><path d=\"M56.8,0 l191.467,0 l0,138.2 l148.176,25 l0,5 l-339.643,0 l0,-5 l0,-25 l0,-138.2z\" /><path d=\"M248.267,0 l191.467,0 l0,138.2 l96.1507,25 l0,5 l-139.441,0 l0,-5 l-148.176,-25 l0,-138.2z\" /><path d=\"M439.733,0 l191.467,0 l0,138.2 l159.166,25 l0,5 l-254.482,0 l0,-5 l-96.151,-25 l0,-138.2z\" /><path d=\"M631.2,0 l191.467,0 l0,138.2 l41.4181,25 l0,5 l-73.7185,0 l0,-5 l-159.166,-25 l0,-138.2z\" /><path d=\"M822.667,0 l191.467,0 l0,138.2 l-88.3925,25 l0,5 l-61.6561,0 l0,-5 l-41.418,-25 l0,-138.2z\" /><path d=\"M1014.13,0 l191.467,0 l0,138.2 l-98.9232,25 l0,5 l-180.936,0 l0,-5 l88.389,-25 l0,-138.2z\" /><path d=\"M1205.6,0 l191.467,0 l0,138.2 l83.579,25 l0,5 l-373.969,0 l0,-5 l98.92,-25 l0,-138.2z\" /><path d=\"M1397.07,0 l191.467,0 l0,138.2 l61.7786,25 l0,5 l-169.666,0 l0,-5 l-83.58,-25 l0,-138.2z\" /><path d=\"M1588.53,0 l191.467,0 l0,138.2 l0,25 l0,5 l-129.688,0 l0,-5 l-61.78,-25 l0,-138.2z\" /></g><g class=\"axes\"><g class=\"x-axis\"><g class=\"title\" transform=\"translate(918.4 200)\"><text class=\"lab\" text-anchor=\"middle\" transform=\"translate(0 -11)\">Genome position</text></g><line class=\"ax-line\" x1=\"56.8\" x2=\"1780\" y1=\"163.2\" y2=\"163.2\" /><g class=\"ticks\"><g class=\"tick\" transform=\"translate(56.8 163.2)\"><line x1=\"0\" x2=\"0\" y1=\"0\" y2=\"5\" /><g transform=\"translate(0 6)\"><text class=\"lab\">0</text></g></g><g class=\"tick\" transform=\"translate(396.443 163.2)\"><line x1=\"0\" x2=\"0\" y1=\"0\" y2=\"5\" /><g transform=\"translate(0 6)\"><text class=\"lab\">9855</text></g></g><g class=\"tick\" transform=\"translate(535.884 163.2)\"><line x1=\"0\" x2=\"0\" y1=\"0\" y2=\"5\" /><g transform=\"translate(0 6)\"><text class=\"lab\">13901</text></g></g><g class=\"tick\" transform=\"translate(790.366 163.2)\"><line x1=\"0\" x2=\"0\" y1=\"0\" y2=\"5\" /><g transform=\"translate(0 6)\"><text class=\"lab\">21285</text></g></g><g class=\"tick\" transform=\"translate(864.085 163.2)\"><line x1=\"0\" x2=\"0\" y1=\"0\" y2=\"5\" /><g transform=\"translate(0 6)\"><text class=\"lab\">23424</text></g></g><g class=\"tick\" transform=\"translate(925.741 163.2)\"><line x1=\"0\" x2=\"0\" y1=\"0\" y2=\"5\" /><g transform=\"translate(0 6)\"><text class=\"lab\">25213</text></g></g><g class=\"tick\" transform=\"translate(1106.68 163.2)\"><line x1=\"0\" x2=\"0\" y1=\"0\" y2=\"5\" /><g transform=\"translate(0 6)\"><text class=\"lab\">30463</text></g></g><g class=\"tick\" transform=\"translate(1480.65 163.2)\"><line x1=\"0\" x2=\"0\" y1=\"0\" y2=\"5\" /><g transform=\"translate(0 6)\"><text class=\"lab\">41314</text></g></g><g class=\"tick\" transform=\"translate(1650.31 163.2)\"><line x1=\"0\" x2=\"0\" y1=\"0\" y2=\"5\" /><g transform=\"translate(0 6)\"><text class=\"lab\">46237</text></g></g><g class=\"tick\" transform=\"translate(1780 163.2)\"><line x1=\"0\" x2=\"0\" y1=\"0\" y2=\"5\" /><g transform=\"translate(0 6)\"><text class=\"lab\">50000</text></g></g></g></g><g class=\"y-axis\"><g class=\"title\" transform=\"translate(0 65.7)\"><text class=\"lab\" text-anchor=\"middle\" transform=\"translate(11) rotate(-90)\">Time (generations)</text></g><line class=\"ax-line\" x1=\"56.8\" x2=\"56.8\" y1=\"121.4\" y2=\"10\" /><g class=\"ticks\"><g class=\"tick\" transform=\"translate(56.8 121.4)\"><line x1=\"0\" x2=\"-5\" y1=\"0\" y2=\"0\" /><g transform=\"translate(-6 0)\"><text class=\"lab\" text-anchor=\"end\">0</text></g></g><g class=\"tick\" transform=\"translate(56.8 96.5673)\"><line x1=\"0\" x2=\"-5\" y1=\"0\" y2=\"0\" /><g transform=\"translate(-6 0)\"><text class=\"lab\" text-anchor=\"end\">3000</text></g></g><g class=\"tick\" transform=\"translate(56.8 71.7346)\"><line x1=\"0\" x2=\"-5\" y1=\"0\" y2=\"0\" /><g transform=\"translate(-6 0)\"><text class=\"lab\" text-anchor=\"end\">6000</text></g></g><g class=\"tick\" transform=\"translate(56.8 46.9019)\"><line x1=\"0\" x2=\"-5\" y1=\"0\" y2=\"0\" /><g transform=\"translate(-6 0)\"><text class=\"lab\" text-anchor=\"end\">9000</text></g></g><g class=\"tick\" transform=\"translate(56.8 22.0692)\"><line x1=\"0\" x2=\"-5\" y1=\"0\" y2=\"0\" /><g transform=\"translate(-6 0)\"><text class=\"lab\" text-anchor=\"end\">12000</text></g></g></g></g></g><g class=\"plotbox trees\"><g class=\"tree t0\" transform=\"translate(56.8 0)\"><g class=\"plotbox\"><g class=\"c2 node n17 p3 root\" transform=\"translate(93.9583 93.4308)\"><g class=\"a17 c2 node n13 p3\" transform=\"translate(-44.375 11.8965)\"><g class=\"a13 i0 leaf node n0 p0 sample\" transform=\"translate(-20.1167 16.0727)\"><path class=\"edge\" d=\"M 0 0 V -16.0727 H 20.1167\" /><rect class=\"sym\" height=\"6\" width=\"6\" x=\"-3\" y=\"-3\" /><text class=\"lab\" transform=\"translate(0 11)\">0</text></g><g class=\"a13 c2 node n12 p3\" transform=\"translate(20.1167 4.16009)\"><g class=\"a12 i0 leaf node n1 p0 sample\" transform=\"translate(-21.3 11.9126)\"><path class=\"edge\" d=\"M 0 0 V -11.9126 H 21.3\" /><rect class=\"sym\" height=\"6\" width=\"6\" x=\"-3\" y=\"-3\" /><text class=\"lab\" transform=\"translate(0 11)\">1</text></g><g class=\"a12 c2 node n9 p3\" transform=\"translate(21.3 3.33303)\"><g class=\"a9 i2 leaf node n4 p1 sample\" transform=\"translate(14.2 8.57958)\"><path class=\"edge\" d=\"M 0 0 V -8.57958 H -14.2\" /><rect class=\"sym\" height=\"6\" width=\"6\" x=\"-3\" y=\"-3\" /><text class=\"lab\" transform=\"translate(0 11)\">4</text></g><g class=\"a9 c2 node n8 p0\" transform=\"translate(-14.2 8.29824)\"><g class=\"a8 i1 leaf node n2 p0 sample\" transform=\"translate(-9.46667 0.281339)\"><path class=\"edge\" d=\"M 0 0 V -0.281339 H 9.46667\" /><rect class=\"sym\" height=\"6\" width=\"6\" x=\"-3\" y=\"-3\" /><text class=\"lab\" transform=\"translate(0 11)\">2</text></g><g class=\"a8 i1 leaf node n3 p0 sample\" transform=\"translate(9.46667 0.281339)\"><path class=\"edge\" d=\"M 0 0 V -0.281339 H -9.46667\" /><rect class=\"sym\" height=\"6\" width=\"6\" x=\"-3\" y=\"-3\" /><text class=\"lab\" transform=\"translate(0 11)\">3</text></g><path class=\"edge\" d=\"M 0 0 V -8.29824 H 14.2\" /><circle class=\"sym\" cx=\"0\" cy=\"0\" r=\"3\" /><text class=\"lab lft\" transform=\"translate(-3 -7.0)\">8</text></g><path class=\"edge\" d=\"M 0 0 V -3.33303 H -21.3\" /><circle class=\"sym\" cx=\"0\" cy=\"0\" r=\"3\" /><text class=\"lab rgt\" transform=\"translate(3 -7.0)\">9</text></g><path class=\"edge\" d=\"M 0 0 V -4.16009 H -20.1167\" /><circle class=\"sym\" cx=\"0\" cy=\"0\" r=\"3\" /><text class=\"lab rgt\" transform=\"translate(3 -7.0)\">12</text></g><path class=\"edge\" d=\"M 0 0 V -11.8965 H 44.375\" /><circle class=\"sym\" cx=\"0\" cy=\"0\" r=\"3\" /><text class=\"lab lft\" transform=\"translate(-3 -7.0)\">13</text></g><g class=\"a17 c2 node n16 p3\" transform=\"translate(44.375 5.07712)\"><g class=\"a16 i2 leaf node n5 p1 sample\" transform=\"translate(-14.2 22.8921)\"><path class=\"edge\" d=\"M 0 0 V -22.8921 H 14.2\" /><rect class=\"sym\" height=\"6\" width=\"6\" x=\"-3\" y=\"-3\" /><text class=\"lab\" transform=\"translate(0 11)\">5</text></g><g class=\"a16 c2 node n10 p3\" transform=\"translate(14.2 14.0972)\"><g class=\"a10 i3 leaf node n6 p2 sample\" transform=\"translate(-9.46667 8.79494)\"><path class=\"edge\" d=\"M 0 0 V -8.79494 H 9.46667\" /><rect class=\"sym\" height=\"6\" width=\"6\" x=\"-3\" y=\"-3\" /><text class=\"lab\" transform=\"translate(0 11)\">6</text></g><g class=\"a10 i3 leaf node n7 p2 sample\" transform=\"translate(9.46667 8.79494)\"><path class=\"edge\" d=\"M 0 0 V -8.79494 H -9.46667\" /><rect class=\"sym\" height=\"6\" width=\"6\" x=\"-3\" y=\"-3\" /><text class=\"lab\" transform=\"translate(0 11)\">7</text></g><path class=\"edge\" d=\"M 0 0 V -14.0972 H -14.2\" /><circle class=\"sym\" cx=\"0\" cy=\"0\" r=\"3\" /><text class=\"lab rgt\" transform=\"translate(3 -7.0)\">10</text></g><path class=\"edge\" d=\"M 0 0 V -5.07712 H -44.375\" /><circle class=\"sym\" cx=\"0\" cy=\"0\" r=\"3\" /><text class=\"lab rgt\" transform=\"translate(3 -7.0)\">16</text></g><circle class=\"sym\" cx=\"0\" cy=\"0\" r=\"3\" /><text class=\"lab\" transform=\"translate(0 -11)\">17</text></g></g></g><g class=\"tree t1\" transform=\"translate(248.267 0)\"><g class=\"plotbox\"><g class=\"c2 node n17 p3 root\" transform=\"translate(84.4917 93.4308)\"><g class=\"a17 c2 node n13 p3\" transform=\"translate(-45.5583 11.8965)\"><g class=\"a13 i0 leaf node n0 p0 sample\" transform=\"translate(-9.46667 16.0727)\"><path class=\"edge\" d=\"M 0 0 V -16.0727 H 9.46667\" /><rect class=\"sym\" height=\"6\" width=\"6\" x=\"-3\" y=\"-3\" /><text class=\"lab\" transform=\"translate(0 11)\">0</text></g><g class=\"a13 i0 leaf node n1 p0 sample\" transform=\"translate(9.46667 16.0727)\"><path class=\"edge\" d=\"M 0 0 V -16.0727 H -9.46667\" /><rect class=\"sym\" height=\"6\" width=\"6\" x=\"-3\" y=\"-3\" /><text class=\"lab\" transform=\"translate(0 11)\">1</text></g><path class=\"edge\" d=\"M 0 0 V -11.8965 H 45.5583\" /><circle class=\"sym\" cx=\"0\" cy=\"0\" r=\"3\" /><text class=\"lab lft\" transform=\"translate(-3 -7.0)\">13</text></g><g class=\"a17 c2 node n16 p3\" transform=\"translate(45.5583 5.07712)\"><g class=\"a16 c2 node n10 p3\" transform=\"translate(22.4833 14.0972)\"><g class=\"a10 i3 leaf node n6 p2 sample\" transform=\"translate(-9.46667 8.79494)\"><path class=\"edge\" d=\"M 0 0 V -8.79494 H 9.46667\" /><rect class=\"sym\" height=\"6\" width=\"6\" x=\"-3\" y=\"-3\" /><text class=\"lab\" transform=\"translate(0 11)\">6</text></g><g class=\"a10 i3 leaf node n7 p2 sample\" transform=\"translate(9.46667 8.79494)\"><path class=\"edge\" d=\"M 0 0 V -8.79494 H -9.46667\" /><rect class=\"sym\" height=\"6\" width=\"6\" x=\"-3\" y=\"-3\" /><text class=\"lab\" transform=\"translate(0 11)\">7</text></g><path class=\"edge\" d=\"M 0 0 V -14.0972 H -22.4833\" /><circle class=\"sym\" cx=\"0\" cy=\"0\" r=\"3\" /><text class=\"lab rgt\" transform=\"translate(3 -7.0)\">10</text></g><g class=\"a16 c2 node n15 p3\" transform=\"translate(-22.4833 2.95406)\"><g class=\"a15 i2 leaf node n5 p1 sample\" transform=\"translate(16.5667 19.9381)\"><path class=\"edge\" d=\"M 0 0 V -19.9381 H -16.5667\" /><rect class=\"sym\" height=\"6\" width=\"6\" x=\"-3\" y=\"-3\" /><text class=\"lab\" transform=\"translate(0 11)\">5</text></g><g class=\"a15 c2 node n9 p3\" transform=\"translate(-16.5667 11.3585)\"><g class=\"a9 i2 leaf node n4 p1 sample\" transform=\"translate(14.2 8.57958)\"><path class=\"edge\" d=\"M 0 0 V -8.57958 H -14.2\" /><rect class=\"sym\" height=\"6\" width=\"6\" x=\"-3\" y=\"-3\" /><text class=\"lab\" transform=\"translate(0 11)\">4</text></g><g class=\"a9 c2 node n8 p0\" transform=\"translate(-14.2 8.29824)\"><g class=\"a8 i1 leaf node n2 p0 sample\" transform=\"translate(-9.46667 0.281339)\"><path class=\"edge\" d=\"M 0 0 V -0.281339 H 9.46667\" /><rect class=\"sym\" height=\"6\" width=\"6\" x=\"-3\" y=\"-3\" /><text class=\"lab\" transform=\"translate(0 11)\">2</text></g><g class=\"a8 i1 leaf node n3 p0 sample\" transform=\"translate(9.46667 0.281339)\"><path class=\"edge\" d=\"M 0 0 V -0.281339 H -9.46667\" /><rect class=\"sym\" height=\"6\" width=\"6\" x=\"-3\" y=\"-3\" /><text class=\"lab\" transform=\"translate(0 11)\">3</text></g><path class=\"edge\" d=\"M 0 0 V -8.29824 H 14.2\" /><circle class=\"sym\" cx=\"0\" cy=\"0\" r=\"3\" /><text class=\"lab lft\" transform=\"translate(-3 -7.0)\">8</text></g><path class=\"edge\" d=\"M 0 0 V -11.3585 H 16.5667\" /><circle class=\"sym\" cx=\"0\" cy=\"0\" r=\"3\" /><text class=\"lab lft\" transform=\"translate(-3 -7.0)\">9</text></g><path class=\"edge\" d=\"M 0 0 V -2.95406 H 22.4833\" /><circle class=\"sym\" cx=\"0\" cy=\"0\" r=\"3\" /><text class=\"lab lft\" transform=\"translate(-3 -7.0)\">15</text></g><path class=\"edge\" d=\"M 0 0 V -5.07712 H -45.5583\" /><circle class=\"sym\" cx=\"0\" cy=\"0\" r=\"3\" /><text class=\"lab rgt\" transform=\"translate(3 -7.0)\">16</text></g><circle class=\"sym\" cx=\"0\" cy=\"0\" r=\"3\" /><text class=\"lab\" transform=\"translate(0 -11)\">17</text></g></g></g><g class=\"tree t2\" transform=\"translate(439.733 0)\"><g class=\"plotbox\"><g class=\"c2 node n17 p3 root\" transform=\"translate(84.4917 93.4308)\"><g class=\"a17 c2 node n16 p3\" transform=\"translate(45.5583 5.07712)\"><g class=\"a16 c2 node n10 p3\" transform=\"translate(22.4833 14.0972)\"><g class=\"a10 i3 leaf node n6 p2 sample\" transform=\"translate(-9.46667 8.79494)\"><path class=\"edge\" d=\"M 0 0 V -8.79494 H 9.46667\" /><rect class=\"sym\" height=\"6\" width=\"6\" x=\"-3\" y=\"-3\" /><text class=\"lab\" transform=\"translate(0 11)\">6</text></g><g class=\"a10 i3 leaf node n7 p2 sample\" transform=\"translate(9.46667 8.79494)\"><path class=\"edge\" d=\"M 0 0 V -8.79494 H -9.46667\" /><rect class=\"sym\" height=\"6\" width=\"6\" x=\"-3\" y=\"-3\" /><text class=\"lab\" transform=\"translate(0 11)\">7</text></g><path class=\"edge\" d=\"M 0 0 V -14.0972 H -22.4833\" /><circle class=\"sym\" cx=\"0\" cy=\"0\" r=\"3\" /><text class=\"lab rgt\" transform=\"translate(3 -7.0)\">10</text></g><g class=\"a16 c2 node n15 p3\" transform=\"translate(-22.4833 2.95406)\"><g class=\"a15 i2 leaf node n5 p1 sample\" transform=\"translate(16.5667 19.9381)\"><path class=\"edge\" d=\"M 0 0 V -19.9381 H -16.5667\" /><rect class=\"sym\" height=\"6\" width=\"6\" x=\"-3\" y=\"-3\" /><text class=\"lab\" transform=\"translate(0 11)\">5</text></g><g class=\"a15 c2 node n9 p3\" transform=\"translate(-16.5667 11.3585)\"><g class=\"a9 i2 leaf node n4 p1 sample\" transform=\"translate(14.2 8.57958)\"><path class=\"edge\" d=\"M 0 0 V -8.57958 H -14.2\" /><rect class=\"sym\" height=\"6\" width=\"6\" x=\"-3\" y=\"-3\" /><text class=\"lab\" transform=\"translate(0 11)\">4</text></g><g class=\"a9 c2 node n8 p0\" transform=\"translate(-14.2 8.29824)\"><g class=\"a8 i1 leaf node n2 p0 sample\" transform=\"translate(-9.46667 0.281339)\"><path class=\"edge\" d=\"M 0 0 V -0.281339 H 9.46667\" /><rect class=\"sym\" height=\"6\" width=\"6\" x=\"-3\" y=\"-3\" /><text class=\"lab\" transform=\"translate(0 11)\">2</text></g><g class=\"a8 i1 leaf node n3 p0 sample\" transform=\"translate(9.46667 0.281339)\"><path class=\"edge\" d=\"M 0 0 V -0.281339 H -9.46667\" /><rect class=\"sym\" height=\"6\" width=\"6\" x=\"-3\" y=\"-3\" /><text class=\"lab\" transform=\"translate(0 11)\">3</text></g><path class=\"edge\" d=\"M 0 0 V -8.29824 H 14.2\" /><circle class=\"sym\" cx=\"0\" cy=\"0\" r=\"3\" /><text class=\"lab lft\" transform=\"translate(-3 -7.0)\">8</text></g><path class=\"edge\" d=\"M 0 0 V -11.3585 H 16.5667\" /><circle class=\"sym\" cx=\"0\" cy=\"0\" r=\"3\" /><text class=\"lab lft\" transform=\"translate(-3 -7.0)\">9</text></g><path class=\"edge\" d=\"M 0 0 V -2.95406 H 22.4833\" /><circle class=\"sym\" cx=\"0\" cy=\"0\" r=\"3\" /><text class=\"lab lft\" transform=\"translate(-3 -7.0)\">15</text></g><path class=\"edge\" d=\"M 0 0 V -5.07712 H -45.5583\" /><circle class=\"sym\" cx=\"0\" cy=\"0\" r=\"3\" /><text class=\"lab rgt\" transform=\"translate(3 -7.0)\">16</text></g><g class=\"a17 c2 node n14 p3\" transform=\"translate(-45.5583 10.7814)\"><g class=\"a14 i0 leaf node n0 p0 sample\" transform=\"translate(-9.46667 17.1878)\"><path class=\"edge\" d=\"M 0 0 V -17.1878 H 9.46667\" /><rect class=\"sym\" height=\"6\" width=\"6\" x=\"-3\" y=\"-3\" /><text class=\"lab\" transform=\"translate(0 11)\">0</text></g><g class=\"a14 i0 leaf node n1 p0 sample\" transform=\"translate(9.46667 17.1878)\"><path class=\"edge\" d=\"M 0 0 V -17.1878 H -9.46667\" /><rect class=\"sym\" height=\"6\" width=\"6\" x=\"-3\" y=\"-3\" /><text class=\"lab\" transform=\"translate(0 11)\">1</text></g><path class=\"edge\" d=\"M 0 0 V -10.7814 H 45.5583\" /><circle class=\"sym\" cx=\"0\" cy=\"0\" r=\"3\" /><text class=\"lab lft\" transform=\"translate(-3 -7.0)\">14</text></g><circle class=\"sym\" cx=\"0\" cy=\"0\" r=\"3\" /><text class=\"lab\" transform=\"translate(0 -11)\">17</text></g></g></g><g class=\"tree t3\" transform=\"translate(631.2 0)\"><g class=\"plotbox\"><g class=\"c2 node n19 p3 root\" transform=\"translate(84.4917 70.0425)\"><g class=\"a19 c2 node n14 p3\" transform=\"translate(-45.5583 34.1697)\"><g class=\"a14 i0 leaf node n0 p0 sample\" transform=\"translate(-9.46667 17.1878)\"><path class=\"edge\" d=\"M 0 0 V -17.1878 H 9.46667\" /><rect class=\"sym\" height=\"6\" width=\"6\" x=\"-3\" y=\"-3\" /><text class=\"lab\" transform=\"translate(0 11)\">0</text></g><g class=\"a14 i0 leaf node n1 p0 sample\" transform=\"translate(9.46667 17.1878)\"><path class=\"edge\" d=\"M 0 0 V -17.1878 H -9.46667\" /><rect class=\"sym\" height=\"6\" width=\"6\" x=\"-3\" y=\"-3\" /><text class=\"lab\" transform=\"translate(0 11)\">1</text></g><path class=\"edge\" d=\"M 0 0 V -34.1697 H 45.5583\" /><circle class=\"sym\" cx=\"0\" cy=\"0\" r=\"3\" /><text class=\"lab lft\" transform=\"translate(-3 -7.0)\">14</text></g><g class=\"a19 c2 node n16 p3\" transform=\"translate(45.5583 28.4654)\"><g class=\"a16 c2 node n10 p3\" transform=\"translate(22.4833 14.0972)\"><g class=\"a10 i3 leaf node n6 p2 sample\" transform=\"translate(-9.46667 8.79494)\"><path class=\"edge\" d=\"M 0 0 V -8.79494 H 9.46667\" /><rect class=\"sym\" height=\"6\" width=\"6\" x=\"-3\" y=\"-3\" /><text class=\"lab\" transform=\"translate(0 11)\">6</text></g><g class=\"a10 i3 leaf node n7 p2 sample\" transform=\"translate(9.46667 8.79494)\"><path class=\"edge\" d=\"M 0 0 V -8.79494 H -9.46667\" /><rect class=\"sym\" height=\"6\" width=\"6\" x=\"-3\" y=\"-3\" /><text class=\"lab\" transform=\"translate(0 11)\">7</text></g><path class=\"edge\" d=\"M 0 0 V -14.0972 H -22.4833\" /><circle class=\"sym\" cx=\"0\" cy=\"0\" r=\"3\" /><text class=\"lab rgt\" transform=\"translate(3 -7.0)\">10</text></g><g class=\"a16 c2 node n15 p3\" transform=\"translate(-22.4833 2.95406)\"><g class=\"a15 i2 leaf node n5 p1 sample\" transform=\"translate(16.5667 19.9381)\"><path class=\"edge\" d=\"M 0 0 V -19.9381 H -16.5667\" /><rect class=\"sym\" height=\"6\" width=\"6\" x=\"-3\" y=\"-3\" /><text class=\"lab\" transform=\"translate(0 11)\">5</text></g><g class=\"a15 c2 node n9 p3\" transform=\"translate(-16.5667 11.3585)\"><g class=\"a9 i2 leaf node n4 p1 sample\" transform=\"translate(14.2 8.57958)\"><path class=\"edge\" d=\"M 0 0 V -8.57958 H -14.2\" /><rect class=\"sym\" height=\"6\" width=\"6\" x=\"-3\" y=\"-3\" /><text class=\"lab\" transform=\"translate(0 11)\">4</text></g><g class=\"a9 c2 node n8 p0\" transform=\"translate(-14.2 8.29824)\"><g class=\"a8 i1 leaf node n2 p0 sample\" transform=\"translate(-9.46667 0.281339)\"><path class=\"edge\" d=\"M 0 0 V -0.281339 H 9.46667\" /><rect class=\"sym\" height=\"6\" width=\"6\" x=\"-3\" y=\"-3\" /><text class=\"lab\" transform=\"translate(0 11)\">2</text></g><g class=\"a8 i1 leaf node n3 p0 sample\" transform=\"translate(9.46667 0.281339)\"><path class=\"edge\" d=\"M 0 0 V -0.281339 H -9.46667\" /><rect class=\"sym\" height=\"6\" width=\"6\" x=\"-3\" y=\"-3\" /><text class=\"lab\" transform=\"translate(0 11)\">3</text></g><path class=\"edge\" d=\"M 0 0 V -8.29824 H 14.2\" /><circle class=\"sym\" cx=\"0\" cy=\"0\" r=\"3\" /><text class=\"lab lft\" transform=\"translate(-3 -7.0)\">8</text></g><path class=\"edge\" d=\"M 0 0 V -11.3585 H 16.5667\" /><circle class=\"sym\" cx=\"0\" cy=\"0\" r=\"3\" /><text class=\"lab lft\" transform=\"translate(-3 -7.0)\">9</text></g><path class=\"edge\" d=\"M 0 0 V -2.95406 H 22.4833\" /><circle class=\"sym\" cx=\"0\" cy=\"0\" r=\"3\" /><text class=\"lab lft\" transform=\"translate(-3 -7.0)\">15</text></g><path class=\"edge\" d=\"M 0 0 V -28.4654 H -45.5583\" /><circle class=\"sym\" cx=\"0\" cy=\"0\" r=\"3\" /><text class=\"lab rgt\" transform=\"translate(3 -7.0)\">16</text></g><circle class=\"sym\" cx=\"0\" cy=\"0\" r=\"3\" /><text class=\"lab\" transform=\"translate(0 -11)\">19</text></g></g></g><g class=\"tree t4\" transform=\"translate(822.667 0)\"><g class=\"plotbox\"><g class=\"c2 node n22 p3 root\" transform=\"translate(84.4917 26.8)\"><g class=\"a22 c2 node n14 p3\" transform=\"translate(-45.5583 77.4122)\"><g class=\"a14 i0 leaf node n0 p0 sample\" transform=\"translate(-9.46667 17.1878)\"><path class=\"edge\" d=\"M 0 0 V -17.1878 H 9.46667\" /><rect class=\"sym\" height=\"6\" width=\"6\" x=\"-3\" y=\"-3\" /><text class=\"lab\" transform=\"translate(0 11)\">0</text></g><g class=\"a14 i0 leaf node n1 p0 sample\" transform=\"translate(9.46667 17.1878)\"><path class=\"edge\" d=\"M 0 0 V -17.1878 H -9.46667\" /><rect class=\"sym\" height=\"6\" width=\"6\" x=\"-3\" y=\"-3\" /><text class=\"lab\" transform=\"translate(0 11)\">1</text></g><path class=\"edge\" d=\"M 0 0 V -77.4122 H 45.5583\" /><circle class=\"sym\" cx=\"0\" cy=\"0\" r=\"3\" /><text class=\"lab lft\" transform=\"translate(-3 -7.0)\">14</text></g><g class=\"a22 c2 node n16 p3\" transform=\"translate(45.5583 71.7079)\"><g class=\"a16 c2 node n10 p3\" transform=\"translate(22.4833 14.0972)\"><g class=\"a10 i3 leaf node n6 p2 sample\" transform=\"translate(-9.46667 8.79494)\"><path class=\"edge\" d=\"M 0 0 V -8.79494 H 9.46667\" /><rect class=\"sym\" height=\"6\" width=\"6\" x=\"-3\" y=\"-3\" /><text class=\"lab\" transform=\"translate(0 11)\">6</text></g><g class=\"a10 i3 leaf node n7 p2 sample\" transform=\"translate(9.46667 8.79494)\"><path class=\"edge\" d=\"M 0 0 V -8.79494 H -9.46667\" /><rect class=\"sym\" height=\"6\" width=\"6\" x=\"-3\" y=\"-3\" /><text class=\"lab\" transform=\"translate(0 11)\">7</text></g><path class=\"edge\" d=\"M 0 0 V -14.0972 H -22.4833\" /><circle class=\"sym\" cx=\"0\" cy=\"0\" r=\"3\" /><text class=\"lab rgt\" transform=\"translate(3 -7.0)\">10</text></g><g class=\"a16 c2 node n15 p3\" transform=\"translate(-22.4833 2.95406)\"><g class=\"a15 i2 leaf node n5 p1 sample\" transform=\"translate(16.5667 19.9381)\"><path class=\"edge\" d=\"M 0 0 V -19.9381 H -16.5667\" /><rect class=\"sym\" height=\"6\" width=\"6\" x=\"-3\" y=\"-3\" /><text class=\"lab\" transform=\"translate(0 11)\">5</text></g><g class=\"a15 c2 node n9 p3\" transform=\"translate(-16.5667 11.3585)\"><g class=\"a9 i2 leaf node n4 p1 sample\" transform=\"translate(14.2 8.57958)\"><path class=\"edge\" d=\"M 0 0 V -8.57958 H -14.2\" /><rect class=\"sym\" height=\"6\" width=\"6\" x=\"-3\" y=\"-3\" /><text class=\"lab\" transform=\"translate(0 11)\">4</text></g><g class=\"a9 c2 node n8 p0\" transform=\"translate(-14.2 8.29824)\"><g class=\"a8 i1 leaf node n2 p0 sample\" transform=\"translate(-9.46667 0.281339)\"><path class=\"edge\" d=\"M 0 0 V -0.281339 H 9.46667\" /><rect class=\"sym\" height=\"6\" width=\"6\" x=\"-3\" y=\"-3\" /><text class=\"lab\" transform=\"translate(0 11)\">2</text></g><g class=\"a8 i1 leaf node n3 p0 sample\" transform=\"translate(9.46667 0.281339)\"><path class=\"edge\" d=\"M 0 0 V -0.281339 H -9.46667\" /><rect class=\"sym\" height=\"6\" width=\"6\" x=\"-3\" y=\"-3\" /><text class=\"lab\" transform=\"translate(0 11)\">3</text></g><path class=\"edge\" d=\"M 0 0 V -8.29824 H 14.2\" /><circle class=\"sym\" cx=\"0\" cy=\"0\" r=\"3\" /><text class=\"lab lft\" transform=\"translate(-3 -7.0)\">8</text></g><path class=\"edge\" d=\"M 0 0 V -11.3585 H 16.5667\" /><circle class=\"sym\" cx=\"0\" cy=\"0\" r=\"3\" /><text class=\"lab lft\" transform=\"translate(-3 -7.0)\">9</text></g><path class=\"edge\" d=\"M 0 0 V -2.95406 H 22.4833\" /><circle class=\"sym\" cx=\"0\" cy=\"0\" r=\"3\" /><text class=\"lab lft\" transform=\"translate(-3 -7.0)\">15</text></g><path class=\"edge\" d=\"M 0 0 V -71.7079 H -45.5583\" /><circle class=\"sym\" cx=\"0\" cy=\"0\" r=\"3\" /><text class=\"lab rgt\" transform=\"translate(3 -7.0)\">16</text></g><circle class=\"sym\" cx=\"0\" cy=\"0\" r=\"3\" /><text class=\"lab\" transform=\"translate(0 -11)\">22</text></g></g></g><g class=\"tree t5\" transform=\"translate(1014.13 0)\"><g class=\"plotbox\"><g class=\"c2 node n21 p3 root\" transform=\"translate(84.4917 29.1487)\"><g class=\"a21 c2 node n14 p3\" transform=\"translate(-45.5583 75.0635)\"><g class=\"a14 i0 leaf node n0 p0 sample\" transform=\"translate(-9.46667 17.1878)\"><path class=\"edge\" d=\"M 0 0 V -17.1878 H 9.46667\" /><rect class=\"sym\" height=\"6\" width=\"6\" x=\"-3\" y=\"-3\" /><text class=\"lab\" transform=\"translate(0 11)\">0</text></g><g class=\"a14 i0 leaf node n1 p0 sample\" transform=\"translate(9.46667 17.1878)\"><path class=\"edge\" d=\"M 0 0 V -17.1878 H -9.46667\" /><rect class=\"sym\" height=\"6\" width=\"6\" x=\"-3\" y=\"-3\" /><text class=\"lab\" transform=\"translate(0 11)\">1</text></g><path class=\"edge\" d=\"M 0 0 V -75.0635 H 45.5583\" /><circle class=\"sym\" cx=\"0\" cy=\"0\" r=\"3\" /><text class=\"lab lft\" transform=\"translate(-3 -7.0)\">14</text></g><g class=\"a21 c2 node n16 p3\" transform=\"translate(45.5583 69.3592)\"><g class=\"a16 c2 node n10 p3\" transform=\"translate(22.4833 14.0972)\"><g class=\"a10 i3 leaf node n6 p2 sample\" transform=\"translate(-9.46667 8.79494)\"><path class=\"edge\" d=\"M 0 0 V -8.79494 H 9.46667\" /><rect class=\"sym\" height=\"6\" width=\"6\" x=\"-3\" y=\"-3\" /><text class=\"lab\" transform=\"translate(0 11)\">6</text></g><g class=\"a10 i3 leaf node n7 p2 sample\" transform=\"translate(9.46667 8.79494)\"><path class=\"edge\" d=\"M 0 0 V -8.79494 H -9.46667\" /><rect class=\"sym\" height=\"6\" width=\"6\" x=\"-3\" y=\"-3\" /><text class=\"lab\" transform=\"translate(0 11)\">7</text></g><path class=\"edge\" d=\"M 0 0 V -14.0972 H -22.4833\" /><circle class=\"sym\" cx=\"0\" cy=\"0\" r=\"3\" /><text class=\"lab rgt\" transform=\"translate(3 -7.0)\">10</text></g><g class=\"a16 c2 node n15 p3\" transform=\"translate(-22.4833 2.95406)\"><g class=\"a15 i2 leaf node n5 p1 sample\" transform=\"translate(16.5667 19.9381)\"><path class=\"edge\" d=\"M 0 0 V -19.9381 H -16.5667\" /><rect class=\"sym\" height=\"6\" width=\"6\" x=\"-3\" y=\"-3\" /><text class=\"lab\" transform=\"translate(0 11)\">5</text></g><g class=\"a15 c2 node n9 p3\" transform=\"translate(-16.5667 11.3585)\"><g class=\"a9 i2 leaf node n4 p1 sample\" transform=\"translate(14.2 8.57958)\"><path class=\"edge\" d=\"M 0 0 V -8.57958 H -14.2\" /><rect class=\"sym\" height=\"6\" width=\"6\" x=\"-3\" y=\"-3\" /><text class=\"lab\" transform=\"translate(0 11)\">4</text></g><g class=\"a9 c2 node n8 p0\" transform=\"translate(-14.2 8.29824)\"><g class=\"a8 i1 leaf node n2 p0 sample\" transform=\"translate(-9.46667 0.281339)\"><path class=\"edge\" d=\"M 0 0 V -0.281339 H 9.46667\" /><rect class=\"sym\" height=\"6\" width=\"6\" x=\"-3\" y=\"-3\" /><text class=\"lab\" transform=\"translate(0 11)\">2</text></g><g class=\"a8 i1 leaf node n3 p0 sample\" transform=\"translate(9.46667 0.281339)\"><path class=\"edge\" d=\"M 0 0 V -0.281339 H -9.46667\" /><rect class=\"sym\" height=\"6\" width=\"6\" x=\"-3\" y=\"-3\" /><text class=\"lab\" transform=\"translate(0 11)\">3</text></g><path class=\"edge\" d=\"M 0 0 V -8.29824 H 14.2\" /><circle class=\"sym\" cx=\"0\" cy=\"0\" r=\"3\" /><text class=\"lab lft\" transform=\"translate(-3 -7.0)\">8</text></g><path class=\"edge\" d=\"M 0 0 V -11.3585 H 16.5667\" /><circle class=\"sym\" cx=\"0\" cy=\"0\" r=\"3\" /><text class=\"lab lft\" transform=\"translate(-3 -7.0)\">9</text></g><path class=\"edge\" d=\"M 0 0 V -2.95406 H 22.4833\" /><circle class=\"sym\" cx=\"0\" cy=\"0\" r=\"3\" /><text class=\"lab lft\" transform=\"translate(-3 -7.0)\">15</text></g><path class=\"edge\" d=\"M 0 0 V -69.3592 H -45.5583\" /><circle class=\"sym\" cx=\"0\" cy=\"0\" r=\"3\" /><text class=\"lab rgt\" transform=\"translate(3 -7.0)\">16</text></g><circle class=\"sym\" cx=\"0\" cy=\"0\" r=\"3\" /><text class=\"lab\" transform=\"translate(0 -11)\">21</text></g></g></g><g class=\"tree t6\" transform=\"translate(1205.6 0)\"><g class=\"plotbox\"><g class=\"c2 node n20 p3 root\" transform=\"translate(84.4917 40.6632)\"><g class=\"a20 c2 node n14 p3\" transform=\"translate(-45.5583 63.549)\"><g class=\"a14 i0 leaf node n0 p0 sample\" transform=\"translate(-9.46667 17.1878)\"><path class=\"edge\" d=\"M 0 0 V -17.1878 H 9.46667\" /><rect class=\"sym\" height=\"6\" width=\"6\" x=\"-3\" y=\"-3\" /><text class=\"lab\" transform=\"translate(0 11)\">0</text></g><g class=\"a14 i0 leaf node n1 p0 sample\" transform=\"translate(9.46667 17.1878)\"><path class=\"edge\" d=\"M 0 0 V -17.1878 H -9.46667\" /><rect class=\"sym\" height=\"6\" width=\"6\" x=\"-3\" y=\"-3\" /><text class=\"lab\" transform=\"translate(0 11)\">1</text></g><path class=\"edge\" d=\"M 0 0 V -63.549 H 45.5583\" /><circle class=\"sym\" cx=\"0\" cy=\"0\" r=\"3\" /><text class=\"lab lft\" transform=\"translate(-3 -7.0)\">14</text></g><g class=\"a20 c2 node n16 p3\" transform=\"translate(45.5583 57.8447)\"><g class=\"a16 c2 node n10 p3\" transform=\"translate(22.4833 14.0972)\"><g class=\"a10 i3 leaf node n6 p2 sample\" transform=\"translate(-9.46667 8.79494)\"><path class=\"edge\" d=\"M 0 0 V -8.79494 H 9.46667\" /><rect class=\"sym\" height=\"6\" width=\"6\" x=\"-3\" y=\"-3\" /><text class=\"lab\" transform=\"translate(0 11)\">6</text></g><g class=\"a10 i3 leaf node n7 p2 sample\" transform=\"translate(9.46667 8.79494)\"><path class=\"edge\" d=\"M 0 0 V -8.79494 H -9.46667\" /><rect class=\"sym\" height=\"6\" width=\"6\" x=\"-3\" y=\"-3\" /><text class=\"lab\" transform=\"translate(0 11)\">7</text></g><path class=\"edge\" d=\"M 0 0 V -14.0972 H -22.4833\" /><circle class=\"sym\" cx=\"0\" cy=\"0\" r=\"3\" /><text class=\"lab rgt\" transform=\"translate(3 -7.0)\">10</text></g><g class=\"a16 c2 node n15 p3\" transform=\"translate(-22.4833 2.95406)\"><g class=\"a15 i2 leaf node n5 p1 sample\" transform=\"translate(16.5667 19.9381)\"><path class=\"edge\" d=\"M 0 0 V -19.9381 H -16.5667\" /><rect class=\"sym\" height=\"6\" width=\"6\" x=\"-3\" y=\"-3\" /><text class=\"lab\" transform=\"translate(0 11)\">5</text></g><g class=\"a15 c2 node n9 p3\" transform=\"translate(-16.5667 11.3585)\"><g class=\"a9 i2 leaf node n4 p1 sample\" transform=\"translate(14.2 8.57958)\"><path class=\"edge\" d=\"M 0 0 V -8.57958 H -14.2\" /><rect class=\"sym\" height=\"6\" width=\"6\" x=\"-3\" y=\"-3\" /><text class=\"lab\" transform=\"translate(0 11)\">4</text></g><g class=\"a9 c2 node n8 p0\" transform=\"translate(-14.2 8.29824)\"><g class=\"a8 i1 leaf node n2 p0 sample\" transform=\"translate(-9.46667 0.281339)\"><path class=\"edge\" d=\"M 0 0 V -0.281339 H 9.46667\" /><rect class=\"sym\" height=\"6\" width=\"6\" x=\"-3\" y=\"-3\" /><text class=\"lab\" transform=\"translate(0 11)\">2</text></g><g class=\"a8 i1 leaf node n3 p0 sample\" transform=\"translate(9.46667 0.281339)\"><path class=\"edge\" d=\"M 0 0 V -0.281339 H -9.46667\" /><rect class=\"sym\" height=\"6\" width=\"6\" x=\"-3\" y=\"-3\" /><text class=\"lab\" transform=\"translate(0 11)\">3</text></g><path class=\"edge\" d=\"M 0 0 V -8.29824 H 14.2\" /><circle class=\"sym\" cx=\"0\" cy=\"0\" r=\"3\" /><text class=\"lab lft\" transform=\"translate(-3 -7.0)\">8</text></g><path class=\"edge\" d=\"M 0 0 V -11.3585 H 16.5667\" /><circle class=\"sym\" cx=\"0\" cy=\"0\" r=\"3\" /><text class=\"lab lft\" transform=\"translate(-3 -7.0)\">9</text></g><path class=\"edge\" d=\"M 0 0 V -2.95406 H 22.4833\" /><circle class=\"sym\" cx=\"0\" cy=\"0\" r=\"3\" /><text class=\"lab lft\" transform=\"translate(-3 -7.0)\">15</text></g><path class=\"edge\" d=\"M 0 0 V -57.8447 H -45.5583\" /><circle class=\"sym\" cx=\"0\" cy=\"0\" r=\"3\" /><text class=\"lab rgt\" transform=\"translate(3 -7.0)\">16</text></g><circle class=\"sym\" cx=\"0\" cy=\"0\" r=\"3\" /><text class=\"lab\" transform=\"translate(0 -11)\">20</text></g></g></g><g class=\"tree t7\" transform=\"translate(1397.07 0)\"><g class=\"plotbox\"><g class=\"c2 node n20 p3 root\" transform=\"translate(92.1833 40.6632)\"><g class=\"a20 c2 node n14 p3\" transform=\"translate(-39.05 63.549)\"><g class=\"a14 i0 leaf node n1 p0 sample\" transform=\"translate(14.2 17.1878)\"><path class=\"edge\" d=\"M 0 0 V -17.1878 H -14.2\" /><rect class=\"sym\" height=\"6\" width=\"6\" x=\"-3\" y=\"-3\" /><text class=\"lab\" transform=\"translate(0 11)\">1</text></g><g class=\"a14 c2 node n11 p3\" transform=\"translate(-14.2 6.6438)\"><g class=\"a11 i0 leaf node n0 p0 sample\" transform=\"translate(-9.46667 10.544)\"><path class=\"edge\" d=\"M 0 0 V -10.544 H 9.46667\" /><rect class=\"sym\" height=\"6\" width=\"6\" x=\"-3\" y=\"-3\" /><text class=\"lab\" transform=\"translate(0 11)\">0</text></g><g class=\"a11 i2 leaf node n4 p1 sample\" transform=\"translate(9.46667 10.544)\"><path class=\"edge\" d=\"M 0 0 V -10.544 H -9.46667\" /><rect class=\"sym\" height=\"6\" width=\"6\" x=\"-3\" y=\"-3\" /><text class=\"lab\" transform=\"translate(0 11)\">4</text></g><path class=\"edge\" d=\"M 0 0 V -6.6438 H 14.2\" /><circle class=\"sym\" cx=\"0\" cy=\"0\" r=\"3\" /><text class=\"lab lft\" transform=\"translate(-3 -7.0)\">11</text></g><path class=\"edge\" d=\"M 0 0 V -63.549 H 39.05\" /><circle class=\"sym\" cx=\"0\" cy=\"0\" r=\"3\" /><text class=\"lab lft\" transform=\"translate(-3 -7.0)\">14</text></g><g class=\"a20 c2 node n16 p3\" transform=\"translate(39.05 57.8447)\"><g class=\"a16 c2 node n10 p3\" transform=\"translate(21.3 14.0972)\"><g class=\"a10 i3 leaf node n6 p2 sample\" transform=\"translate(-9.46667 8.79494)\"><path class=\"edge\" d=\"M 0 0 V -8.79494 H 9.46667\" /><rect class=\"sym\" height=\"6\" width=\"6\" x=\"-3\" y=\"-3\" /><text class=\"lab\" transform=\"translate(0 11)\">6</text></g><g class=\"a10 i3 leaf node n7 p2 sample\" transform=\"translate(9.46667 8.79494)\"><path class=\"edge\" d=\"M 0 0 V -8.79494 H -9.46667\" /><rect class=\"sym\" height=\"6\" width=\"6\" x=\"-3\" y=\"-3\" /><text class=\"lab\" transform=\"translate(0 11)\">7</text></g><path class=\"edge\" d=\"M 0 0 V -14.0972 H -21.3\" /><circle class=\"sym\" cx=\"0\" cy=\"0\" r=\"3\" /><text class=\"lab rgt\" transform=\"translate(3 -7.0)\">10</text></g><g class=\"a16 c2 node n15 p3\" transform=\"translate(-21.3 2.95406)\"><g class=\"a15 i2 leaf node n5 p1 sample\" transform=\"translate(14.2 19.9381)\"><path class=\"edge\" d=\"M 0 0 V -19.9381 H -14.2\" /><rect class=\"sym\" height=\"6\" width=\"6\" x=\"-3\" y=\"-3\" /><text class=\"lab\" transform=\"translate(0 11)\">5</text></g><g class=\"a15 c2 node n8 p0\" transform=\"translate(-14.2 19.6567)\"><g class=\"a8 i1 leaf node n2 p0 sample\" transform=\"translate(-9.46667 0.281339)\"><path class=\"edge\" d=\"M 0 0 V -0.281339 H 9.46667\" /><rect class=\"sym\" height=\"6\" width=\"6\" x=\"-3\" y=\"-3\" /><text class=\"lab\" transform=\"translate(0 11)\">2</text></g><g class=\"a8 i1 leaf node n3 p0 sample\" transform=\"translate(9.46667 0.281339)\"><path class=\"edge\" d=\"M 0 0 V -0.281339 H -9.46667\" /><rect class=\"sym\" height=\"6\" width=\"6\" x=\"-3\" y=\"-3\" /><text class=\"lab\" transform=\"translate(0 11)\">3</text></g><path class=\"edge\" d=\"M 0 0 V -19.6567 H 14.2\" /><circle class=\"sym\" cx=\"0\" cy=\"0\" r=\"3\" /><text class=\"lab lft\" transform=\"translate(-3 -7.0)\">8</text></g><path class=\"edge\" d=\"M 0 0 V -2.95406 H 21.3\" /><circle class=\"sym\" cx=\"0\" cy=\"0\" r=\"3\" /><text class=\"lab lft\" transform=\"translate(-3 -7.0)\">15</text></g><path class=\"edge\" d=\"M 0 0 V -57.8447 H -39.05\" /><circle class=\"sym\" cx=\"0\" cy=\"0\" r=\"3\" /><text class=\"lab rgt\" transform=\"translate(3 -7.0)\">16</text></g><circle class=\"sym\" cx=\"0\" cy=\"0\" r=\"3\" /><text class=\"lab\" transform=\"translate(0 -11)\">20</text></g></g></g><g class=\"tree t8\" transform=\"translate(1588.53 0)\"><g class=\"plotbox\"><g class=\"c2 node n18 p3 root\" transform=\"translate(92.1833 89.175)\"><g class=\"a18 c2 node n14 p3\" transform=\"translate(-39.05 15.0372)\"><g class=\"a14 i0 leaf node n1 p0 sample\" transform=\"translate(14.2 17.1878)\"><path class=\"edge\" d=\"M 0 0 V -17.1878 H -14.2\" /><rect class=\"sym\" height=\"6\" width=\"6\" x=\"-3\" y=\"-3\" /><text class=\"lab\" transform=\"translate(0 11)\">1</text></g><g class=\"a14 c2 node n11 p3\" transform=\"translate(-14.2 6.6438)\"><g class=\"a11 i0 leaf node n0 p0 sample\" transform=\"translate(-9.46667 10.544)\"><path class=\"edge\" d=\"M 0 0 V -10.544 H 9.46667\" /><rect class=\"sym\" height=\"6\" width=\"6\" x=\"-3\" y=\"-3\" /><text class=\"lab\" transform=\"translate(0 11)\">0</text></g><g class=\"a11 i2 leaf node n4 p1 sample\" transform=\"translate(9.46667 10.544)\"><path class=\"edge\" d=\"M 0 0 V -10.544 H -9.46667\" /><rect class=\"sym\" height=\"6\" width=\"6\" x=\"-3\" y=\"-3\" /><text class=\"lab\" transform=\"translate(0 11)\">4</text></g><path class=\"edge\" d=\"M 0 0 V -6.6438 H 14.2\" /><circle class=\"sym\" cx=\"0\" cy=\"0\" r=\"3\" /><text class=\"lab lft\" transform=\"translate(-3 -7.0)\">11</text></g><path class=\"edge\" d=\"M 0 0 V -15.0372 H 39.05\" /><circle class=\"sym\" cx=\"0\" cy=\"0\" r=\"3\" /><text class=\"lab lft\" transform=\"translate(-3 -7.0)\">14</text></g><g class=\"a18 c2 node n16 p3\" transform=\"translate(39.05 9.33287)\"><g class=\"a16 c2 node n10 p3\" transform=\"translate(21.3 14.0972)\"><g class=\"a10 i3 leaf node n6 p2 sample\" transform=\"translate(-9.46667 8.79494)\"><path class=\"edge\" d=\"M 0 0 V -8.79494 H 9.46667\" /><rect class=\"sym\" height=\"6\" width=\"6\" x=\"-3\" y=\"-3\" /><text class=\"lab\" transform=\"translate(0 11)\">6</text></g><g class=\"a10 i3 leaf node n7 p2 sample\" transform=\"translate(9.46667 8.79494)\"><path class=\"edge\" d=\"M 0 0 V -8.79494 H -9.46667\" /><rect class=\"sym\" height=\"6\" width=\"6\" x=\"-3\" y=\"-3\" /><text class=\"lab\" transform=\"translate(0 11)\">7</text></g><path class=\"edge\" d=\"M 0 0 V -14.0972 H -21.3\" /><circle class=\"sym\" cx=\"0\" cy=\"0\" r=\"3\" /><text class=\"lab rgt\" transform=\"translate(3 -7.0)\">10</text></g><g class=\"a16 c2 node n15 p3\" transform=\"translate(-21.3 2.95406)\"><g class=\"a15 i2 leaf node n5 p1 sample\" transform=\"translate(14.2 19.9381)\"><path class=\"edge\" d=\"M 0 0 V -19.9381 H -14.2\" /><rect class=\"sym\" height=\"6\" width=\"6\" x=\"-3\" y=\"-3\" /><text class=\"lab\" transform=\"translate(0 11)\">5</text></g><g class=\"a15 c2 node n8 p0\" transform=\"translate(-14.2 19.6567)\"><g class=\"a8 i1 leaf node n2 p0 sample\" transform=\"translate(-9.46667 0.281339)\"><path class=\"edge\" d=\"M 0 0 V -0.281339 H 9.46667\" /><rect class=\"sym\" height=\"6\" width=\"6\" x=\"-3\" y=\"-3\" /><text class=\"lab\" transform=\"translate(0 11)\">2</text></g><g class=\"a8 i1 leaf node n3 p0 sample\" transform=\"translate(9.46667 0.281339)\"><path class=\"edge\" d=\"M 0 0 V -0.281339 H -9.46667\" /><rect class=\"sym\" height=\"6\" width=\"6\" x=\"-3\" y=\"-3\" /><text class=\"lab\" transform=\"translate(0 11)\">3</text></g><path class=\"edge\" d=\"M 0 0 V -19.6567 H 14.2\" /><circle class=\"sym\" cx=\"0\" cy=\"0\" r=\"3\" /><text class=\"lab lft\" transform=\"translate(-3 -7.0)\">8</text></g><path class=\"edge\" d=\"M 0 0 V -2.95406 H 21.3\" /><circle class=\"sym\" cx=\"0\" cy=\"0\" r=\"3\" /><text class=\"lab lft\" transform=\"translate(-3 -7.0)\">15</text></g><path class=\"edge\" d=\"M 0 0 V -9.33287 H -39.05\" /><circle class=\"sym\" cx=\"0\" cy=\"0\" r=\"3\" /><text class=\"lab rgt\" transform=\"translate(3 -7.0)\">16</text></g><circle class=\"sym\" cx=\"0\" cy=\"0\" r=\"3\" /><text class=\"lab\" transform=\"translate(0 -11)\">18</text></g></g></g></g></g></svg>"
      ],
      "text/plain": [
       "'<svg baseProfile=\"full\" height=\"200\" version=\"1.1\" width=\"1800\" xmlns=\"http://www.w3.org/2000/svg\" xmlns:ev=\"http://www.w3.org/2001/xml-events\" xmlns:xlink=\"http://www.w3.org/1999/xlink\"><defs><style type=\"text/css\"><![CDATA[.background path {fill: #808080; fill-opacity: 0}.background path:nth-child(odd) {fill-opacity: .1}.axes {font-size: 14px}.x-axis .tick .lab {font-weight: bold; dominant-baseline: hanging}.axes, .tree {font-size: 14px; text-anchor: middle}.axes line, .edge {stroke: black; fill: none}.axes .ax-skip {stroke-dasharray: 4}.y-axis .grid {stroke: #FAFAFA}.node > .sym {fill: black; stroke: none}.site > .sym {stroke: black}.mut text {fill: red; font-style: italic}.mut.extra text {fill: hotpink}.mut line {fill: none; stroke: none}.mut .sym {fill: none; stroke: red}.mut.extra .sym {stroke: hotpink}.node .mut .sym {stroke-width: 1.5px}.tree text, .tree-sequence text {dominant-baseline: central}.plotbox .lab.lft {text-anchor: end}.plotbox .lab.rgt {text-anchor: start}]]></style></defs><g class=\"tree-sequence\"><g class=\"background\"><path d=\"M56.8,0 l191.467,0 l0,138.2 l148.176,25 l0,5 l-339.643,0 l0,-5 l0,-25 l0,-138.2z\" /><path d=\"M248.267,0 l191.467,0 l0,138.2 l96.1507,25 l0,5 l-139.441,0 l0,-5 l-148.176,-25 l0,-138.2z\" /><path d=\"M439.733,0 l191.467,0 l0,138.2 l159.166,25 l0,5 l-254.482,0 l0,-5 l-96.151,-25 l0,-138.2z\" /><path d=\"M631.2,0 l191.467,0 l0,138.2 l41.4181,25 l0,5 l-73.7185,0 l0,-5 l-159.166,-25 l0,-138.2z\" /><path d=\"M822.667,0 l191.467,0 l0,138.2 l-88.3925,25 l0,5 l-61.6561,0 l0,-5 l-41.418,-25 l0,-138.2z\" /><path d=\"M1014.13,0 l191.467,0 l0,138.2 l-98.9232,25 l0,5 l-180.936,0 l0,-5 l88.389,-25 l0,-138.2z\" /><path d=\"M1205.6,0 l191.467,0 l0,138.2 l83.579,25 l0,5 l-373.969,0 l0,-5 l98.92,-25 l0,-138.2z\" /><path d=\"M1397.07,0 l191.467,0 l0,138.2 l61.7786,25 l0,5 l-169.666,0 l0,-5 l-83.58,-25 l0,-138.2z\" /><path d=\"M1588.53,0 l191.467,0 l0,138.2 l0,25 l0,5 l-129.688,0 l0,-5 l-61.78,-25 l0,-138.2z\" /></g><g class=\"axes\"><g class=\"x-axis\"><g class=\"title\" transform=\"translate(918.4 200)\"><text class=\"lab\" text-anchor=\"middle\" transform=\"translate(0 -11)\">Genome position</text></g><line class=\"ax-line\" x1=\"56.8\" x2=\"1780\" y1=\"163.2\" y2=\"163.2\" /><g class=\"ticks\"><g class=\"tick\" transform=\"translate(56.8 163.2)\"><line x1=\"0\" x2=\"0\" y1=\"0\" y2=\"5\" /><g transform=\"translate(0 6)\"><text class=\"lab\">0</text></g></g><g class=\"tick\" transform=\"translate(396.443 163.2)\"><line x1=\"0\" x2=\"0\" y1=\"0\" y2=\"5\" /><g transform=\"translate(0 6)\"><text class=\"lab\">9855</text></g></g><g class=\"tick\" transform=\"translate(535.884 163.2)\"><line x1=\"0\" x2=\"0\" y1=\"0\" y2=\"5\" /><g transform=\"translate(0 6)\"><text class=\"lab\">13901</text></g></g><g class=\"tick\" transform=\"translate(790.366 163.2)\"><line x1=\"0\" x2=\"0\" y1=\"0\" y2=\"5\" /><g transform=\"translate(0 6)\"><text class=\"lab\">21285</text></g></g><g class=\"tick\" transform=\"translate(864.085 163.2)\"><line x1=\"0\" x2=\"0\" y1=\"0\" y2=\"5\" /><g transform=\"translate(0 6)\"><text class=\"lab\">23424</text></g></g><g class=\"tick\" transform=\"translate(925.741 163.2)\"><line x1=\"0\" x2=\"0\" y1=\"0\" y2=\"5\" /><g transform=\"translate(0 6)\"><text class=\"lab\">25213</text></g></g><g class=\"tick\" transform=\"translate(1106.68 163.2)\"><line x1=\"0\" x2=\"0\" y1=\"0\" y2=\"5\" /><g transform=\"translate(0 6)\"><text class=\"lab\">30463</text></g></g><g class=\"tick\" transform=\"translate(1480.65 163.2)\"><line x1=\"0\" x2=\"0\" y1=\"0\" y2=\"5\" /><g transform=\"translate(0 6)\"><text class=\"lab\">41314</text></g></g><g class=\"tick\" transform=\"translate(1650.31 163.2)\"><line x1=\"0\" x2=\"0\" y1=\"0\" y2=\"5\" /><g transform=\"translate(0 6)\"><text class=\"lab\">46237</text></g></g><g class=\"tick\" transform=\"translate(1780 163.2)\"><line x1=\"0\" x2=\"0\" y1=\"0\" y2=\"5\" /><g transform=\"translate(0 6)\"><text class=\"lab\">50000</text></g></g></g></g><g class=\"y-axis\"><g class=\"title\" transform=\"translate(0 65.7)\"><text class=\"lab\" text-anchor=\"middle\" transform=\"translate(11) rotate(-90)\">Time (generations)</text></g><line class=\"ax-line\" x1=\"56.8\" x2=\"56.8\" y1=\"121.4\" y2=\"10\" /><g class=\"ticks\"><g class=\"tick\" transform=\"translate(56.8 121.4)\"><line x1=\"0\" x2=\"-5\" y1=\"0\" y2=\"0\" /><g transform=\"translate(-6 0)\"><text class=\"lab\" text-anchor=\"end\">0</text></g></g><g class=\"tick\" transform=\"translate(56.8 96.5673)\"><line x1=\"0\" x2=\"-5\" y1=\"0\" y2=\"0\" /><g transform=\"translate(-6 0)\"><text class=\"lab\" text-anchor=\"end\">3000</text></g></g><g class=\"tick\" transform=\"translate(56.8 71.7346)\"><line x1=\"0\" x2=\"-5\" y1=\"0\" y2=\"0\" /><g transform=\"translate(-6 0)\"><text class=\"lab\" text-anchor=\"end\">6000</text></g></g><g class=\"tick\" transform=\"translate(56.8 46.9019)\"><line x1=\"0\" x2=\"-5\" y1=\"0\" y2=\"0\" /><g transform=\"translate(-6 0)\"><text class=\"lab\" text-anchor=\"end\">9000</text></g></g><g class=\"tick\" transform=\"translate(56.8 22.0692)\"><line x1=\"0\" x2=\"-5\" y1=\"0\" y2=\"0\" /><g transform=\"translate(-6 0)\"><text class=\"lab\" text-anchor=\"end\">12000</text></g></g></g></g></g><g class=\"plotbox trees\"><g class=\"tree t0\" transform=\"translate(56.8 0)\"><g class=\"plotbox\"><g class=\"c2 node n17 p3 root\" transform=\"translate(93.9583 93.4308)\"><g class=\"a17 c2 node n13 p3\" transform=\"translate(-44.375 11.8965)\"><g class=\"a13 i0 leaf node n0 p0 sample\" transform=\"translate(-20.1167 16.0727)\"><path class=\"edge\" d=\"M 0 0 V -16.0727 H 20.1167\" /><rect class=\"sym\" height=\"6\" width=\"6\" x=\"-3\" y=\"-3\" /><text class=\"lab\" transform=\"translate(0 11)\">0</text></g><g class=\"a13 c2 node n12 p3\" transform=\"translate(20.1167 4.16009)\"><g class=\"a12 i0 leaf node n1 p0 sample\" transform=\"translate(-21.3 11.9126)\"><path class=\"edge\" d=\"M 0 0 V -11.9126 H 21.3\" /><rect class=\"sym\" height=\"6\" width=\"6\" x=\"-3\" y=\"-3\" /><text class=\"lab\" transform=\"translate(0 11)\">1</text></g><g class=\"a12 c2 node n9 p3\" transform=\"translate(21.3 3.33303)\"><g class=\"a9 i2 leaf node n4 p1 sample\" transform=\"translate(14.2 8.57958)\"><path class=\"edge\" d=\"M 0 0 V -8.57958 H -14.2\" /><rect class=\"sym\" height=\"6\" width=\"6\" x=\"-3\" y=\"-3\" /><text class=\"lab\" transform=\"translate(0 11)\">4</text></g><g class=\"a9 c2 node n8 p0\" transform=\"translate(-14.2 8.29824)\"><g class=\"a8 i1 leaf node n2 p0 sample\" transform=\"translate(-9.46667 0.281339)\"><path class=\"edge\" d=\"M 0 0 V -0.281339 H 9.46667\" /><rect class=\"sym\" height=\"6\" width=\"6\" x=\"-3\" y=\"-3\" /><text class=\"lab\" transform=\"translate(0 11)\">2</text></g><g class=\"a8 i1 leaf node n3 p0 sample\" transform=\"translate(9.46667 0.281339)\"><path class=\"edge\" d=\"M 0 0 V -0.281339 H -9.46667\" /><rect class=\"sym\" height=\"6\" width=\"6\" x=\"-3\" y=\"-3\" /><text class=\"lab\" transform=\"translate(0 11)\">3</text></g><path class=\"edge\" d=\"M 0 0 V -8.29824 H 14.2\" /><circle class=\"sym\" cx=\"0\" cy=\"0\" r=\"3\" /><text class=\"lab lft\" transform=\"translate(-3 -7.0)\">8</text></g><path class=\"edge\" d=\"M 0 0 V -3.33303 H -21.3\" /><circle class=\"sym\" cx=\"0\" cy=\"0\" r=\"3\" /><text class=\"lab rgt\" transform=\"translate(3 -7.0)\">9</text></g><path class=\"edge\" d=\"M 0 0 V -4.16009 H -20.1167\" /><circle class=\"sym\" cx=\"0\" cy=\"0\" r=\"3\" /><text class=\"lab rgt\" transform=\"translate(3 -7.0)\">12</text></g><path class=\"edge\" d=\"M 0 0 V -11.8965 H 44.375\" /><circle class=\"sym\" cx=\"0\" cy=\"0\" r=\"3\" /><text class=\"lab lft\" transform=\"translate(-3 -7.0)\">13</text></g><g class=\"a17 c2 node n16 p3\" transform=\"translate(44.375 5.07712)\"><g class=\"a16 i2 leaf node n5 p1 sample\" transform=\"translate(-14.2 22.8921)\"><path class=\"edge\" d=\"M 0 0 V -22.8921 H 14.2\" /><rect class=\"sym\" height=\"6\" width=\"6\" x=\"-3\" y=\"-3\" /><text class=\"lab\" transform=\"translate(0 11)\">5</text></g><g class=\"a16 c2 node n10 p3\" transform=\"translate(14.2 14.0972)\"><g class=\"a10 i3 leaf node n6 p2 sample\" transform=\"translate(-9.46667 8.79494)\"><path class=\"edge\" d=\"M 0 0 V -8.79494 H 9.46667\" /><rect class=\"sym\" height=\"6\" width=\"6\" x=\"-3\" y=\"-3\" /><text class=\"lab\" transform=\"translate(0 11)\">6</text></g><g class=\"a10 i3 leaf node n7 p2 sample\" transform=\"translate(9.46667 8.79494)\"><path class=\"edge\" d=\"M 0 0 V -8.79494 H -9.46667\" /><rect class=\"sym\" height=\"6\" width=\"6\" x=\"-3\" y=\"-3\" /><text class=\"lab\" transform=\"translate(0 11)\">7</text></g><path class=\"edge\" d=\"M 0 0 V -14.0972 H -14.2\" /><circle class=\"sym\" cx=\"0\" cy=\"0\" r=\"3\" /><text class=\"lab rgt\" transform=\"translate(3 -7.0)\">10</text></g><path class=\"edge\" d=\"M 0 0 V -5.07712 H -44.375\" /><circle class=\"sym\" cx=\"0\" cy=\"0\" r=\"3\" /><text class=\"lab rgt\" transform=\"translate(3 -7.0)\">16</text></g><circle class=\"sym\" cx=\"0\" cy=\"0\" r=\"3\" /><text class=\"lab\" transform=\"translate(0 -11)\">17</text></g></g></g><g class=\"tree t1\" transform=\"translate(248.267 0)\"><g class=\"plotbox\"><g class=\"c2 node n17 p3 root\" transform=\"translate(84.4917 93.4308)\"><g class=\"a17 c2 node n13 p3\" transform=\"translate(-45.5583 11.8965)\"><g class=\"a13 i0 leaf node n0 p0 sample\" transform=\"translate(-9.46667 16.0727)\"><path class=\"edge\" d=\"M 0 0 V -16.0727 H 9.46667\" /><rect class=\"sym\" height=\"6\" width=\"6\" x=\"-3\" y=\"-3\" /><text class=\"lab\" transform=\"translate(0 11)\">0</text></g><g class=\"a13 i0 leaf node n1 p0 sample\" transform=\"translate(9.46667 16.0727)\"><path class=\"edge\" d=\"M 0 0 V -16.0727 H -9.46667\" /><rect class=\"sym\" height=\"6\" width=\"6\" x=\"-3\" y=\"-3\" /><text class=\"lab\" transform=\"translate(0 11)\">1</text></g><path class=\"edge\" d=\"M 0 0 V -11.8965 H 45.5583\" /><circle class=\"sym\" cx=\"0\" cy=\"0\" r=\"3\" /><text class=\"lab lft\" transform=\"translate(-3 -7.0)\">13</text></g><g class=\"a17 c2 node n16 p3\" transform=\"translate(45.5583 5.07712)\"><g class=\"a16 c2 node n10 p3\" transform=\"translate(22.4833 14.0972)\"><g class=\"a10 i3 leaf node n6 p2 sample\" transform=\"translate(-9.46667 8.79494)\"><path class=\"edge\" d=\"M 0 0 V -8.79494 H 9.46667\" /><rect class=\"sym\" height=\"6\" width=\"6\" x=\"-3\" y=\"-3\" /><text class=\"lab\" transform=\"translate(0 11)\">6</text></g><g class=\"a10 i3 leaf node n7 p2 sample\" transform=\"translate(9.46667 8.79494)\"><path class=\"edge\" d=\"M 0 0 V -8.79494 H -9.46667\" /><rect class=\"sym\" height=\"6\" width=\"6\" x=\"-3\" y=\"-3\" /><text class=\"lab\" transform=\"translate(0 11)\">7</text></g><path class=\"edge\" d=\"M 0 0 V -14.0972 H -22.4833\" /><circle class=\"sym\" cx=\"0\" cy=\"0\" r=\"3\" /><text class=\"lab rgt\" transform=\"translate(3 -7.0)\">10</text></g><g class=\"a16 c2 node n15 p3\" transform=\"translate(-22.4833 2.95406)\"><g class=\"a15 i2 leaf node n5 p1 sample\" transform=\"translate(16.5667 19.9381)\"><path class=\"edge\" d=\"M 0 0 V -19.9381 H -16.5667\" /><rect class=\"sym\" height=\"6\" width=\"6\" x=\"-3\" y=\"-3\" /><text class=\"lab\" transform=\"translate(0 11)\">5</text></g><g class=\"a15 c2 node n9 p3\" transform=\"translate(-16.5667 11.3585)\"><g class=\"a9 i2 leaf node n4 p1 sample\" transform=\"translate(14.2 8.57958)\"><path class=\"edge\" d=\"M 0 0 V -8.57958 H -14.2\" /><rect class=\"sym\" height=\"6\" width=\"6\" x=\"-3\" y=\"-3\" /><text class=\"lab\" transform=\"translate(0 11)\">4</text></g><g class=\"a9 c2 node n8 p0\" transform=\"translate(-14.2 8.29824)\"><g class=\"a8 i1 leaf node n2 p0 sample\" transform=\"translate(-9.46667 0.281339)\"><path class=\"edge\" d=\"M 0 0 V -0.281339 H 9.46667\" /><rect class=\"sym\" height=\"6\" width=\"6\" x=\"-3\" y=\"-3\" /><text class=\"lab\" transform=\"translate(0 11)\">2</text></g><g class=\"a8 i1 leaf node n3 p0 sample\" transform=\"translate(9.46667 0.281339)\"><path class=\"edge\" d=\"M 0 0 V -0.281339 H -9.46667\" /><rect class=\"sym\" height=\"6\" width=\"6\" x=\"-3\" y=\"-3\" /><text class=\"lab\" transform=\"translate(0 11)\">3</text></g><path class=\"edge\" d=\"M 0 0 V -8.29824 H 14.2\" /><circle class=\"sym\" cx=\"0\" cy=\"0\" r=\"3\" /><text class=\"lab lft\" transform=\"translate(-3 -7.0)\">8</text></g><path class=\"edge\" d=\"M 0 0 V -11.3585 H 16.5667\" /><circle class=\"sym\" cx=\"0\" cy=\"0\" r=\"3\" /><text class=\"lab lft\" transform=\"translate(-3 -7.0)\">9</text></g><path class=\"edge\" d=\"M 0 0 V -2.95406 H 22.4833\" /><circle class=\"sym\" cx=\"0\" cy=\"0\" r=\"3\" /><text class=\"lab lft\" transform=\"translate(-3 -7.0)\">15</text></g><path class=\"edge\" d=\"M 0 0 V -5.07712 H -45.5583\" /><circle class=\"sym\" cx=\"0\" cy=\"0\" r=\"3\" /><text class=\"lab rgt\" transform=\"translate(3 -7.0)\">16</text></g><circle class=\"sym\" cx=\"0\" cy=\"0\" r=\"3\" /><text class=\"lab\" transform=\"translate(0 -11)\">17</text></g></g></g><g class=\"tree t2\" transform=\"translate(439.733 0)\"><g class=\"plotbox\"><g class=\"c2 node n17 p3 root\" transform=\"translate(84.4917 93.4308)\"><g class=\"a17 c2 node n16 p3\" transform=\"translate(45.5583 5.07712)\"><g class=\"a16 c2 node n10 p3\" transform=\"translate(22.4833 14.0972)\"><g class=\"a10 i3 leaf node n6 p2 sample\" transform=\"translate(-9.46667 8.79494)\"><path class=\"edge\" d=\"M 0 0 V -8.79494 H 9.46667\" /><rect class=\"sym\" height=\"6\" width=\"6\" x=\"-3\" y=\"-3\" /><text class=\"lab\" transform=\"translate(0 11)\">6</text></g><g class=\"a10 i3 leaf node n7 p2 sample\" transform=\"translate(9.46667 8.79494)\"><path class=\"edge\" d=\"M 0 0 V -8.79494 H -9.46667\" /><rect class=\"sym\" height=\"6\" width=\"6\" x=\"-3\" y=\"-3\" /><text class=\"lab\" transform=\"translate(0 11)\">7</text></g><path class=\"edge\" d=\"M 0 0 V -14.0972 H -22.4833\" /><circle class=\"sym\" cx=\"0\" cy=\"0\" r=\"3\" /><text class=\"lab rgt\" transform=\"translate(3 -7.0)\">10</text></g><g class=\"a16 c2 node n15 p3\" transform=\"translate(-22.4833 2.95406)\"><g class=\"a15 i2 leaf node n5 p1 sample\" transform=\"translate(16.5667 19.9381)\"><path class=\"edge\" d=\"M 0 0 V -19.9381 H -16.5667\" /><rect class=\"sym\" height=\"6\" width=\"6\" x=\"-3\" y=\"-3\" /><text class=\"lab\" transform=\"translate(0 11)\">5</text></g><g class=\"a15 c2 node n9 p3\" transform=\"translate(-16.5667 11.3585)\"><g class=\"a9 i2 leaf node n4 p1 sample\" transform=\"translate(14.2 8.57958)\"><path class=\"edge\" d=\"M 0 0 V -8.57958 H -14.2\" /><rect class=\"sym\" height=\"6\" width=\"6\" x=\"-3\" y=\"-3\" /><text class=\"lab\" transform=\"translate(0 11)\">4</text></g><g class=\"a9 c2 node n8 p0\" transform=\"translate(-14.2 8.29824)\"><g class=\"a8 i1 leaf node n2 p0 sample\" transform=\"translate(-9.46667 0.281339)\"><path class=\"edge\" d=\"M 0 0 V -0.281339 H 9.46667\" /><rect class=\"sym\" height=\"6\" width=\"6\" x=\"-3\" y=\"-3\" /><text class=\"lab\" transform=\"translate(0 11)\">2</text></g><g class=\"a8 i1 leaf node n3 p0 sample\" transform=\"translate(9.46667 0.281339)\"><path class=\"edge\" d=\"M 0 0 V -0.281339 H -9.46667\" /><rect class=\"sym\" height=\"6\" width=\"6\" x=\"-3\" y=\"-3\" /><text class=\"lab\" transform=\"translate(0 11)\">3</text></g><path class=\"edge\" d=\"M 0 0 V -8.29824 H 14.2\" /><circle class=\"sym\" cx=\"0\" cy=\"0\" r=\"3\" /><text class=\"lab lft\" transform=\"translate(-3 -7.0)\">8</text></g><path class=\"edge\" d=\"M 0 0 V -11.3585 H 16.5667\" /><circle class=\"sym\" cx=\"0\" cy=\"0\" r=\"3\" /><text class=\"lab lft\" transform=\"translate(-3 -7.0)\">9</text></g><path class=\"edge\" d=\"M 0 0 V -2.95406 H 22.4833\" /><circle class=\"sym\" cx=\"0\" cy=\"0\" r=\"3\" /><text class=\"lab lft\" transform=\"translate(-3 -7.0)\">15</text></g><path class=\"edge\" d=\"M 0 0 V -5.07712 H -45.5583\" /><circle class=\"sym\" cx=\"0\" cy=\"0\" r=\"3\" /><text class=\"lab rgt\" transform=\"translate(3 -7.0)\">16</text></g><g class=\"a17 c2 node n14 p3\" transform=\"translate(-45.5583 10.7814)\"><g class=\"a14 i0 leaf node n0 p0 sample\" transform=\"translate(-9.46667 17.1878)\"><path class=\"edge\" d=\"M 0 0 V -17.1878 H 9.46667\" /><rect class=\"sym\" height=\"6\" width=\"6\" x=\"-3\" y=\"-3\" /><text class=\"lab\" transform=\"translate(0 11)\">0</text></g><g class=\"a14 i0 leaf node n1 p0 sample\" transform=\"translate(9.46667 17.1878)\"><path class=\"edge\" d=\"M 0 0 V -17.1878 H -9.46667\" /><rect class=\"sym\" height=\"6\" width=\"6\" x=\"-3\" y=\"-3\" /><text class=\"lab\" transform=\"translate(0 11)\">1</text></g><path class=\"edge\" d=\"M 0 0 V -10.7814 H 45.5583\" /><circle class=\"sym\" cx=\"0\" cy=\"0\" r=\"3\" /><text class=\"lab lft\" transform=\"translate(-3 -7.0)\">14</text></g><circle class=\"sym\" cx=\"0\" cy=\"0\" r=\"3\" /><text class=\"lab\" transform=\"translate(0 -11)\">17</text></g></g></g><g class=\"tree t3\" transform=\"translate(631.2 0)\"><g class=\"plotbox\"><g class=\"c2 node n19 p3 root\" transform=\"translate(84.4917 70.0425)\"><g class=\"a19 c2 node n14 p3\" transform=\"translate(-45.5583 34.1697)\"><g class=\"a14 i0 leaf node n0 p0 sample\" transform=\"translate(-9.46667 17.1878)\"><path class=\"edge\" d=\"M 0 0 V -17.1878 H 9.46667\" /><rect class=\"sym\" height=\"6\" width=\"6\" x=\"-3\" y=\"-3\" /><text class=\"lab\" transform=\"translate(0 11)\">0</text></g><g class=\"a14 i0 leaf node n1 p0 sample\" transform=\"translate(9.46667 17.1878)\"><path class=\"edge\" d=\"M 0 0 V -17.1878 H -9.46667\" /><rect class=\"sym\" height=\"6\" width=\"6\" x=\"-3\" y=\"-3\" /><text class=\"lab\" transform=\"translate(0 11)\">1</text></g><path class=\"edge\" d=\"M 0 0 V -34.1697 H 45.5583\" /><circle class=\"sym\" cx=\"0\" cy=\"0\" r=\"3\" /><text class=\"lab lft\" transform=\"translate(-3 -7.0)\">14</text></g><g class=\"a19 c2 node n16 p3\" transform=\"translate(45.5583 28.4654)\"><g class=\"a16 c2 node n10 p3\" transform=\"translate(22.4833 14.0972)\"><g class=\"a10 i3 leaf node n6 p2 sample\" transform=\"translate(-9.46667 8.79494)\"><path class=\"edge\" d=\"M 0 0 V -8.79494 H 9.46667\" /><rect class=\"sym\" height=\"6\" width=\"6\" x=\"-3\" y=\"-3\" /><text class=\"lab\" transform=\"translate(0 11)\">6</text></g><g class=\"a10 i3 leaf node n7 p2 sample\" transform=\"translate(9.46667 8.79494)\"><path class=\"edge\" d=\"M 0 0 V -8.79494 H -9.46667\" /><rect class=\"sym\" height=\"6\" width=\"6\" x=\"-3\" y=\"-3\" /><text class=\"lab\" transform=\"translate(0 11)\">7</text></g><path class=\"edge\" d=\"M 0 0 V -14.0972 H -22.4833\" /><circle class=\"sym\" cx=\"0\" cy=\"0\" r=\"3\" /><text class=\"lab rgt\" transform=\"translate(3 -7.0)\">10</text></g><g class=\"a16 c2 node n15 p3\" transform=\"translate(-22.4833 2.95406)\"><g class=\"a15 i2 leaf node n5 p1 sample\" transform=\"translate(16.5667 19.9381)\"><path class=\"edge\" d=\"M 0 0 V -19.9381 H -16.5667\" /><rect class=\"sym\" height=\"6\" width=\"6\" x=\"-3\" y=\"-3\" /><text class=\"lab\" transform=\"translate(0 11)\">5</text></g><g class=\"a15 c2 node n9 p3\" transform=\"translate(-16.5667 11.3585)\"><g class=\"a9 i2 leaf node n4 p1 sample\" transform=\"translate(14.2 8.57958)\"><path class=\"edge\" d=\"M 0 0 V -8.57958 H -14.2\" /><rect class=\"sym\" height=\"6\" width=\"6\" x=\"-3\" y=\"-3\" /><text class=\"lab\" transform=\"translate(0 11)\">4</text></g><g class=\"a9 c2 node n8 p0\" transform=\"translate(-14.2 8.29824)\"><g class=\"a8 i1 leaf node n2 p0 sample\" transform=\"translate(-9.46667 0.281339)\"><path class=\"edge\" d=\"M 0 0 V -0.281339 H 9.46667\" /><rect class=\"sym\" height=\"6\" width=\"6\" x=\"-3\" y=\"-3\" /><text class=\"lab\" transform=\"translate(0 11)\">2</text></g><g class=\"a8 i1 leaf node n3 p0 sample\" transform=\"translate(9.46667 0.281339)\"><path class=\"edge\" d=\"M 0 0 V -0.281339 H -9.46667\" /><rect class=\"sym\" height=\"6\" width=\"6\" x=\"-3\" y=\"-3\" /><text class=\"lab\" transform=\"translate(0 11)\">3</text></g><path class=\"edge\" d=\"M 0 0 V -8.29824 H 14.2\" /><circle class=\"sym\" cx=\"0\" cy=\"0\" r=\"3\" /><text class=\"lab lft\" transform=\"translate(-3 -7.0)\">8</text></g><path class=\"edge\" d=\"M 0 0 V -11.3585 H 16.5667\" /><circle class=\"sym\" cx=\"0\" cy=\"0\" r=\"3\" /><text class=\"lab lft\" transform=\"translate(-3 -7.0)\">9</text></g><path class=\"edge\" d=\"M 0 0 V -2.95406 H 22.4833\" /><circle class=\"sym\" cx=\"0\" cy=\"0\" r=\"3\" /><text class=\"lab lft\" transform=\"translate(-3 -7.0)\">15</text></g><path class=\"edge\" d=\"M 0 0 V -28.4654 H -45.5583\" /><circle class=\"sym\" cx=\"0\" cy=\"0\" r=\"3\" /><text class=\"lab rgt\" transform=\"translate(3 -7.0)\">16</text></g><circle class=\"sym\" cx=\"0\" cy=\"0\" r=\"3\" /><text class=\"lab\" transform=\"translate(0 -11)\">19</text></g></g></g><g class=\"tree t4\" transform=\"translate(822.667 0)\"><g class=\"plotbox\"><g class=\"c2 node n22 p3 root\" transform=\"translate(84.4917 26.8)\"><g class=\"a22 c2 node n14 p3\" transform=\"translate(-45.5583 77.4122)\"><g class=\"a14 i0 leaf node n0 p0 sample\" transform=\"translate(-9.46667 17.1878)\"><path class=\"edge\" d=\"M 0 0 V -17.1878 H 9.46667\" /><rect class=\"sym\" height=\"6\" width=\"6\" x=\"-3\" y=\"-3\" /><text class=\"lab\" transform=\"translate(0 11)\">0</text></g><g class=\"a14 i0 leaf node n1 p0 sample\" transform=\"translate(9.46667 17.1878)\"><path class=\"edge\" d=\"M 0 0 V -17.1878 H -9.46667\" /><rect class=\"sym\" height=\"6\" width=\"6\" x=\"-3\" y=\"-3\" /><text class=\"lab\" transform=\"translate(0 11)\">1</text></g><path class=\"edge\" d=\"M 0 0 V -77.4122 H 45.5583\" /><circle class=\"sym\" cx=\"0\" cy=\"0\" r=\"3\" /><text class=\"lab lft\" transform=\"translate(-3 -7.0)\">14</text></g><g class=\"a22 c2 node n16 p3\" transform=\"translate(45.5583 71.7079)\"><g class=\"a16 c2 node n10 p3\" transform=\"translate(22.4833 14.0972)\"><g class=\"a10 i3 leaf node n6 p2 sample\" transform=\"translate(-9.46667 8.79494)\"><path class=\"edge\" d=\"M 0 0 V -8.79494 H 9.46667\" /><rect class=\"sym\" height=\"6\" width=\"6\" x=\"-3\" y=\"-3\" /><text class=\"lab\" transform=\"translate(0 11)\">6</text></g><g class=\"a10 i3 leaf node n7 p2 sample\" transform=\"translate(9.46667 8.79494)\"><path class=\"edge\" d=\"M 0 0 V -8.79494 H -9.46667\" /><rect class=\"sym\" height=\"6\" width=\"6\" x=\"-3\" y=\"-3\" /><text class=\"lab\" transform=\"translate(0 11)\">7</text></g><path class=\"edge\" d=\"M 0 0 V -14.0972 H -22.4833\" /><circle class=\"sym\" cx=\"0\" cy=\"0\" r=\"3\" /><text class=\"lab rgt\" transform=\"translate(3 -7.0)\">10</text></g><g class=\"a16 c2 node n15 p3\" transform=\"translate(-22.4833 2.95406)\"><g class=\"a15 i2 leaf node n5 p1 sample\" transform=\"translate(16.5667 19.9381)\"><path class=\"edge\" d=\"M 0 0 V -19.9381 H -16.5667\" /><rect class=\"sym\" height=\"6\" width=\"6\" x=\"-3\" y=\"-3\" /><text class=\"lab\" transform=\"translate(0 11)\">5</text></g><g class=\"a15 c2 node n9 p3\" transform=\"translate(-16.5667 11.3585)\"><g class=\"a9 i2 leaf node n4 p1 sample\" transform=\"translate(14.2 8.57958)\"><path class=\"edge\" d=\"M 0 0 V -8.57958 H -14.2\" /><rect class=\"sym\" height=\"6\" width=\"6\" x=\"-3\" y=\"-3\" /><text class=\"lab\" transform=\"translate(0 11)\">4</text></g><g class=\"a9 c2 node n8 p0\" transform=\"translate(-14.2 8.29824)\"><g class=\"a8 i1 leaf node n2 p0 sample\" transform=\"translate(-9.46667 0.281339)\"><path class=\"edge\" d=\"M 0 0 V -0.281339 H 9.46667\" /><rect class=\"sym\" height=\"6\" width=\"6\" x=\"-3\" y=\"-3\" /><text class=\"lab\" transform=\"translate(0 11)\">2</text></g><g class=\"a8 i1 leaf node n3 p0 sample\" transform=\"translate(9.46667 0.281339)\"><path class=\"edge\" d=\"M 0 0 V -0.281339 H -9.46667\" /><rect class=\"sym\" height=\"6\" width=\"6\" x=\"-3\" y=\"-3\" /><text class=\"lab\" transform=\"translate(0 11)\">3</text></g><path class=\"edge\" d=\"M 0 0 V -8.29824 H 14.2\" /><circle class=\"sym\" cx=\"0\" cy=\"0\" r=\"3\" /><text class=\"lab lft\" transform=\"translate(-3 -7.0)\">8</text></g><path class=\"edge\" d=\"M 0 0 V -11.3585 H 16.5667\" /><circle class=\"sym\" cx=\"0\" cy=\"0\" r=\"3\" /><text class=\"lab lft\" transform=\"translate(-3 -7.0)\">9</text></g><path class=\"edge\" d=\"M 0 0 V -2.95406 H 22.4833\" /><circle class=\"sym\" cx=\"0\" cy=\"0\" r=\"3\" /><text class=\"lab lft\" transform=\"translate(-3 -7.0)\">15</text></g><path class=\"edge\" d=\"M 0 0 V -71.7079 H -45.5583\" /><circle class=\"sym\" cx=\"0\" cy=\"0\" r=\"3\" /><text class=\"lab rgt\" transform=\"translate(3 -7.0)\">16</text></g><circle class=\"sym\" cx=\"0\" cy=\"0\" r=\"3\" /><text class=\"lab\" transform=\"translate(0 -11)\">22</text></g></g></g><g class=\"tree t5\" transform=\"translate(1014.13 0)\"><g class=\"plotbox\"><g class=\"c2 node n21 p3 root\" transform=\"translate(84.4917 29.1487)\"><g class=\"a21 c2 node n14 p3\" transform=\"translate(-45.5583 75.0635)\"><g class=\"a14 i0 leaf node n0 p0 sample\" transform=\"translate(-9.46667 17.1878)\"><path class=\"edge\" d=\"M 0 0 V -17.1878 H 9.46667\" /><rect class=\"sym\" height=\"6\" width=\"6\" x=\"-3\" y=\"-3\" /><text class=\"lab\" transform=\"translate(0 11)\">0</text></g><g class=\"a14 i0 leaf node n1 p0 sample\" transform=\"translate(9.46667 17.1878)\"><path class=\"edge\" d=\"M 0 0 V -17.1878 H -9.46667\" /><rect class=\"sym\" height=\"6\" width=\"6\" x=\"-3\" y=\"-3\" /><text class=\"lab\" transform=\"translate(0 11)\">1</text></g><path class=\"edge\" d=\"M 0 0 V -75.0635 H 45.5583\" /><circle class=\"sym\" cx=\"0\" cy=\"0\" r=\"3\" /><text class=\"lab lft\" transform=\"translate(-3 -7.0)\">14</text></g><g class=\"a21 c2 node n16 p3\" transform=\"translate(45.5583 69.3592)\"><g class=\"a16 c2 node n10 p3\" transform=\"translate(22.4833 14.0972)\"><g class=\"a10 i3 leaf node n6 p2 sample\" transform=\"translate(-9.46667 8.79494)\"><path class=\"edge\" d=\"M 0 0 V -8.79494 H 9.46667\" /><rect class=\"sym\" height=\"6\" width=\"6\" x=\"-3\" y=\"-3\" /><text class=\"lab\" transform=\"translate(0 11)\">6</text></g><g class=\"a10 i3 leaf node n7 p2 sample\" transform=\"translate(9.46667 8.79494)\"><path class=\"edge\" d=\"M 0 0 V -8.79494 H -9.46667\" /><rect class=\"sym\" height=\"6\" width=\"6\" x=\"-3\" y=\"-3\" /><text class=\"lab\" transform=\"translate(0 11)\">7</text></g><path class=\"edge\" d=\"M 0 0 V -14.0972 H -22.4833\" /><circle class=\"sym\" cx=\"0\" cy=\"0\" r=\"3\" /><text class=\"lab rgt\" transform=\"translate(3 -7.0)\">10</text></g><g class=\"a16 c2 node n15 p3\" transform=\"translate(-22.4833 2.95406)\"><g class=\"a15 i2 leaf node n5 p1 sample\" transform=\"translate(16.5667 19.9381)\"><path class=\"edge\" d=\"M 0 0 V -19.9381 H -16.5667\" /><rect class=\"sym\" height=\"6\" width=\"6\" x=\"-3\" y=\"-3\" /><text class=\"lab\" transform=\"translate(0 11)\">5</text></g><g class=\"a15 c2 node n9 p3\" transform=\"translate(-16.5667 11.3585)\"><g class=\"a9 i2 leaf node n4 p1 sample\" transform=\"translate(14.2 8.57958)\"><path class=\"edge\" d=\"M 0 0 V -8.57958 H -14.2\" /><rect class=\"sym\" height=\"6\" width=\"6\" x=\"-3\" y=\"-3\" /><text class=\"lab\" transform=\"translate(0 11)\">4</text></g><g class=\"a9 c2 node n8 p0\" transform=\"translate(-14.2 8.29824)\"><g class=\"a8 i1 leaf node n2 p0 sample\" transform=\"translate(-9.46667 0.281339)\"><path class=\"edge\" d=\"M 0 0 V -0.281339 H 9.46667\" /><rect class=\"sym\" height=\"6\" width=\"6\" x=\"-3\" y=\"-3\" /><text class=\"lab\" transform=\"translate(0 11)\">2</text></g><g class=\"a8 i1 leaf node n3 p0 sample\" transform=\"translate(9.46667 0.281339)\"><path class=\"edge\" d=\"M 0 0 V -0.281339 H -9.46667\" /><rect class=\"sym\" height=\"6\" width=\"6\" x=\"-3\" y=\"-3\" /><text class=\"lab\" transform=\"translate(0 11)\">3</text></g><path class=\"edge\" d=\"M 0 0 V -8.29824 H 14.2\" /><circle class=\"sym\" cx=\"0\" cy=\"0\" r=\"3\" /><text class=\"lab lft\" transform=\"translate(-3 -7.0)\">8</text></g><path class=\"edge\" d=\"M 0 0 V -11.3585 H 16.5667\" /><circle class=\"sym\" cx=\"0\" cy=\"0\" r=\"3\" /><text class=\"lab lft\" transform=\"translate(-3 -7.0)\">9</text></g><path class=\"edge\" d=\"M 0 0 V -2.95406 H 22.4833\" /><circle class=\"sym\" cx=\"0\" cy=\"0\" r=\"3\" /><text class=\"lab lft\" transform=\"translate(-3 -7.0)\">15</text></g><path class=\"edge\" d=\"M 0 0 V -69.3592 H -45.5583\" /><circle class=\"sym\" cx=\"0\" cy=\"0\" r=\"3\" /><text class=\"lab rgt\" transform=\"translate(3 -7.0)\">16</text></g><circle class=\"sym\" cx=\"0\" cy=\"0\" r=\"3\" /><text class=\"lab\" transform=\"translate(0 -11)\">21</text></g></g></g><g class=\"tree t6\" transform=\"translate(1205.6 0)\"><g class=\"plotbox\"><g class=\"c2 node n20 p3 root\" transform=\"translate(84.4917 40.6632)\"><g class=\"a20 c2 node n14 p3\" transform=\"translate(-45.5583 63.549)\"><g class=\"a14 i0 leaf node n0 p0 sample\" transform=\"translate(-9.46667 17.1878)\"><path class=\"edge\" d=\"M 0 0 V -17.1878 H 9.46667\" /><rect class=\"sym\" height=\"6\" width=\"6\" x=\"-3\" y=\"-3\" /><text class=\"lab\" transform=\"translate(0 11)\">0</text></g><g class=\"a14 i0 leaf node n1 p0 sample\" transform=\"translate(9.46667 17.1878)\"><path class=\"edge\" d=\"M 0 0 V -17.1878 H -9.46667\" /><rect class=\"sym\" height=\"6\" width=\"6\" x=\"-3\" y=\"-3\" /><text class=\"lab\" transform=\"translate(0 11)\">1</text></g><path class=\"edge\" d=\"M 0 0 V -63.549 H 45.5583\" /><circle class=\"sym\" cx=\"0\" cy=\"0\" r=\"3\" /><text class=\"lab lft\" transform=\"translate(-3 -7.0)\">14</text></g><g class=\"a20 c2 node n16 p3\" transform=\"translate(45.5583 57.8447)\"><g class=\"a16 c2 node n10 p3\" transform=\"translate(22.4833 14.0972)\"><g class=\"a10 i3 leaf node n6 p2 sample\" transform=\"translate(-9.46667 8.79494)\"><path class=\"edge\" d=\"M 0 0 V -8.79494 H 9.46667\" /><rect class=\"sym\" height=\"6\" width=\"6\" x=\"-3\" y=\"-3\" /><text class=\"lab\" transform=\"translate(0 11)\">6</text></g><g class=\"a10 i3 leaf node n7 p2 sample\" transform=\"translate(9.46667 8.79494)\"><path class=\"edge\" d=\"M 0 0 V -8.79494 H -9.46667\" /><rect class=\"sym\" height=\"6\" width=\"6\" x=\"-3\" y=\"-3\" /><text class=\"lab\" transform=\"translate(0 11)\">7</text></g><path class=\"edge\" d=\"M 0 0 V -14.0972 H -22.4833\" /><circle class=\"sym\" cx=\"0\" cy=\"0\" r=\"3\" /><text class=\"lab rgt\" transform=\"translate(3 -7.0)\">10</text></g><g class=\"a16 c2 node n15 p3\" transform=\"translate(-22.4833 2.95406)\"><g class=\"a15 i2 leaf node n5 p1 sample\" transform=\"translate(16.5667 19.9381)\"><path class=\"edge\" d=\"M 0 0 V -19.9381 H -16.5667\" /><rect class=\"sym\" height=\"6\" width=\"6\" x=\"-3\" y=\"-3\" /><text class=\"lab\" transform=\"translate(0 11)\">5</text></g><g class=\"a15 c2 node n9 p3\" transform=\"translate(-16.5667 11.3585)\"><g class=\"a9 i2 leaf node n4 p1 sample\" transform=\"translate(14.2 8.57958)\"><path class=\"edge\" d=\"M 0 0 V -8.57958 H -14.2\" /><rect class=\"sym\" height=\"6\" width=\"6\" x=\"-3\" y=\"-3\" /><text class=\"lab\" transform=\"translate(0 11)\">4</text></g><g class=\"a9 c2 node n8 p0\" transform=\"translate(-14.2 8.29824)\"><g class=\"a8 i1 leaf node n2 p0 sample\" transform=\"translate(-9.46667 0.281339)\"><path class=\"edge\" d=\"M 0 0 V -0.281339 H 9.46667\" /><rect class=\"sym\" height=\"6\" width=\"6\" x=\"-3\" y=\"-3\" /><text class=\"lab\" transform=\"translate(0 11)\">2</text></g><g class=\"a8 i1 leaf node n3 p0 sample\" transform=\"translate(9.46667 0.281339)\"><path class=\"edge\" d=\"M 0 0 V -0.281339 H -9.46667\" /><rect class=\"sym\" height=\"6\" width=\"6\" x=\"-3\" y=\"-3\" /><text class=\"lab\" transform=\"translate(0 11)\">3</text></g><path class=\"edge\" d=\"M 0 0 V -8.29824 H 14.2\" /><circle class=\"sym\" cx=\"0\" cy=\"0\" r=\"3\" /><text class=\"lab lft\" transform=\"translate(-3 -7.0)\">8</text></g><path class=\"edge\" d=\"M 0 0 V -11.3585 H 16.5667\" /><circle class=\"sym\" cx=\"0\" cy=\"0\" r=\"3\" /><text class=\"lab lft\" transform=\"translate(-3 -7.0)\">9</text></g><path class=\"edge\" d=\"M 0 0 V -2.95406 H 22.4833\" /><circle class=\"sym\" cx=\"0\" cy=\"0\" r=\"3\" /><text class=\"lab lft\" transform=\"translate(-3 -7.0)\">15</text></g><path class=\"edge\" d=\"M 0 0 V -57.8447 H -45.5583\" /><circle class=\"sym\" cx=\"0\" cy=\"0\" r=\"3\" /><text class=\"lab rgt\" transform=\"translate(3 -7.0)\">16</text></g><circle class=\"sym\" cx=\"0\" cy=\"0\" r=\"3\" /><text class=\"lab\" transform=\"translate(0 -11)\">20</text></g></g></g><g class=\"tree t7\" transform=\"translate(1397.07 0)\"><g class=\"plotbox\"><g class=\"c2 node n20 p3 root\" transform=\"translate(92.1833 40.6632)\"><g class=\"a20 c2 node n14 p3\" transform=\"translate(-39.05 63.549)\"><g class=\"a14 i0 leaf node n1 p0 sample\" transform=\"translate(14.2 17.1878)\"><path class=\"edge\" d=\"M 0 0 V -17.1878 H -14.2\" /><rect class=\"sym\" height=\"6\" width=\"6\" x=\"-3\" y=\"-3\" /><text class=\"lab\" transform=\"translate(0 11)\">1</text></g><g class=\"a14 c2 node n11 p3\" transform=\"translate(-14.2 6.6438)\"><g class=\"a11 i0 leaf node n0 p0 sample\" transform=\"translate(-9.46667 10.544)\"><path class=\"edge\" d=\"M 0 0 V -10.544 H 9.46667\" /><rect class=\"sym\" height=\"6\" width=\"6\" x=\"-3\" y=\"-3\" /><text class=\"lab\" transform=\"translate(0 11)\">0</text></g><g class=\"a11 i2 leaf node n4 p1 sample\" transform=\"translate(9.46667 10.544)\"><path class=\"edge\" d=\"M 0 0 V -10.544 H -9.46667\" /><rect class=\"sym\" height=\"6\" width=\"6\" x=\"-3\" y=\"-3\" /><text class=\"lab\" transform=\"translate(0 11)\">4</text></g><path class=\"edge\" d=\"M 0 0 V -6.6438 H 14.2\" /><circle class=\"sym\" cx=\"0\" cy=\"0\" r=\"3\" /><text class=\"lab lft\" transform=\"translate(-3 -7.0)\">11</text></g><path class=\"edge\" d=\"M 0 0 V -63.549 H 39.05\" /><circle class=\"sym\" cx=\"0\" cy=\"0\" r=\"3\" /><text class=\"lab lft\" transform=\"translate(-3 -7.0)\">14</text></g><g class=\"a20 c2 node n16 p3\" transform=\"translate(39.05 57.8447)\"><g class=\"a16 c2 node n10 p3\" transform=\"translate(21.3 14.0972)\"><g class=\"a10 i3 leaf node n6 p2 sample\" transform=\"translate(-9.46667 8.79494)\"><path class=\"edge\" d=\"M 0 0 V -8.79494 H 9.46667\" /><rect class=\"sym\" height=\"6\" width=\"6\" x=\"-3\" y=\"-3\" /><text class=\"lab\" transform=\"translate(0 11)\">6</text></g><g class=\"a10 i3 leaf node n7 p2 sample\" transform=\"translate(9.46667 8.79494)\"><path class=\"edge\" d=\"M 0 0 V -8.79494 H -9.46667\" /><rect class=\"sym\" height=\"6\" width=\"6\" x=\"-3\" y=\"-3\" /><text class=\"lab\" transform=\"translate(0 11)\">7</text></g><path class=\"edge\" d=\"M 0 0 V -14.0972 H -21.3\" /><circle class=\"sym\" cx=\"0\" cy=\"0\" r=\"3\" /><text class=\"lab rgt\" transform=\"translate(3 -7.0)\">10</text></g><g class=\"a16 c2 node n15 p3\" transform=\"translate(-21.3 2.95406)\"><g class=\"a15 i2 leaf node n5 p1 sample\" transform=\"translate(14.2 19.9381)\"><path class=\"edge\" d=\"M 0 0 V -19.9381 H -14.2\" /><rect class=\"sym\" height=\"6\" width=\"6\" x=\"-3\" y=\"-3\" /><text class=\"lab\" transform=\"translate(0 11)\">5</text></g><g class=\"a15 c2 node n8 p0\" transform=\"translate(-14.2 19.6567)\"><g class=\"a8 i1 leaf node n2 p0 sample\" transform=\"translate(-9.46667 0.281339)\"><path class=\"edge\" d=\"M 0 0 V -0.281339 H 9.46667\" /><rect class=\"sym\" height=\"6\" width=\"6\" x=\"-3\" y=\"-3\" /><text class=\"lab\" transform=\"translate(0 11)\">2</text></g><g class=\"a8 i1 leaf node n3 p0 sample\" transform=\"translate(9.46667 0.281339)\"><path class=\"edge\" d=\"M 0 0 V -0.281339 H -9.46667\" /><rect class=\"sym\" height=\"6\" width=\"6\" x=\"-3\" y=\"-3\" /><text class=\"lab\" transform=\"translate(0 11)\">3</text></g><path class=\"edge\" d=\"M 0 0 V -19.6567 H 14.2\" /><circle class=\"sym\" cx=\"0\" cy=\"0\" r=\"3\" /><text class=\"lab lft\" transform=\"translate(-3 -7.0)\">8</text></g><path class=\"edge\" d=\"M 0 0 V -2.95406 H 21.3\" /><circle class=\"sym\" cx=\"0\" cy=\"0\" r=\"3\" /><text class=\"lab lft\" transform=\"translate(-3 -7.0)\">15</text></g><path class=\"edge\" d=\"M 0 0 V -57.8447 H -39.05\" /><circle class=\"sym\" cx=\"0\" cy=\"0\" r=\"3\" /><text class=\"lab rgt\" transform=\"translate(3 -7.0)\">16</text></g><circle class=\"sym\" cx=\"0\" cy=\"0\" r=\"3\" /><text class=\"lab\" transform=\"translate(0 -11)\">20</text></g></g></g><g class=\"tree t8\" transform=\"translate(1588.53 0)\"><g class=\"plotbox\"><g class=\"c2 node n18 p3 root\" transform=\"translate(92.1833 89.175)\"><g class=\"a18 c2 node n14 p3\" transform=\"translate(-39.05 15.0372)\"><g class=\"a14 i0 leaf node n1 p0 sample\" transform=\"translate(14.2 17.1878)\"><path class=\"edge\" d=\"M 0 0 V -17.1878 H -14.2\" /><rect class=\"sym\" height=\"6\" width=\"6\" x=\"-3\" y=\"-3\" /><text class=\"lab\" transform=\"translate(0 11)\">1</text></g><g class=\"a14 c2 node n11 p3\" transform=\"translate(-14.2 6.6438)\"><g class=\"a11 i0 leaf node n0 p0 sample\" transform=\"translate(-9.46667 10.544)\"><path class=\"edge\" d=\"M 0 0 V -10.544 H 9.46667\" /><rect class=\"sym\" height=\"6\" width=\"6\" x=\"-3\" y=\"-3\" /><text class=\"lab\" transform=\"translate(0 11)\">0</text></g><g class=\"a11 i2 leaf node n4 p1 sample\" transform=\"translate(9.46667 10.544)\"><path class=\"edge\" d=\"M 0 0 V -10.544 H -9.46667\" /><rect class=\"sym\" height=\"6\" width=\"6\" x=\"-3\" y=\"-3\" /><text class=\"lab\" transform=\"translate(0 11)\">4</text></g><path class=\"edge\" d=\"M 0 0 V -6.6438 H 14.2\" /><circle class=\"sym\" cx=\"0\" cy=\"0\" r=\"3\" /><text class=\"lab lft\" transform=\"translate(-3 -7.0)\">11</text></g><path class=\"edge\" d=\"M 0 0 V -15.0372 H 39.05\" /><circle class=\"sym\" cx=\"0\" cy=\"0\" r=\"3\" /><text class=\"lab lft\" transform=\"translate(-3 -7.0)\">14</text></g><g class=\"a18 c2 node n16 p3\" transform=\"translate(39.05 9.33287)\"><g class=\"a16 c2 node n10 p3\" transform=\"translate(21.3 14.0972)\"><g class=\"a10 i3 leaf node n6 p2 sample\" transform=\"translate(-9.46667 8.79494)\"><path class=\"edge\" d=\"M 0 0 V -8.79494 H 9.46667\" /><rect class=\"sym\" height=\"6\" width=\"6\" x=\"-3\" y=\"-3\" /><text class=\"lab\" transform=\"translate(0 11)\">6</text></g><g class=\"a10 i3 leaf node n7 p2 sample\" transform=\"translate(9.46667 8.79494)\"><path class=\"edge\" d=\"M 0 0 V -8.79494 H -9.46667\" /><rect class=\"sym\" height=\"6\" width=\"6\" x=\"-3\" y=\"-3\" /><text class=\"lab\" transform=\"translate(0 11)\">7</text></g><path class=\"edge\" d=\"M 0 0 V -14.0972 H -21.3\" /><circle class=\"sym\" cx=\"0\" cy=\"0\" r=\"3\" /><text class=\"lab rgt\" transform=\"translate(3 -7.0)\">10</text></g><g class=\"a16 c2 node n15 p3\" transform=\"translate(-21.3 2.95406)\"><g class=\"a15 i2 leaf node n5 p1 sample\" transform=\"translate(14.2 19.9381)\"><path class=\"edge\" d=\"M 0 0 V -19.9381 H -14.2\" /><rect class=\"sym\" height=\"6\" width=\"6\" x=\"-3\" y=\"-3\" /><text class=\"lab\" transform=\"translate(0 11)\">5</text></g><g class=\"a15 c2 node n8 p0\" transform=\"translate(-14.2 19.6567)\"><g class=\"a8 i1 leaf node n2 p0 sample\" transform=\"translate(-9.46667 0.281339)\"><path class=\"edge\" d=\"M 0 0 V -0.281339 H 9.46667\" /><rect class=\"sym\" height=\"6\" width=\"6\" x=\"-3\" y=\"-3\" /><text class=\"lab\" transform=\"translate(0 11)\">2</text></g><g class=\"a8 i1 leaf node n3 p0 sample\" transform=\"translate(9.46667 0.281339)\"><path class=\"edge\" d=\"M 0 0 V -0.281339 H -9.46667\" /><rect class=\"sym\" height=\"6\" width=\"6\" x=\"-3\" y=\"-3\" /><text class=\"lab\" transform=\"translate(0 11)\">3</text></g><path class=\"edge\" d=\"M 0 0 V -19.6567 H 14.2\" /><circle class=\"sym\" cx=\"0\" cy=\"0\" r=\"3\" /><text class=\"lab lft\" transform=\"translate(-3 -7.0)\">8</text></g><path class=\"edge\" d=\"M 0 0 V -2.95406 H 21.3\" /><circle class=\"sym\" cx=\"0\" cy=\"0\" r=\"3\" /><text class=\"lab lft\" transform=\"translate(-3 -7.0)\">15</text></g><path class=\"edge\" d=\"M 0 0 V -9.33287 H -39.05\" /><circle class=\"sym\" cx=\"0\" cy=\"0\" r=\"3\" /><text class=\"lab rgt\" transform=\"translate(3 -7.0)\">16</text></g><circle class=\"sym\" cx=\"0\" cy=\"0\" r=\"3\" /><text class=\"lab\" transform=\"translate(0 -11)\">18</text></g></g></g></g></g></svg>'"
      ]
     },
     "execution_count": 23,
     "metadata": {},
     "output_type": "execute_result"
    }
   ],
   "source": [
    "ts2 = tskit.load(\"data/viz_ts_small.trees\")\n",
    "\n",
    "x_limits = [5000, 15000]\n",
    "# Create evenly-spaced y tick positions to avoid overlap\n",
    "y_tick_pos = [0, 3000, 6000, 9000, 12000]\n",
    "\n",
    "ts2.draw_svg(y_axis=True, y_ticks=y_tick_pos)"
   ]
  },
  {
   "cell_type": "code",
   "execution_count": 24,
   "id": "eeba9849",
   "metadata": {},
   "outputs": [
    {
     "data": {
      "text/plain": [
       "array([[0.     , 0.82628, 0.1971 , 0.1971 , 0.37082, 0.     , 0.     ,\n",
       "        0.     ],\n",
       "       [0.8029 , 0.     , 0.1971 , 0.1971 , 0.37082, 0.     , 0.     ,\n",
       "        0.     ],\n",
       "       [0.     , 0.     , 0.     , 1.     , 0.     , 0.     , 0.     ,\n",
       "        0.     ],\n",
       "       [0.     , 0.     , 1.     , 0.     , 0.     , 0.     , 0.     ,\n",
       "        0.     ],\n",
       "       [0.17372, 0.     , 0.82628, 0.82628, 0.     , 0.     , 0.     ,\n",
       "        0.     ],\n",
       "       [0.     , 0.     , 0.8029 , 0.8029 , 0.62918, 0.     , 0.1971 ,\n",
       "        0.1971 ],\n",
       "       [0.     , 0.     , 0.     , 0.     , 0.     , 0.     , 0.     ,\n",
       "        1.     ],\n",
       "       [0.     , 0.     , 0.     , 0.     , 0.     , 0.     , 1.     ,\n",
       "        0.     ]])"
      ]
     },
     "execution_count": 24,
     "metadata": {},
     "output_type": "execute_result"
    }
   ],
   "source": [
    "sample_span = np.zeros((ts2.num_samples, ts2.num_samples))\n",
    "\n",
    "for tree in ts2.simplify().trees(sample_lists=True):\n",
    "    #print(f\"Visiting tree {tree.index}\")\n",
    "    if tree.has_single_root:\n",
    "        for u in ts2.samples():\n",
    "            #print(f\"  Checking neighbours for sample {u} under parent {tree.parent(u)}\")\n",
    "            for nearest in tree.samples(tree.parent(u)):\n",
    "                if nearest != u:\n",
    "                    #print(f\"    {nearest} is a neighbour of {u}\")\n",
    "                    #print(f\"    Adding {tree.span} to the sample span between {u} and {nearest}\")\n",
    "                    sample_span[u, nearest] += tree.span\n",
    "sample_span = sample_span / ts2.sequence_length\n",
    "sample_span"
   ]
  },
  {
   "cell_type": "code",
   "execution_count": 25,
   "id": "b6c6c3c3",
   "metadata": {
    "scrolled": true
   },
   "outputs": [
    {
     "data": {
      "text/html": [
       "<div>\n",
       "<style scoped>\n",
       "    .dataframe tbody tr th:only-of-type {\n",
       "        vertical-align: middle;\n",
       "    }\n",
       "\n",
       "    .dataframe tbody tr th {\n",
       "        vertical-align: top;\n",
       "    }\n",
       "\n",
       "    .dataframe thead th {\n",
       "        text-align: right;\n",
       "    }\n",
       "</style>\n",
       "<table border=\"1\" class=\"dataframe\">\n",
       "  <thead>\n",
       "    <tr style=\"text-align: right;\">\n",
       "      <th></th>\n",
       "      <th>Sample</th>\n",
       "      <th>Neighbour</th>\n",
       "      <th>Value</th>\n",
       "      <th>Norm_Value</th>\n",
       "    </tr>\n",
       "  </thead>\n",
       "  <tbody>\n",
       "    <tr>\n",
       "      <th>2</th>\n",
       "      <td>0</td>\n",
       "      <td>2</td>\n",
       "      <td>0.19710</td>\n",
       "      <td>0.141371</td>\n",
       "    </tr>\n",
       "    <tr>\n",
       "      <th>1</th>\n",
       "      <td>0</td>\n",
       "      <td>4</td>\n",
       "      <td>0.37082</td>\n",
       "      <td>0.265973</td>\n",
       "    </tr>\n",
       "    <tr>\n",
       "      <th>0</th>\n",
       "      <td>0</td>\n",
       "      <td>1</td>\n",
       "      <td>0.82628</td>\n",
       "      <td>0.592655</td>\n",
       "    </tr>\n",
       "    <tr>\n",
       "      <th>5</th>\n",
       "      <td>1</td>\n",
       "      <td>2</td>\n",
       "      <td>0.19710</td>\n",
       "      <td>0.143783</td>\n",
       "    </tr>\n",
       "    <tr>\n",
       "      <th>4</th>\n",
       "      <td>1</td>\n",
       "      <td>4</td>\n",
       "      <td>0.37082</td>\n",
       "      <td>0.270510</td>\n",
       "    </tr>\n",
       "    <tr>\n",
       "      <th>3</th>\n",
       "      <td>1</td>\n",
       "      <td>0</td>\n",
       "      <td>0.80290</td>\n",
       "      <td>0.585708</td>\n",
       "    </tr>\n",
       "    <tr>\n",
       "      <th>7</th>\n",
       "      <td>2</td>\n",
       "      <td>0</td>\n",
       "      <td>0.00000</td>\n",
       "      <td>0.000000</td>\n",
       "    </tr>\n",
       "    <tr>\n",
       "      <th>8</th>\n",
       "      <td>2</td>\n",
       "      <td>1</td>\n",
       "      <td>0.00000</td>\n",
       "      <td>0.000000</td>\n",
       "    </tr>\n",
       "    <tr>\n",
       "      <th>6</th>\n",
       "      <td>2</td>\n",
       "      <td>3</td>\n",
       "      <td>1.00000</td>\n",
       "      <td>1.000000</td>\n",
       "    </tr>\n",
       "    <tr>\n",
       "      <th>10</th>\n",
       "      <td>3</td>\n",
       "      <td>0</td>\n",
       "      <td>0.00000</td>\n",
       "      <td>0.000000</td>\n",
       "    </tr>\n",
       "    <tr>\n",
       "      <th>11</th>\n",
       "      <td>3</td>\n",
       "      <td>1</td>\n",
       "      <td>0.00000</td>\n",
       "      <td>0.000000</td>\n",
       "    </tr>\n",
       "    <tr>\n",
       "      <th>9</th>\n",
       "      <td>3</td>\n",
       "      <td>2</td>\n",
       "      <td>1.00000</td>\n",
       "      <td>1.000000</td>\n",
       "    </tr>\n",
       "    <tr>\n",
       "      <th>14</th>\n",
       "      <td>4</td>\n",
       "      <td>0</td>\n",
       "      <td>0.17372</td>\n",
       "      <td>0.095122</td>\n",
       "    </tr>\n",
       "    <tr>\n",
       "      <th>12</th>\n",
       "      <td>4</td>\n",
       "      <td>2</td>\n",
       "      <td>0.82628</td>\n",
       "      <td>0.452439</td>\n",
       "    </tr>\n",
       "    <tr>\n",
       "      <th>13</th>\n",
       "      <td>4</td>\n",
       "      <td>3</td>\n",
       "      <td>0.82628</td>\n",
       "      <td>0.452439</td>\n",
       "    </tr>\n",
       "    <tr>\n",
       "      <th>17</th>\n",
       "      <td>5</td>\n",
       "      <td>4</td>\n",
       "      <td>0.62918</td>\n",
       "      <td>0.281515</td>\n",
       "    </tr>\n",
       "    <tr>\n",
       "      <th>15</th>\n",
       "      <td>5</td>\n",
       "      <td>2</td>\n",
       "      <td>0.80290</td>\n",
       "      <td>0.359243</td>\n",
       "    </tr>\n",
       "    <tr>\n",
       "      <th>16</th>\n",
       "      <td>5</td>\n",
       "      <td>3</td>\n",
       "      <td>0.80290</td>\n",
       "      <td>0.359243</td>\n",
       "    </tr>\n",
       "    <tr>\n",
       "      <th>19</th>\n",
       "      <td>6</td>\n",
       "      <td>0</td>\n",
       "      <td>0.00000</td>\n",
       "      <td>0.000000</td>\n",
       "    </tr>\n",
       "    <tr>\n",
       "      <th>20</th>\n",
       "      <td>6</td>\n",
       "      <td>1</td>\n",
       "      <td>0.00000</td>\n",
       "      <td>0.000000</td>\n",
       "    </tr>\n",
       "    <tr>\n",
       "      <th>18</th>\n",
       "      <td>6</td>\n",
       "      <td>7</td>\n",
       "      <td>1.00000</td>\n",
       "      <td>1.000000</td>\n",
       "    </tr>\n",
       "    <tr>\n",
       "      <th>22</th>\n",
       "      <td>7</td>\n",
       "      <td>0</td>\n",
       "      <td>0.00000</td>\n",
       "      <td>0.000000</td>\n",
       "    </tr>\n",
       "    <tr>\n",
       "      <th>23</th>\n",
       "      <td>7</td>\n",
       "      <td>1</td>\n",
       "      <td>0.00000</td>\n",
       "      <td>0.000000</td>\n",
       "    </tr>\n",
       "    <tr>\n",
       "      <th>21</th>\n",
       "      <td>7</td>\n",
       "      <td>6</td>\n",
       "      <td>1.00000</td>\n",
       "      <td>1.000000</td>\n",
       "    </tr>\n",
       "  </tbody>\n",
       "</table>\n",
       "</div>"
      ],
      "text/plain": [
       "   Sample Neighbour    Value  Norm_Value\n",
       "2       0         2  0.19710    0.141371\n",
       "1       0         4  0.37082    0.265973\n",
       "0       0         1  0.82628    0.592655\n",
       "5       1         2  0.19710    0.143783\n",
       "4       1         4  0.37082    0.270510\n",
       "3       1         0  0.80290    0.585708\n",
       "7       2         0  0.00000    0.000000\n",
       "8       2         1  0.00000    0.000000\n",
       "6       2         3  1.00000    1.000000\n",
       "10      3         0  0.00000    0.000000\n",
       "11      3         1  0.00000    0.000000\n",
       "9       3         2  1.00000    1.000000\n",
       "14      4         0  0.17372    0.095122\n",
       "12      4         2  0.82628    0.452439\n",
       "13      4         3  0.82628    0.452439\n",
       "17      5         4  0.62918    0.281515\n",
       "15      5         2  0.80290    0.359243\n",
       "16      5         3  0.80290    0.359243\n",
       "19      6         0  0.00000    0.000000\n",
       "20      6         1  0.00000    0.000000\n",
       "18      6         7  1.00000    1.000000\n",
       "22      7         0  0.00000    0.000000\n",
       "23      7         1  0.00000    0.000000\n",
       "21      7         6  1.00000    1.000000"
      ]
     },
     "execution_count": 25,
     "metadata": {},
     "output_type": "execute_result"
    }
   ],
   "source": [
    "n = 3\n",
    "\n",
    "samples = [str(s) for s in ts2.samples()]\n",
    "span_df = pd.DataFrame(sample_span.T, columns = samples)\n",
    "span_df['sample'] = samples\n",
    "span_melted = span_df.melt(id_vars=['sample'])\n",
    "span_melted.set_index('sample',drop=True, inplace=True)\n",
    "topn = span_melted.groupby('variable')['value'].nlargest(n).reset_index()\n",
    "topn.columns = ['Sample','Neighbour','Value']\n",
    "topn['Norm_Value'] = topn['Value']/ topn.groupby('Sample')['Value'].transform('sum')\n",
    "topn = topn.sort_values(['Sample', 'Norm_Value'], ascending=True)\n",
    "topn\n"
   ]
  },
  {
   "cell_type": "code",
   "execution_count": 26,
   "id": "188b293c",
   "metadata": {},
   "outputs": [
    {
     "data": {
      "text/plain": [
       "['0', '1', '2', '3', '4', '6', '7']"
      ]
     },
     "execution_count": 26,
     "metadata": {},
     "output_type": "execute_result"
    }
   ],
   "source": [
    "neighbours = topn['Neighbour'].drop_duplicates().to_list()\n",
    "neighbours.sort()\n",
    "neighbours"
   ]
  },
  {
   "cell_type": "code",
   "execution_count": 27,
   "id": "09e4815c",
   "metadata": {},
   "outputs": [
    {
     "ename": "NameError",
     "evalue": "name 'ax' is not defined",
     "output_type": "error",
     "traceback": [
      "\u001b[0;31m---------------------------------------------------------------------------\u001b[0m",
      "\u001b[0;31mNameError\u001b[0m                                 Traceback (most recent call last)",
      "Cell \u001b[0;32mIn[27], line 6\u001b[0m\n\u001b[1;32m      2\u001b[0m \u001b[39mimport\u001b[39;00m \u001b[39mmatplotlib\u001b[39;00m\u001b[39m.\u001b[39;00m\u001b[39mpyplot\u001b[39;00m \u001b[39mas\u001b[39;00m \u001b[39mplt\u001b[39;00m\n\u001b[1;32m      4\u001b[0m \u001b[39m#ax = sns.histplot(topn, x='Sample', hue='Neighbour', weights='Norm_Value',\u001b[39;00m\n\u001b[1;32m      5\u001b[0m \u001b[39m#                  multiple='stack', shrink=0.8, hue_order = neighbours, palette=\"Paired\")\u001b[39;00m\n\u001b[0;32m----> 6\u001b[0m sns\u001b[39m.\u001b[39mmove_legend(ax, \u001b[39m\"\u001b[39m\u001b[39mupper left\u001b[39m\u001b[39m\"\u001b[39m, bbox_to_anchor\u001b[39m=\u001b[39m(\u001b[39m1\u001b[39m, \u001b[39m1\u001b[39m))\n\u001b[1;32m      7\u001b[0m ax\u001b[39m.\u001b[39mset(xlabel\u001b[39m=\u001b[39m\u001b[39m'\u001b[39m\u001b[39mSample\u001b[39m\u001b[39m'\u001b[39m, ylabel\u001b[39m=\u001b[39m\u001b[39m'\u001b[39m\u001b[39mProportion of span\u001b[39m\u001b[39m'\u001b[39m)\n\u001b[1;32m      9\u001b[0m plt\u001b[39m.\u001b[39mshow()\n",
      "\u001b[0;31mNameError\u001b[0m: name 'ax' is not defined"
     ]
    }
   ],
   "source": [
    "import seaborn as sns\n",
    "import matplotlib.pyplot as plt\n",
    "\n",
    "#ax = sns.histplot(topn, x='Sample', hue='Neighbour', weights='Norm_Value',\n",
    "#                  multiple='stack', shrink=0.8, hue_order = neighbours, palette=\"Paired\")\n",
    "sns.move_legend(ax, \"upper left\", bbox_to_anchor=(1, 1))\n",
    "ax.set(xlabel='Sample', ylabel='Proportion of span')\n",
    "\n",
    "plt.show()"
   ]
  },
  {
   "cell_type": "markdown",
   "id": "2d340ade",
   "metadata": {},
   "source": [
    "Now let's write this as a general function"
   ]
  },
  {
   "cell_type": "code",
   "execution_count": null,
   "id": "8eed6c0e",
   "metadata": {},
   "outputs": [],
   "source": [
    "\n",
    "def make_span_df(ts, n_per_sample):\n",
    "    sample_span = np.zeros((ts.num_samples, ts.num_samples))\n",
    "\n",
    "    for tree in ts.simplify().trees(sample_lists=True):\n",
    "        if tree.has_single_root:\n",
    "            for u in ts.samples():\n",
    "                for nearest in tree.samples(tree.parent(u)):\n",
    "                    if nearest != u:\n",
    "                        sample_span[u, nearest] += tree.span\n",
    "    sample_span = sample_span / ts.sequence_length\n",
    "    samples = [str(s) for s in ts.samples()]\n",
    "    \n",
    "    #Construct the dataframe\n",
    "    span_df = pd.DataFrame(sample_span.T, columns = samples)\n",
    "    span_df['sample'] = samples\n",
    "    \n",
    "    #Melt the dataframe for plotting\n",
    "    span_melted = span_df.melt(id_vars=['sample'])\n",
    "    span_melted.set_index('sample',drop=True, inplace=True)\n",
    "    topn = span_melted.groupby('variable')['value'].nlargest(n_per_sample).reset_index()\n",
    "    topn.columns = ['Sample','Neighbour','Value']\n",
    "    #Normalise spans so that the bars are of the same height\n",
    "    topn['Norm_Value'] = topn['Value']/ topn.groupby('Sample')['Value'].transform('sum')\n",
    "    topn.sort_values(by='Sample', inplace=True, key=lambda x : x.astype(int))\n",
    "    return topn\n",
    "\n",
    "def plot_span_df(df, palette, normaliseQ = False):\n",
    "    #neighbours_list ordered for plotting\n",
    "    neighbours = df['Neighbour'].drop_duplicates().to_list()\n",
    "    neighbours.sort(key = int)\n",
    "    \n",
    "    #using histplot because it can create stacked bar charts nicely\n",
    "    if normaliseQ:\n",
    "        ax = sns.histplot(df, x='Sample', hue='Neighbour', weights='Norm_Value',\n",
    "                      multiple='stack', shrink=0.8, hue_order = neighbours, palette=palette)\n",
    "    else:\n",
    "        ax = sns.histplot(df, x='Sample', hue='Neighbour', weights='Value',\n",
    "                      multiple='stack', shrink=0.8, hue_order = neighbours, palette=palette)\n",
    "    sns.move_legend(ax, \"upper left\", bbox_to_anchor=(1, 1))\n",
    "    ax.set(xlabel='Sample', ylabel='Span')\n",
    "\n",
    "    plt.show()\n",
    "    "
   ]
  },
  {
   "cell_type": "markdown",
   "id": "76ae5984",
   "metadata": {},
   "source": [
    "#### Applying code to real data"
   ]
  },
  {
   "cell_type": "code",
   "execution_count": null,
   "id": "cb79acac",
   "metadata": {
    "scrolled": false
   },
   "outputs": [
    {
     "data": {
      "image/png": "[encoded data removed]",
      "text/plain": [
       "<Figure size 640x480 with 1 Axes>"
      ]
     },
     "metadata": {},
     "output_type": "display_data"
    }
   ],
   "source": [
    "span_df = make_span_df(ts_small, 12)\n",
    "plot_span_df(span_df, \"Paired\")\n"
   ]
  },
  {
   "cell_type": "code",
   "execution_count": null,
   "id": "bf93018a",
   "metadata": {},
   "outputs": [
    {
     "data": {
      "image/png": "[encoded data removed]",
      "text/plain": [
       "<Figure size 640x480 with 1 Axes>"
      ]
     },
     "metadata": {},
     "output_type": "display_data"
    }
   ],
   "source": [
    "span_df = make_span_df(ts2, 3)\n",
    "plot_span_df(span_df, \"Paired\")"
   ]
  },
  {
   "cell_type": "markdown",
   "id": "8aaf5f2b",
   "metadata": {},
   "source": [
    "Since the individuals are presumably unrelated, no sample is particularly close to any other sample for a large span of the genome."
   ]
  },
  {
   "cell_type": "markdown",
   "id": "7d2106c8",
   "metadata": {},
   "source": [
    "### Topological methods\n",
    "\n",
    "If a pair of samples are closely related, we expect that subtrees including the pair will tend to have them clustered together with a shared parent. We can assess this by counting how many topologies there are across the genome in which the pair share a parent. Let's use our example from before, starting with just a single tree"
   ]
  },
  {
   "cell_type": "code",
   "execution_count": null,
   "id": "53dfdbfe",
   "metadata": {
    "scrolled": false
   },
   "outputs": [
    {
     "data": {
      "image/svg+xml": [
       "<svg baseProfile=\"full\" height=\"300\" version=\"1.1\" width=\"500\" xmlns=\"http://www.w3.org/2000/svg\" xmlns:ev=\"http://www.w3.org/2001/xml-events\" xmlns:xlink=\"http://www.w3.org/1999/xlink\"><defs><style type=\"text/css\"><![CDATA[.background path {fill: #808080; fill-opacity: 0}.background path:nth-child(odd) {fill-opacity: .1}.axes {font-size: 14px}.x-axis .tick .lab {font-weight: bold; dominant-baseline: hanging}.axes, .tree {font-size: 14px; text-anchor: middle}.axes line, .edge {stroke: black; fill: none}.axes .ax-skip {stroke-dasharray: 4}.y-axis .grid {stroke: #FAFAFA}.node > .sym {fill: black; stroke: none}.site > .sym {stroke: black}.mut text {fill: red; font-style: italic}.mut.extra text {fill: hotpink}.mut line {fill: none; stroke: none}.mut .sym {fill: none; stroke: red}.mut.extra .sym {stroke: hotpink}.node .mut .sym {stroke-width: 1.5px}.tree text, .tree-sequence text {dominant-baseline: central}.plotbox .lab.lft {text-anchor: end}.plotbox .lab.rgt {text-anchor: start}]]></style></defs><g class=\"tree t0\"><g class=\"axes\"><g class=\"y-axis\"><g class=\"title\" transform=\"translate(0 139.1)\"><text class=\"lab\" text-anchor=\"middle\" transform=\"translate(11) rotate(-90)\">Time (generations)</text></g><line class=\"ax-line\" x1=\"56.8\" x2=\"56.8\" y1=\"268.2\" y2=\"10\" /><g class=\"ticks\"><g class=\"tick\" transform=\"translate(56.8 268.2)\"><line x1=\"0\" x2=\"-5\" y1=\"0\" y2=\"0\" /><g transform=\"translate(-6 0)\"><text class=\"lab\" text-anchor=\"end\">0</text></g></g><g class=\"tick\" transform=\"translate(56.8 196.757)\"><line x1=\"0\" x2=\"-5\" y1=\"0\" y2=\"0\" /><g transform=\"translate(-6 0)\"><text class=\"lab\" text-anchor=\"end\">1000</text></g></g><g class=\"tick\" transform=\"translate(56.8 125.314)\"><line x1=\"0\" x2=\"-5\" y1=\"0\" y2=\"0\" /><g transform=\"translate(-6 0)\"><text class=\"lab\" text-anchor=\"end\">2000</text></g></g><g class=\"tick\" transform=\"translate(56.8 53.8712)\"><line x1=\"0\" x2=\"-5\" y1=\"0\" y2=\"0\" /><g transform=\"translate(-6 0)\"><text class=\"lab\" text-anchor=\"end\">3000</text></g></g></g></g></g><g class=\"plotbox\"><g class=\"c2 node n17 p3 root\" transform=\"translate(263.441 26.8)\"><g class=\"a17 c2 node n13 p3\" transform=\"translate(-123.984 102.678)\"><g class=\"a13 i0 leaf node n0 p0 sample\" transform=\"translate(-56.2063 138.722)\"><path class=\"edge\" d=\"M 0 0 V -138.722 H 56.2063\" /><rect class=\"sym\" height=\"6\" width=\"6\" x=\"-3\" y=\"-3\" /><text class=\"lab\" transform=\"translate(0 11)\">0</text></g><g class=\"a13 c2 node n12 p3\" transform=\"translate(56.2063 35.9053)\"><g class=\"a12 i0 leaf node n1 p0 sample\" transform=\"translate(-59.5125 102.817)\"><path class=\"edge\" d=\"M 0 0 V -102.817 H 59.5125\" /><rect class=\"sym\" height=\"6\" width=\"6\" x=\"-3\" y=\"-3\" /><text class=\"lab\" transform=\"translate(0 11)\">1</text></g><g class=\"a12 c2 node n9 p3\" transform=\"translate(59.5125 28.7671)\"><g class=\"a9 i2 leaf node n4 p1 sample\" transform=\"translate(39.675 74.0496)\"><path class=\"edge\" d=\"M 0 0 V -74.0496 H -39.675\" /><rect class=\"sym\" height=\"6\" width=\"6\" x=\"-3\" y=\"-3\" /><text class=\"lab\" transform=\"translate(0 11)\">4</text></g><g class=\"a9 c2 node n8 p0\" transform=\"translate(-39.675 71.6213)\"><g class=\"a8 i1 leaf node n2 p0 sample\" transform=\"translate(-26.45 2.42821)\"><path class=\"edge\" d=\"M 0 0 V -2.42821 H 26.45\" /><rect class=\"sym\" height=\"6\" width=\"6\" x=\"-3\" y=\"-3\" /><text class=\"lab\" transform=\"translate(0 11)\">2</text></g><g class=\"a8 i1 leaf node n3 p0 sample\" transform=\"translate(26.45 2.42821)\"><path class=\"edge\" d=\"M 0 0 V -2.42821 H -26.45\" /><rect class=\"sym\" height=\"6\" width=\"6\" x=\"-3\" y=\"-3\" /><text class=\"lab\" transform=\"translate(0 11)\">3</text></g><path class=\"edge\" d=\"M 0 0 V -71.6213 H 39.675\" /><circle class=\"sym\" cx=\"0\" cy=\"0\" r=\"3\" /><text class=\"lab lft\" transform=\"translate(-3 -7.0)\">8</text></g><path class=\"edge\" d=\"M 0 0 V -28.7671 H -59.5125\" /><circle class=\"sym\" cx=\"0\" cy=\"0\" r=\"3\" /><text class=\"lab rgt\" transform=\"translate(3 -7.0)\">9</text></g><path class=\"edge\" d=\"M 0 0 V -35.9053 H -56.2063\" /><circle class=\"sym\" cx=\"0\" cy=\"0\" r=\"3\" /><text class=\"lab rgt\" transform=\"translate(3 -7.0)\">12</text></g><path class=\"edge\" d=\"M 0 0 V -102.678 H 123.984\" /><circle class=\"sym\" cx=\"0\" cy=\"0\" r=\"3\" /><text class=\"lab lft\" transform=\"translate(-3 -7.0)\">13</text></g><g class=\"a17 c2 node n16 p3\" transform=\"translate(123.984 43.8202)\"><g class=\"a16 i2 leaf node n5 p1 sample\" transform=\"translate(-39.675 197.58)\"><path class=\"edge\" d=\"M 0 0 V -197.58 H 39.675\" /><rect class=\"sym\" height=\"6\" width=\"6\" x=\"-3\" y=\"-3\" /><text class=\"lab\" transform=\"translate(0 11)\">5</text></g><g class=\"a16 c2 node n10 p3\" transform=\"translate(39.675 121.672)\"><g class=\"a10 i3 leaf node n6 p2 sample\" transform=\"translate(-26.45 75.9083)\"><path class=\"edge\" d=\"M 0 0 V -75.9083 H 26.45\" /><rect class=\"sym\" height=\"6\" width=\"6\" x=\"-3\" y=\"-3\" /><text class=\"lab\" transform=\"translate(0 11)\">6</text></g><g class=\"a10 i3 leaf node n7 p2 sample\" transform=\"translate(26.45 75.9083)\"><path class=\"edge\" d=\"M 0 0 V -75.9083 H -26.45\" /><rect class=\"sym\" height=\"6\" width=\"6\" x=\"-3\" y=\"-3\" /><text class=\"lab\" transform=\"translate(0 11)\">7</text></g><path class=\"edge\" d=\"M 0 0 V -121.672 H -39.675\" /><circle class=\"sym\" cx=\"0\" cy=\"0\" r=\"3\" /><text class=\"lab rgt\" transform=\"translate(3 -7.0)\">10</text></g><path class=\"edge\" d=\"M 0 0 V -43.8202 H -123.984\" /><circle class=\"sym\" cx=\"0\" cy=\"0\" r=\"3\" /><text class=\"lab rgt\" transform=\"translate(3 -7.0)\">16</text></g><circle class=\"sym\" cx=\"0\" cy=\"0\" r=\"3\" /><text class=\"lab\" transform=\"translate(0 -11)\">17</text></g></g></g></svg>"
      ],
      "text/plain": [
       "'<svg baseProfile=\"full\" height=\"300\" version=\"1.1\" width=\"500\" xmlns=\"http://www.w3.org/2000/svg\" xmlns:ev=\"http://www.w3.org/2001/xml-events\" xmlns:xlink=\"http://www.w3.org/1999/xlink\"><defs><style type=\"text/css\"><![CDATA[.background path {fill: #808080; fill-opacity: 0}.background path:nth-child(odd) {fill-opacity: .1}.axes {font-size: 14px}.x-axis .tick .lab {font-weight: bold; dominant-baseline: hanging}.axes, .tree {font-size: 14px; text-anchor: middle}.axes line, .edge {stroke: black; fill: none}.axes .ax-skip {stroke-dasharray: 4}.y-axis .grid {stroke: #FAFAFA}.node > .sym {fill: black; stroke: none}.site > .sym {stroke: black}.mut text {fill: red; font-style: italic}.mut.extra text {fill: hotpink}.mut line {fill: none; stroke: none}.mut .sym {fill: none; stroke: red}.mut.extra .sym {stroke: hotpink}.node .mut .sym {stroke-width: 1.5px}.tree text, .tree-sequence text {dominant-baseline: central}.plotbox .lab.lft {text-anchor: end}.plotbox .lab.rgt {text-anchor: start}]]></style></defs><g class=\"tree t0\"><g class=\"axes\"><g class=\"y-axis\"><g class=\"title\" transform=\"translate(0 139.1)\"><text class=\"lab\" text-anchor=\"middle\" transform=\"translate(11) rotate(-90)\">Time (generations)</text></g><line class=\"ax-line\" x1=\"56.8\" x2=\"56.8\" y1=\"268.2\" y2=\"10\" /><g class=\"ticks\"><g class=\"tick\" transform=\"translate(56.8 268.2)\"><line x1=\"0\" x2=\"-5\" y1=\"0\" y2=\"0\" /><g transform=\"translate(-6 0)\"><text class=\"lab\" text-anchor=\"end\">0</text></g></g><g class=\"tick\" transform=\"translate(56.8 196.757)\"><line x1=\"0\" x2=\"-5\" y1=\"0\" y2=\"0\" /><g transform=\"translate(-6 0)\"><text class=\"lab\" text-anchor=\"end\">1000</text></g></g><g class=\"tick\" transform=\"translate(56.8 125.314)\"><line x1=\"0\" x2=\"-5\" y1=\"0\" y2=\"0\" /><g transform=\"translate(-6 0)\"><text class=\"lab\" text-anchor=\"end\">2000</text></g></g><g class=\"tick\" transform=\"translate(56.8 53.8712)\"><line x1=\"0\" x2=\"-5\" y1=\"0\" y2=\"0\" /><g transform=\"translate(-6 0)\"><text class=\"lab\" text-anchor=\"end\">3000</text></g></g></g></g></g><g class=\"plotbox\"><g class=\"c2 node n17 p3 root\" transform=\"translate(263.441 26.8)\"><g class=\"a17 c2 node n13 p3\" transform=\"translate(-123.984 102.678)\"><g class=\"a13 i0 leaf node n0 p0 sample\" transform=\"translate(-56.2063 138.722)\"><path class=\"edge\" d=\"M 0 0 V -138.722 H 56.2063\" /><rect class=\"sym\" height=\"6\" width=\"6\" x=\"-3\" y=\"-3\" /><text class=\"lab\" transform=\"translate(0 11)\">0</text></g><g class=\"a13 c2 node n12 p3\" transform=\"translate(56.2063 35.9053)\"><g class=\"a12 i0 leaf node n1 p0 sample\" transform=\"translate(-59.5125 102.817)\"><path class=\"edge\" d=\"M 0 0 V -102.817 H 59.5125\" /><rect class=\"sym\" height=\"6\" width=\"6\" x=\"-3\" y=\"-3\" /><text class=\"lab\" transform=\"translate(0 11)\">1</text></g><g class=\"a12 c2 node n9 p3\" transform=\"translate(59.5125 28.7671)\"><g class=\"a9 i2 leaf node n4 p1 sample\" transform=\"translate(39.675 74.0496)\"><path class=\"edge\" d=\"M 0 0 V -74.0496 H -39.675\" /><rect class=\"sym\" height=\"6\" width=\"6\" x=\"-3\" y=\"-3\" /><text class=\"lab\" transform=\"translate(0 11)\">4</text></g><g class=\"a9 c2 node n8 p0\" transform=\"translate(-39.675 71.6213)\"><g class=\"a8 i1 leaf node n2 p0 sample\" transform=\"translate(-26.45 2.42821)\"><path class=\"edge\" d=\"M 0 0 V -2.42821 H 26.45\" /><rect class=\"sym\" height=\"6\" width=\"6\" x=\"-3\" y=\"-3\" /><text class=\"lab\" transform=\"translate(0 11)\">2</text></g><g class=\"a8 i1 leaf node n3 p0 sample\" transform=\"translate(26.45 2.42821)\"><path class=\"edge\" d=\"M 0 0 V -2.42821 H -26.45\" /><rect class=\"sym\" height=\"6\" width=\"6\" x=\"-3\" y=\"-3\" /><text class=\"lab\" transform=\"translate(0 11)\">3</text></g><path class=\"edge\" d=\"M 0 0 V -71.6213 H 39.675\" /><circle class=\"sym\" cx=\"0\" cy=\"0\" r=\"3\" /><text class=\"lab lft\" transform=\"translate(-3 -7.0)\">8</text></g><path class=\"edge\" d=\"M 0 0 V -28.7671 H -59.5125\" /><circle class=\"sym\" cx=\"0\" cy=\"0\" r=\"3\" /><text class=\"lab rgt\" transform=\"translate(3 -7.0)\">9</text></g><path class=\"edge\" d=\"M 0 0 V -35.9053 H -56.2063\" /><circle class=\"sym\" cx=\"0\" cy=\"0\" r=\"3\" /><text class=\"lab rgt\" transform=\"translate(3 -7.0)\">12</text></g><path class=\"edge\" d=\"M 0 0 V -102.678 H 123.984\" /><circle class=\"sym\" cx=\"0\" cy=\"0\" r=\"3\" /><text class=\"lab lft\" transform=\"translate(-3 -7.0)\">13</text></g><g class=\"a17 c2 node n16 p3\" transform=\"translate(123.984 43.8202)\"><g class=\"a16 i2 leaf node n5 p1 sample\" transform=\"translate(-39.675 197.58)\"><path class=\"edge\" d=\"M 0 0 V -197.58 H 39.675\" /><rect class=\"sym\" height=\"6\" width=\"6\" x=\"-3\" y=\"-3\" /><text class=\"lab\" transform=\"translate(0 11)\">5</text></g><g class=\"a16 c2 node n10 p3\" transform=\"translate(39.675 121.672)\"><g class=\"a10 i3 leaf node n6 p2 sample\" transform=\"translate(-26.45 75.9083)\"><path class=\"edge\" d=\"M 0 0 V -75.9083 H 26.45\" /><rect class=\"sym\" height=\"6\" width=\"6\" x=\"-3\" y=\"-3\" /><text class=\"lab\" transform=\"translate(0 11)\">6</text></g><g class=\"a10 i3 leaf node n7 p2 sample\" transform=\"translate(26.45 75.9083)\"><path class=\"edge\" d=\"M 0 0 V -75.9083 H -26.45\" /><rect class=\"sym\" height=\"6\" width=\"6\" x=\"-3\" y=\"-3\" /><text class=\"lab\" transform=\"translate(0 11)\">7</text></g><path class=\"edge\" d=\"M 0 0 V -121.672 H -39.675\" /><circle class=\"sym\" cx=\"0\" cy=\"0\" r=\"3\" /><text class=\"lab rgt\" transform=\"translate(3 -7.0)\">10</text></g><path class=\"edge\" d=\"M 0 0 V -43.8202 H -123.984\" /><circle class=\"sym\" cx=\"0\" cy=\"0\" r=\"3\" /><text class=\"lab rgt\" transform=\"translate(3 -7.0)\">16</text></g><circle class=\"sym\" cx=\"0\" cy=\"0\" r=\"3\" /><text class=\"lab\" transform=\"translate(0 -11)\">17</text></g></g></g></svg>'"
      ]
     },
     "execution_count": 53,
     "metadata": {},
     "output_type": "execute_result"
    }
   ],
   "source": [
    "ts2.first().draw_svg(y_axis=True, y_ticks=[0,1000,2000,3000], size=(500,300))"
   ]
  },
  {
   "cell_type": "markdown",
   "id": "97d6dbaa",
   "metadata": {},
   "source": [
    "Let's see how many tree topologies have 0 and 1 together. First we need to construct the sample lists"
   ]
  },
  {
   "cell_type": "code",
   "execution_count": null,
   "id": "4e9b07b5",
   "metadata": {},
   "outputs": [
    {
     "data": {
      "text/plain": [
       "[0, 1, 3, 5, 6, 7]"
      ]
     },
     "execution_count": 54,
     "metadata": {},
     "output_type": "execute_result"
    }
   ],
   "source": [
    "sample1 = [2]\n",
    "sample2 = [4]\n",
    "other_samples = list(set(range(ts2.num_samples))-set(sample1)-set(sample2))\n",
    "other_samples"
   ]
  },
  {
   "cell_type": "markdown",
   "id": "946f6a5f",
   "metadata": {},
   "source": [
    "Now we can use the `count_topologies` method. Since the [documentation for this function is limited](https://tskit.dev/tskit/docs/stable/python-api.html#tskit.Tree.count_topologies), we need to examine its methods to figure out how to extract our data"
   ]
  },
  {
   "cell_type": "code",
   "execution_count": null,
   "id": "004ee027",
   "metadata": {
    "scrolled": true
   },
   "outputs": [
    {
     "data": {
      "text/plain": [
       "['topologies', 'merge', 'from_sample', '_to_key']"
      ]
     },
     "execution_count": 55,
     "metadata": {},
     "output_type": "execute_result"
    }
   ],
   "source": [
    "tc = ts2.first().count_topologies(sample_sets=[sample1 ,sample2, other_samples])\n",
    "dir(tc)[-1:-5:-1]\n"
   ]
  },
  {
   "cell_type": "code",
   "execution_count": null,
   "id": "3cb5717f",
   "metadata": {
    "scrolled": true
   },
   "outputs": [
    {
     "data": {
      "text/plain": [
       "Counter({Rank(shape=1, label=2): 5, Rank(shape=1, label=1): 1})"
      ]
     },
     "execution_count": 56,
     "metadata": {},
     "output_type": "execute_result"
    }
   ],
   "source": [
    "topologies = tc.topologies\n",
    "topologies[0,1,2]"
   ]
  },
  {
   "cell_type": "markdown",
   "id": "a8622365",
   "metadata": {},
   "source": [
    "We only want the topologies with all 3 sample nodes included, so we drop the others"
   ]
  },
  {
   "cell_type": "code",
   "execution_count": null,
   "id": "16e6deaa",
   "metadata": {},
   "outputs": [
    {
     "name": "stdout",
     "output_type": "stream",
     "text": [
      "Rank(shape=1, label=2); Count: 5\n"
     ]
    },
    {
     "data": {
      "image/svg+xml": [
       "<svg baseProfile=\"full\" height=\"120\" version=\"1.1\" width=\"120\" xmlns=\"http://www.w3.org/2000/svg\" xmlns:ev=\"http://www.w3.org/2001/xml-events\" xmlns:xlink=\"http://www.w3.org/1999/xlink\"><defs><style type=\"text/css\"><![CDATA[.background path {fill: #808080; fill-opacity: 0}.background path:nth-child(odd) {fill-opacity: .1}.axes {font-size: 14px}.x-axis .tick .lab {font-weight: bold; dominant-baseline: hanging}.axes, .tree {font-size: 14px; text-anchor: middle}.axes line, .edge {stroke: black; fill: none}.axes .ax-skip {stroke-dasharray: 4}.y-axis .grid {stroke: #FAFAFA}.node > .sym {fill: black; stroke: none}.site > .sym {stroke: black}.mut text {fill: red; font-style: italic}.mut.extra text {fill: hotpink}.mut line {fill: none; stroke: none}.mut .sym {fill: none; stroke: red}.mut.extra .sym {stroke: hotpink}.node .mut .sym {stroke-width: 1.5px}.tree text, .tree-sequence text {dominant-baseline: central}.plotbox .lab.lft {text-anchor: end}.plotbox .lab.rgt {text-anchor: start}]]></style></defs><g class=\"tree t0\"><g class=\"plotbox\"><g class=\"c2 node n4 root\" transform=\"translate(53.3333 26.8)\"><g class=\"a4 leaf node n2 sample\" transform=\"translate(-20 61.4)\"><path class=\"edge\" d=\"M 0 0 V -61.4 H 20\" /><rect class=\"sym\" height=\"6\" width=\"6\" x=\"-3\" y=\"-3\" /><text class=\"lab\" transform=\"translate(0 11)\">x</text></g><g class=\"a4 c2 node n3\" transform=\"translate(20 30.7)\"><g class=\"a3 leaf node n0 sample\" transform=\"translate(-13.3333 30.7)\"><path class=\"edge\" d=\"M 0 0 V -30.7 H 13.3333\" /><rect class=\"sym\" height=\"6\" width=\"6\" x=\"-3\" y=\"-3\" /><text class=\"lab\" transform=\"translate(0 11)\">2</text></g><g class=\"a3 leaf node n1 sample\" transform=\"translate(13.3333 30.7)\"><path class=\"edge\" d=\"M 0 0 V -30.7 H -13.3333\" /><rect class=\"sym\" height=\"6\" width=\"6\" x=\"-3\" y=\"-3\" /><text class=\"lab\" transform=\"translate(0 11)\">4</text></g><path class=\"edge\" d=\"M 0 0 V -30.7 H -20\" /><circle class=\"sym\" cx=\"0\" cy=\"0\" r=\"3\" /><text class=\"lab rgt\" transform=\"translate(3 -7.0)\" /></g><circle class=\"sym\" cx=\"0\" cy=\"0\" r=\"3\" /><text class=\"lab\" transform=\"translate(0 -11)\" /></g></g></g></svg>"
      ],
      "text/plain": [
       "'<svg baseProfile=\"full\" height=\"120\" version=\"1.1\" width=\"120\" xmlns=\"http://www.w3.org/2000/svg\" xmlns:ev=\"http://www.w3.org/2001/xml-events\" xmlns:xlink=\"http://www.w3.org/1999/xlink\"><defs><style type=\"text/css\"><![CDATA[.background path {fill: #808080; fill-opacity: 0}.background path:nth-child(odd) {fill-opacity: .1}.axes {font-size: 14px}.x-axis .tick .lab {font-weight: bold; dominant-baseline: hanging}.axes, .tree {font-size: 14px; text-anchor: middle}.axes line, .edge {stroke: black; fill: none}.axes .ax-skip {stroke-dasharray: 4}.y-axis .grid {stroke: #FAFAFA}.node > .sym {fill: black; stroke: none}.site > .sym {stroke: black}.mut text {fill: red; font-style: italic}.mut.extra text {fill: hotpink}.mut line {fill: none; stroke: none}.mut .sym {fill: none; stroke: red}.mut.extra .sym {stroke: hotpink}.node .mut .sym {stroke-width: 1.5px}.tree text, .tree-sequence text {dominant-baseline: central}.plotbox .lab.lft {text-anchor: end}.plotbox .lab.rgt {text-anchor: start}]]></style></defs><g class=\"tree t0\"><g class=\"plotbox\"><g class=\"c2 node n4 root\" transform=\"translate(53.3333 26.8)\"><g class=\"a4 leaf node n2 sample\" transform=\"translate(-20 61.4)\"><path class=\"edge\" d=\"M 0 0 V -61.4 H 20\" /><rect class=\"sym\" height=\"6\" width=\"6\" x=\"-3\" y=\"-3\" /><text class=\"lab\" transform=\"translate(0 11)\">x</text></g><g class=\"a4 c2 node n3\" transform=\"translate(20 30.7)\"><g class=\"a3 leaf node n0 sample\" transform=\"translate(-13.3333 30.7)\"><path class=\"edge\" d=\"M 0 0 V -30.7 H 13.3333\" /><rect class=\"sym\" height=\"6\" width=\"6\" x=\"-3\" y=\"-3\" /><text class=\"lab\" transform=\"translate(0 11)\">2</text></g><g class=\"a3 leaf node n1 sample\" transform=\"translate(13.3333 30.7)\"><path class=\"edge\" d=\"M 0 0 V -30.7 H -13.3333\" /><rect class=\"sym\" height=\"6\" width=\"6\" x=\"-3\" y=\"-3\" /><text class=\"lab\" transform=\"translate(0 11)\">4</text></g><path class=\"edge\" d=\"M 0 0 V -30.7 H -20\" /><circle class=\"sym\" cx=\"0\" cy=\"0\" r=\"3\" /><text class=\"lab rgt\" transform=\"translate(3 -7.0)\" /></g><circle class=\"sym\" cx=\"0\" cy=\"0\" r=\"3\" /><text class=\"lab\" transform=\"translate(0 -11)\" /></g></g></g></svg>'"
      ]
     },
     "metadata": {},
     "output_type": "display_data"
    },
    {
     "name": "stdout",
     "output_type": "stream",
     "text": [
      "Rank(shape=1, label=1); Count: 1\n"
     ]
    },
    {
     "data": {
      "image/svg+xml": [
       "<svg baseProfile=\"full\" height=\"120\" version=\"1.1\" width=\"120\" xmlns=\"http://www.w3.org/2000/svg\" xmlns:ev=\"http://www.w3.org/2001/xml-events\" xmlns:xlink=\"http://www.w3.org/1999/xlink\"><defs><style type=\"text/css\"><![CDATA[.background path {fill: #808080; fill-opacity: 0}.background path:nth-child(odd) {fill-opacity: .1}.axes {font-size: 14px}.x-axis .tick .lab {font-weight: bold; dominant-baseline: hanging}.axes, .tree {font-size: 14px; text-anchor: middle}.axes line, .edge {stroke: black; fill: none}.axes .ax-skip {stroke-dasharray: 4}.y-axis .grid {stroke: #FAFAFA}.node > .sym {fill: black; stroke: none}.site > .sym {stroke: black}.mut text {fill: red; font-style: italic}.mut.extra text {fill: hotpink}.mut line {fill: none; stroke: none}.mut .sym {fill: none; stroke: red}.mut.extra .sym {stroke: hotpink}.node .mut .sym {stroke-width: 1.5px}.tree text, .tree-sequence text {dominant-baseline: central}.plotbox .lab.lft {text-anchor: end}.plotbox .lab.rgt {text-anchor: start}]]></style></defs><g class=\"tree t0\"><g class=\"plotbox\"><g class=\"c2 node n4 root\" transform=\"translate(53.3333 26.8)\"><g class=\"a4 leaf node n1 sample\" transform=\"translate(-20 61.4)\"><path class=\"edge\" d=\"M 0 0 V -61.4 H 20\" /><rect class=\"sym\" height=\"6\" width=\"6\" x=\"-3\" y=\"-3\" /><text class=\"lab\" transform=\"translate(0 11)\">4</text></g><g class=\"a4 c2 node n3\" transform=\"translate(20 30.7)\"><g class=\"a3 leaf node n0 sample\" transform=\"translate(-13.3333 30.7)\"><path class=\"edge\" d=\"M 0 0 V -30.7 H 13.3333\" /><rect class=\"sym\" height=\"6\" width=\"6\" x=\"-3\" y=\"-3\" /><text class=\"lab\" transform=\"translate(0 11)\">2</text></g><g class=\"a3 leaf node n2 sample\" transform=\"translate(13.3333 30.7)\"><path class=\"edge\" d=\"M 0 0 V -30.7 H -13.3333\" /><rect class=\"sym\" height=\"6\" width=\"6\" x=\"-3\" y=\"-3\" /><text class=\"lab\" transform=\"translate(0 11)\">x</text></g><path class=\"edge\" d=\"M 0 0 V -30.7 H -20\" /><circle class=\"sym\" cx=\"0\" cy=\"0\" r=\"3\" /><text class=\"lab rgt\" transform=\"translate(3 -7.0)\" /></g><circle class=\"sym\" cx=\"0\" cy=\"0\" r=\"3\" /><text class=\"lab\" transform=\"translate(0 -11)\" /></g></g></g></svg>"
      ],
      "text/plain": [
       "'<svg baseProfile=\"full\" height=\"120\" version=\"1.1\" width=\"120\" xmlns=\"http://www.w3.org/2000/svg\" xmlns:ev=\"http://www.w3.org/2001/xml-events\" xmlns:xlink=\"http://www.w3.org/1999/xlink\"><defs><style type=\"text/css\"><![CDATA[.background path {fill: #808080; fill-opacity: 0}.background path:nth-child(odd) {fill-opacity: .1}.axes {font-size: 14px}.x-axis .tick .lab {font-weight: bold; dominant-baseline: hanging}.axes, .tree {font-size: 14px; text-anchor: middle}.axes line, .edge {stroke: black; fill: none}.axes .ax-skip {stroke-dasharray: 4}.y-axis .grid {stroke: #FAFAFA}.node > .sym {fill: black; stroke: none}.site > .sym {stroke: black}.mut text {fill: red; font-style: italic}.mut.extra text {fill: hotpink}.mut line {fill: none; stroke: none}.mut .sym {fill: none; stroke: red}.mut.extra .sym {stroke: hotpink}.node .mut .sym {stroke-width: 1.5px}.tree text, .tree-sequence text {dominant-baseline: central}.plotbox .lab.lft {text-anchor: end}.plotbox .lab.rgt {text-anchor: start}]]></style></defs><g class=\"tree t0\"><g class=\"plotbox\"><g class=\"c2 node n4 root\" transform=\"translate(53.3333 26.8)\"><g class=\"a4 leaf node n1 sample\" transform=\"translate(-20 61.4)\"><path class=\"edge\" d=\"M 0 0 V -61.4 H 20\" /><rect class=\"sym\" height=\"6\" width=\"6\" x=\"-3\" y=\"-3\" /><text class=\"lab\" transform=\"translate(0 11)\">4</text></g><g class=\"a4 c2 node n3\" transform=\"translate(20 30.7)\"><g class=\"a3 leaf node n0 sample\" transform=\"translate(-13.3333 30.7)\"><path class=\"edge\" d=\"M 0 0 V -30.7 H 13.3333\" /><rect class=\"sym\" height=\"6\" width=\"6\" x=\"-3\" y=\"-3\" /><text class=\"lab\" transform=\"translate(0 11)\">2</text></g><g class=\"a3 leaf node n2 sample\" transform=\"translate(13.3333 30.7)\"><path class=\"edge\" d=\"M 0 0 V -30.7 H -13.3333\" /><rect class=\"sym\" height=\"6\" width=\"6\" x=\"-3\" y=\"-3\" /><text class=\"lab\" transform=\"translate(0 11)\">x</text></g><path class=\"edge\" d=\"M 0 0 V -30.7 H -20\" /><circle class=\"sym\" cx=\"0\" cy=\"0\" r=\"3\" /><text class=\"lab rgt\" transform=\"translate(3 -7.0)\" /></g><circle class=\"sym\" cx=\"0\" cy=\"0\" r=\"3\" /><text class=\"lab\" transform=\"translate(0 -11)\" /></g></g></g></svg>'"
      ]
     },
     "metadata": {},
     "output_type": "display_data"
    }
   ],
   "source": [
    "for rank, count in topologies[0,1,2].items():\n",
    "    print(f\"{rank}; Count: {count}\")\n",
    "    t = tskit.Tree.unrank(num_leaves=3, rank=rank)\n",
    "    display((t.draw_svg(node_labels={0: sample1[0], 1: sample2[0], 2: \"x\"}, order=\"tree\", size=(120, 120))))"
   ]
  },
  {
   "cell_type": "markdown",
   "id": "68df7eda",
   "metadata": {},
   "source": [
    "### Generalising to multiple trees\n",
    "\n",
    "First we need to make a general function to compute sample sets for counting topologies"
   ]
  },
  {
   "cell_type": "code",
   "execution_count": null,
   "id": "8cb40059",
   "metadata": {},
   "outputs": [],
   "source": [
    "def make_sample_sets(ts, sample_list):\n",
    "    ### Given a list of samples of interest, e.g. a trio, generate a list of \n",
    "    ### all other samples in the ts and output the results in a list format\n",
    "    ### for the topology.counter method\n",
    "    \n",
    "    other_samples = list(set(range(ts.num_samples))-set(sample_list))\n",
    "    samples_sets = [[s] for s in sample_list]\n",
    "    samples_sets.append(other_samples)\n",
    "    return samples_sets"
   ]
  },
  {
   "cell_type": "code",
   "execution_count": null,
   "id": "1a6b45de",
   "metadata": {
    "scrolled": true
   },
   "outputs": [
    {
     "data": {
      "text/plain": [
       "[[0], [3], [1, 2, 4, 5, 6, 7]]"
      ]
     },
     "execution_count": 59,
     "metadata": {},
     "output_type": "execute_result"
    }
   ],
   "source": [
    "sample_sets = make_sample_sets(ts2, [0,3])\n",
    "sample_sets"
   ]
  },
  {
   "cell_type": "markdown",
   "id": "1ebec721",
   "metadata": {},
   "source": [
    "We want to store the count of each possible topology for each tree in the sequence. Let's initialise an array and take it from there"
   ]
  },
  {
   "cell_type": "code",
   "execution_count": null,
   "id": "30213a68",
   "metadata": {},
   "outputs": [
    {
     "data": {
      "text/plain": [
       "[Rank(shape=0, label=0),\n",
       " Rank(shape=1, label=0),\n",
       " Rank(shape=1, label=1),\n",
       " Rank(shape=1, label=2)]"
      ]
     },
     "execution_count": 60,
     "metadata": {},
     "output_type": "execute_result"
    }
   ],
   "source": [
    "sample_list = [0,1]\n",
    "\n",
    "ranks = [ts.rank() for ts in tskit.all_trees(num_leaves = len(sample_list)+1)]\n",
    "ranks"
   ]
  },
  {
   "cell_type": "code",
   "execution_count": null,
   "id": "1c0fa48a",
   "metadata": {
    "scrolled": true
   },
   "outputs": [],
   "source": [
    "counts_df = pd.DataFrame(np.zeros((ts2.num_trees, len(ranks))), columns=ranks).astype(int)\n"
   ]
  },
  {
   "cell_type": "code",
   "execution_count": null,
   "id": "ff4e8ed2",
   "metadata": {},
   "outputs": [
    {
     "data": {
      "text/plain": [
       "(0, 1, 2)"
      ]
     },
     "execution_count": 62,
     "metadata": {},
     "output_type": "execute_result"
    }
   ],
   "source": [
    "all_nodes = tuple(range(len(sample_list)+1))\n",
    "all_nodes"
   ]
  },
  {
   "cell_type": "code",
   "execution_count": null,
   "id": "de7e23c3",
   "metadata": {},
   "outputs": [
    {
     "data": {
      "text/html": [
       "<div>\n",
       "<style scoped>\n",
       "    .dataframe tbody tr th:only-of-type {\n",
       "        vertical-align: middle;\n",
       "    }\n",
       "\n",
       "    .dataframe tbody tr th {\n",
       "        vertical-align: top;\n",
       "    }\n",
       "\n",
       "    .dataframe thead th {\n",
       "        text-align: right;\n",
       "    }\n",
       "</style>\n",
       "<table border=\"1\" class=\"dataframe\">\n",
       "  <thead>\n",
       "    <tr style=\"text-align: right;\">\n",
       "      <th></th>\n",
       "      <th>(0, 0)</th>\n",
       "      <th>(1, 0)</th>\n",
       "      <th>(1, 1)</th>\n",
       "      <th>(1, 2)</th>\n",
       "    </tr>\n",
       "  </thead>\n",
       "  <tbody>\n",
       "    <tr>\n",
       "      <th>0</th>\n",
       "      <td>0</td>\n",
       "      <td>3</td>\n",
       "      <td>0</td>\n",
       "      <td>3</td>\n",
       "    </tr>\n",
       "    <tr>\n",
       "      <th>1</th>\n",
       "      <td>0</td>\n",
       "      <td>5</td>\n",
       "      <td>1</td>\n",
       "      <td>0</td>\n",
       "    </tr>\n",
       "    <tr>\n",
       "      <th>2</th>\n",
       "      <td>0</td>\n",
       "      <td>5</td>\n",
       "      <td>1</td>\n",
       "      <td>0</td>\n",
       "    </tr>\n",
       "    <tr>\n",
       "      <th>3</th>\n",
       "      <td>0</td>\n",
       "      <td>5</td>\n",
       "      <td>1</td>\n",
       "      <td>0</td>\n",
       "    </tr>\n",
       "    <tr>\n",
       "      <th>4</th>\n",
       "      <td>0</td>\n",
       "      <td>5</td>\n",
       "      <td>1</td>\n",
       "      <td>0</td>\n",
       "    </tr>\n",
       "    <tr>\n",
       "      <th>5</th>\n",
       "      <td>0</td>\n",
       "      <td>5</td>\n",
       "      <td>1</td>\n",
       "      <td>0</td>\n",
       "    </tr>\n",
       "    <tr>\n",
       "      <th>6</th>\n",
       "      <td>0</td>\n",
       "      <td>5</td>\n",
       "      <td>1</td>\n",
       "      <td>0</td>\n",
       "    </tr>\n",
       "    <tr>\n",
       "      <th>7</th>\n",
       "      <td>0</td>\n",
       "      <td>4</td>\n",
       "      <td>2</td>\n",
       "      <td>0</td>\n",
       "    </tr>\n",
       "    <tr>\n",
       "      <th>8</th>\n",
       "      <td>0</td>\n",
       "      <td>4</td>\n",
       "      <td>2</td>\n",
       "      <td>0</td>\n",
       "    </tr>\n",
       "  </tbody>\n",
       "</table>\n",
       "</div>"
      ],
      "text/plain": [
       "   (0, 0)  (1, 0)  (1, 1)  (1, 2)\n",
       "0       0       3       0       3\n",
       "1       0       5       1       0\n",
       "2       0       5       1       0\n",
       "3       0       5       1       0\n",
       "4       0       5       1       0\n",
       "5       0       5       1       0\n",
       "6       0       5       1       0\n",
       "7       0       4       2       0\n",
       "8       0       4       2       0"
      ]
     },
     "execution_count": 63,
     "metadata": {},
     "output_type": "execute_result"
    }
   ],
   "source": [
    "for tree, tc in enumerate(ts2.count_topologies(sample_sets=sample_sets)):\n",
    "    for rank, count in tc.topologies[all_nodes].items():\n",
    "    #   print(f\"{rank}; Count: {count}\")\n",
    "        counts_df[rank][tree] = count\n",
    "        \n",
    "counts_df"
   ]
  },
  {
   "cell_type": "markdown",
   "id": "8003e547",
   "metadata": {},
   "source": [
    "So we can generate a dataframe with rows being the tree index and columns the counts for each possible topology. Let's wrap this in a function"
   ]
  },
  {
   "cell_type": "code",
   "execution_count": null,
   "id": "6b8a7ac6",
   "metadata": {},
   "outputs": [],
   "source": [
    "def count_topologies(ts, sample_list):\n",
    "    ### Loop through the trees in the ts, recording the count of every\n",
    "    ### possible topology in each tree into a dataframe\n",
    "    \n",
    "    sample_sets = make_sample_sets(ts, sample_list)\n",
    "    all_ranks = [ts.rank() for ts in tskit.all_trees(num_leaves = len(sample_list)+1)]\n",
    "    all_nodes = tuple(range(len(sample_list)+1)) #to extract topologies including all nodes\n",
    "    counts_df = pd.DataFrame(np.zeros((ts.num_trees, len(all_ranks))), columns=all_ranks).astype(int)\n",
    "    \n",
    "    for tree, tc in enumerate(ts.count_topologies(sample_sets=sample_sets)):\n",
    "        for rank, count in tc.topologies[all_nodes].items():\n",
    "            counts_df[rank][tree] = count\n",
    "    \n",
    "    counts_df['LeftInterval'] = [t.interval[0] for t in ts.trees()]\n",
    "    counts_df['RightInterval'] = [t.interval[1] for t in ts.trees()]\n",
    "    counts_df['Width'] = counts_df['RightInterval'] - counts_df['LeftInterval']\n",
    "    #counts_df['TreeIndex'] = range(ts.num_samples+1)\n",
    "    return counts_df\n"
   ]
  },
  {
   "cell_type": "code",
   "execution_count": null,
   "id": "8c1ae79c",
   "metadata": {
    "scrolled": true
   },
   "outputs": [
    {
     "data": {
      "text/html": [
       "<div>\n",
       "<style scoped>\n",
       "    .dataframe tbody tr th:only-of-type {\n",
       "        vertical-align: middle;\n",
       "    }\n",
       "\n",
       "    .dataframe tbody tr th {\n",
       "        vertical-align: top;\n",
       "    }\n",
       "\n",
       "    .dataframe thead th {\n",
       "        text-align: right;\n",
       "    }\n",
       "</style>\n",
       "<table border=\"1\" class=\"dataframe\">\n",
       "  <thead>\n",
       "    <tr style=\"text-align: right;\">\n",
       "      <th></th>\n",
       "      <th>(0, 0)</th>\n",
       "      <th>(1, 0)</th>\n",
       "      <th>(1, 1)</th>\n",
       "      <th>(1, 2)</th>\n",
       "      <th>LeftInterval</th>\n",
       "      <th>RightInterval</th>\n",
       "      <th>Width</th>\n",
       "    </tr>\n",
       "  </thead>\n",
       "  <tbody>\n",
       "    <tr>\n",
       "      <th>0</th>\n",
       "      <td>0</td>\n",
       "      <td>3</td>\n",
       "      <td>0</td>\n",
       "      <td>3</td>\n",
       "      <td>0.0</td>\n",
       "      <td>9855.0</td>\n",
       "      <td>9855.0</td>\n",
       "    </tr>\n",
       "    <tr>\n",
       "      <th>1</th>\n",
       "      <td>0</td>\n",
       "      <td>5</td>\n",
       "      <td>1</td>\n",
       "      <td>0</td>\n",
       "      <td>9855.0</td>\n",
       "      <td>13901.0</td>\n",
       "      <td>4046.0</td>\n",
       "    </tr>\n",
       "    <tr>\n",
       "      <th>2</th>\n",
       "      <td>0</td>\n",
       "      <td>5</td>\n",
       "      <td>1</td>\n",
       "      <td>0</td>\n",
       "      <td>13901.0</td>\n",
       "      <td>21285.0</td>\n",
       "      <td>7384.0</td>\n",
       "    </tr>\n",
       "    <tr>\n",
       "      <th>3</th>\n",
       "      <td>0</td>\n",
       "      <td>5</td>\n",
       "      <td>1</td>\n",
       "      <td>0</td>\n",
       "      <td>21285.0</td>\n",
       "      <td>23424.0</td>\n",
       "      <td>2139.0</td>\n",
       "    </tr>\n",
       "    <tr>\n",
       "      <th>4</th>\n",
       "      <td>0</td>\n",
       "      <td>5</td>\n",
       "      <td>1</td>\n",
       "      <td>0</td>\n",
       "      <td>23424.0</td>\n",
       "      <td>25213.0</td>\n",
       "      <td>1789.0</td>\n",
       "    </tr>\n",
       "    <tr>\n",
       "      <th>5</th>\n",
       "      <td>0</td>\n",
       "      <td>5</td>\n",
       "      <td>1</td>\n",
       "      <td>0</td>\n",
       "      <td>25213.0</td>\n",
       "      <td>30463.0</td>\n",
       "      <td>5250.0</td>\n",
       "    </tr>\n",
       "    <tr>\n",
       "      <th>6</th>\n",
       "      <td>0</td>\n",
       "      <td>5</td>\n",
       "      <td>1</td>\n",
       "      <td>0</td>\n",
       "      <td>30463.0</td>\n",
       "      <td>41314.0</td>\n",
       "      <td>10851.0</td>\n",
       "    </tr>\n",
       "    <tr>\n",
       "      <th>7</th>\n",
       "      <td>0</td>\n",
       "      <td>4</td>\n",
       "      <td>2</td>\n",
       "      <td>0</td>\n",
       "      <td>41314.0</td>\n",
       "      <td>46237.0</td>\n",
       "      <td>4923.0</td>\n",
       "    </tr>\n",
       "    <tr>\n",
       "      <th>8</th>\n",
       "      <td>0</td>\n",
       "      <td>4</td>\n",
       "      <td>2</td>\n",
       "      <td>0</td>\n",
       "      <td>46237.0</td>\n",
       "      <td>50000.0</td>\n",
       "      <td>3763.0</td>\n",
       "    </tr>\n",
       "  </tbody>\n",
       "</table>\n",
       "</div>"
      ],
      "text/plain": [
       "   (0, 0)  (1, 0)  (1, 1)  (1, 2)  LeftInterval  RightInterval    Width\n",
       "0       0       3       0       3           0.0         9855.0   9855.0\n",
       "1       0       5       1       0        9855.0        13901.0   4046.0\n",
       "2       0       5       1       0       13901.0        21285.0   7384.0\n",
       "3       0       5       1       0       21285.0        23424.0   2139.0\n",
       "4       0       5       1       0       23424.0        25213.0   1789.0\n",
       "5       0       5       1       0       25213.0        30463.0   5250.0\n",
       "6       0       5       1       0       30463.0        41314.0  10851.0\n",
       "7       0       4       2       0       41314.0        46237.0   4923.0\n",
       "8       0       4       2       0       46237.0        50000.0   3763.0"
      ]
     },
     "execution_count": 142,
     "metadata": {},
     "output_type": "execute_result"
    }
   ],
   "source": [
    "n = 3\n",
    "excl_columns = ['LeftInterval','RightInterval','Width']\n",
    "counts_df = count_topologies(ts2, [0,3])\n",
    "counts = counts_df.drop(excl_columns, axis=1)\n",
    "counts_df"
   ]
  },
  {
   "cell_type": "code",
   "execution_count": null,
   "id": "0e3ba49c",
   "metadata": {},
   "outputs": [
    {
     "data": {
      "text/html": [
       "<div>\n",
       "<style scoped>\n",
       "    .dataframe tbody tr th:only-of-type {\n",
       "        vertical-align: middle;\n",
       "    }\n",
       "\n",
       "    .dataframe tbody tr th {\n",
       "        vertical-align: top;\n",
       "    }\n",
       "\n",
       "    .dataframe thead th {\n",
       "        text-align: right;\n",
       "    }\n",
       "</style>\n",
       "<table border=\"1\" class=\"dataframe\">\n",
       "  <thead>\n",
       "    <tr style=\"text-align: right;\">\n",
       "      <th></th>\n",
       "      <th>(1, 0)</th>\n",
       "      <th>(1, 1)</th>\n",
       "      <th>(1, 2)</th>\n",
       "    </tr>\n",
       "  </thead>\n",
       "  <tbody>\n",
       "    <tr>\n",
       "      <th>0</th>\n",
       "      <td>3</td>\n",
       "      <td>0</td>\n",
       "      <td>3</td>\n",
       "    </tr>\n",
       "    <tr>\n",
       "      <th>1</th>\n",
       "      <td>5</td>\n",
       "      <td>1</td>\n",
       "      <td>0</td>\n",
       "    </tr>\n",
       "    <tr>\n",
       "      <th>2</th>\n",
       "      <td>5</td>\n",
       "      <td>1</td>\n",
       "      <td>0</td>\n",
       "    </tr>\n",
       "    <tr>\n",
       "      <th>3</th>\n",
       "      <td>5</td>\n",
       "      <td>1</td>\n",
       "      <td>0</td>\n",
       "    </tr>\n",
       "    <tr>\n",
       "      <th>4</th>\n",
       "      <td>5</td>\n",
       "      <td>1</td>\n",
       "      <td>0</td>\n",
       "    </tr>\n",
       "    <tr>\n",
       "      <th>5</th>\n",
       "      <td>5</td>\n",
       "      <td>1</td>\n",
       "      <td>0</td>\n",
       "    </tr>\n",
       "    <tr>\n",
       "      <th>6</th>\n",
       "      <td>5</td>\n",
       "      <td>1</td>\n",
       "      <td>0</td>\n",
       "    </tr>\n",
       "    <tr>\n",
       "      <th>7</th>\n",
       "      <td>4</td>\n",
       "      <td>2</td>\n",
       "      <td>0</td>\n",
       "    </tr>\n",
       "    <tr>\n",
       "      <th>8</th>\n",
       "      <td>4</td>\n",
       "      <td>2</td>\n",
       "      <td>0</td>\n",
       "    </tr>\n",
       "  </tbody>\n",
       "</table>\n",
       "</div>"
      ],
      "text/plain": [
       "   (1, 0)  (1, 1)  (1, 2)\n",
       "0       3       0       3\n",
       "1       5       1       0\n",
       "2       5       1       0\n",
       "3       5       1       0\n",
       "4       5       1       0\n",
       "5       5       1       0\n",
       "6       5       1       0\n",
       "7       4       2       0\n",
       "8       4       2       0"
      ]
     },
     "execution_count": 66,
     "metadata": {},
     "output_type": "execute_result"
    }
   ],
   "source": [
    "totals = counts.sum(axis=0).reset_index()\n",
    "totals.columns = [\"Rank\", \"Count\"]\n",
    "totals.sort_values(by=\"Count\", ascending=False, inplace=True)\n",
    "topn_totals = totals.head(n)\n",
    "topn_counts = counts[topn_totals['Rank']]\n",
    "topn_counts"
   ]
  },
  {
   "cell_type": "code",
   "execution_count": null,
   "id": "7caa58cb",
   "metadata": {},
   "outputs": [],
   "source": []
  },
  {
   "cell_type": "markdown",
   "id": "8b058117",
   "metadata": {},
   "source": [
    "I think a stacked bar chart would work best here. Let's choose a colorscheme first"
   ]
  },
  {
   "cell_type": "code",
   "execution_count": null,
   "id": "764be18e",
   "metadata": {},
   "outputs": [
    {
     "name": "stdout",
     "output_type": "stream",
     "text": [
      "['#1f77b4', '#ff7f0e', '#2ca02c']\n"
     ]
    }
   ],
   "source": [
    "import matplotlib.pyplot as plt\n",
    "from matplotlib.colors import ListedColormap\n",
    "from matplotlib.colors import rgb2hex\n",
    "\n",
    "# Create a colormap object with the \"Set1\" colormap\n",
    "cmap = ListedColormap(plt.get_cmap('tab10').colors)\n",
    "\n",
    "# Get the first 3 color values from the colormap\n",
    "colors = cmap.colors[:3]\n",
    "\n",
    "# Convert the RGB color values to hexadecimal color values\n",
    "hex_colors = [rgb2hex(color) for color in colors]\n",
    "\n",
    "# Print the list of hexadecimal color values\n",
    "print(hex_colors)"
   ]
  },
  {
   "cell_type": "code",
   "execution_count": 28,
   "id": "cb136aa5",
   "metadata": {
    "scrolled": true
   },
   "outputs": [
    {
     "ename": "NameError",
     "evalue": "name 'topn_counts' is not defined",
     "output_type": "error",
     "traceback": [
      "\u001b[0;31m---------------------------------------------------------------------------\u001b[0m",
      "\u001b[0;31mNameError\u001b[0m                                 Traceback (most recent call last)",
      "Cell \u001b[0;32mIn[28], line 1\u001b[0m\n\u001b[0;32m----> 1\u001b[0m topn_counts\u001b[39m.\u001b[39mplot(kind\u001b[39m=\u001b[39m\u001b[39m'\u001b[39m\u001b[39mbar\u001b[39m\u001b[39m'\u001b[39m, stacked\u001b[39m=\u001b[39m\u001b[39mTrue\u001b[39;00m, color\u001b[39m=\u001b[39mhex_colors)\n",
      "\u001b[0;31mNameError\u001b[0m: name 'topn_counts' is not defined"
     ]
    }
   ],
   "source": [
    "topn_counts.plot(kind='bar', stacked=True, color=hex_colors)"
   ]
  },
  {
   "cell_type": "markdown",
   "id": "0c824ff7",
   "metadata": {},
   "source": [
    "Let's make the bars variable width. We will use the stackplot function; first we need to prepare the data. For some reason, if there are n samples then stackplot needs n+1 points on the x axis; however, it still requires n+1 height values for the n stacks. Hence, we add a dummy row to the heights which is never plotted."
   ]
  },
  {
   "cell_type": "code",
   "execution_count": null,
   "id": "9920ebc2",
   "metadata": {
    "scrolled": true
   },
   "outputs": [
    {
     "data": {
      "text/plain": [
       "array([    0.,  9855., 13901., 21285., 23424., 25213., 30463., 41314.,\n",
       "       46237., 50000.])"
      ]
     },
     "execution_count": 69,
     "metadata": {},
     "output_type": "execute_result"
    }
   ],
   "source": [
    "x = counts_df['LeftInterval'].to_numpy()\n",
    "rightmost = counts_df['RightInterval'].to_list()[-1]\n",
    "x = np.append(x, rightmost)\n",
    "\n",
    "heights = topn_counts.astype(int).to_numpy()\n",
    "last = [heights[-1]]\n",
    "heights = np.vstack([heights, last])\n",
    "x"
   ]
  },
  {
   "cell_type": "code",
   "execution_count": 29,
   "id": "19bd3cc6",
   "metadata": {
    "scrolled": false
   },
   "outputs": [
    {
     "ename": "NameError",
     "evalue": "name 'x' is not defined",
     "output_type": "error",
     "traceback": [
      "\u001b[0;31m---------------------------------------------------------------------------\u001b[0m",
      "\u001b[0;31mNameError\u001b[0m                                 Traceback (most recent call last)",
      "Cell \u001b[0;32mIn[29], line 8\u001b[0m\n\u001b[1;32m      6\u001b[0m \u001b[39m# Create the stacked bar chart using stackplot\u001b[39;00m\n\u001b[1;32m      7\u001b[0m fig, ax \u001b[39m=\u001b[39m plt\u001b[39m.\u001b[39msubplots(figsize\u001b[39m=\u001b[39m(\u001b[39m8\u001b[39m, \u001b[39m4\u001b[39m))\n\u001b[0;32m----> 8\u001b[0m ax\u001b[39m.\u001b[39mstackplot(x\u001b[39m/\u001b[39m\u001b[39m1000\u001b[39m, heights\u001b[39m.\u001b[39mT, step\u001b[39m=\u001b[39m\u001b[39m'\u001b[39m\u001b[39mpost\u001b[39m\u001b[39m'\u001b[39m, colors\u001b[39m=\u001b[39mhex_colors)\n\u001b[1;32m     10\u001b[0m \u001b[39m# Set the y-axis label and limit\u001b[39;00m\n\u001b[1;32m     11\u001b[0m ax\u001b[39m.\u001b[39mset_ylabel(\u001b[39m'\u001b[39m\u001b[39mCount\u001b[39m\u001b[39m'\u001b[39m)\n",
      "\u001b[0;31mNameError\u001b[0m: name 'x' is not defined"
     ]
    },
    {
     "data": {
      "image/png": "[encoded data removed]",
      "text/plain": [
       "<Figure size 800x400 with 1 Axes>"
      ]
     },
     "metadata": {},
     "output_type": "display_data"
    }
   ],
   "source": [
    "import matplotlib.pyplot as plt\n",
    "import numpy as np\n",
    "\n",
    "plot_path = 'results/rank_dist.svg'\n",
    "\n",
    "# Create the stacked bar chart using stackplot\n",
    "fig, ax = plt.subplots(figsize=(8, 4))\n",
    "ax.stackplot(x/1000, heights.T, step='post', colors=hex_colors)\n",
    "\n",
    "# Set the y-axis label and limit\n",
    "ax.set_ylabel('Count')\n",
    "ax.set_xlabel('Genomic position (kBP)')\n",
    "\n",
    "# Show the plot\n",
    "plt.savefig(plot_path)\n",
    "plt.show()"
   ]
  },
  {
   "cell_type": "markdown",
   "id": "10040e7d",
   "metadata": {},
   "source": [
    "Now let's make a nice legend with the topologies visualised"
   ]
  },
  {
   "cell_type": "code",
   "execution_count": null,
   "id": "6140efa2",
   "metadata": {},
   "outputs": [
    {
     "data": {
      "text/html": [
       "<div>\n",
       "<style scoped>\n",
       "    .dataframe tbody tr th:only-of-type {\n",
       "        vertical-align: middle;\n",
       "    }\n",
       "\n",
       "    .dataframe tbody tr th {\n",
       "        vertical-align: top;\n",
       "    }\n",
       "\n",
       "    .dataframe thead th {\n",
       "        text-align: right;\n",
       "    }\n",
       "</style>\n",
       "<table border=\"1\" class=\"dataframe\">\n",
       "  <thead>\n",
       "    <tr style=\"text-align: right;\">\n",
       "      <th></th>\n",
       "      <th>Rank</th>\n",
       "      <th>Count</th>\n",
       "    </tr>\n",
       "  </thead>\n",
       "  <tbody>\n",
       "    <tr>\n",
       "      <th>1</th>\n",
       "      <td>(1, 0)</td>\n",
       "      <td>41</td>\n",
       "    </tr>\n",
       "    <tr>\n",
       "      <th>2</th>\n",
       "      <td>(1, 1)</td>\n",
       "      <td>10</td>\n",
       "    </tr>\n",
       "    <tr>\n",
       "      <th>3</th>\n",
       "      <td>(1, 2)</td>\n",
       "      <td>3</td>\n",
       "    </tr>\n",
       "  </tbody>\n",
       "</table>\n",
       "</div>"
      ],
      "text/plain": [
       "     Rank  Count\n",
       "1  (1, 0)     41\n",
       "2  (1, 1)     10\n",
       "3  (1, 2)      3"
      ]
     },
     "execution_count": 72,
     "metadata": {},
     "output_type": "execute_result"
    }
   ],
   "source": [
    "topn_totals"
   ]
  },
  {
   "cell_type": "code",
   "execution_count": 30,
   "id": "51fe6f1c",
   "metadata": {},
   "outputs": [
    {
     "ename": "NameError",
     "evalue": "name 'topn_totals' is not defined",
     "output_type": "error",
     "traceback": [
      "\u001b[0;31m---------------------------------------------------------------------------\u001b[0m",
      "\u001b[0;31mNameError\u001b[0m                                 Traceback (most recent call last)",
      "Cell \u001b[0;32mIn[30], line 9\u001b[0m\n\u001b[1;32m      5\u001b[0m \u001b[39mdef\u001b[39;00m \u001b[39mmake_css\u001b[39m(colors, index):\n\u001b[1;32m      6\u001b[0m     \u001b[39mreturn\u001b[39;00m (\u001b[39mf\u001b[39m\u001b[39m\"\u001b[39m\u001b[39m.edge \u001b[39m\u001b[39m{{\u001b[39;00m\u001b[39mstroke: \u001b[39m\u001b[39m{\u001b[39;00mcolors[index]\u001b[39m}\u001b[39;00m\u001b[39m; stroke-width: 2px\u001b[39m\u001b[39m}}\u001b[39;00m\u001b[39m\"\u001b[39m\n\u001b[1;32m      7\u001b[0m             \u001b[39m\"\u001b[39m\u001b[39m.node \u001b[39m\u001b[39m{\u001b[39m\u001b[39mfont-size: 16px, margin-top: 20px, padding-top: 20px}\u001b[39m\u001b[39m\"\u001b[39m)\n\u001b[0;32m----> 9\u001b[0m \u001b[39mfor\u001b[39;00m index, row \u001b[39min\u001b[39;00m topn_totals\u001b[39m.\u001b[39miterrows():\n\u001b[1;32m     10\u001b[0m     style_str \u001b[39m=\u001b[39m make_css(hex_colors, index\u001b[39m-\u001b[39m\u001b[39m1\u001b[39m)\n\u001b[1;32m     11\u001b[0m     rank_str \u001b[39m=\u001b[39m \u001b[39mf\u001b[39m\u001b[39m\"\u001b[39m\u001b[39mRank: (\u001b[39m\u001b[39m{\u001b[39;00mrow[\u001b[39m'\u001b[39m\u001b[39mRank\u001b[39m\u001b[39m'\u001b[39m]\u001b[39m.\u001b[39mshape\u001b[39m}\u001b[39;00m\u001b[39m, \u001b[39m\u001b[39m{\u001b[39;00mrow[\u001b[39m'\u001b[39m\u001b[39mRank\u001b[39m\u001b[39m'\u001b[39m]\u001b[39m.\u001b[39mlabel\u001b[39m}\u001b[39;00m\u001b[39m); Count: \u001b[39m\u001b[39m{\u001b[39;00mrow[\u001b[39m'\u001b[39m\u001b[39mCount\u001b[39m\u001b[39m'\u001b[39m]\u001b[39m}\u001b[39;00m\u001b[39m\"\u001b[39m  \n",
      "\u001b[0;31mNameError\u001b[0m: name 'topn_totals' is not defined"
     ]
    }
   ],
   "source": [
    "sample_list=[0,3]\n",
    "import cairosvg\n",
    "from IPython.display import SVG, display\n",
    "\n",
    "def make_css(colors, index):\n",
    "    return (f\".edge {{stroke: {colors[index]}; stroke-width: 2px}}\"\n",
    "            \".node {font-size: 16px, margin-top: 20px, padding-top: 20px}\")\n",
    "\n",
    "for index, row in topn_totals.iterrows():\n",
    "    style_str = make_css(hex_colors, index-1)\n",
    "    rank_str = f\"Rank: ({row['Rank'].shape}, {row['Rank'].label}); Count: {row['Count']}\"  \n",
    "    \n",
    "    t = tskit.Tree.unrank(num_leaves=3, rank=row['Rank'])\n",
    "    svg = t.draw_svg(node_labels={0: sample_list[0], 1: sample_list[1], 2: \"x\"}, \n",
    "                     order=\"tree\", size=(200, 120), style=style_str, x_axis=False)\n",
    "\n",
    "    # Add centered heading above the tree plot\n",
    "    svg = f'<svg width=\"200\" height=\"160\" xmlns=\"http://www.w3.org/2000/svg\">{svg}'\n",
    "    svg += f'<text x=\"100\" y=\"20\" text-anchor=\"middle\" font-size=\"16\">{rank_str}</text>'\n",
    "    svg += '</svg>'\n",
    "    \n",
    "    png = cairosvg.svg2png(bytestring=svg.encode('utf-8'), background_color='#ffffff')\n",
    "    with open(f\"results/test{index-1}.png\", \"wb\") as f:\n",
    "        f.write(png)\n",
    "    "
   ]
  },
  {
   "cell_type": "code",
   "execution_count": null,
   "id": "6b5c2116",
   "metadata": {},
   "outputs": [],
   "source": [
    "from PIL import Image, ImageOps\n",
    "padding = 10\n",
    "\n",
    "# Open the PIL image and the three PNG images\n",
    "pil_image = Image.open('dist.png')\n",
    "# Trim the bordering whitespace of the PIL image\n",
    "png_image_1 = Image.open('results/test0.png')\n",
    "png_image_2 = Image.open('results/test1.png')\n",
    "png_image_3 = Image.open('results/test2.png')\n",
    "\n",
    "# Calculate the desired width and height of the final image\n",
    "width = max(pil_image.width, png_image_1.width * 3)\n",
    "height = pil_image.height + png_image_1.height + padding*3\n",
    "\n",
    "# Expand the PNG images to the desired size and with white border\n",
    "expanded_png_1 = ImageOps.expand(png_image_1, border=padding, fill=(255, 255, 255))\n",
    "expanded_png_2 = ImageOps.expand(png_image_2, border=padding, fill=(255, 255, 255))\n",
    "expanded_png_3 = ImageOps.expand(png_image_3, border=padding, fill=(255, 255, 255))\n",
    "\n",
    "# Create a new white image with the desired dimensions\n",
    "new_image = Image.new('RGB', (width, height), (255, 255, 255))\n",
    "\n",
    "# Paste the PIL image onto the top of the new image\n",
    "new_image.paste(pil_image, (0, 0))\n",
    "\n",
    "# Paste the three PNG images onto the bottom of the new image\n",
    "x_offset = (width - (png_image_1.width + png_image_2.width + png_image_3.width + 2 * padding)) // 2\n",
    "y_offset = pil_image.height + padding\n",
    "new_image.paste(expanded_png_1, (x_offset, y_offset))\n",
    "new_image.paste(expanded_png_2, (x_offset + png_image_1.width + padding, y_offset))\n",
    "new_image.paste(expanded_png_3, (x_offset + png_image_1.width + png_image_2.width + 2 * padding, y_offset))\n",
    "\n",
    "# Save the final image\n",
    "new_image.save('final.png')"
   ]
  },
  {
   "cell_type": "code",
   "execution_count": 48,
   "id": "65a5ae26",
   "metadata": {},
   "outputs": [
    {
     "data": {
      "image/png": "[encoded data removed]",
      "text/plain": [
       "<IPython.core.display.Image object>"
      ]
     },
     "execution_count": 48,
     "metadata": {},
     "output_type": "execute_result"
    }
   ],
   "source": [
    "from IPython.display import Image\n",
    "Image(filename='final.png') "
   ]
  },
  {
   "attachments": {},
   "cell_type": "markdown",
   "id": "820153e8",
   "metadata": {},
   "source": [
    "## Consolidating functions\n",
    "\n",
    "### Topologies and stackplot"
   ]
  },
  {
   "cell_type": "code",
   "execution_count": 31,
   "id": "1d589bc6",
   "metadata": {},
   "outputs": [],
   "source": [
    "import matplotlib.pyplot as plt\n",
    "from matplotlib.colors import ListedColormap\n",
    "from matplotlib.colors import rgb2hex\n",
    "\n",
    "def make_sample_sets(ts, sample_list):\n",
    "    ### Given a list of samples of interest, e.g. a trio, generate a list of \n",
    "    ### all other samples in the ts and output the results in a list format\n",
    "    ### for the topology.counter method\n",
    "    \n",
    "    other_samples = list(set(range(ts.num_samples))-set(sample_list))\n",
    "    samples_sets = [[s] for s in sample_list]\n",
    "    samples_sets.append(other_samples)\n",
    "    return samples_sets\n",
    "\n",
    "def count_topologies(ts, sample_list):\n",
    "    ### Loop through the trees in the ts, recording the count of every\n",
    "    ### possible topology in each tree into a dataframe\n",
    "    \n",
    "    sample_sets = make_sample_sets(ts, sample_list)\n",
    "    all_ranks = [ts.rank() for ts in tskit.all_trees(num_leaves = len(sample_list)+1)]\n",
    "    all_nodes = tuple(range(len(sample_list)+1)) #to extract topologies including all nodes\n",
    "    counts_df = pd.DataFrame(np.zeros((ts.num_trees, len(all_ranks))), columns=all_ranks).astype(int)\n",
    "    \n",
    "    for tree, tc in enumerate(ts.count_topologies(sample_sets=sample_sets)):\n",
    "        for rank, count in tc.topologies[all_nodes].items():\n",
    "            counts_df[rank][tree] = count\n",
    "    \n",
    "    counts_df['LeftInterval'] = [t.interval[0] for t in ts.trees()]\n",
    "    counts_df['RightInterval'] = [t.interval[1] for t in ts.trees()]\n",
    "    counts_df['Width'] = counts_df['RightInterval'] - counts_df['LeftInterval']\n",
    "    #counts_df['TreeIndex'] = range(ts.num_samples+1)\n",
    "    return counts_df\n",
    "\n",
    "def get_colors(n, colormap):\n",
    "    ### Return a list of n hex colors from a given matplotlib colormap\n",
    "    ### (https://matplotlib.org/3.1.0/tutorials/colors/colormaps.html)\n",
    "    \n",
    "    cmap = ListedColormap(plt.get_cmap(colormap).colors)\n",
    "    colors = cmap.colors[:n]\n",
    "    hex_colors = [rgb2hex(color) for color in colors]\n",
    "    \n",
    "    return hex_colors\n",
    "\n",
    "def plot_counts(counts_df, sample_list, plot_path, n=3, color_map='tab10', \n",
    "                fig_width_inches=8, dpi=300):\n",
    "    ### Plot the top n most common topologies in the ts\n",
    "    ### and return the total counts of each topology with\n",
    "    ### associated colors for tree legend plot\n",
    "    \n",
    "    excl_columns = ['LeftInterval','RightInterval','Width'] #we just want the counts\n",
    "    counts = counts_df.drop(excl_columns, axis=1)\n",
    "    totals = counts.sum(axis=0).reset_index() #count across all trees\n",
    "    totals.columns = [\"Rank\", \"Count\"]\n",
    "    totals.sort_values(by=\"Count\", ascending=False, inplace=True)\n",
    "    topn_totals = totals.head(n) #get the top n most common topologies\n",
    "    topn_counts = counts[topn_totals['Rank']]\n",
    "\n",
    "\n",
    "    x = counts_df['LeftInterval'].to_numpy()\n",
    "    rightmost = counts_df['RightInterval'].to_list()[-1]\n",
    "    x = np.append(x, rightmost)\n",
    "\n",
    "    # For some reason, if there are n samples then stackplot needs n+1 points on the x axis;\n",
    "    #  however, it still requires n+1 height values for the n stacks. \n",
    "    # Hence, we add a dummy row to the heights which is never plotted.\n",
    "    heights = topn_counts.astype(int).to_numpy()\n",
    "    last = [heights[-1]]\n",
    "    heights = np.vstack([heights, last])\n",
    "    \n",
    "    # Create the stacked bar chart using stackplot\n",
    "    hex_colors = get_colors(n, color_map)\n",
    "    fig, ax = plt.subplots()\n",
    "    ax.stackplot(x/1000, heights.T, step='post', colors=hex_colors)\n",
    "\n",
    "    # Set the y-axis label and limit\n",
    "    ax.set_ylabel('Count')\n",
    "    ax.set_xlabel('Genomic position (kBP)')\n",
    "    fig.set_size_inches(fig_width_inches, fig_width_inches/1.618)\n",
    "    fig.set_dpi(dpi)\n",
    "\n",
    "    # Save the plot and show it\n",
    "    plt.savefig(plot_path, dpi=dpi, bbox_inches='tight')\n",
    "    plt.show()\n",
    "    #Return the top n most common topologies and their counts for further analysis\n",
    "    return topn_totals, hex_colors\n"
   ]
  },
  {
   "attachments": {},
   "cell_type": "markdown",
   "id": "03ebe2fb",
   "metadata": {},
   "source": [
    "### Tree plots and combined image"
   ]
  },
  {
   "cell_type": "code",
   "execution_count": 49,
   "id": "8395b64b",
   "metadata": {},
   "outputs": [
    {
     "data": {
      "text/plain": [
       "[0, 1, 2]"
      ]
     },
     "execution_count": 49,
     "metadata": {},
     "output_type": "execute_result"
    }
   ],
   "source": [
    "sample_list = [0,3]\n",
    "\n",
    "def make_node_labels(sample_list, sample_labels='None')\n",
    "    ### Given a list of samples of interest, e.g. a trio, generate a dictionary\n",
    "    ### of node labels for each sample based on sample_labels. Add a last entry\n",
    "    ### to the dictionary for x, which represents other samples not in the sample list\n",
    "    ### If sample_labels is not provided, use the sample_list as the labels.\n",
    "\n",
    "    if sample_labels == 'None':\n",
    "        sample_labels = sample_list\n",
    "    node_labels = {sample: sample_labels[index] for index, sample in enumerate(sample_list)}\n",
    "    node_labels[len()\n",
    "\n",
    "    \n",
    "\n",
    "\n",
    "\n",
    "\n",
    "for index, sample in enumerate(sample_list):\n",
    "    sample_list[index] = sample + 1"
   ]
  },
  {
   "cell_type": "code",
   "execution_count": 44,
   "id": "b0233a87",
   "metadata": {},
   "outputs": [],
   "source": [
    "import cairosvg\n",
    "from IPython.display import SVG, display\n",
    "\n",
    "def make_css(colors, index):\n",
    "    ### Return a string of CSS to color the edges of the tree plot\n",
    "    return (f\".edge {{stroke: {colors[index]}; stroke-width: 2px}}\"\n",
    "            \".node {font-size: 16px, margin-top: 20px, padding-top: 20px}\")\n",
    "\n",
    "\n",
    "def plot_topn_trees(topn_totals, hex_colors, sample_list, img_path_prefix=\"results/tree\", n=3, colormap='tab10'):\n",
    "    ### Plot the top n most common topologies in the ts with edge colors\n",
    "    ### corresponding to the colors in the stacked bar chart\n",
    "\n",
    "    for index, row in topn_totals.iterrows():\n",
    "        style_str = make_css(hex_colors, index-1)\n",
    "        rank_str = f\"Rank: ({row['Rank'].shape}, {row['Rank'].label}); Count: {row['Count']}\"  \n",
    "        \n",
    "        t = tskit.Tree.unrank(num_leaves=len(sample_list), rank=row['Rank'])\n",
    "        svg = t.draw_svg(node_labels={0: sample_list[0], 1: sample_list[1], 2: \"x\"}, \n",
    "                        order=\"tree\", size=(200, 120), style=style_str, x_axis=False)\n",
    "\n",
    "        # Add centered heading above the tree plot\n",
    "        svg = f'<svg width=\"200\" height=\"160\" xmlns=\"http://www.w3.org/2000/svg\">{svg}'\n",
    "        svg += f'<text x=\"100\" y=\"20\" text-anchor=\"middle\" font-size=\"16\">{rank_str}</text>'\n",
    "        svg += '</svg>'\n",
    "        \n",
    "        png = cairosvg.svg2png(bytestring=svg.encode('utf-8'), background_color='#ffffff')\n",
    "        with open(f\"{img_path_prefix}{index-1}.png\", \"wb\") as f:\n",
    "            f.write(png)\n",
    "\n",
    "\n",
    "from PIL import Image, ImageOps\n",
    "padding = 10\n",
    "\n",
    "# Open the PIL image and the three PNG images\n",
    "pil_image = Image.open('dist.png')\n",
    "# Trim the bordering whitespace of the PIL image\n",
    "png_image_1 = Image.open('results/test0.png')\n",
    "png_image_2 = Image.open('results/test1.png')\n",
    "png_image_3 = Image.open('results/test2.png')\n",
    "\n",
    "# Calculate the desired width and height of the final image\n",
    "width = max(pil_image.width, png_image_1.width * 3)\n",
    "height = pil_image.height + png_image_1.height + padding*3\n",
    "\n",
    "# Expand the PNG images to the desired size and with white border\n",
    "expanded_png_1 = ImageOps.expand(png_image_1, border=padding, fill=(255, 255, 255))\n",
    "expanded_png_2 = ImageOps.expand(png_image_2, border=padding, fill=(255, 255, 255))\n",
    "expanded_png_3 = ImageOps.expand(png_image_3, border=padding, fill=(255, 255, 255))\n",
    "\n",
    "# Create a new white image with the desired dimensions\n",
    "new_image = Image.new('RGB', (width, height), (255, 255, 255))\n",
    "\n",
    "# Paste the PIL image onto the top of the new image\n",
    "new_image.paste(pil_image, (0, 0))\n",
    "\n",
    "# Paste the three PNG images onto the bottom of the new image\n",
    "x_offset = (width - (png_image_1.width + png_image_2.width + png_image_3.width + 2 * padding)) // 2\n",
    "y_offset = pil_image.height + padding\n",
    "new_image.paste(expanded_png_1, (x_offset, y_offset))\n",
    "new_image.paste(expanded_png_2, (x_offset + png_image_1.width + padding, y_offset))\n",
    "new_image.paste(expanded_png_3, (x_offset + png_image_1.width + png_image_2.width + 2 * padding, y_offset))\n",
    "\n",
    "# Save the final image\n",
    "new_image.save('final.png')"
   ]
  },
  {
   "cell_type": "code",
   "execution_count": 38,
   "id": "ee247c20",
   "metadata": {},
   "outputs": [],
   "source": [
    "import numpy as np\n",
    "import msprime\n",
    "\n",
    "ts3 = msprime.sim_ancestry(10, sequence_length=1e5, recombination_rate=1e-4, random_seed=1)\n"
   ]
  },
  {
   "cell_type": "code",
   "execution_count": 34,
   "id": "ccaebcbe",
   "metadata": {},
   "outputs": [
    {
     "data": {
      "text/html": [
       "\n",
       "            <div>\n",
       "              <style>\n",
       "                .tskit-table thead tr th {text-align: left;padding: 0.5em 0.5em;}\n",
       "                .tskit-table tbody tr td {padding: 0.5em 0.5em;}\n",
       "                .tskit-table tbody tr td:first-of-type {text-align: left;}\n",
       "                .tskit-details-label {vertical-align: top; padding-right:5px;}\n",
       "                .tskit-table-set {display: inline-flex;flex-wrap: wrap;margin: -12px 0 0 -12px;width: calc(100% + 12px);}\n",
       "                .tskit-table-set-table {margin: 12px 0 0 12px;}\n",
       "                details {display: inline-block;}\n",
       "                summary {cursor: pointer; outline: 0; display: list-item;}\n",
       "              </style>\n",
       "              <div class=\"tskit-table-set\">\n",
       "                <div class=\"tskit-table-set-table\">\n",
       "                  <table class=\"tskit-table\">\n",
       "                    <thead>\n",
       "                      <tr>\n",
       "                        <th style=\"padding:0;line-height:21px;\">\n",
       "                          <img style=\"height: 32px;display: inline-block;padding: 3px 5px 3px 0;\" src=\"https://raw.githubusercontent.com/tskit-dev/administrative/main/tskit_logo.svg\"/>\n",
       "                          <a target=\"_blank\" href=\"https://tskit.dev/tskit/docs/latest/python-api.html#the-treesequence-class\"> Tree Sequence </a>\n",
       "                        </th>\n",
       "                      </tr>\n",
       "                    </thead>\n",
       "                    <tbody>\n",
       "                      <tr><td>Trees</td><td>117</td></tr>\n",
       "                      <tr><td>Sequence Length</td><td>100000.0</td></tr>\n",
       "                      <tr><td>Time Units</td><td>generations</td></tr>\n",
       "                      <tr><td>Sample Nodes</td><td>20</td></tr>\n",
       "                      <tr><td>Total Size</td><td>21.2 KiB</td></tr>\n",
       "                      <tr>\n",
       "                        <td>Metadata</td><td style=\"text-align: left;\">No Metadata</td></tr>\n",
       "                    </tbody>\n",
       "                  </table>\n",
       "                </div>\n",
       "                <div class=\"tskit-table-set-table\">\n",
       "                  <table class=\"tskit-table\">\n",
       "                    <thead>\n",
       "                      <tr>\n",
       "                        <th style=\"line-height:21px;\">Table</th>\n",
       "                        <th>Rows</th>\n",
       "                        <th>Size</th>\n",
       "                        <th>Has Metadata</th>\n",
       "                      </tr>\n",
       "                    </thead>\n",
       "                    <tbody>\n",
       "                    \n",
       "                  <tr>\n",
       "                    <td>Edges</td>\n",
       "                      <td>416</td>\n",
       "                      <td>13.0 KiB</td>\n",
       "                      <td style=\"text-align: center;\">\n",
       "                        \n",
       "                      </td>\n",
       "                    </tr>\n",
       "                \n",
       "                  <tr>\n",
       "                    <td>Individuals</td>\n",
       "                      <td>10</td>\n",
       "                      <td>304 Bytes</td>\n",
       "                      <td style=\"text-align: center;\">\n",
       "                        \n",
       "                      </td>\n",
       "                    </tr>\n",
       "                \n",
       "                  <tr>\n",
       "                    <td>Migrations</td>\n",
       "                      <td>0</td>\n",
       "                      <td>8 Bytes</td>\n",
       "                      <td style=\"text-align: center;\">\n",
       "                        \n",
       "                      </td>\n",
       "                    </tr>\n",
       "                \n",
       "                  <tr>\n",
       "                    <td>Mutations</td>\n",
       "                      <td>0</td>\n",
       "                      <td>16 Bytes</td>\n",
       "                      <td style=\"text-align: center;\">\n",
       "                        \n",
       "                      </td>\n",
       "                    </tr>\n",
       "                \n",
       "                  <tr>\n",
       "                    <td>Nodes</td>\n",
       "                      <td>124</td>\n",
       "                      <td>3.4 KiB</td>\n",
       "                      <td style=\"text-align: center;\">\n",
       "                        \n",
       "                      </td>\n",
       "                    </tr>\n",
       "                \n",
       "                  <tr>\n",
       "                    <td>Populations</td>\n",
       "                      <td>1</td>\n",
       "                      <td>224 Bytes</td>\n",
       "                      <td style=\"text-align: center;\">\n",
       "                        ✅\n",
       "                      </td>\n",
       "                    </tr>\n",
       "                \n",
       "                  <tr>\n",
       "                    <td>Provenances</td>\n",
       "                      <td>1</td>\n",
       "                      <td>949 Bytes</td>\n",
       "                      <td style=\"text-align: center;\">\n",
       "                        \n",
       "                      </td>\n",
       "                    </tr>\n",
       "                \n",
       "                  <tr>\n",
       "                    <td>Sites</td>\n",
       "                      <td>0</td>\n",
       "                      <td>16 Bytes</td>\n",
       "                      <td style=\"text-align: center;\">\n",
       "                        \n",
       "                      </td>\n",
       "                    </tr>\n",
       "                \n",
       "                    </tbody>\n",
       "                  </table>\n",
       "                </div>\n",
       "              </div>\n",
       "            </div>\n",
       "            "
      ],
      "text/plain": [
       "<tskit.trees.TreeSequence at 0x7fc8de7bd410>"
      ]
     },
     "execution_count": 34,
     "metadata": {},
     "output_type": "execute_result"
    }
   ],
   "source": [
    "ts3"
   ]
  },
  {
   "cell_type": "code",
   "execution_count": 46,
   "id": "9d84b86b",
   "metadata": {},
   "outputs": [
    {
     "data": {
      "text/plain": [
       "'Rank'"
      ]
     },
     "execution_count": 46,
     "metadata": {},
     "output_type": "execute_result"
    }
   ],
   "source": [
    "topn_totals"
   ]
  },
  {
   "cell_type": "code",
   "execution_count": 45,
   "id": "eec51a86",
   "metadata": {},
   "outputs": [
    {
     "data": {
      "image/png": "[encoded data removed]",
      "text/plain": [
       "<Figure size 960x593.325 with 1 Axes>"
      ]
     },
     "metadata": {},
     "output_type": "display_data"
    },
    {
     "ename": "AttributeError",
     "evalue": "'str' object has no attribute 'iterrows'",
     "output_type": "error",
     "traceback": [
      "\u001b[0;31m---------------------------------------------------------------------------\u001b[0m",
      "\u001b[0;31mAttributeError\u001b[0m                            Traceback (most recent call last)",
      "Cell \u001b[0;32mIn[45], line 4\u001b[0m\n\u001b[1;32m      2\u001b[0m counts_df \u001b[39m=\u001b[39m count_topologies(ts3, sample_list)\n\u001b[1;32m      3\u001b[0m topn_totals, hex_colors \u001b[39m=\u001b[39m plot_counts(counts_df, sample_list, \u001b[39m\"\u001b[39m\u001b[39mresults/test.png\u001b[39m\u001b[39m\"\u001b[39m, n\u001b[39m=\u001b[39m\u001b[39m5\u001b[39m, dpi\u001b[39m=\u001b[39m\u001b[39m120\u001b[39m)\n\u001b[0;32m----> 4\u001b[0m plot_topn_trees(topn_totals, hex_colors, sample_list, img_path_prefix\u001b[39m=\u001b[39;49m\u001b[39m\"\u001b[39;49m\u001b[39mresults/tree\u001b[39;49m\u001b[39m\"\u001b[39;49m, n\u001b[39m=\u001b[39;49m\u001b[39m5\u001b[39;49m, colormap\u001b[39m=\u001b[39;49m\u001b[39m'\u001b[39;49m\u001b[39mtab10\u001b[39;49m\u001b[39m'\u001b[39;49m)\n",
      "Cell \u001b[0;32mIn[44], line 14\u001b[0m, in \u001b[0;36mplot_topn_trees\u001b[0;34m(topn_totals, hex_colors, sample_list, img_path_prefix, n, colormap)\u001b[0m\n\u001b[1;32m     10\u001b[0m \u001b[39mdef\u001b[39;00m \u001b[39mplot_topn_trees\u001b[39m(topn_totals, hex_colors, sample_list, img_path_prefix\u001b[39m=\u001b[39m\u001b[39m\"\u001b[39m\u001b[39mresults/tree\u001b[39m\u001b[39m\"\u001b[39m, n\u001b[39m=\u001b[39m\u001b[39m3\u001b[39m, colormap\u001b[39m=\u001b[39m\u001b[39m'\u001b[39m\u001b[39mtab10\u001b[39m\u001b[39m'\u001b[39m):\n\u001b[1;32m     11\u001b[0m     \u001b[39m### Plot the top n most common topologies in the ts with edge colors\u001b[39;00m\n\u001b[1;32m     12\u001b[0m     \u001b[39m### corresponding to the colors in the stacked bar chart\u001b[39;00m\n\u001b[0;32m---> 14\u001b[0m     \u001b[39mfor\u001b[39;00m index, row \u001b[39min\u001b[39;00m topn_totals\u001b[39m.\u001b[39;49miterrows():\n\u001b[1;32m     15\u001b[0m         style_str \u001b[39m=\u001b[39m make_css(hex_colors, index\u001b[39m-\u001b[39m\u001b[39m1\u001b[39m)\n\u001b[1;32m     16\u001b[0m         rank_str \u001b[39m=\u001b[39m \u001b[39mf\u001b[39m\u001b[39m\"\u001b[39m\u001b[39mRank: (\u001b[39m\u001b[39m{\u001b[39;00mrow[\u001b[39m'\u001b[39m\u001b[39mRank\u001b[39m\u001b[39m'\u001b[39m]\u001b[39m.\u001b[39mshape\u001b[39m}\u001b[39;00m\u001b[39m, \u001b[39m\u001b[39m{\u001b[39;00mrow[\u001b[39m'\u001b[39m\u001b[39mRank\u001b[39m\u001b[39m'\u001b[39m]\u001b[39m.\u001b[39mlabel\u001b[39m}\u001b[39;00m\u001b[39m); Count: \u001b[39m\u001b[39m{\u001b[39;00mrow[\u001b[39m'\u001b[39m\u001b[39mCount\u001b[39m\u001b[39m'\u001b[39m]\u001b[39m}\u001b[39;00m\u001b[39m\"\u001b[39m  \n",
      "\u001b[0;31mAttributeError\u001b[0m: 'str' object has no attribute 'iterrows'"
     ]
    }
   ],
   "source": [
    "sample_list = [0,1,2]\n",
    "counts_df = count_topologies(ts3, sample_list)\n",
    "topn_totals, hex_colors = plot_counts(counts_df, sample_list, \"results/test.png\", n=5, dpi=120)\n",
    "plot_topn_trees(topn_totals, hex_colors, sample_list, img_path_prefix=\"results/tree\", n=5, colormap='tab10')"
   ]
  },
  {
   "cell_type": "markdown",
   "id": "5f03a81a",
   "metadata": {},
   "source": [
    "\n",
    "def get_index_from_pedigree_id(pedigree_id, df) :\n",
    "    # Return the platekey of the participant with the given pedigree_id\n",
    "    # or NaN if there is no such participant\n",
    "    try:\n",
    "        return df.loc[df['rare_diseases_pedigree_id'] == pedigree_id].index[0]\n",
    "    except IndexError:\n",
    "        return -1\n",
    "def add_parent_indices(df):\n",
    "    # Add two columns, mother_id and father_id, to the dataframe and add platekeys for each parent\n",
    "    # if they exist\n",
    "    df['mother_index'] = df['mother_id'].apply(lambda x: get_index_from_pedigree_id(x,df))\n",
    "    df['father_index'] = df['father_id'].apply(lambda x: get_index_from_pedigree_id(x,df))\n",
    "    return df"
   ]
  }
 ],
 "metadata": {
  "kernelspec": {
   "display_name": "Python 3 (ipykernel)",
   "language": "python",
   "name": "python3"
  },
  "language_info": {
   "codemirror_mode": {
    "name": "ipython",
    "version": 3
   },
   "file_extension": ".py",
   "mimetype": "text/x-python",
   "name": "python",
   "nbconvert_exporter": "python",
   "pygments_lexer": "ipython3",
   "version": "3.11.1"
  }
 },
 "nbformat": 4,
 "nbformat_minor": 5
}
