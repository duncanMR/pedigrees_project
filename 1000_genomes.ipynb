{
 "cells": [
  {
   "cell_type": "markdown",
   "id": "81ce35a5",
   "metadata": {},
   "source": [
    "# 1000 Genomes data analysis\n",
    "\n",
    "First we need to download the 1000 genomes data; we will use the q-arm of chromosome 20. Trees have already been inferred for this data and are available from [Zenodo](https://zenodo.org/record/5495535):\n"
   ]
  },
  {
   "cell_type": "code",
   "execution_count": 169,
   "id": "3eed83ba",
   "metadata": {},
   "outputs": [],
   "source": [
    "import urllib.request\n",
    "#urllib.request.urlretrieve(\"https://zenodo.org/record/5495535/files/hgdp_tgp_sgdp_chr20_q.dated.trees.tsz?download=1\",\n",
    "#                           \"data/hgdp_tgp_sgdp_chr20_q.dated.trees.tsz\")"
   ]
  },
  {
   "cell_type": "markdown",
   "id": "9913922c",
   "metadata": {},
   "source": [
    "I ran `tsunzip data/hgdp_tgp_sgdp_chr20_q.dated.trees.tsz` to unzip, such that we can load the data\n"
   ]
  },
  {
   "cell_type": "code",
   "execution_count": 170,
   "id": "8a06c742",
   "metadata": {},
   "outputs": [
    {
     "data": {
      "text/html": [
       "\n",
       "            <div>\n",
       "              <style>\n",
       "                .tskit-table thead tr th {text-align: left;padding: 0.5em 0.5em;}\n",
       "                .tskit-table tbody tr td {padding: 0.5em 0.5em;}\n",
       "                .tskit-table tbody tr td:first-of-type {text-align: left;}\n",
       "                .tskit-details-label {vertical-align: top; padding-right:5px;}\n",
       "                .tskit-table-set {display: inline-flex;flex-wrap: wrap;margin: -12px 0 0 -12px;width: calc(100% + 12px);}\n",
       "                .tskit-table-set-table {margin: 12px 0 0 12px;}\n",
       "                details {display: inline-block;}\n",
       "                summary {cursor: pointer; outline: 0; display: list-item;}\n",
       "              </style>\n",
       "              <div class=\"tskit-table-set\">\n",
       "                <div class=\"tskit-table-set-table\">\n",
       "                  <table class=\"tskit-table\">\n",
       "                    <thead>\n",
       "                      <tr>\n",
       "                        <th style=\"padding:0;line-height:21px;\">\n",
       "                          <img style=\"height: 32px;display: inline-block;padding: 3px 5px 3px 0;\" src=\"https://raw.githubusercontent.com/tskit-dev/administrative/main/tskit_logo.svg\"/>\n",
       "                          <a target=\"_blank\" href=\"https://tskit.dev/tskit/docs/latest/python-api.html#the-treesequence-class\"> Tree Sequence </a>\n",
       "                        </th>\n",
       "                      </tr>\n",
       "                    </thead>\n",
       "                    <tbody>\n",
       "                      <tr><td>Trees</td><td>74301</td></tr>\n",
       "                      <tr><td>Sequence Length</td><td>64444169.0</td></tr>\n",
       "                      <tr><td>Time Units</td><td>unknown</td></tr>\n",
       "                      <tr><td>Sample Nodes</td><td>7508</td></tr>\n",
       "                      <tr><td>Total Size</td><td>365.9 MiB</td></tr>\n",
       "                      <tr>\n",
       "                        <td>Metadata</td><td style=\"text-align: left;\">No Metadata</td></tr>\n",
       "                    </tbody>\n",
       "                  </table>\n",
       "                </div>\n",
       "                <div class=\"tskit-table-set-table\">\n",
       "                  <table class=\"tskit-table\">\n",
       "                    <thead>\n",
       "                      <tr>\n",
       "                        <th style=\"line-height:21px;\">Table</th>\n",
       "                        <th>Rows</th>\n",
       "                        <th>Size</th>\n",
       "                        <th>Has Metadata</th>\n",
       "                      </tr>\n",
       "                    </thead>\n",
       "                    <tbody>\n",
       "                    \n",
       "                  <tr>\n",
       "                    <td>Edges</td>\n",
       "                      <td>3434905</td>\n",
       "                      <td>104.8 MiB</td>\n",
       "                      <td style=\"text-align: center;\">\n",
       "                        \n",
       "                      </td>\n",
       "                    </tr>\n",
       "                \n",
       "                  <tr>\n",
       "                    <td>Individuals</td>\n",
       "                      <td>3754</td>\n",
       "                      <td>1.1 MiB</td>\n",
       "                      <td style=\"text-align: center;\">\n",
       "                        ✅\n",
       "                      </td>\n",
       "                    </tr>\n",
       "                \n",
       "                  <tr>\n",
       "                    <td>Migrations</td>\n",
       "                      <td>0</td>\n",
       "                      <td>8 Bytes</td>\n",
       "                      <td style=\"text-align: center;\">\n",
       "                        \n",
       "                      </td>\n",
       "                    </tr>\n",
       "                \n",
       "                  <tr>\n",
       "                    <td>Mutations</td>\n",
       "                      <td>3163735</td>\n",
       "                      <td>111.6 MiB</td>\n",
       "                      <td style=\"text-align: center;\">\n",
       "                        \n",
       "                      </td>\n",
       "                    </tr>\n",
       "                \n",
       "                  <tr>\n",
       "                    <td>Nodes</td>\n",
       "                      <td>407321</td>\n",
       "                      <td>30.2 MiB</td>\n",
       "                      <td style=\"text-align: center;\">\n",
       "                        ✅\n",
       "                      </td>\n",
       "                    </tr>\n",
       "                \n",
       "                  <tr>\n",
       "                    <td>Populations</td>\n",
       "                      <td>210</td>\n",
       "                      <td>11.6 KiB</td>\n",
       "                      <td style=\"text-align: center;\">\n",
       "                        ✅\n",
       "                      </td>\n",
       "                    </tr>\n",
       "                \n",
       "                  <tr>\n",
       "                    <td>Provenances</td>\n",
       "                      <td>15</td>\n",
       "                      <td>10.4 KiB</td>\n",
       "                      <td style=\"text-align: center;\">\n",
       "                        \n",
       "                      </td>\n",
       "                    </tr>\n",
       "                \n",
       "                  <tr>\n",
       "                    <td>Sites</td>\n",
       "                      <td>1178349</td>\n",
       "                      <td>91.9 MiB</td>\n",
       "                      <td style=\"text-align: center;\">\n",
       "                        ✅\n",
       "                      </td>\n",
       "                    </tr>\n",
       "                \n",
       "                    </tbody>\n",
       "                  </table>\n",
       "                </div>\n",
       "              </div>\n",
       "            </div>\n",
       "            "
      ],
      "text/plain": [
       "<tskit.trees.TreeSequence at 0x7fc45ebc1e10>"
      ]
     },
     "execution_count": 170,
     "metadata": {},
     "output_type": "execute_result"
    }
   ],
   "source": [
    "import tskit\n",
    "import numpy as np\n",
    "import pandas as pd\n",
    "\n",
    "ts = tskit.load(\"data/hgdp_tgp_sgdp_chr20_q.dated.trees\")\n",
    "ts\n"
   ]
  },
  {
   "cell_type": "markdown",
   "id": "abc29944",
   "metadata": {},
   "source": [
    "We need to find a trio and randomly sample three individuals. I have the acession numbers for the trio, so we just need a table with nodes and accession ids"
   ]
  },
  {
   "cell_type": "code",
   "execution_count": 171,
   "id": "fc2f8b42",
   "metadata": {
    "scrolled": true
   },
   "outputs": [
    {
     "name": "stdout",
     "output_type": "stream",
     "text": [
      "{'array_non_reference_discordance': '0.111741', 'capmq': '29', 'coverage': '29.71', 'freemix': '0.00137', 'insert_size_average': '500.1', 'library': 'HGDP01201.11144852', 'library_type': 'PCR', 'region': 'AFRICA', 'sample': 'HGDP01201', 'sample_accession': 'ERS474141', 'sex': 'F', 'source': 'sanger'}\n",
      "HGDP01201\n"
     ]
    },
    {
     "data": {
      "text/plain": [
       "'b\\'{\"array_non_reference_discordance\": \"0.111741\", \"capmq\": \"29\", \"coverage\": \"29.71\", \"freemix\": \"0.00137\", \"insert_size_average\": \"500.1\", \"library\": \"HGDP01201.11144852\", \"library_type\": \"PCR\", \"region\": \"AFRICA\", \"sample\": \"HGDP01201\", \"sample_accession\": \"ERS474141\", \"sex\": \"F\", \"source\": \"sanger\"}\\''"
      ]
     },
     "execution_count": 171,
     "metadata": {},
     "output_type": "execute_result"
    }
   ],
   "source": [
    "import json\n",
    "\n",
    "meta = ts.individual(0).metadata\n",
    "print(json.loads(meta))\n",
    "print(json.loads(meta)['sample'])\n",
    "str(meta)"
   ]
  },
  {
   "cell_type": "markdown",
   "id": "7b97ec2e",
   "metadata": {},
   "source": [
    "That works fine, but some of the samples don't have accession ids:"
   ]
  },
  {
   "cell_type": "code",
   "execution_count": 172,
   "id": "62f21837",
   "metadata": {},
   "outputs": [
    {
     "name": "stdout",
     "output_type": "stream",
     "text": [
      "{'aliases': 'zapo0098', 'contributor': 'William Klitz / Cheryl Winkler', 'country': 'Mexico', 'dna_source': 'Genomic_from_cell_lines', 'embargo': 'FullyPublic', 'gender': 'M', 'illumina_id': 'LP6005443-DNA_A12', 'region': 'America', 'sample_id': 'zapo0098', 'sequencing_panel': 'C', 'sgdp_id': 'S_Zapotec-1', 'town': 'San Juan Guelavia'}\n",
      "HGDP01201\n"
     ]
    }
   ],
   "source": [
    "meta2 = ts.individual(3752).metadata\n",
    "print(json.loads(meta2))\n",
    "print(json.loads(meta)['sample'])"
   ]
  },
  {
   "cell_type": "markdown",
   "id": "2852c691",
   "metadata": {},
   "source": [
    "So we need to figure out the metadata structure for this data"
   ]
  },
  {
   "cell_type": "code",
   "execution_count": 173,
   "id": "b5a6801a",
   "metadata": {
    "scrolled": true
   },
   "outputs": [
    {
     "data": {
      "text/plain": [
       "TableMetadataSchemas(node=, edge=, site=, mutation=, migration=, individual=, population=)"
      ]
     },
     "execution_count": 173,
     "metadata": {},
     "output_type": "execute_result"
    }
   ],
   "source": [
    "ts.table_metadata_schemas"
   ]
  },
  {
   "cell_type": "markdown",
   "id": "7e8f3033",
   "metadata": {},
   "source": [
    "That's not helpful. Maybe it would be easier to just do regexp on the raw JSON data. Let's figure it out for one sample"
   ]
  },
  {
   "cell_type": "code",
   "execution_count": 174,
   "id": "532f8d9a",
   "metadata": {},
   "outputs": [
    {
     "data": {
      "text/plain": [
       "True"
      ]
     },
     "execution_count": 174,
     "metadata": {},
     "output_type": "execute_result"
    }
   ],
   "source": [
    "import re\n",
    "bool(re.search(\"ERS474141\", str(meta)))"
   ]
  },
  {
   "cell_type": "code",
   "execution_count": 175,
   "id": "ecfd39fd",
   "metadata": {},
   "outputs": [
    {
     "data": {
      "text/plain": [
       "b'{\"array_non_reference_discordance\": \"0.111741\", \"capmq\": \"29\", \"coverage\": \"29.71\", \"freemix\": \"0.00137\", \"insert_size_average\": \"500.1\", \"library\": \"HGDP01201.11144852\", \"library_type\": \"PCR\", \"region\": \"AFRICA\", \"sample\": \"HGDP01201\", \"sample_accession\": \"ERS474141\", \"sex\": \"F\", \"source\": \"sanger\"}'"
      ]
     },
     "execution_count": 175,
     "metadata": {},
     "output_type": "execute_result"
    }
   ],
   "source": [
    "meta"
   ]
  },
  {
   "cell_type": "code",
   "execution_count": 176,
   "id": "94dd0bc4",
   "metadata": {
    "scrolled": true
   },
   "outputs": [
    {
     "name": "stdout",
     "output_type": "stream",
     "text": [
      "True\n",
      "False\n"
     ]
    }
   ],
   "source": [
    "print(bool(re.search(\"HGDP01201|dfsdf\", str(meta))))\n",
    "print(bool(re.search(\"HGDP01202\", str(meta))))"
   ]
  },
  {
   "cell_type": "markdown",
   "id": "3d890dd5",
   "metadata": {},
   "source": [
    " We can get the Accession IDs for one trio from [this article](https://wikis.utexas.edu/display/bioiteam/Human+Trios+--+GVA2020). Now let's search"
   ]
  },
  {
   "cell_type": "code",
   "execution_count": 177,
   "id": "9b028e95",
   "metadata": {
    "scrolled": true
   },
   "outputs": [
    {
     "data": {
      "text/plain": [
       "[2711]"
      ]
     },
     "execution_count": 177,
     "metadata": {},
     "output_type": "execute_result"
    }
   ],
   "source": [
    "trio_ceu = \"NA12892|NA12891|NA12878\"\n",
    "\n",
    "d = []\n",
    "for i in ts.individuals():\n",
    "    if bool(re.search(trio_ceu, str(i.metadata))):\n",
    "        d.append(i.id)\n",
    "d"
   ]
  },
  {
   "cell_type": "code",
   "execution_count": 178,
   "id": "0a58fc26",
   "metadata": {},
   "outputs": [
    {
     "data": {
      "text/plain": [
       "Individual(id=2711, flags=0, location=array([], dtype=float64), parents=array([], dtype=int32), nodes=array([5422, 5423], dtype=int32), metadata=b'{\"family_id\": \"1463\", \"gender\": \"2\", \"individual_id\": \"NA12878\", \"maternal_id\": \"NA12892\", \"other_comments\": null, \"paternal_id\": \"NA12891\", \"phenotype\": null, \"relationship\": \"mother; child\", \"second_order\": null, \"siblings\": null, \"third_order\": null}')"
      ]
     },
     "execution_count": 178,
     "metadata": {},
     "output_type": "execute_result"
    }
   ],
   "source": [
    "ts.individual(2711)"
   ]
  },
  {
   "cell_type": "markdown",
   "id": "b4a482a1",
   "metadata": {},
   "source": [
    "Well this is peculiar. We only seem to have the proband, not the parents! I found [this list](https://genome.ucsc.edu/cgi-bin/hgTrackUi?db=hg38&g=tgpTrios) of all the trios in 1000 Genomes, so let's check them."
   ]
  },
  {
   "cell_type": "code",
   "execution_count": 179,
   "id": "858b6f8e",
   "metadata": {
    "scrolled": true
   },
   "outputs": [
    {
     "data": {
      "text/html": [
       "<div>\n",
       "<style scoped>\n",
       "    .dataframe tbody tr th:only-of-type {\n",
       "        vertical-align: middle;\n",
       "    }\n",
       "\n",
       "    .dataframe tbody tr th {\n",
       "        vertical-align: top;\n",
       "    }\n",
       "\n",
       "    .dataframe thead th {\n",
       "        text-align: right;\n",
       "    }\n",
       "</style>\n",
       "<table border=\"1\" class=\"dataframe\">\n",
       "  <thead>\n",
       "    <tr style=\"text-align: right;\">\n",
       "      <th></th>\n",
       "      <th>mother</th>\n",
       "      <th>child</th>\n",
       "      <th>father</th>\n",
       "      <th>search_str</th>\n",
       "      <th>search_results</th>\n",
       "    </tr>\n",
       "  </thead>\n",
       "  <tbody>\n",
       "    <tr>\n",
       "      <th>0</th>\n",
       "      <td>NA12892</td>\n",
       "      <td>NA12891</td>\n",
       "      <td>NA12878</td>\n",
       "      <td>NA12892|NA12891|NA12878</td>\n",
       "      <td>2711</td>\n",
       "    </tr>\n",
       "    <tr>\n",
       "      <th>1</th>\n",
       "      <td>NA19678</td>\n",
       "      <td>NA19675</td>\n",
       "      <td>NA19679</td>\n",
       "      <td>NA19678|NA19675|NA19679</td>\n",
       "      <td>3150, 3151</td>\n",
       "    </tr>\n",
       "    <tr>\n",
       "      <th>2</th>\n",
       "      <td>NA19660</td>\n",
       "      <td>NA19685</td>\n",
       "      <td>NA19661</td>\n",
       "      <td>NA19660|NA19685|NA19661</td>\n",
       "      <td>3144, 3146</td>\n",
       "    </tr>\n",
       "    <tr>\n",
       "      <th>3</th>\n",
       "      <td>HG00732</td>\n",
       "      <td>HG00733</td>\n",
       "      <td>HG00731</td>\n",
       "      <td>HG00732|HG00733|HG00731</td>\n",
       "      <td>1238, 1239</td>\n",
       "    </tr>\n",
       "    <tr>\n",
       "      <th>4</th>\n",
       "      <td>HG00657</td>\n",
       "      <td>HG00702</td>\n",
       "      <td>HG00656</td>\n",
       "      <td>HG00657|HG00702|HG00656</td>\n",
       "      <td>1214, 1215</td>\n",
       "    </tr>\n",
       "    <tr>\n",
       "      <th>5</th>\n",
       "      <td>HG02025</td>\n",
       "      <td>HG02024</td>\n",
       "      <td>HG02026</td>\n",
       "      <td>HG02025|HG02024|HG02026</td>\n",
       "      <td>1691, 1692</td>\n",
       "    </tr>\n",
       "    <tr>\n",
       "      <th>6</th>\n",
       "      <td>NA19238</td>\n",
       "      <td>NA19240</td>\n",
       "      <td>NA19239</td>\n",
       "      <td>NA19238|NA19240|NA19239</td>\n",
       "      <td>3045, 3046</td>\n",
       "    </tr>\n",
       "  </tbody>\n",
       "</table>\n",
       "</div>"
      ],
      "text/plain": [
       "    mother    child   father               search_str search_results\n",
       "0  NA12892  NA12891  NA12878  NA12892|NA12891|NA12878           2711\n",
       "1  NA19678  NA19675  NA19679  NA19678|NA19675|NA19679     3150, 3151\n",
       "2  NA19660  NA19685  NA19661  NA19660|NA19685|NA19661     3144, 3146\n",
       "3  HG00732  HG00733  HG00731  HG00732|HG00733|HG00731     1238, 1239\n",
       "4  HG00657  HG00702  HG00656  HG00657|HG00702|HG00656     1214, 1215\n",
       "5  HG02025  HG02024  HG02026  HG02025|HG02024|HG02026     1691, 1692\n",
       "6  NA19238  NA19240  NA19239  NA19238|NA19240|NA19239     3045, 3046"
      ]
     },
     "execution_count": 179,
     "metadata": {},
     "output_type": "execute_result"
    }
   ],
   "source": [
    "trios_ls = [\n",
    "    [\"NA12892\", \"NA12891\", \"NA12878\"],\n",
    "    [\"NA19678\", \"NA19675\", \"NA19679\"],\n",
    "    [\"NA19660\", \"NA19685\", \"NA19661\"],\n",
    "    [\"HG00732\", \"HG00733\", \"HG00731\"],\n",
    "    [\"HG00657\", \"HG00702\", \"HG00656\"],\n",
    "    [\"HG02025\", \"HG02024\", \"HG02026\"],\n",
    "    [\"NA19238\", \"NA19240\", \"NA19239\"]\n",
    "] \n",
    "\n",
    "def find_nodes(search_str):\n",
    "    d = []\n",
    "    for i in ts.individuals():\n",
    "        if bool(re.search(search_str, str(i.metadata))):\n",
    "            d.append(str(i.id))\n",
    "    return \", \".join(d)\n",
    "\n",
    "\n",
    "trios_df = pd.DataFrame(trios_ls, columns=[\"mother\",\"child\",\"father\"])\n",
    "trios_df[\"search_str\"]= trios_df.apply(lambda x: '|'.join(x.values.tolist()), axis=1)\n",
    "trios_df[\"search_results\"] = trios_df[\"search_str\"].apply(lambda x: find_nodes(x))\n",
    "trios_df\n"
   ]
  },
  {
   "cell_type": "code",
   "execution_count": 180,
   "id": "c3f478f2",
   "metadata": {},
   "outputs": [
    {
     "name": "stdout",
     "output_type": "stream",
     "text": [
      "{'family_id': 'm009', 'gender': '2', 'individual_id': 'NA19678', 'maternal_id': None, 'other_comments': None, 'paternal_id': None, 'phenotype': None, 'relationship': 'mother', 'second_order': 'NA19677', 'siblings': None, 'third_order': None}\n",
      "{'family_id': 'm009', 'gender': '1', 'individual_id': 'NA19679', 'maternal_id': None, 'other_comments': None, 'paternal_id': None, 'phenotype': None, 'relationship': 'father', 'second_order': 'NA19677', 'siblings': None, 'third_order': None}\n"
     ]
    }
   ],
   "source": [
    "print(json.loads(ts.individual(3150).metadata))\n",
    "print(json.loads(ts.individual(3151).metadata))"
   ]
  },
  {
   "cell_type": "markdown",
   "id": "329e75ad",
   "metadata": {},
   "source": [
    "So for all the other trios besides the first (which is the CEU trio), only the parents are in the TS, not the child. I'm guessing this we usually exclude related individuals when calculating allele frequencies or conducting a GWAS. It seems like this dataset isn't helpful for our purposes."
   ]
  }
 ],
 "metadata": {
  "kernelspec": {
   "display_name": "Python 3 (ipykernel)",
   "language": "python",
   "name": "python3"
  },
  "language_info": {
   "codemirror_mode": {
    "name": "ipython",
    "version": 3
   },
   "file_extension": ".py",
   "mimetype": "text/x-python",
   "name": "python",
   "nbconvert_exporter": "python",
   "pygments_lexer": "ipython3",
   "version": "3.11.1"
  }
 },
 "nbformat": 4,
 "nbformat_minor": 5
}
